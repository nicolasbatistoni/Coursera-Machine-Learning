{
 "cells": [
  {
   "cell_type": "markdown",
   "metadata": {},
   "source": [
    "#Fire up graphlab create"
   ]
  },
  {
   "cell_type": "code",
   "execution_count": 1,
   "metadata": {
    "collapsed": true
   },
   "outputs": [],
   "source": [
    "import graphlab"
   ]
  },
  {
   "cell_type": "markdown",
   "metadata": {},
   "source": [
    "#Load some house sales data\n",
    "\n",
    "Dataset is from house sales in King County, the region where the city of Seattle, WA is located."
   ]
  },
  {
   "cell_type": "code",
   "execution_count": 2,
   "metadata": {
    "collapsed": false
   },
   "outputs": [
    {
     "name": "stdout",
     "output_type": "stream",
     "text": [
      "This non-commercial license of GraphLab Create is assigned to nicolas.batistoni@hotmail.com and will expire on May 27, 2017. For commercial licensing options, visit https://dato.com/buy/.\n"
     ]
    },
    {
     "name": "stderr",
     "output_type": "stream",
     "text": [
      "2016-05-31 21:22:55,355 [INFO] graphlab.cython.cy_server, 176: GraphLab Create v1.9 started. Logging: /tmp/graphlab_server_1464740572.log\n"
     ]
    }
   ],
   "source": [
    "sales = graphlab.SFrame('home_data.gl/')"
   ]
  },
  {
   "cell_type": "code",
   "execution_count": 3,
   "metadata": {
    "collapsed": false
   },
   "outputs": [
    {
     "data": {
      "text/html": [
       "<div style=\"max-height:1000px;max-width:1500px;overflow:auto;\"><table frame=\"box\" rules=\"cols\">\n",
       "    <tr>\n",
       "        <th style=\"padding-left: 1em; padding-right: 1em; text-align: center\">id</th>\n",
       "        <th style=\"padding-left: 1em; padding-right: 1em; text-align: center\">date</th>\n",
       "        <th style=\"padding-left: 1em; padding-right: 1em; text-align: center\">price</th>\n",
       "        <th style=\"padding-left: 1em; padding-right: 1em; text-align: center\">bedrooms</th>\n",
       "        <th style=\"padding-left: 1em; padding-right: 1em; text-align: center\">bathrooms</th>\n",
       "        <th style=\"padding-left: 1em; padding-right: 1em; text-align: center\">sqft_living</th>\n",
       "        <th style=\"padding-left: 1em; padding-right: 1em; text-align: center\">sqft_lot</th>\n",
       "        <th style=\"padding-left: 1em; padding-right: 1em; text-align: center\">floors</th>\n",
       "        <th style=\"padding-left: 1em; padding-right: 1em; text-align: center\">waterfront</th>\n",
       "    </tr>\n",
       "    <tr>\n",
       "        <td style=\"padding-left: 1em; padding-right: 1em; text-align: center; vertical-align: top\">7129300520</td>\n",
       "        <td style=\"padding-left: 1em; padding-right: 1em; text-align: center; vertical-align: top\">2014-10-13 00:00:00+00:00</td>\n",
       "        <td style=\"padding-left: 1em; padding-right: 1em; text-align: center; vertical-align: top\">221900</td>\n",
       "        <td style=\"padding-left: 1em; padding-right: 1em; text-align: center; vertical-align: top\">3</td>\n",
       "        <td style=\"padding-left: 1em; padding-right: 1em; text-align: center; vertical-align: top\">1</td>\n",
       "        <td style=\"padding-left: 1em; padding-right: 1em; text-align: center; vertical-align: top\">1180</td>\n",
       "        <td style=\"padding-left: 1em; padding-right: 1em; text-align: center; vertical-align: top\">5650</td>\n",
       "        <td style=\"padding-left: 1em; padding-right: 1em; text-align: center; vertical-align: top\">1</td>\n",
       "        <td style=\"padding-left: 1em; padding-right: 1em; text-align: center; vertical-align: top\">0</td>\n",
       "    </tr>\n",
       "    <tr>\n",
       "        <td style=\"padding-left: 1em; padding-right: 1em; text-align: center; vertical-align: top\">6414100192</td>\n",
       "        <td style=\"padding-left: 1em; padding-right: 1em; text-align: center; vertical-align: top\">2014-12-09 00:00:00+00:00</td>\n",
       "        <td style=\"padding-left: 1em; padding-right: 1em; text-align: center; vertical-align: top\">538000</td>\n",
       "        <td style=\"padding-left: 1em; padding-right: 1em; text-align: center; vertical-align: top\">3</td>\n",
       "        <td style=\"padding-left: 1em; padding-right: 1em; text-align: center; vertical-align: top\">2.25</td>\n",
       "        <td style=\"padding-left: 1em; padding-right: 1em; text-align: center; vertical-align: top\">2570</td>\n",
       "        <td style=\"padding-left: 1em; padding-right: 1em; text-align: center; vertical-align: top\">7242</td>\n",
       "        <td style=\"padding-left: 1em; padding-right: 1em; text-align: center; vertical-align: top\">2</td>\n",
       "        <td style=\"padding-left: 1em; padding-right: 1em; text-align: center; vertical-align: top\">0</td>\n",
       "    </tr>\n",
       "    <tr>\n",
       "        <td style=\"padding-left: 1em; padding-right: 1em; text-align: center; vertical-align: top\">5631500400</td>\n",
       "        <td style=\"padding-left: 1em; padding-right: 1em; text-align: center; vertical-align: top\">2015-02-25 00:00:00+00:00</td>\n",
       "        <td style=\"padding-left: 1em; padding-right: 1em; text-align: center; vertical-align: top\">180000</td>\n",
       "        <td style=\"padding-left: 1em; padding-right: 1em; text-align: center; vertical-align: top\">2</td>\n",
       "        <td style=\"padding-left: 1em; padding-right: 1em; text-align: center; vertical-align: top\">1</td>\n",
       "        <td style=\"padding-left: 1em; padding-right: 1em; text-align: center; vertical-align: top\">770</td>\n",
       "        <td style=\"padding-left: 1em; padding-right: 1em; text-align: center; vertical-align: top\">10000</td>\n",
       "        <td style=\"padding-left: 1em; padding-right: 1em; text-align: center; vertical-align: top\">1</td>\n",
       "        <td style=\"padding-left: 1em; padding-right: 1em; text-align: center; vertical-align: top\">0</td>\n",
       "    </tr>\n",
       "    <tr>\n",
       "        <td style=\"padding-left: 1em; padding-right: 1em; text-align: center; vertical-align: top\">2487200875</td>\n",
       "        <td style=\"padding-left: 1em; padding-right: 1em; text-align: center; vertical-align: top\">2014-12-09 00:00:00+00:00</td>\n",
       "        <td style=\"padding-left: 1em; padding-right: 1em; text-align: center; vertical-align: top\">604000</td>\n",
       "        <td style=\"padding-left: 1em; padding-right: 1em; text-align: center; vertical-align: top\">4</td>\n",
       "        <td style=\"padding-left: 1em; padding-right: 1em; text-align: center; vertical-align: top\">3</td>\n",
       "        <td style=\"padding-left: 1em; padding-right: 1em; text-align: center; vertical-align: top\">1960</td>\n",
       "        <td style=\"padding-left: 1em; padding-right: 1em; text-align: center; vertical-align: top\">5000</td>\n",
       "        <td style=\"padding-left: 1em; padding-right: 1em; text-align: center; vertical-align: top\">1</td>\n",
       "        <td style=\"padding-left: 1em; padding-right: 1em; text-align: center; vertical-align: top\">0</td>\n",
       "    </tr>\n",
       "    <tr>\n",
       "        <td style=\"padding-left: 1em; padding-right: 1em; text-align: center; vertical-align: top\">1954400510</td>\n",
       "        <td style=\"padding-left: 1em; padding-right: 1em; text-align: center; vertical-align: top\">2015-02-18 00:00:00+00:00</td>\n",
       "        <td style=\"padding-left: 1em; padding-right: 1em; text-align: center; vertical-align: top\">510000</td>\n",
       "        <td style=\"padding-left: 1em; padding-right: 1em; text-align: center; vertical-align: top\">3</td>\n",
       "        <td style=\"padding-left: 1em; padding-right: 1em; text-align: center; vertical-align: top\">2</td>\n",
       "        <td style=\"padding-left: 1em; padding-right: 1em; text-align: center; vertical-align: top\">1680</td>\n",
       "        <td style=\"padding-left: 1em; padding-right: 1em; text-align: center; vertical-align: top\">8080</td>\n",
       "        <td style=\"padding-left: 1em; padding-right: 1em; text-align: center; vertical-align: top\">1</td>\n",
       "        <td style=\"padding-left: 1em; padding-right: 1em; text-align: center; vertical-align: top\">0</td>\n",
       "    </tr>\n",
       "    <tr>\n",
       "        <td style=\"padding-left: 1em; padding-right: 1em; text-align: center; vertical-align: top\">7237550310</td>\n",
       "        <td style=\"padding-left: 1em; padding-right: 1em; text-align: center; vertical-align: top\">2014-05-12 00:00:00+00:00</td>\n",
       "        <td style=\"padding-left: 1em; padding-right: 1em; text-align: center; vertical-align: top\">1225000</td>\n",
       "        <td style=\"padding-left: 1em; padding-right: 1em; text-align: center; vertical-align: top\">4</td>\n",
       "        <td style=\"padding-left: 1em; padding-right: 1em; text-align: center; vertical-align: top\">4.5</td>\n",
       "        <td style=\"padding-left: 1em; padding-right: 1em; text-align: center; vertical-align: top\">5420</td>\n",
       "        <td style=\"padding-left: 1em; padding-right: 1em; text-align: center; vertical-align: top\">101930</td>\n",
       "        <td style=\"padding-left: 1em; padding-right: 1em; text-align: center; vertical-align: top\">1</td>\n",
       "        <td style=\"padding-left: 1em; padding-right: 1em; text-align: center; vertical-align: top\">0</td>\n",
       "    </tr>\n",
       "    <tr>\n",
       "        <td style=\"padding-left: 1em; padding-right: 1em; text-align: center; vertical-align: top\">1321400060</td>\n",
       "        <td style=\"padding-left: 1em; padding-right: 1em; text-align: center; vertical-align: top\">2014-06-27 00:00:00+00:00</td>\n",
       "        <td style=\"padding-left: 1em; padding-right: 1em; text-align: center; vertical-align: top\">257500</td>\n",
       "        <td style=\"padding-left: 1em; padding-right: 1em; text-align: center; vertical-align: top\">3</td>\n",
       "        <td style=\"padding-left: 1em; padding-right: 1em; text-align: center; vertical-align: top\">2.25</td>\n",
       "        <td style=\"padding-left: 1em; padding-right: 1em; text-align: center; vertical-align: top\">1715</td>\n",
       "        <td style=\"padding-left: 1em; padding-right: 1em; text-align: center; vertical-align: top\">6819</td>\n",
       "        <td style=\"padding-left: 1em; padding-right: 1em; text-align: center; vertical-align: top\">2</td>\n",
       "        <td style=\"padding-left: 1em; padding-right: 1em; text-align: center; vertical-align: top\">0</td>\n",
       "    </tr>\n",
       "    <tr>\n",
       "        <td style=\"padding-left: 1em; padding-right: 1em; text-align: center; vertical-align: top\">2008000270</td>\n",
       "        <td style=\"padding-left: 1em; padding-right: 1em; text-align: center; vertical-align: top\">2015-01-15 00:00:00+00:00</td>\n",
       "        <td style=\"padding-left: 1em; padding-right: 1em; text-align: center; vertical-align: top\">291850</td>\n",
       "        <td style=\"padding-left: 1em; padding-right: 1em; text-align: center; vertical-align: top\">3</td>\n",
       "        <td style=\"padding-left: 1em; padding-right: 1em; text-align: center; vertical-align: top\">1.5</td>\n",
       "        <td style=\"padding-left: 1em; padding-right: 1em; text-align: center; vertical-align: top\">1060</td>\n",
       "        <td style=\"padding-left: 1em; padding-right: 1em; text-align: center; vertical-align: top\">9711</td>\n",
       "        <td style=\"padding-left: 1em; padding-right: 1em; text-align: center; vertical-align: top\">1</td>\n",
       "        <td style=\"padding-left: 1em; padding-right: 1em; text-align: center; vertical-align: top\">0</td>\n",
       "    </tr>\n",
       "    <tr>\n",
       "        <td style=\"padding-left: 1em; padding-right: 1em; text-align: center; vertical-align: top\">2414600126</td>\n",
       "        <td style=\"padding-left: 1em; padding-right: 1em; text-align: center; vertical-align: top\">2015-04-15 00:00:00+00:00</td>\n",
       "        <td style=\"padding-left: 1em; padding-right: 1em; text-align: center; vertical-align: top\">229500</td>\n",
       "        <td style=\"padding-left: 1em; padding-right: 1em; text-align: center; vertical-align: top\">3</td>\n",
       "        <td style=\"padding-left: 1em; padding-right: 1em; text-align: center; vertical-align: top\">1</td>\n",
       "        <td style=\"padding-left: 1em; padding-right: 1em; text-align: center; vertical-align: top\">1780</td>\n",
       "        <td style=\"padding-left: 1em; padding-right: 1em; text-align: center; vertical-align: top\">7470</td>\n",
       "        <td style=\"padding-left: 1em; padding-right: 1em; text-align: center; vertical-align: top\">1</td>\n",
       "        <td style=\"padding-left: 1em; padding-right: 1em; text-align: center; vertical-align: top\">0</td>\n",
       "    </tr>\n",
       "    <tr>\n",
       "        <td style=\"padding-left: 1em; padding-right: 1em; text-align: center; vertical-align: top\">3793500160</td>\n",
       "        <td style=\"padding-left: 1em; padding-right: 1em; text-align: center; vertical-align: top\">2015-03-12 00:00:00+00:00</td>\n",
       "        <td style=\"padding-left: 1em; padding-right: 1em; text-align: center; vertical-align: top\">323000</td>\n",
       "        <td style=\"padding-left: 1em; padding-right: 1em; text-align: center; vertical-align: top\">3</td>\n",
       "        <td style=\"padding-left: 1em; padding-right: 1em; text-align: center; vertical-align: top\">2.5</td>\n",
       "        <td style=\"padding-left: 1em; padding-right: 1em; text-align: center; vertical-align: top\">1890</td>\n",
       "        <td style=\"padding-left: 1em; padding-right: 1em; text-align: center; vertical-align: top\">6560</td>\n",
       "        <td style=\"padding-left: 1em; padding-right: 1em; text-align: center; vertical-align: top\">2</td>\n",
       "        <td style=\"padding-left: 1em; padding-right: 1em; text-align: center; vertical-align: top\">0</td>\n",
       "    </tr>\n",
       "</table>\n",
       "<table frame=\"box\" rules=\"cols\">\n",
       "    <tr>\n",
       "        <th style=\"padding-left: 1em; padding-right: 1em; text-align: center\">view</th>\n",
       "        <th style=\"padding-left: 1em; padding-right: 1em; text-align: center\">condition</th>\n",
       "        <th style=\"padding-left: 1em; padding-right: 1em; text-align: center\">grade</th>\n",
       "        <th style=\"padding-left: 1em; padding-right: 1em; text-align: center\">sqft_above</th>\n",
       "        <th style=\"padding-left: 1em; padding-right: 1em; text-align: center\">sqft_basement</th>\n",
       "        <th style=\"padding-left: 1em; padding-right: 1em; text-align: center\">yr_built</th>\n",
       "        <th style=\"padding-left: 1em; padding-right: 1em; text-align: center\">yr_renovated</th>\n",
       "        <th style=\"padding-left: 1em; padding-right: 1em; text-align: center\">zipcode</th>\n",
       "        <th style=\"padding-left: 1em; padding-right: 1em; text-align: center\">lat</th>\n",
       "    </tr>\n",
       "    <tr>\n",
       "        <td style=\"padding-left: 1em; padding-right: 1em; text-align: center; vertical-align: top\">0</td>\n",
       "        <td style=\"padding-left: 1em; padding-right: 1em; text-align: center; vertical-align: top\">3</td>\n",
       "        <td style=\"padding-left: 1em; padding-right: 1em; text-align: center; vertical-align: top\">7</td>\n",
       "        <td style=\"padding-left: 1em; padding-right: 1em; text-align: center; vertical-align: top\">1180</td>\n",
       "        <td style=\"padding-left: 1em; padding-right: 1em; text-align: center; vertical-align: top\">0</td>\n",
       "        <td style=\"padding-left: 1em; padding-right: 1em; text-align: center; vertical-align: top\">1955</td>\n",
       "        <td style=\"padding-left: 1em; padding-right: 1em; text-align: center; vertical-align: top\">0</td>\n",
       "        <td style=\"padding-left: 1em; padding-right: 1em; text-align: center; vertical-align: top\">98178</td>\n",
       "        <td style=\"padding-left: 1em; padding-right: 1em; text-align: center; vertical-align: top\">47.51123398</td>\n",
       "    </tr>\n",
       "    <tr>\n",
       "        <td style=\"padding-left: 1em; padding-right: 1em; text-align: center; vertical-align: top\">0</td>\n",
       "        <td style=\"padding-left: 1em; padding-right: 1em; text-align: center; vertical-align: top\">3</td>\n",
       "        <td style=\"padding-left: 1em; padding-right: 1em; text-align: center; vertical-align: top\">7</td>\n",
       "        <td style=\"padding-left: 1em; padding-right: 1em; text-align: center; vertical-align: top\">2170</td>\n",
       "        <td style=\"padding-left: 1em; padding-right: 1em; text-align: center; vertical-align: top\">400</td>\n",
       "        <td style=\"padding-left: 1em; padding-right: 1em; text-align: center; vertical-align: top\">1951</td>\n",
       "        <td style=\"padding-left: 1em; padding-right: 1em; text-align: center; vertical-align: top\">1991</td>\n",
       "        <td style=\"padding-left: 1em; padding-right: 1em; text-align: center; vertical-align: top\">98125</td>\n",
       "        <td style=\"padding-left: 1em; padding-right: 1em; text-align: center; vertical-align: top\">47.72102274</td>\n",
       "    </tr>\n",
       "    <tr>\n",
       "        <td style=\"padding-left: 1em; padding-right: 1em; text-align: center; vertical-align: top\">0</td>\n",
       "        <td style=\"padding-left: 1em; padding-right: 1em; text-align: center; vertical-align: top\">3</td>\n",
       "        <td style=\"padding-left: 1em; padding-right: 1em; text-align: center; vertical-align: top\">6</td>\n",
       "        <td style=\"padding-left: 1em; padding-right: 1em; text-align: center; vertical-align: top\">770</td>\n",
       "        <td style=\"padding-left: 1em; padding-right: 1em; text-align: center; vertical-align: top\">0</td>\n",
       "        <td style=\"padding-left: 1em; padding-right: 1em; text-align: center; vertical-align: top\">1933</td>\n",
       "        <td style=\"padding-left: 1em; padding-right: 1em; text-align: center; vertical-align: top\">0</td>\n",
       "        <td style=\"padding-left: 1em; padding-right: 1em; text-align: center; vertical-align: top\">98028</td>\n",
       "        <td style=\"padding-left: 1em; padding-right: 1em; text-align: center; vertical-align: top\">47.73792661</td>\n",
       "    </tr>\n",
       "    <tr>\n",
       "        <td style=\"padding-left: 1em; padding-right: 1em; text-align: center; vertical-align: top\">0</td>\n",
       "        <td style=\"padding-left: 1em; padding-right: 1em; text-align: center; vertical-align: top\">5</td>\n",
       "        <td style=\"padding-left: 1em; padding-right: 1em; text-align: center; vertical-align: top\">7</td>\n",
       "        <td style=\"padding-left: 1em; padding-right: 1em; text-align: center; vertical-align: top\">1050</td>\n",
       "        <td style=\"padding-left: 1em; padding-right: 1em; text-align: center; vertical-align: top\">910</td>\n",
       "        <td style=\"padding-left: 1em; padding-right: 1em; text-align: center; vertical-align: top\">1965</td>\n",
       "        <td style=\"padding-left: 1em; padding-right: 1em; text-align: center; vertical-align: top\">0</td>\n",
       "        <td style=\"padding-left: 1em; padding-right: 1em; text-align: center; vertical-align: top\">98136</td>\n",
       "        <td style=\"padding-left: 1em; padding-right: 1em; text-align: center; vertical-align: top\">47.52082</td>\n",
       "    </tr>\n",
       "    <tr>\n",
       "        <td style=\"padding-left: 1em; padding-right: 1em; text-align: center; vertical-align: top\">0</td>\n",
       "        <td style=\"padding-left: 1em; padding-right: 1em; text-align: center; vertical-align: top\">3</td>\n",
       "        <td style=\"padding-left: 1em; padding-right: 1em; text-align: center; vertical-align: top\">8</td>\n",
       "        <td style=\"padding-left: 1em; padding-right: 1em; text-align: center; vertical-align: top\">1680</td>\n",
       "        <td style=\"padding-left: 1em; padding-right: 1em; text-align: center; vertical-align: top\">0</td>\n",
       "        <td style=\"padding-left: 1em; padding-right: 1em; text-align: center; vertical-align: top\">1987</td>\n",
       "        <td style=\"padding-left: 1em; padding-right: 1em; text-align: center; vertical-align: top\">0</td>\n",
       "        <td style=\"padding-left: 1em; padding-right: 1em; text-align: center; vertical-align: top\">98074</td>\n",
       "        <td style=\"padding-left: 1em; padding-right: 1em; text-align: center; vertical-align: top\">47.61681228</td>\n",
       "    </tr>\n",
       "    <tr>\n",
       "        <td style=\"padding-left: 1em; padding-right: 1em; text-align: center; vertical-align: top\">0</td>\n",
       "        <td style=\"padding-left: 1em; padding-right: 1em; text-align: center; vertical-align: top\">3</td>\n",
       "        <td style=\"padding-left: 1em; padding-right: 1em; text-align: center; vertical-align: top\">11</td>\n",
       "        <td style=\"padding-left: 1em; padding-right: 1em; text-align: center; vertical-align: top\">3890</td>\n",
       "        <td style=\"padding-left: 1em; padding-right: 1em; text-align: center; vertical-align: top\">1530</td>\n",
       "        <td style=\"padding-left: 1em; padding-right: 1em; text-align: center; vertical-align: top\">2001</td>\n",
       "        <td style=\"padding-left: 1em; padding-right: 1em; text-align: center; vertical-align: top\">0</td>\n",
       "        <td style=\"padding-left: 1em; padding-right: 1em; text-align: center; vertical-align: top\">98053</td>\n",
       "        <td style=\"padding-left: 1em; padding-right: 1em; text-align: center; vertical-align: top\">47.65611835</td>\n",
       "    </tr>\n",
       "    <tr>\n",
       "        <td style=\"padding-left: 1em; padding-right: 1em; text-align: center; vertical-align: top\">0</td>\n",
       "        <td style=\"padding-left: 1em; padding-right: 1em; text-align: center; vertical-align: top\">3</td>\n",
       "        <td style=\"padding-left: 1em; padding-right: 1em; text-align: center; vertical-align: top\">7</td>\n",
       "        <td style=\"padding-left: 1em; padding-right: 1em; text-align: center; vertical-align: top\">1715</td>\n",
       "        <td style=\"padding-left: 1em; padding-right: 1em; text-align: center; vertical-align: top\">0</td>\n",
       "        <td style=\"padding-left: 1em; padding-right: 1em; text-align: center; vertical-align: top\">1995</td>\n",
       "        <td style=\"padding-left: 1em; padding-right: 1em; text-align: center; vertical-align: top\">0</td>\n",
       "        <td style=\"padding-left: 1em; padding-right: 1em; text-align: center; vertical-align: top\">98003</td>\n",
       "        <td style=\"padding-left: 1em; padding-right: 1em; text-align: center; vertical-align: top\">47.30972002</td>\n",
       "    </tr>\n",
       "    <tr>\n",
       "        <td style=\"padding-left: 1em; padding-right: 1em; text-align: center; vertical-align: top\">0</td>\n",
       "        <td style=\"padding-left: 1em; padding-right: 1em; text-align: center; vertical-align: top\">3</td>\n",
       "        <td style=\"padding-left: 1em; padding-right: 1em; text-align: center; vertical-align: top\">7</td>\n",
       "        <td style=\"padding-left: 1em; padding-right: 1em; text-align: center; vertical-align: top\">1060</td>\n",
       "        <td style=\"padding-left: 1em; padding-right: 1em; text-align: center; vertical-align: top\">0</td>\n",
       "        <td style=\"padding-left: 1em; padding-right: 1em; text-align: center; vertical-align: top\">1963</td>\n",
       "        <td style=\"padding-left: 1em; padding-right: 1em; text-align: center; vertical-align: top\">0</td>\n",
       "        <td style=\"padding-left: 1em; padding-right: 1em; text-align: center; vertical-align: top\">98198</td>\n",
       "        <td style=\"padding-left: 1em; padding-right: 1em; text-align: center; vertical-align: top\">47.40949984</td>\n",
       "    </tr>\n",
       "    <tr>\n",
       "        <td style=\"padding-left: 1em; padding-right: 1em; text-align: center; vertical-align: top\">0</td>\n",
       "        <td style=\"padding-left: 1em; padding-right: 1em; text-align: center; vertical-align: top\">3</td>\n",
       "        <td style=\"padding-left: 1em; padding-right: 1em; text-align: center; vertical-align: top\">7</td>\n",
       "        <td style=\"padding-left: 1em; padding-right: 1em; text-align: center; vertical-align: top\">1050</td>\n",
       "        <td style=\"padding-left: 1em; padding-right: 1em; text-align: center; vertical-align: top\">730</td>\n",
       "        <td style=\"padding-left: 1em; padding-right: 1em; text-align: center; vertical-align: top\">1960</td>\n",
       "        <td style=\"padding-left: 1em; padding-right: 1em; text-align: center; vertical-align: top\">0</td>\n",
       "        <td style=\"padding-left: 1em; padding-right: 1em; text-align: center; vertical-align: top\">98146</td>\n",
       "        <td style=\"padding-left: 1em; padding-right: 1em; text-align: center; vertical-align: top\">47.51229381</td>\n",
       "    </tr>\n",
       "    <tr>\n",
       "        <td style=\"padding-left: 1em; padding-right: 1em; text-align: center; vertical-align: top\">0</td>\n",
       "        <td style=\"padding-left: 1em; padding-right: 1em; text-align: center; vertical-align: top\">3</td>\n",
       "        <td style=\"padding-left: 1em; padding-right: 1em; text-align: center; vertical-align: top\">7</td>\n",
       "        <td style=\"padding-left: 1em; padding-right: 1em; text-align: center; vertical-align: top\">1890</td>\n",
       "        <td style=\"padding-left: 1em; padding-right: 1em; text-align: center; vertical-align: top\">0</td>\n",
       "        <td style=\"padding-left: 1em; padding-right: 1em; text-align: center; vertical-align: top\">2003</td>\n",
       "        <td style=\"padding-left: 1em; padding-right: 1em; text-align: center; vertical-align: top\">0</td>\n",
       "        <td style=\"padding-left: 1em; padding-right: 1em; text-align: center; vertical-align: top\">98038</td>\n",
       "        <td style=\"padding-left: 1em; padding-right: 1em; text-align: center; vertical-align: top\">47.36840673</td>\n",
       "    </tr>\n",
       "</table>\n",
       "<table frame=\"box\" rules=\"cols\">\n",
       "    <tr>\n",
       "        <th style=\"padding-left: 1em; padding-right: 1em; text-align: center\">long</th>\n",
       "        <th style=\"padding-left: 1em; padding-right: 1em; text-align: center\">sqft_living15</th>\n",
       "        <th style=\"padding-left: 1em; padding-right: 1em; text-align: center\">sqft_lot15</th>\n",
       "    </tr>\n",
       "    <tr>\n",
       "        <td style=\"padding-left: 1em; padding-right: 1em; text-align: center; vertical-align: top\">-122.25677536</td>\n",
       "        <td style=\"padding-left: 1em; padding-right: 1em; text-align: center; vertical-align: top\">1340.0</td>\n",
       "        <td style=\"padding-left: 1em; padding-right: 1em; text-align: center; vertical-align: top\">5650.0</td>\n",
       "    </tr>\n",
       "    <tr>\n",
       "        <td style=\"padding-left: 1em; padding-right: 1em; text-align: center; vertical-align: top\">-122.3188624</td>\n",
       "        <td style=\"padding-left: 1em; padding-right: 1em; text-align: center; vertical-align: top\">1690.0</td>\n",
       "        <td style=\"padding-left: 1em; padding-right: 1em; text-align: center; vertical-align: top\">7639.0</td>\n",
       "    </tr>\n",
       "    <tr>\n",
       "        <td style=\"padding-left: 1em; padding-right: 1em; text-align: center; vertical-align: top\">-122.23319601</td>\n",
       "        <td style=\"padding-left: 1em; padding-right: 1em; text-align: center; vertical-align: top\">2720.0</td>\n",
       "        <td style=\"padding-left: 1em; padding-right: 1em; text-align: center; vertical-align: top\">8062.0</td>\n",
       "    </tr>\n",
       "    <tr>\n",
       "        <td style=\"padding-left: 1em; padding-right: 1em; text-align: center; vertical-align: top\">-122.39318505</td>\n",
       "        <td style=\"padding-left: 1em; padding-right: 1em; text-align: center; vertical-align: top\">1360.0</td>\n",
       "        <td style=\"padding-left: 1em; padding-right: 1em; text-align: center; vertical-align: top\">5000.0</td>\n",
       "    </tr>\n",
       "    <tr>\n",
       "        <td style=\"padding-left: 1em; padding-right: 1em; text-align: center; vertical-align: top\">-122.04490059</td>\n",
       "        <td style=\"padding-left: 1em; padding-right: 1em; text-align: center; vertical-align: top\">1800.0</td>\n",
       "        <td style=\"padding-left: 1em; padding-right: 1em; text-align: center; vertical-align: top\">7503.0</td>\n",
       "    </tr>\n",
       "    <tr>\n",
       "        <td style=\"padding-left: 1em; padding-right: 1em; text-align: center; vertical-align: top\">-122.00528655</td>\n",
       "        <td style=\"padding-left: 1em; padding-right: 1em; text-align: center; vertical-align: top\">4760.0</td>\n",
       "        <td style=\"padding-left: 1em; padding-right: 1em; text-align: center; vertical-align: top\">101930.0</td>\n",
       "    </tr>\n",
       "    <tr>\n",
       "        <td style=\"padding-left: 1em; padding-right: 1em; text-align: center; vertical-align: top\">-122.32704857</td>\n",
       "        <td style=\"padding-left: 1em; padding-right: 1em; text-align: center; vertical-align: top\">2238.0</td>\n",
       "        <td style=\"padding-left: 1em; padding-right: 1em; text-align: center; vertical-align: top\">6819.0</td>\n",
       "    </tr>\n",
       "    <tr>\n",
       "        <td style=\"padding-left: 1em; padding-right: 1em; text-align: center; vertical-align: top\">-122.31457273</td>\n",
       "        <td style=\"padding-left: 1em; padding-right: 1em; text-align: center; vertical-align: top\">1650.0</td>\n",
       "        <td style=\"padding-left: 1em; padding-right: 1em; text-align: center; vertical-align: top\">9711.0</td>\n",
       "    </tr>\n",
       "    <tr>\n",
       "        <td style=\"padding-left: 1em; padding-right: 1em; text-align: center; vertical-align: top\">-122.33659507</td>\n",
       "        <td style=\"padding-left: 1em; padding-right: 1em; text-align: center; vertical-align: top\">1780.0</td>\n",
       "        <td style=\"padding-left: 1em; padding-right: 1em; text-align: center; vertical-align: top\">8113.0</td>\n",
       "    </tr>\n",
       "    <tr>\n",
       "        <td style=\"padding-left: 1em; padding-right: 1em; text-align: center; vertical-align: top\">-122.0308176</td>\n",
       "        <td style=\"padding-left: 1em; padding-right: 1em; text-align: center; vertical-align: top\">2390.0</td>\n",
       "        <td style=\"padding-left: 1em; padding-right: 1em; text-align: center; vertical-align: top\">7570.0</td>\n",
       "    </tr>\n",
       "</table>\n",
       "[21613 rows x 21 columns]<br/>Note: Only the head of the SFrame is printed.<br/>You can use print_rows(num_rows=m, num_columns=n) to print more rows and columns.\n",
       "</div>"
      ],
      "text/plain": [
       "Columns:\n",
       "\tid\tstr\n",
       "\tdate\tdatetime\n",
       "\tprice\tint\n",
       "\tbedrooms\tstr\n",
       "\tbathrooms\tstr\n",
       "\tsqft_living\tint\n",
       "\tsqft_lot\tint\n",
       "\tfloors\tstr\n",
       "\twaterfront\tint\n",
       "\tview\tint\n",
       "\tcondition\tint\n",
       "\tgrade\tint\n",
       "\tsqft_above\tint\n",
       "\tsqft_basement\tint\n",
       "\tyr_built\tint\n",
       "\tyr_renovated\tint\n",
       "\tzipcode\tstr\n",
       "\tlat\tfloat\n",
       "\tlong\tfloat\n",
       "\tsqft_living15\tfloat\n",
       "\tsqft_lot15\tfloat\n",
       "\n",
       "Rows: 21613\n",
       "\n",
       "Data:\n",
       "+------------+---------------------------+---------+----------+-----------+-------------+\n",
       "|     id     |            date           |  price  | bedrooms | bathrooms | sqft_living |\n",
       "+------------+---------------------------+---------+----------+-----------+-------------+\n",
       "| 7129300520 | 2014-10-13 00:00:00+00:00 |  221900 |    3     |     1     |     1180    |\n",
       "| 6414100192 | 2014-12-09 00:00:00+00:00 |  538000 |    3     |    2.25   |     2570    |\n",
       "| 5631500400 | 2015-02-25 00:00:00+00:00 |  180000 |    2     |     1     |     770     |\n",
       "| 2487200875 | 2014-12-09 00:00:00+00:00 |  604000 |    4     |     3     |     1960    |\n",
       "| 1954400510 | 2015-02-18 00:00:00+00:00 |  510000 |    3     |     2     |     1680    |\n",
       "| 7237550310 | 2014-05-12 00:00:00+00:00 | 1225000 |    4     |    4.5    |     5420    |\n",
       "| 1321400060 | 2014-06-27 00:00:00+00:00 |  257500 |    3     |    2.25   |     1715    |\n",
       "| 2008000270 | 2015-01-15 00:00:00+00:00 |  291850 |    3     |    1.5    |     1060    |\n",
       "| 2414600126 | 2015-04-15 00:00:00+00:00 |  229500 |    3     |     1     |     1780    |\n",
       "| 3793500160 | 2015-03-12 00:00:00+00:00 |  323000 |    3     |    2.5    |     1890    |\n",
       "+------------+---------------------------+---------+----------+-----------+-------------+\n",
       "+----------+--------+------------+------+-----------+-------+------------+---------------+\n",
       "| sqft_lot | floors | waterfront | view | condition | grade | sqft_above | sqft_basement |\n",
       "+----------+--------+------------+------+-----------+-------+------------+---------------+\n",
       "|   5650   |   1    |     0      |  0   |     3     |   7   |    1180    |       0       |\n",
       "|   7242   |   2    |     0      |  0   |     3     |   7   |    2170    |      400      |\n",
       "|  10000   |   1    |     0      |  0   |     3     |   6   |    770     |       0       |\n",
       "|   5000   |   1    |     0      |  0   |     5     |   7   |    1050    |      910      |\n",
       "|   8080   |   1    |     0      |  0   |     3     |   8   |    1680    |       0       |\n",
       "|  101930  |   1    |     0      |  0   |     3     |   11  |    3890    |      1530     |\n",
       "|   6819   |   2    |     0      |  0   |     3     |   7   |    1715    |       0       |\n",
       "|   9711   |   1    |     0      |  0   |     3     |   7   |    1060    |       0       |\n",
       "|   7470   |   1    |     0      |  0   |     3     |   7   |    1050    |      730      |\n",
       "|   6560   |   2    |     0      |  0   |     3     |   7   |    1890    |       0       |\n",
       "+----------+--------+------------+------+-----------+-------+------------+---------------+\n",
       "+----------+--------------+---------+-------------+---------------+---------------+-----+\n",
       "| yr_built | yr_renovated | zipcode |     lat     |      long     | sqft_living15 | ... |\n",
       "+----------+--------------+---------+-------------+---------------+---------------+-----+\n",
       "|   1955   |      0       |  98178  | 47.51123398 | -122.25677536 |     1340.0    | ... |\n",
       "|   1951   |     1991     |  98125  | 47.72102274 |  -122.3188624 |     1690.0    | ... |\n",
       "|   1933   |      0       |  98028  | 47.73792661 | -122.23319601 |     2720.0    | ... |\n",
       "|   1965   |      0       |  98136  |   47.52082  | -122.39318505 |     1360.0    | ... |\n",
       "|   1987   |      0       |  98074  | 47.61681228 | -122.04490059 |     1800.0    | ... |\n",
       "|   2001   |      0       |  98053  | 47.65611835 | -122.00528655 |     4760.0    | ... |\n",
       "|   1995   |      0       |  98003  | 47.30972002 | -122.32704857 |     2238.0    | ... |\n",
       "|   1963   |      0       |  98198  | 47.40949984 | -122.31457273 |     1650.0    | ... |\n",
       "|   1960   |      0       |  98146  | 47.51229381 | -122.33659507 |     1780.0    | ... |\n",
       "|   2003   |      0       |  98038  | 47.36840673 |  -122.0308176 |     2390.0    | ... |\n",
       "+----------+--------------+---------+-------------+---------------+---------------+-----+\n",
       "[21613 rows x 21 columns]\n",
       "Note: Only the head of the SFrame is printed.\n",
       "You can use print_rows(num_rows=m, num_columns=n) to print more rows and columns."
      ]
     },
     "execution_count": 3,
     "metadata": {},
     "output_type": "execute_result"
    }
   ],
   "source": [
    "sales"
   ]
  },
  {
   "cell_type": "markdown",
   "metadata": {},
   "source": [
    "#Exploring the data for housing sales "
   ]
  },
  {
   "cell_type": "markdown",
   "metadata": {},
   "source": [
    "The house price is correlated with the number of square feet of living space."
   ]
  },
  {
   "cell_type": "code",
   "execution_count": 4,
   "metadata": {
    "collapsed": false
   },
   "outputs": [
    {
     "data": {
      "application/javascript": [
       "$(\"head\").append($(\"<link/>\").attr({\n",
       "  rel:  \"stylesheet\",\n",
       "  type: \"text/css\",\n",
       "  href: \"//cdnjs.cloudflare.com/ajax/libs/font-awesome/4.1.0/css/font-awesome.min.css\"\n",
       "}));\n",
       "$(\"head\").append($(\"<link/>\").attr({\n",
       "  rel:  \"stylesheet\",\n",
       "  type: \"text/css\",\n",
       "  href: \"//dato.com/files/canvas/1.9/css/canvas.css\"\n",
       "}));\n",
       "\n",
       "            (function(){\n",
       "\n",
       "                var e = null;\n",
       "                if (typeof element == 'undefined') {\n",
       "                    var scripts = document.getElementsByTagName('script');\n",
       "                    var thisScriptTag = scripts[scripts.length-1];\n",
       "                    var parentDiv = thisScriptTag.parentNode;\n",
       "                    e = document.createElement('div');\n",
       "                    parentDiv.appendChild(e);\n",
       "                } else {\n",
       "                    e = element[0];\n",
       "                }\n",
       "\n",
       "                if (typeof requirejs !== 'undefined') {\n",
       "                    // disable load timeout; ipython_app.js is large and can take a while to load.\n",
       "                    requirejs.config({waitSeconds: 0});\n",
       "                }\n",
       "\n",
       "                require(['//dato.com/files/canvas/1.9/js/ipython_app.js'], function(IPythonApp){\n",
       "                    var app = new IPythonApp();\n",
       "                    app.attachView('sframe','Plots', {\"selected_variable\": {\"name\": [\"sales\"], \"descriptives\": {\"rows\": 21613, \"columns\": 21}, \"view_component\": \"Plots\", \"view_file\": \"sframe\", \"view_params\": {\"y\": \"price\", \"x\": \"sqft_living\", \"columns\": [\"id\", \"date\", \"price\", \"bedrooms\", \"bathrooms\", \"sqft_living\", \"sqft_lot\", \"floors\", \"waterfront\", \"view\", \"condition\", \"grade\", \"sqft_above\", \"sqft_basement\", \"yr_built\", \"yr_renovated\", \"zipcode\", \"lat\", \"long\", \"sqft_living15\", \"sqft_lot15\"], \"view\": \"Scatter Plot\"}, \"view_components\": [\"Summary\", \"Table\", \"Bar Chart\", \"BoxWhisker Plot\", \"Line Chart\", \"Scatter Plot\", \"Heat Map\", \"Plots\"], \"type\": \"SFrame\", \"columns\": [{\"dtype\": \"str\", \"name\": \"id\"}, {\"dtype\": \"datetime\", \"name\": \"date\"}, {\"dtype\": \"int\", \"name\": \"price\"}, {\"dtype\": \"str\", \"name\": \"bedrooms\"}, {\"dtype\": \"str\", \"name\": \"bathrooms\"}, {\"dtype\": \"int\", \"name\": \"sqft_living\"}, {\"dtype\": \"int\", \"name\": \"sqft_lot\"}, {\"dtype\": \"str\", \"name\": \"floors\"}, {\"dtype\": \"int\", \"name\": \"waterfront\"}, {\"dtype\": \"int\", \"name\": \"view\"}, {\"dtype\": \"int\", \"name\": \"condition\"}, {\"dtype\": \"int\", \"name\": \"grade\"}, {\"dtype\": \"int\", \"name\": \"sqft_above\"}, {\"dtype\": \"int\", \"name\": \"sqft_basement\"}, {\"dtype\": \"int\", \"name\": \"yr_built\"}, {\"dtype\": \"int\", \"name\": \"yr_renovated\"}, {\"dtype\": \"str\", \"name\": \"zipcode\"}, {\"dtype\": \"float\", \"name\": \"lat\"}, {\"dtype\": \"float\", \"name\": \"long\"}, {\"dtype\": \"float\", \"name\": \"sqft_living15\"}, {\"dtype\": \"float\", \"name\": \"sqft_lot15\"}], \"column_identifiers\": [\"bathrooms\", \"sqft_living15\", \"sqft_above\", \"grade\", \"yr_built\", \"price\", \"bedrooms\", \"zipcode\", \"long\", \"id\", \"sqft_lot15\", \"sqft_living\", \"floors\", \"sqft_lot\", \"date\", \"waterfront\", \"sqft_basement\", \"yr_renovated\", \"lat\", \"condition\", \"view\"]}, \"complete\": 1, \"ipython\": true, \"progress\": 1.0, \"data\": [[1730, 575700], [1120, 290000], [2260, 467500], [2550, 415000], [1740, 800000], [2350, 505000], [1715, 257500], [1710, 571900], [2970, 499500], [2370, 490000], [1900, 645000], [2010, 319000], [1900, 250000], [1150, 334000], [2588, 306000], [2200, 475000], [2810, 535000], [1650, 643500], [2230, 415000], [1940, 278500], [1160, 402723], [1320, 185000], [2270, 285000], [910, 400000], [2900, 785000], [1440, 355000], [1520, 405000], [3810, 760000], [1610, 345000], [4310, 1200000], [1420, 451300], [1480, 890000], [2790, 599000], [1580, 247000], [830, 519000], [1150, 177000], [3480, 878000], [1920, 320000], [1940, 432500], [2181, 340000], [2920, 1250000], [1380, 473000], [1360, 396500], [2270, 680000], [1280, 309000], [3840, 575000], [1160, 394000], [2090, 546200], [910, 244000], [1170, 255000], [1700, 545000], [1650, 445000], [3000, 430000], [1980, 585000], [980, 335000], [2260, 622500], [1340, 281000], [2240, 650000], [2230, 368750], [1570, 419000], [2370, 350000], [1400, 214950], [2519, 505000], [1220, 286308], [1520, 296475], [2070, 405000], [2530, 975000], [1790, 251100], [3060, 782900], [1600, 442500], [1090, 394950], [2140, 346150], [1840, 830000], [3490, 1311000], [1790, 349000], [5860, 1750000], [1630, 426000], [2810, 454450], [1690, 197000], [1280, 490000], [2180, 405000], [1820, 378950], [2020, 355000], [1260, 477000], [960, 315000], [1520, 386500], [1600, 302000], [2570, 1475000], [1920, 571500], [2330, 542500], [1370, 655000], [2190, 432000], [2740, 409000], [1610, 435000], [1290, 605000], [1870, 262000], [2860, 1450000], [1430, 510000], [2120, 285000], [2560, 518000], [1230, 440000], [1710, 332544], [2190, 540000], [1790, 240000], [1740, 565000], [2640, 850000], [1340, 275000], [1200, 255000], [1160, 508300], [1720, 649000], [3480, 1850000], [1480, 509250], [910, 165000], [1900, 650000], [1600, 308950], [2980, 330000], [1590, 518500], [2080, 350500], [1950, 360000], [2220, 652500], [2080, 467000], [1450, 391500], [2434, 285000], [870, 150000], [1460, 775000], [2880, 920000], [1000, 199000], [2320, 675000], [1894, 280000], [2410, 550000], [1960, 355000], [2010, 660500], [1830, 682000], [2010, 453246], [3290, 728000], [1330, 375000], [3210, 756450], [2590, 452000], [1890, 291000], [1760, 605000], [1110, 665000], [1480, 856000], [1530, 257500], [2290, 571000], [3600, 729999], [2095, 711000], [1740, 518000], [3950, 1270000], [2190, 530000], [1750, 240000], [880, 248500], [1110, 560000], [1260, 531000], [2380, 365650], [1780, 477000], [1800, 416000], [1950, 484000], [3569, 580000], [2710, 455000], [2290, 661254], [2540, 845000], [1990, 430000], [4080, 1050000], [1110, 229800], [1020, 435500], [1500, 485000], [4200, 850000], [860, 345000], [3240, 612995], [2750, 418000], [2860, 503000], [1650, 622000], [1340, 313000], [1120, 750000], [1450, 274000], [1810, 450000], [3202, 460940], [3150, 450000], [3600, 620000], [1460, 443750], [3680, 1050000], [1050, 325000], [1350, 874000], [1500, 700000], [2210, 587000], [1250, 110000], [770, 252500], [620, 175000], [850, 460000], [3440, 853000], [2980, 765000], [1860, 310000], [2930, 650880], [1220, 258000], [1350, 377500], [1830, 600000], [2190, 411800], [1830, 452000], [1290, 781000], [1890, 524950], [2520, 372000], [2140, 640000], [3330, 1205000], [3840, 1135000], [3740, 660000], [1880, 268000], [810, 385000], [1980, 450000], [2360, 572000], [3070, 880000], [1310, 300000], [1480, 216650], [890, 275400], [900, 496000], [2340, 465950], [1060, 326250], [1860, 291000], [3370, 2300000], [3900, 1072000], [1700, 534500], [1220, 483000], [6240, 2950000], [1450, 365000], [2400, 570000], [2050, 403900], [1300, 295000], [1480, 511200], [2180, 279000], [1350, 571000], [1760, 400000], [910, 299950], [1250, 340000], [1040, 420000], [2070, 366500], [2180, 750000], [1640, 390000], [2600, 691500], [1820, 393000], [1410, 315000], [4410, 472000], [1570, 506000], [1990, 185000], [1430, 460000], [900, 320000], [4360, 1555000], [1380, 275000], [2430, 272000], [2540, 630000], [2990, 772000], [2590, 781000], [2920, 1065000], [720, 210000], [2140, 465000], [1400, 349500], [3110, 1260000], [2310, 815000], [2690, 800000], [1970, 306500], [1890, 825000], [2440, 1325000], [840, 86500], [2390, 379750], [2160, 856000], [2180, 330000], [1830, 270000], [2060, 655000], [1420, 345000], [2860, 750000], [1750, 434000], [1990, 378000], [5310, 1365000], [4590, 960000], [1220, 670000], [1630, 312900], [1520, 292600], [1960, 369990], [1140, 560000], [2502, 453000], [1470, 244000], [2280, 345000], [2900, 527000], [1820, 331500], [2400, 335000], [1600, 245000], [1540, 278500], [3880, 430000], [2980, 949000], [1380, 335000], [1170, 235000], [1740, 339000], [2660, 625000], [1150, 425000], [1280, 545000], [1980, 570000], [4240, 1660000], [2920, 820000], [1550, 453500], [1650, 599000], [2220, 260000], [2220, 558000], [1130, 384500], [3810, 900000], [2050, 324950], [3360, 850000], [3040, 500000], [2440, 849000], [1480, 479000], [1290, 373000], [2760, 602500], [1250, 353000], [1040, 596000], [1330, 405000], [2450, 605000], [1520, 535000], [1350, 430000], [1460, 250000], [2000, 225000], [1670, 555565], [5090, 3000000], [2430, 255000], [3100, 539950], [2980, 1339000], [2310, 309950], [820, 480000], [1300, 309000], [1240, 240500], [1920, 230000], [1770, 370000], [1560, 353900], [1130, 354000], [1390, 328500], [1600, 995000], [1730, 465000], [1990, 507500], [1400, 887200], [1550, 390000], [1660, 235000], [1130, 485000], [2130, 675000], [2460, 790000], [1840, 390000], [1250, 275000], [3880, 1815000], [1210, 173250], [2710, 564450], [1380, 345000], [1380, 650000], [1680, 219200], [1910, 554000], [720, 438600], [1220, 135000], [2090, 513000], [910, 285000], [560, 249900], [3790, 2200000], [2800, 550000], [1630, 305000], [1960, 460000], [2020, 317000], [2680, 600000], [1800, 160000], [1830, 230000], [1520, 360000], [3050, 740000], [1720, 565000], [920, 229950], [1160, 525000], [2220, 500000], [870, 312500], [2090, 338000], [830, 110000], [2040, 551000], [3230, 817500], [910, 389000], [1460, 580000], [2120, 599000], [1460, 240000], [3020, 1272000], [2730, 1030000], [1310, 310000], [2330, 615000], [1380, 365000], [1630, 464000], [2290, 530000], [1130, 262500], [1740, 545000], [1700, 245000], [2620, 738000], [2870, 540000], [1180, 187500], [2200, 818000], [1150, 287000], [2876, 895000], [1710, 320000], [1030, 397380], [2390, 363000], [3030, 998000], [2080, 436800], [2500, 585000], [2280, 475000], [2200, 358000], [2030, 360000], [1660, 926300], [2850, 550000], [1970, 420000], [1510, 650000], [4190, 460000], [2290, 420000], [1580, 535000], [3040, 330000], [1540, 439950], [1900, 343500], [2280, 749700], [1380, 380000], [2020, 650000], [1350, 270000], [1830, 358000], [1830, 700000], [1060, 330000], [2700, 381000], [2790, 374950], [2350, 400000], [2320, 700000], [3040, 735000], [1390, 608000], [2600, 625000], [1280, 185000], [2430, 510000], [1870, 300000], [2400, 355000], [2360, 600000], [2400, 456500], [2720, 348000], [950, 475000], [1860, 350000], [940, 325000], [2500, 700000], [2020, 640000], [1550, 453000], [3860, 820875], [1320, 526000], [1480, 397500], [1240, 415500], [1990, 309950], [1270, 445700], [710, 390000], [1950, 560000], [1450, 282510], [1680, 619500], [2510, 881000], [680, 365000], [2510, 605000], [840, 175000], [2200, 610000], [2040, 272000], [3130, 671000], [1420, 147200], [2456, 329950], [5430, 1360000], [1110, 589000], [3450, 1050000], [2860, 957000], [3250, 580000], [1180, 410000], [3250, 530000], [2130, 316000], [4200, 1650000], [3750, 920000], [2480, 729000], [1830, 550000], [1400, 515000], [1410, 315000], [2100, 245000], [1300, 310000], [1820, 275000], [4820, 1063000], [2790, 505000], [1710, 500000], [2530, 350000], [3020, 439000], [1710, 390000], [2770, 550000], [2570, 500000], [2650, 415000], [2790, 685100], [2000, 290000], [1710, 575000], [1310, 417000], [2070, 300000], [1990, 365000], [3330, 1190000], [2600, 330000], [2790, 764000], [700, 200000], [1710, 670000], [3010, 530000], [1980, 660000], [1490, 391000], [2140, 675000], [1100, 168500], [980, 395000], [1830, 638000], [4140, 1839900], [1870, 335000], [1900, 265000], [780, 165000], [1610, 346500], [3020, 1400000], [1880, 299500], [1200, 260000], [940, 223000], [1210, 205000], [1370, 720000], [1800, 500000], [1720, 375000], [1510, 525000], [1370, 585000], [1010, 350000], [1520, 240000], [2580, 260000], [1310, 242000], [1120, 216180], [1900, 536000], [2060, 356250], [1040, 198400], [1580, 280000], [1040, 230000], [3070, 858000], [950, 450000], [940, 358000], [3560, 851000], [1490, 263000], [1250, 333000], [1630, 507200], [2594, 351000], [1900, 252500], [1120, 450000], [2350, 754000], [1910, 630100], [2070, 449950], [2760, 799500], [1840, 525000], [900, 275000], [1760, 688000], [1730, 268000], [3220, 640000], [1290, 255000], [1960, 275000], [1910, 580000], [2130, 381000], [1010, 286000], [1470, 468000], [4250, 2196000], [2590, 500000], [1780, 250000], [1880, 681000], [2130, 955500], [3732, 1225000], [1350, 259950], [1690, 199500], [1020, 200000], [1580, 729000], [2320, 449950], [1980, 760000], [1670, 252000], [2940, 950000], [1880, 326000], [2160, 671500], [1780, 545000], [3040, 431000], [950, 445000], [1480, 350000], [5180, 1195000], [1480, 440000], [2120, 518500], [1460, 306000], [4000, 570000], [2700, 665000], [1280, 552000], [1760, 247500], [1330, 180000], [2200, 525000], [2130, 730000], [2120, 453000], [2080, 480000], [2170, 606500], [1584, 261000], [2460, 563225], [2910, 539950], [2280, 280000], [2310, 1248000], [1710, 525000], [1180, 336000], [1770, 324950], [3680, 675000], [2180, 540000], [1660, 315000], [1608, 279950], [1200, 380000], [930, 351000], [1660, 247500], [2600, 599950], [1780, 375000], [1410, 334200], [2670, 515000], [1350, 281000], [3560, 616950], [3420, 570000], [2740, 441000], [2590, 760000], [1930, 475000], [1790, 225000], [1510, 299000], [3060, 465000], [2640, 389517], [750, 319000], [1490, 335000], [2810, 1700000], [1950, 785000], [2770, 650000], [2620, 683000], [1810, 501000], [1090, 289950], [1630, 313000], [3820, 1250000], [1930, 360000], [1810, 387000], [1130, 345000], [2260, 540000], [1730, 400000], [2820, 810000], [3510, 970000], [1160, 182000], [3520, 775000], [1910, 498688], [2880, 439000], [1250, 520000], [910, 265000], [2440, 270000], [3000, 1120000], [2030, 472000], [1780, 509000], [1680, 526000], [2630, 725000], [1250, 164808], [1920, 266950], [1070, 542000], [1320, 530000], [2230, 560000], [880, 376000], [1590, 414050], [2600, 555000], [1920, 325000], [3240, 975000], [3710, 552500], [1820, 705000], [1760, 575000], [2190, 925000], [1040, 440000], [2330, 270000], [1510, 468000], [1390, 341000], [2180, 545000], [1730, 800000], [1570, 342000], [1870, 293000], [2360, 285000], [2990, 564950], [1800, 850000], [1160, 450000], [1280, 200500], [2520, 335000], [1500, 392000], [1440, 350000], [2400, 268000], [1560, 460000], [2630, 750000], [4170, 810000], [1170, 760000], [1330, 248000], [1430, 330000], [960, 280000], [1930, 439990], [1020, 195000], [1650, 260000], [4650, 1750000], [1510, 451101], [1360, 150000], [960, 208950], [3840, 1462497], [2510, 706000], [4570, 1484900], [2430, 362300], [1480, 315000], [2864, 380000], [2070, 410000], [1690, 612500], [680, 510000], [1500, 400000], [1330, 347000], [3340, 870000], [2000, 561000], [2198, 388000], [1580, 265000], [2700, 357000], [1350, 427500], [3920, 1000000], [1260, 305000], [3120, 615000], [1570, 340000], [1350, 190000], [2000, 423500], [1840, 432100], [3000, 490500], [1720, 521000], [1260, 618000], [2770, 402000], [2150, 530000], [1500, 489000], [480, 145000], [3620, 495000], [970, 302860], [4670, 1578000], [2460, 630000], [2160, 550000], [1080, 115000], [890, 314963], [1200, 450000], [2540, 760250], [2450, 530000], [3030, 902000], [1210, 310000], [3790, 875000], [2260, 714000], [2820, 336000], [1495, 400000], [2280, 322000], [3330, 750000], [970, 165000], [1210, 326000], [1800, 442500], [3890, 1080000], [1730, 357500], [2930, 890000], [1200, 178000], [2260, 459000], [2010, 699000], [2320, 552500], [2230, 375000], [1260, 523000], [2220, 862000], [1630, 540000], [3530, 874150], [1330, 389000], [2340, 735000], [2480, 480000], [1290, 200000], [1200, 225000], [2220, 325000], [900, 205000], [3240, 575000], [3620, 2230000], [1980, 272000], [3120, 800000], [1740, 575000], [1960, 403000], [2380, 276500], [1240, 248500], [2510, 330000], [2190, 760000], [2960, 883000], [1940, 280000], [2060, 705000], [2490, 364900], [1260, 528000], [2860, 740000], [1890, 300000], [2400, 442500], [2450, 550000], [1100, 241450], [2330, 585000], [1550, 500000], [910, 254000], [1870, 485000], [1010, 201700], [4320, 1100000], [3190, 722000], [1390, 218500], [3020, 879950], [2060, 543000], [1350, 160000], [3140, 946000], [3180, 510000], [1330, 249950], [1390, 417500], [2150, 284000], [2440, 805000], [1490, 312000], [1230, 349950], [1200, 272000], [1340, 650000], [840, 360000], [3060, 446500], [1290, 239800], [2329, 540000], [720, 235000], [1860, 380000], [2540, 380000], [1570, 425000], [2450, 610000], [1750, 510000], [2840, 450000], [1680, 347000], [2410, 330000], [2740, 779000], [3130, 598000], [3130, 1010000], [2900, 1337500], [820, 527550], [3100, 967000], [1740, 640000], [2170, 585000], [1800, 517500], [3600, 923990], [620, 212000], [2555, 255000], [1650, 361000], [1960, 450000], [1310, 290000], [2780, 290000], [1810, 355000], [2030, 595000], [1450, 320000], [820, 420000], [1240, 427500], [1810, 515000], [1350, 430000], [1700, 269500], [2200, 1230000], [1480, 418000], [980, 221000], [790, 350000], [1500, 707500], [1540, 375000], [1820, 680000], [1700, 148900], [1250, 255000], [4000, 628000], [3120, 444900], [3720, 857000], [2390, 349950], [2770, 907500], [1470, 248000], [1690, 430000], [970, 354950], [1440, 246000], [1590, 454000], [740, 342000], [2770, 700000], [2160, 518000], [1170, 299950], [1900, 212000], [2520, 685000], [1020, 180000], [1470, 225000], [1340, 290000], [2560, 499000], [1440, 199000], [2620, 635000], [3830, 480000], [1910, 1125000], [950, 304000], [2150, 400000], [3300, 725000], [2220, 771000], [3720, 875000], [1960, 300000], [2150, 317500], [1820, 277500], [810, 299900], [2250, 446950], [1980, 707000], [2170, 550000], [1540, 445000], [3600, 970000], [1400, 570000], [1220, 165000], [1740, 339999], [1600, 502000], [1060, 352750], [1270, 422500], [460, 247000], [2390, 345000], [1230, 575000], [1470, 432000], [2100, 330000], [2040, 730000], [1380, 570500], [2190, 730000], [2390, 358000], [4180, 673200], [2650, 1050000], [3270, 1180000], [2630, 576925], [3250, 705000], [3030, 815000], [2680, 459990], [1095, 302282], [2160, 550000], [740, 407000], [3670, 731000], [1410, 261500], [2790, 359900], [1170, 562500], [2020, 495000], [1280, 183000], [2010, 1000000], [1440, 476000], [3090, 540500], [1060, 205000], [1010, 318000], [3690, 640000], [1340, 255000], [4530, 950000], [2010, 360000], [1420, 300000], [2280, 850000], [2690, 390000], [3500, 775000], [3360, 765000], [3910, 1749000], [1800, 556000], [1010, 440000], [1310, 475000], [1590, 300000], [3160, 820000], [1590, 355000], [1460, 175000], [2242, 329900], [2770, 652427], [1050, 430000], [1980, 418000], [1870, 325000], [1200, 210000], [2340, 396000], [1130, 280005], [3220, 359999], [1660, 675000], [1630, 740000], [1270, 475000], [3500, 790000], [1330, 601000], [1440, 255500], [3230, 530000], [2400, 650000], [2240, 325000], [590, 240000], [1481, 250000], [810, 215000], [1180, 310000], [950, 200000], [1940, 488000], [2100, 679000], [1520, 210000], [2170, 445000], [1280, 299500], [2230, 415000], [1360, 507000], [1270, 465000], [2240, 635000], [2640, 880000], [1830, 572000], [1510, 397500], [4590, 1710000], [1650, 282500], [1360, 255544], [1680, 500000], [1540, 202500], [1490, 309000], [2140, 359500], [1670, 424000], [1340, 400000], [2190, 465000], [3180, 736500], [1570, 169000], [1540, 759600], [3180, 680000], [1670, 280500], [1995, 505000], [2050, 252000], [1700, 500000], [1410, 658500], [1310, 181000], [1330, 374500], [2040, 561750], [2310, 561500], [1780, 342000], [1100, 184000], [2890, 550000], [2890, 910000]], \"columns\": [{\"dtype\": \"str\", \"name\": \"id\"}, {\"dtype\": \"datetime\", \"name\": \"date\"}, {\"dtype\": \"int\", \"name\": \"price\"}, {\"dtype\": \"str\", \"name\": \"bedrooms\"}, {\"dtype\": \"str\", \"name\": \"bathrooms\"}, {\"dtype\": \"int\", \"name\": \"sqft_living\"}, {\"dtype\": \"int\", \"name\": \"sqft_lot\"}, {\"dtype\": \"str\", \"name\": \"floors\"}, {\"dtype\": \"int\", \"name\": \"waterfront\"}, {\"dtype\": \"int\", \"name\": \"view\"}, {\"dtype\": \"int\", \"name\": \"condition\"}, {\"dtype\": \"int\", \"name\": \"grade\"}, {\"dtype\": \"int\", \"name\": \"sqft_above\"}, {\"dtype\": \"int\", \"name\": \"sqft_basement\"}, {\"dtype\": \"int\", \"name\": \"yr_built\"}, {\"dtype\": \"int\", \"name\": \"yr_renovated\"}, {\"dtype\": \"str\", \"name\": \"zipcode\"}, {\"dtype\": \"float\", \"name\": \"lat\"}, {\"dtype\": \"float\", \"name\": \"long\"}, {\"dtype\": \"float\", \"name\": \"sqft_living15\"}, {\"dtype\": \"float\", \"name\": \"sqft_lot15\"}]}, e);\n",
       "                });\n",
       "            })();\n",
       "        "
      ]
     },
     "metadata": {},
     "output_type": "display_data"
    }
   ],
   "source": [
    "graphlab.canvas.set_target('ipynb')\n",
    "sales.show(view=\"Scatter Plot\", x=\"sqft_living\", y=\"price\")"
   ]
  },
  {
   "cell_type": "markdown",
   "metadata": {},
   "source": [
    "#Create a simple regression model of sqft_living to price"
   ]
  },
  {
   "cell_type": "markdown",
   "metadata": {},
   "source": [
    "Split data into training and testing.  \n",
    "We use seed=0 so that everyone running this notebook gets the same results.  In practice, you may set a random seed (or let GraphLab Create pick a random seed for you).  "
   ]
  },
  {
   "cell_type": "code",
   "execution_count": 5,
   "metadata": {
    "collapsed": true
   },
   "outputs": [],
   "source": [
    "train_data,test_data = sales.random_split(.8,seed=0)"
   ]
  },
  {
   "cell_type": "markdown",
   "metadata": {},
   "source": [
    "##Build the regression model using only sqft_living as a feature"
   ]
  },
  {
   "cell_type": "code",
   "execution_count": 6,
   "metadata": {
    "collapsed": false
   },
   "outputs": [
    {
     "data": {
      "text/html": [
       "<pre>Linear regression:</pre>"
      ],
      "text/plain": [
       "Linear regression:"
      ]
     },
     "metadata": {},
     "output_type": "display_data"
    },
    {
     "data": {
      "text/html": [
       "<pre>--------------------------------------------------------</pre>"
      ],
      "text/plain": [
       "--------------------------------------------------------"
      ]
     },
     "metadata": {},
     "output_type": "display_data"
    },
    {
     "data": {
      "text/html": [
       "<pre>Number of examples          : 17384</pre>"
      ],
      "text/plain": [
       "Number of examples          : 17384"
      ]
     },
     "metadata": {},
     "output_type": "display_data"
    },
    {
     "data": {
      "text/html": [
       "<pre>Number of features          : 1</pre>"
      ],
      "text/plain": [
       "Number of features          : 1"
      ]
     },
     "metadata": {},
     "output_type": "display_data"
    },
    {
     "data": {
      "text/html": [
       "<pre>Number of unpacked features : 1</pre>"
      ],
      "text/plain": [
       "Number of unpacked features : 1"
      ]
     },
     "metadata": {},
     "output_type": "display_data"
    },
    {
     "data": {
      "text/html": [
       "<pre>Number of coefficients    : 2</pre>"
      ],
      "text/plain": [
       "Number of coefficients    : 2"
      ]
     },
     "metadata": {},
     "output_type": "display_data"
    },
    {
     "data": {
      "text/html": [
       "<pre>Starting Newton Method</pre>"
      ],
      "text/plain": [
       "Starting Newton Method"
      ]
     },
     "metadata": {},
     "output_type": "display_data"
    },
    {
     "data": {
      "text/html": [
       "<pre>--------------------------------------------------------</pre>"
      ],
      "text/plain": [
       "--------------------------------------------------------"
      ]
     },
     "metadata": {},
     "output_type": "display_data"
    },
    {
     "data": {
      "text/html": [
       "<pre>+-----------+----------+--------------+--------------------+---------------+</pre>"
      ],
      "text/plain": [
       "+-----------+----------+--------------+--------------------+---------------+"
      ]
     },
     "metadata": {},
     "output_type": "display_data"
    },
    {
     "data": {
      "text/html": [
       "<pre>| Iteration | Passes   | Elapsed Time | Training-max_error | Training-rmse |</pre>"
      ],
      "text/plain": [
       "| Iteration | Passes   | Elapsed Time | Training-max_error | Training-rmse |"
      ]
     },
     "metadata": {},
     "output_type": "display_data"
    },
    {
     "data": {
      "text/html": [
       "<pre>+-----------+----------+--------------+--------------------+---------------+</pre>"
      ],
      "text/plain": [
       "+-----------+----------+--------------+--------------------+---------------+"
      ]
     },
     "metadata": {},
     "output_type": "display_data"
    },
    {
     "data": {
      "text/html": [
       "<pre>| 1         | 2        | 1.013719     | 4349521.926170     | 262943.613754 |</pre>"
      ],
      "text/plain": [
       "| 1         | 2        | 1.013719     | 4349521.926170     | 262943.613754 |"
      ]
     },
     "metadata": {},
     "output_type": "display_data"
    },
    {
     "data": {
      "text/html": [
       "<pre>+-----------+----------+--------------+--------------------+---------------+</pre>"
      ],
      "text/plain": [
       "+-----------+----------+--------------+--------------------+---------------+"
      ]
     },
     "metadata": {},
     "output_type": "display_data"
    },
    {
     "data": {
      "text/html": [
       "<pre>SUCCESS: Optimal solution found.</pre>"
      ],
      "text/plain": [
       "SUCCESS: Optimal solution found."
      ]
     },
     "metadata": {},
     "output_type": "display_data"
    },
    {
     "data": {
      "text/html": [
       "<pre></pre>"
      ],
      "text/plain": []
     },
     "metadata": {},
     "output_type": "display_data"
    }
   ],
   "source": [
    "sqft_model = graphlab.linear_regression.create(train_data, target='price', features=['sqft_living'],validation_set=None)"
   ]
  },
  {
   "cell_type": "markdown",
   "metadata": {},
   "source": [
    "#Evaluate the simple model"
   ]
  },
  {
   "cell_type": "code",
   "execution_count": 7,
   "metadata": {
    "collapsed": false
   },
   "outputs": [
    {
     "name": "stdout",
     "output_type": "stream",
     "text": [
      "543054.042563\n"
     ]
    }
   ],
   "source": [
    "print test_data['price'].mean()"
   ]
  },
  {
   "cell_type": "code",
   "execution_count": 8,
   "metadata": {
    "collapsed": false
   },
   "outputs": [
    {
     "name": "stdout",
     "output_type": "stream",
     "text": [
      "{'max_error': 4143550.8825285938, 'rmse': 255191.02870527355}\n"
     ]
    }
   ],
   "source": [
    "print sqft_model.evaluate(test_data)"
   ]
  },
  {
   "cell_type": "markdown",
   "metadata": {},
   "source": [
    "RMSE of about \\$255,170!"
   ]
  },
  {
   "cell_type": "markdown",
   "metadata": {},
   "source": [
    "#Let's show what our predictions look like"
   ]
  },
  {
   "cell_type": "markdown",
   "metadata": {},
   "source": [
    "Matplotlib is a Python plotting library that is also useful for plotting.  You can install it with:\n",
    "\n",
    "'pip install matplotlib'"
   ]
  },
  {
   "cell_type": "code",
   "execution_count": null,
   "metadata": {
    "collapsed": false
   },
   "outputs": [],
   "source": [
    "import matplotlib.pyplot as plt\n",
    "%matplotlib inline"
   ]
  },
  {
   "cell_type": "code",
   "execution_count": null,
   "metadata": {
    "collapsed": false
   },
   "outputs": [],
   "source": [
    "plt.plot(test_data['sqft_living'],test_data['price'],'.',\n",
    "        test_data['sqft_living'],sqft_model.predict(test_data),'-')"
   ]
  },
  {
   "cell_type": "markdown",
   "metadata": {},
   "source": [
    "Above:  blue dots are original data, green line is the prediction from the simple regression.\n",
    "\n",
    "Below: we can view the learned regression coefficients. "
   ]
  },
  {
   "cell_type": "code",
   "execution_count": null,
   "metadata": {
    "collapsed": false
   },
   "outputs": [],
   "source": [
    "sqft_model.get('coefficients')"
   ]
  },
  {
   "cell_type": "markdown",
   "metadata": {},
   "source": [
    "#Explore other features in the data\n",
    "\n",
    "To build a more elaborate model, we will explore using more features."
   ]
  },
  {
   "cell_type": "code",
   "execution_count": null,
   "metadata": {
    "collapsed": true
   },
   "outputs": [],
   "source": [
    "my_features = ['bedrooms', 'bathrooms', 'sqft_living', 'sqft_lot', 'floors', 'zipcode']"
   ]
  },
  {
   "cell_type": "code",
   "execution_count": null,
   "metadata": {
    "collapsed": false
   },
   "outputs": [],
   "source": [
    "sales[my_features].show()"
   ]
  },
  {
   "cell_type": "code",
   "execution_count": null,
   "metadata": {
    "collapsed": false
   },
   "outputs": [],
   "source": [
    "sales.show(view='BoxWhisker Plot', x='zipcode', y='price')"
   ]
  },
  {
   "cell_type": "markdown",
   "metadata": {},
   "source": [
    "Pull the bar at the bottom to view more of the data.  \n",
    "\n",
    "98039 is the most expensive zip code."
   ]
  },
  {
   "cell_type": "markdown",
   "metadata": {},
   "source": [
    "#Build a regression model with more features"
   ]
  },
  {
   "cell_type": "code",
   "execution_count": null,
   "metadata": {
    "collapsed": false
   },
   "outputs": [],
   "source": [
    "my_features_model = graphlab.linear_regression.create(train_data,target='price',features=my_features,validation_set=None)"
   ]
  },
  {
   "cell_type": "code",
   "execution_count": null,
   "metadata": {
    "collapsed": false
   },
   "outputs": [],
   "source": [
    "print my_features"
   ]
  },
  {
   "cell_type": "markdown",
   "metadata": {},
   "source": [
    "##Comparing the results of the simple model with adding more features"
   ]
  },
  {
   "cell_type": "code",
   "execution_count": null,
   "metadata": {
    "collapsed": false
   },
   "outputs": [],
   "source": [
    "print sqft_model.evaluate(test_data)\n",
    "print my_features_model.evaluate(test_data)"
   ]
  },
  {
   "cell_type": "markdown",
   "metadata": {},
   "source": [
    "The RMSE goes down from \\$255,170 to \\$179,508 with more features."
   ]
  },
  {
   "cell_type": "markdown",
   "metadata": {},
   "source": [
    "#Apply learned models to predict prices of 3 houses"
   ]
  },
  {
   "cell_type": "markdown",
   "metadata": {},
   "source": [
    "The first house we will use is considered an \"average\" house in Seattle. "
   ]
  },
  {
   "cell_type": "code",
   "execution_count": null,
   "metadata": {
    "collapsed": true
   },
   "outputs": [],
   "source": [
    "house1 = sales[sales['id']=='5309101200']"
   ]
  },
  {
   "cell_type": "code",
   "execution_count": null,
   "metadata": {
    "collapsed": false
   },
   "outputs": [],
   "source": [
    "house1"
   ]
  },
  {
   "cell_type": "markdown",
   "metadata": {},
   "source": [
    "<img src=\"http://info.kingcounty.gov/Assessor/eRealProperty/MediaHandler.aspx?Media=2916871\">"
   ]
  },
  {
   "cell_type": "code",
   "execution_count": null,
   "metadata": {
    "collapsed": false
   },
   "outputs": [],
   "source": [
    "print house1['price']"
   ]
  },
  {
   "cell_type": "code",
   "execution_count": null,
   "metadata": {
    "collapsed": false
   },
   "outputs": [],
   "source": [
    "print sqft_model.predict(house1)"
   ]
  },
  {
   "cell_type": "code",
   "execution_count": null,
   "metadata": {
    "collapsed": false
   },
   "outputs": [],
   "source": [
    "print my_features_model.predict(house1)"
   ]
  },
  {
   "cell_type": "markdown",
   "metadata": {},
   "source": [
    "In this case, the model with more features provides a worse prediction than the simpler model with only 1 feature.  However, on average, the model with more features is better."
   ]
  },
  {
   "cell_type": "markdown",
   "metadata": {},
   "source": [
    "##Prediction for a second, fancier house\n",
    "\n",
    "We will now examine the predictions for a fancier house."
   ]
  },
  {
   "cell_type": "code",
   "execution_count": null,
   "metadata": {
    "collapsed": true
   },
   "outputs": [],
   "source": [
    "house2 = sales[sales['id']=='1925069082']"
   ]
  },
  {
   "cell_type": "code",
   "execution_count": null,
   "metadata": {
    "collapsed": false
   },
   "outputs": [],
   "source": [
    "house2"
   ]
  },
  {
   "cell_type": "markdown",
   "metadata": {},
   "source": [
    "<img src=\"https://ssl.cdn-redfin.com/photo/1/bigphoto/302/734302_0.jpg\">"
   ]
  },
  {
   "cell_type": "code",
   "execution_count": null,
   "metadata": {
    "collapsed": false
   },
   "outputs": [],
   "source": [
    "print sqft_model.predict(house2)"
   ]
  },
  {
   "cell_type": "code",
   "execution_count": null,
   "metadata": {
    "collapsed": false
   },
   "outputs": [],
   "source": [
    "print my_features_model.predict(house2)"
   ]
  },
  {
   "cell_type": "markdown",
   "metadata": {},
   "source": [
    "In this case, the model with more features provides a better prediction.  This behavior is expected here, because this house is more differentiated by features that go beyond its square feet of living space, especially the fact that it's a waterfront house. "
   ]
  },
  {
   "cell_type": "markdown",
   "metadata": {},
   "source": [
    "##Last house, super fancy\n",
    "\n",
    "Our last house is a very large one owned by a famous Seattleite."
   ]
  },
  {
   "cell_type": "code",
   "execution_count": null,
   "metadata": {
    "collapsed": true
   },
   "outputs": [],
   "source": [
    "bill_gates = {'bedrooms':[8], \n",
    "              'bathrooms':[25], \n",
    "              'sqft_living':[50000], \n",
    "              'sqft_lot':[225000],\n",
    "              'floors':[4], \n",
    "              'zipcode':['98039'], \n",
    "              'condition':[10], \n",
    "              'grade':[10],\n",
    "              'waterfront':[1],\n",
    "              'view':[4],\n",
    "              'sqft_above':[37500],\n",
    "              'sqft_basement':[12500],\n",
    "              'yr_built':[1994],\n",
    "              'yr_renovated':[2010],\n",
    "              'lat':[47.627606],\n",
    "              'long':[-122.242054],\n",
    "              'sqft_living15':[5000],\n",
    "              'sqft_lot15':[40000]}"
   ]
  },
  {
   "cell_type": "markdown",
   "metadata": {},
   "source": [
    "<img src=\"https://upload.wikimedia.org/wikipedia/commons/thumb/d/d9/Bill_gates%27_house.jpg/2560px-Bill_gates%27_house.jpg\">"
   ]
  },
  {
   "cell_type": "code",
   "execution_count": null,
   "metadata": {
    "collapsed": false
   },
   "outputs": [],
   "source": [
    "print my_features_model.predict(graphlab.SFrame(bill_gates))"
   ]
  },
  {
   "cell_type": "markdown",
   "metadata": {
    "collapsed": true
   },
   "source": [
    "The model predicts a price of over $13M for this house! But we expect the house to cost much more.  (There are very few samples in the dataset of houses that are this fancy, so we don't expect the model to capture a perfect prediction here.)"
   ]
  },
  {
   "cell_type": "code",
   "execution_count": null,
   "metadata": {
    "collapsed": true
   },
   "outputs": [],
   "source": []
  }
 ],
 "metadata": {
  "kernelspec": {
   "display_name": "Python 2",
   "language": "python",
   "name": "python2"
  },
  "language_info": {
   "codemirror_mode": {
    "name": "ipython",
    "version": 2
   },
   "file_extension": ".py",
   "mimetype": "text/x-python",
   "name": "python",
   "nbconvert_exporter": "python",
   "pygments_lexer": "ipython2",
   "version": "2.7.11"
  }
 },
 "nbformat": 4,
 "nbformat_minor": 0
}
