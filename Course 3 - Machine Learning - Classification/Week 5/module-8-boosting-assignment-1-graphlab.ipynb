{
 "cells": [
  {
   "cell_type": "markdown",
   "metadata": {},
   "source": [
    "# Exploring Ensemble Methods"
   ]
  },
  {
   "cell_type": "markdown",
   "metadata": {},
   "source": [
    "In this assignment, we will explore the use of boosting. We will use the pre-implemented gradient boosted trees in GraphLab Create. You will:\n",
    "\n",
    "* Use SFrames to do some feature engineering.\n",
    "* Train a boosted ensemble of decision-trees (gradient boosted trees) on the LendingClub dataset.\n",
    "* Predict whether a loan will default along with prediction probabilities (on a validation set).\n",
    "* Evaluate the trained model and compare it with a baseline.\n",
    "* Find the most positive and negative loans using the learned model.\n",
    "* Explore how the number of trees influences classification performance.\n",
    "\n",
    "Let's get started!\n",
    "\n",
    "## Fire up Graphlab Create"
   ]
  },
  {
   "cell_type": "code",
   "execution_count": 1,
   "metadata": {
    "collapsed": false
   },
   "outputs": [],
   "source": [
    "import graphlab"
   ]
  },
  {
   "cell_type": "markdown",
   "metadata": {},
   "source": [
    "# Load LendingClub dataset\n",
    "\n",
    "We will be using the [LendingClub](https://www.lendingclub.com/) data. As discussed earlier, the [LendingClub](https://www.lendingclub.com/) is a peer-to-peer leading company that directly connects borrowers and potential lenders/investors. \n",
    "\n",
    "Just like we did in previous assignments, we will build a classification model to predict whether or not a loan provided by lending club is likely to default.\n",
    "\n",
    "Let us start by loading the data."
   ]
  },
  {
   "cell_type": "code",
   "execution_count": 2,
   "metadata": {
    "collapsed": false
   },
   "outputs": [
    {
     "name": "stdout",
     "output_type": "stream",
     "text": [
      "This non-commercial license of GraphLab Create for academic use is assigned to nicolas.batistoni@hotmail.com and will expire on May 27, 2017.\n"
     ]
    },
    {
     "name": "stderr",
     "output_type": "stream",
     "text": [
      "[INFO] graphlab.cython.cy_server: GraphLab Create v2.1 started. Logging: /tmp/graphlab_server_1483032740.log\n"
     ]
    }
   ],
   "source": [
    "loans = graphlab.SFrame('lending-club-data.gl/')"
   ]
  },
  {
   "cell_type": "markdown",
   "metadata": {},
   "source": [
    "Let's quickly explore what the dataset looks like. First, let's print out the column names to see what features we have in this dataset. We have done this in previous assignments, so we won't belabor this here."
   ]
  },
  {
   "cell_type": "code",
   "execution_count": 3,
   "metadata": {
    "collapsed": false
   },
   "outputs": [
    {
     "data": {
      "text/plain": [
       "['id',\n",
       " 'member_id',\n",
       " 'loan_amnt',\n",
       " 'funded_amnt',\n",
       " 'funded_amnt_inv',\n",
       " 'term',\n",
       " 'int_rate',\n",
       " 'installment',\n",
       " 'grade',\n",
       " 'sub_grade',\n",
       " 'emp_title',\n",
       " 'emp_length',\n",
       " 'home_ownership',\n",
       " 'annual_inc',\n",
       " 'is_inc_v',\n",
       " 'issue_d',\n",
       " 'loan_status',\n",
       " 'pymnt_plan',\n",
       " 'url',\n",
       " 'desc',\n",
       " 'purpose',\n",
       " 'title',\n",
       " 'zip_code',\n",
       " 'addr_state',\n",
       " 'dti',\n",
       " 'delinq_2yrs',\n",
       " 'earliest_cr_line',\n",
       " 'inq_last_6mths',\n",
       " 'mths_since_last_delinq',\n",
       " 'mths_since_last_record',\n",
       " 'open_acc',\n",
       " 'pub_rec',\n",
       " 'revol_bal',\n",
       " 'revol_util',\n",
       " 'total_acc',\n",
       " 'initial_list_status',\n",
       " 'out_prncp',\n",
       " 'out_prncp_inv',\n",
       " 'total_pymnt',\n",
       " 'total_pymnt_inv',\n",
       " 'total_rec_prncp',\n",
       " 'total_rec_int',\n",
       " 'total_rec_late_fee',\n",
       " 'recoveries',\n",
       " 'collection_recovery_fee',\n",
       " 'last_pymnt_d',\n",
       " 'last_pymnt_amnt',\n",
       " 'next_pymnt_d',\n",
       " 'last_credit_pull_d',\n",
       " 'collections_12_mths_ex_med',\n",
       " 'mths_since_last_major_derog',\n",
       " 'policy_code',\n",
       " 'not_compliant',\n",
       " 'status',\n",
       " 'inactive_loans',\n",
       " 'bad_loans',\n",
       " 'emp_length_num',\n",
       " 'grade_num',\n",
       " 'sub_grade_num',\n",
       " 'delinq_2yrs_zero',\n",
       " 'pub_rec_zero',\n",
       " 'collections_12_mths_zero',\n",
       " 'short_emp',\n",
       " 'payment_inc_ratio',\n",
       " 'final_d',\n",
       " 'last_delinq_none',\n",
       " 'last_record_none',\n",
       " 'last_major_derog_none']"
      ]
     },
     "execution_count": 3,
     "metadata": {},
     "output_type": "execute_result"
    }
   ],
   "source": [
    "loans.column_names()"
   ]
  },
  {
   "cell_type": "markdown",
   "metadata": {},
   "source": [
    "## Modifying the target column\n",
    "\n",
    "The target column (label column) of the dataset that we are interested in is called `bad_loans`. In this column **1** means a risky (bad) loan **0** means a safe  loan.\n",
    "\n",
    "As in past assignments, in order to make this more intuitive and consistent with the lectures, we reassign the target to be:\n",
    "* **+1** as a safe  loan, \n",
    "* **-1** as a risky (bad) loan. \n",
    "\n",
    "We put this in a new column called `safe_loans`."
   ]
  },
  {
   "cell_type": "code",
   "execution_count": 4,
   "metadata": {
    "collapsed": true
   },
   "outputs": [],
   "source": [
    "loans['safe_loans'] = loans['bad_loans'].apply(lambda x : +1 if x==0 else -1)\n",
    "loans = loans.remove_column('bad_loans')"
   ]
  },
  {
   "cell_type": "markdown",
   "metadata": {},
   "source": [
    "## Selecting features\n",
    "\n",
    "In this assignment, we will be using a subset of features (categorical and numeric). The features we will be using are **described in the code comments** below. If you are a finance geek, the [LendingClub](https://www.lendingclub.com/) website has a lot more details about these features.\n",
    "\n",
    "The features we will be using are described in the code comments below:"
   ]
  },
  {
   "cell_type": "code",
   "execution_count": 5,
   "metadata": {
    "collapsed": false
   },
   "outputs": [],
   "source": [
    "target = 'safe_loans'\n",
    "features = ['grade',                     # grade of the loan (categorical)\n",
    "            'sub_grade_num',             # sub-grade of the loan as a number from 0 to 1\n",
    "            'short_emp',                 # one year or less of employment\n",
    "            'emp_length_num',            # number of years of employment\n",
    "            'home_ownership',            # home_ownership status: own, mortgage or rent\n",
    "            'dti',                       # debt to income ratio\n",
    "            'purpose',                   # the purpose of the loan\n",
    "            'payment_inc_ratio',         # ratio of the monthly payment to income\n",
    "            'delinq_2yrs',               # number of delinquincies \n",
    "            'delinq_2yrs_zero',          # no delinquincies in last 2 years\n",
    "            'inq_last_6mths',            # number of creditor inquiries in last 6 months\n",
    "            'last_delinq_none',          # has borrower had a delinquincy\n",
    "            'last_major_derog_none',     # has borrower had 90 day or worse rating\n",
    "            'open_acc',                  # number of open credit accounts\n",
    "            'pub_rec',                   # number of derogatory public records\n",
    "            'pub_rec_zero',              # no derogatory public records\n",
    "            'revol_util',                # percent of available credit being used\n",
    "            'total_rec_late_fee',        # total late fees received to day\n",
    "            'int_rate',                  # interest rate of the loan\n",
    "            'total_rec_int',             # interest received to date\n",
    "            'annual_inc',                # annual income of borrower\n",
    "            'funded_amnt',               # amount committed to the loan\n",
    "            'funded_amnt_inv',           # amount committed by investors for the loan\n",
    "            'installment',               # monthly payment owed by the borrower\n",
    "           ]"
   ]
  },
  {
   "cell_type": "markdown",
   "metadata": {},
   "source": [
    "## Skipping observations with missing values\n",
    "\n",
    "Recall from the lectures that one common approach to coping with missing values is to **skip** observations that contain missing values.\n",
    "\n",
    "We run the following code to do so:"
   ]
  },
  {
   "cell_type": "code",
   "execution_count": 6,
   "metadata": {
    "collapsed": false
   },
   "outputs": [
    {
     "name": "stdout",
     "output_type": "stream",
     "text": [
      "Dropping 29 observations; keeping 122578 \n"
     ]
    }
   ],
   "source": [
    "loans, loans_with_na = loans[[target] + features].dropna_split()\n",
    "\n",
    "# Count the number of rows with missing data\n",
    "num_rows_with_na = loans_with_na.num_rows()\n",
    "num_rows = loans.num_rows()\n",
    "print 'Dropping %s observations; keeping %s ' % (num_rows_with_na, num_rows)"
   ]
  },
  {
   "cell_type": "markdown",
   "metadata": {},
   "source": [
    "Fortunately, there are not too many missing values. We are retaining most of the data."
   ]
  },
  {
   "cell_type": "markdown",
   "metadata": {},
   "source": [
    "## Make sure the classes are balanced"
   ]
  },
  {
   "cell_type": "markdown",
   "metadata": {},
   "source": [
    "We saw in an earlier assignment that this dataset is also imbalanced. We will undersample the larger class (safe loans) in order to balance out our dataset. We used `seed=1` to make sure everyone gets the same results."
   ]
  },
  {
   "cell_type": "code",
   "execution_count": 7,
   "metadata": {
    "collapsed": false
   },
   "outputs": [
    {
     "name": "stdout",
     "output_type": "stream",
     "text": [
      "Percentage of safe loans                 : 0.502247166849\n",
      "Percentage of risky loans                : 0.497752833151\n",
      "Total number of loans in our new dataset : 46503\n"
     ]
    }
   ],
   "source": [
    "safe_loans_raw = loans[loans[target] == 1]\n",
    "risky_loans_raw = loans[loans[target] == -1]\n",
    "\n",
    "# Undersample the safe loans.\n",
    "percentage = len(risky_loans_raw)/float(len(safe_loans_raw))\n",
    "safe_loans = safe_loans_raw.sample(percentage, seed = 1)\n",
    "risky_loans = risky_loans_raw\n",
    "loans_data = risky_loans.append(safe_loans)\n",
    "\n",
    "print \"Percentage of safe loans                 :\", len(safe_loans) / float(len(loans_data))\n",
    "print \"Percentage of risky loans                :\", len(risky_loans) / float(len(loans_data))\n",
    "print \"Total number of loans in our new dataset :\", len(loans_data)"
   ]
  },
  {
   "cell_type": "markdown",
   "metadata": {},
   "source": [
    "**Checkpoint:** You should now see that the dataset is balanced (approximately 50-50 safe vs risky loans)."
   ]
  },
  {
   "cell_type": "markdown",
   "metadata": {},
   "source": [
    "**Note:** There are many approaches for dealing with imbalanced data, including some where we modify the learning algorithm. These approaches are beyond the scope of this course, but some of them are reviewed in this [paper](http://ieeexplore.ieee.org/xpl/login.jsp?tp=&arnumber=5128907&url=http%3A%2F%2Fieeexplore.ieee.org%2Fiel5%2F69%2F5173046%2F05128907.pdf%3Farnumber%3D5128907 ). For this assignment, we use the simplest possible approach, where we subsample the overly represented class to get a more balanced dataset. In general, and especially when the data is highly imbalanced, we recommend using more advanced methods."
   ]
  },
  {
   "cell_type": "markdown",
   "metadata": {},
   "source": [
    "## Split data into training and validation sets"
   ]
  },
  {
   "cell_type": "markdown",
   "metadata": {},
   "source": [
    "We split the data into training data and validation data. We used `seed=1` to make sure everyone gets the same results. We will use the validation data to help us select model parameters."
   ]
  },
  {
   "cell_type": "code",
   "execution_count": 8,
   "metadata": {
    "collapsed": false
   },
   "outputs": [],
   "source": [
    "train_data, validation_data = loans_data.random_split(.8, seed=1)"
   ]
  },
  {
   "cell_type": "markdown",
   "metadata": {},
   "source": [
    "# Gradient boosted tree classifier"
   ]
  },
  {
   "cell_type": "markdown",
   "metadata": {},
   "source": [
    "Gradient boosted trees are a powerful variant of boosting methods; they have been used to win many [Kaggle](https://www.kaggle.com/) competitions, and have been widely used in industry.  We will explore the predictive power of multiple decision trees as opposed to a single decision tree.\n",
    "\n",
    "**Additional reading:** If you are interested in gradient boosted trees, here is some additional reading material:\n",
    "* [GraphLab Create user guide](https://dato.com/learn/userguide/supervised-learning/boosted_trees_classifier.html)\n",
    "* [Advanced material on boosted trees](http://homes.cs.washington.edu/~tqchen/pdf/BoostedTree.pdf)\n",
    "\n",
    "\n",
    "We will now train models to predict `safe_loans` using the features above. In this section, we will experiment with training an ensemble of 5 trees. To cap the ensemble classifier at 5 trees, we call the function with **max_iterations=5** (recall that each iterations corresponds to adding a tree). We set `validation_set=None` to make sure everyone gets the same results."
   ]
  },
  {
   "cell_type": "code",
   "execution_count": 9,
   "metadata": {
    "collapsed": false
   },
   "outputs": [
    {
     "data": {
      "text/html": [
       "<pre>External memory mode: 1 batches</pre>"
      ],
      "text/plain": [
       "External memory mode: 1 batches"
      ]
     },
     "metadata": {},
     "output_type": "display_data"
    },
    {
     "data": {
      "text/html": [
       "<pre>Boosted trees classifier:</pre>"
      ],
      "text/plain": [
       "Boosted trees classifier:"
      ]
     },
     "metadata": {},
     "output_type": "display_data"
    },
    {
     "data": {
      "text/html": [
       "<pre>--------------------------------------------------------</pre>"
      ],
      "text/plain": [
       "--------------------------------------------------------"
      ]
     },
     "metadata": {},
     "output_type": "display_data"
    },
    {
     "data": {
      "text/html": [
       "<pre>Number of examples          : 37219</pre>"
      ],
      "text/plain": [
       "Number of examples          : 37219"
      ]
     },
     "metadata": {},
     "output_type": "display_data"
    },
    {
     "data": {
      "text/html": [
       "<pre>Number of classes           : 2</pre>"
      ],
      "text/plain": [
       "Number of classes           : 2"
      ]
     },
     "metadata": {},
     "output_type": "display_data"
    },
    {
     "data": {
      "text/html": [
       "<pre>Number of feature columns   : 24</pre>"
      ],
      "text/plain": [
       "Number of feature columns   : 24"
      ]
     },
     "metadata": {},
     "output_type": "display_data"
    },
    {
     "data": {
      "text/html": [
       "<pre>Number of unpacked features : 24</pre>"
      ],
      "text/plain": [
       "Number of unpacked features : 24"
      ]
     },
     "metadata": {},
     "output_type": "display_data"
    },
    {
     "data": {
      "text/html": [
       "<pre>Create disk column page 1/1</pre>"
      ],
      "text/plain": [
       "Create disk column page 1/1"
      ]
     },
     "metadata": {},
     "output_type": "display_data"
    },
    {
     "data": {
      "text/html": [
       "<pre>+-----------+--------------+-------------------+-------------------+</pre>"
      ],
      "text/plain": [
       "+-----------+--------------+-------------------+-------------------+"
      ]
     },
     "metadata": {},
     "output_type": "display_data"
    },
    {
     "data": {
      "text/html": [
       "<pre>| Iteration | Elapsed Time | Training-accuracy | Training-log_loss |</pre>"
      ],
      "text/plain": [
       "| Iteration | Elapsed Time | Training-accuracy | Training-log_loss |"
      ]
     },
     "metadata": {},
     "output_type": "display_data"
    },
    {
     "data": {
      "text/html": [
       "<pre>+-----------+--------------+-------------------+-------------------+</pre>"
      ],
      "text/plain": [
       "+-----------+--------------+-------------------+-------------------+"
      ]
     },
     "metadata": {},
     "output_type": "display_data"
    },
    {
     "data": {
      "text/html": [
       "<pre>| 1         | 0.926535     | 0.653994          | 0.658190          |</pre>"
      ],
      "text/plain": [
       "| 1         | 0.926535     | 0.653994          | 0.658190          |"
      ]
     },
     "metadata": {},
     "output_type": "display_data"
    },
    {
     "data": {
      "text/html": [
       "<pre>| 2         | 1.771242     | 0.658158          | 0.638312          |</pre>"
      ],
      "text/plain": [
       "| 2         | 1.771242     | 0.658158          | 0.638312          |"
      ]
     },
     "metadata": {},
     "output_type": "display_data"
    },
    {
     "data": {
      "text/html": [
       "<pre>| 3         | 2.553469     | 0.661759          | 0.625635          |</pre>"
      ],
      "text/plain": [
       "| 3         | 2.553469     | 0.661759          | 0.625635          |"
      ]
     },
     "metadata": {},
     "output_type": "display_data"
    },
    {
     "data": {
      "text/html": [
       "<pre>| 4         | 3.466433     | 0.664204          | 0.617110          |</pre>"
      ],
      "text/plain": [
       "| 4         | 3.466433     | 0.664204          | 0.617110          |"
      ]
     },
     "metadata": {},
     "output_type": "display_data"
    },
    {
     "data": {
      "text/html": [
       "<pre>| 5         | 4.371094     | 0.666407          | 0.610613          |</pre>"
      ],
      "text/plain": [
       "| 5         | 4.371094     | 0.666407          | 0.610613          |"
      ]
     },
     "metadata": {},
     "output_type": "display_data"
    },
    {
     "data": {
      "text/html": [
       "<pre>+-----------+--------------+-------------------+-------------------+</pre>"
      ],
      "text/plain": [
       "+-----------+--------------+-------------------+-------------------+"
      ]
     },
     "metadata": {},
     "output_type": "display_data"
    }
   ],
   "source": [
    "model_5 = graphlab.boosted_trees_classifier.create(train_data, validation_set=None, \n",
    "        target = target, features = features, max_iterations = 5)"
   ]
  },
  {
   "cell_type": "markdown",
   "metadata": {},
   "source": [
    "# Making predictions\n",
    "\n",
    "Just like we did in previous sections, let us consider a few positive and negative examples **from the validation set**. We will do the following:\n",
    "* Predict whether or not a loan is likely to default.\n",
    "* Predict the probability with which the loan is likely to default."
   ]
  },
  {
   "cell_type": "code",
   "execution_count": 10,
   "metadata": {
    "collapsed": false
   },
   "outputs": [
    {
     "data": {
      "text/html": [
       "<div style=\"max-height:1000px;max-width:1500px;overflow:auto;\"><table frame=\"box\" rules=\"cols\">\n",
       "    <tr>\n",
       "        <th style=\"padding-left: 1em; padding-right: 1em; text-align: center\">safe_loans</th>\n",
       "        <th style=\"padding-left: 1em; padding-right: 1em; text-align: center\">grade</th>\n",
       "        <th style=\"padding-left: 1em; padding-right: 1em; text-align: center\">sub_grade_num</th>\n",
       "        <th style=\"padding-left: 1em; padding-right: 1em; text-align: center\">short_emp</th>\n",
       "        <th style=\"padding-left: 1em; padding-right: 1em; text-align: center\">emp_length_num</th>\n",
       "        <th style=\"padding-left: 1em; padding-right: 1em; text-align: center\">home_ownership</th>\n",
       "        <th style=\"padding-left: 1em; padding-right: 1em; text-align: center\">dti</th>\n",
       "        <th style=\"padding-left: 1em; padding-right: 1em; text-align: center\">purpose</th>\n",
       "    </tr>\n",
       "    <tr>\n",
       "        <td style=\"padding-left: 1em; padding-right: 1em; text-align: center; vertical-align: top\">1</td>\n",
       "        <td style=\"padding-left: 1em; padding-right: 1em; text-align: center; vertical-align: top\">B</td>\n",
       "        <td style=\"padding-left: 1em; padding-right: 1em; text-align: center; vertical-align: top\">0.2</td>\n",
       "        <td style=\"padding-left: 1em; padding-right: 1em; text-align: center; vertical-align: top\">0</td>\n",
       "        <td style=\"padding-left: 1em; padding-right: 1em; text-align: center; vertical-align: top\">3</td>\n",
       "        <td style=\"padding-left: 1em; padding-right: 1em; text-align: center; vertical-align: top\">MORTGAGE</td>\n",
       "        <td style=\"padding-left: 1em; padding-right: 1em; text-align: center; vertical-align: top\">29.44</td>\n",
       "        <td style=\"padding-left: 1em; padding-right: 1em; text-align: center; vertical-align: top\">credit_card</td>\n",
       "    </tr>\n",
       "    <tr>\n",
       "        <td style=\"padding-left: 1em; padding-right: 1em; text-align: center; vertical-align: top\">1</td>\n",
       "        <td style=\"padding-left: 1em; padding-right: 1em; text-align: center; vertical-align: top\">B</td>\n",
       "        <td style=\"padding-left: 1em; padding-right: 1em; text-align: center; vertical-align: top\">0.6</td>\n",
       "        <td style=\"padding-left: 1em; padding-right: 1em; text-align: center; vertical-align: top\">1</td>\n",
       "        <td style=\"padding-left: 1em; padding-right: 1em; text-align: center; vertical-align: top\">1</td>\n",
       "        <td style=\"padding-left: 1em; padding-right: 1em; text-align: center; vertical-align: top\">RENT</td>\n",
       "        <td style=\"padding-left: 1em; padding-right: 1em; text-align: center; vertical-align: top\">12.19</td>\n",
       "        <td style=\"padding-left: 1em; padding-right: 1em; text-align: center; vertical-align: top\">credit_card</td>\n",
       "    </tr>\n",
       "    <tr>\n",
       "        <td style=\"padding-left: 1em; padding-right: 1em; text-align: center; vertical-align: top\">-1</td>\n",
       "        <td style=\"padding-left: 1em; padding-right: 1em; text-align: center; vertical-align: top\">D</td>\n",
       "        <td style=\"padding-left: 1em; padding-right: 1em; text-align: center; vertical-align: top\">0.4</td>\n",
       "        <td style=\"padding-left: 1em; padding-right: 1em; text-align: center; vertical-align: top\">0</td>\n",
       "        <td style=\"padding-left: 1em; padding-right: 1em; text-align: center; vertical-align: top\">3</td>\n",
       "        <td style=\"padding-left: 1em; padding-right: 1em; text-align: center; vertical-align: top\">RENT</td>\n",
       "        <td style=\"padding-left: 1em; padding-right: 1em; text-align: center; vertical-align: top\">13.97</td>\n",
       "        <td style=\"padding-left: 1em; padding-right: 1em; text-align: center; vertical-align: top\">other</td>\n",
       "    </tr>\n",
       "    <tr>\n",
       "        <td style=\"padding-left: 1em; padding-right: 1em; text-align: center; vertical-align: top\">-1</td>\n",
       "        <td style=\"padding-left: 1em; padding-right: 1em; text-align: center; vertical-align: top\">A</td>\n",
       "        <td style=\"padding-left: 1em; padding-right: 1em; text-align: center; vertical-align: top\">1.0</td>\n",
       "        <td style=\"padding-left: 1em; padding-right: 1em; text-align: center; vertical-align: top\">0</td>\n",
       "        <td style=\"padding-left: 1em; padding-right: 1em; text-align: center; vertical-align: top\">11</td>\n",
       "        <td style=\"padding-left: 1em; padding-right: 1em; text-align: center; vertical-align: top\">MORTGAGE</td>\n",
       "        <td style=\"padding-left: 1em; padding-right: 1em; text-align: center; vertical-align: top\">16.33</td>\n",
       "        <td style=\"padding-left: 1em; padding-right: 1em; text-align: center; vertical-align: top\">debt_consolidation</td>\n",
       "    </tr>\n",
       "</table>\n",
       "<table frame=\"box\" rules=\"cols\">\n",
       "    <tr>\n",
       "        <th style=\"padding-left: 1em; padding-right: 1em; text-align: center\">payment_inc_ratio</th>\n",
       "        <th style=\"padding-left: 1em; padding-right: 1em; text-align: center\">delinq_2yrs</th>\n",
       "        <th style=\"padding-left: 1em; padding-right: 1em; text-align: center\">delinq_2yrs_zero</th>\n",
       "        <th style=\"padding-left: 1em; padding-right: 1em; text-align: center\">inq_last_6mths</th>\n",
       "        <th style=\"padding-left: 1em; padding-right: 1em; text-align: center\">last_delinq_none</th>\n",
       "        <th style=\"padding-left: 1em; padding-right: 1em; text-align: center\">last_major_derog_none</th>\n",
       "        <th style=\"padding-left: 1em; padding-right: 1em; text-align: center\">open_acc</th>\n",
       "    </tr>\n",
       "    <tr>\n",
       "        <td style=\"padding-left: 1em; padding-right: 1em; text-align: center; vertical-align: top\">6.30496</td>\n",
       "        <td style=\"padding-left: 1em; padding-right: 1em; text-align: center; vertical-align: top\">0</td>\n",
       "        <td style=\"padding-left: 1em; padding-right: 1em; text-align: center; vertical-align: top\">1</td>\n",
       "        <td style=\"padding-left: 1em; padding-right: 1em; text-align: center; vertical-align: top\">0</td>\n",
       "        <td style=\"padding-left: 1em; padding-right: 1em; text-align: center; vertical-align: top\">1</td>\n",
       "        <td style=\"padding-left: 1em; padding-right: 1em; text-align: center; vertical-align: top\">1</td>\n",
       "        <td style=\"padding-left: 1em; padding-right: 1em; text-align: center; vertical-align: top\">8</td>\n",
       "    </tr>\n",
       "    <tr>\n",
       "        <td style=\"padding-left: 1em; padding-right: 1em; text-align: center; vertical-align: top\">13.4952</td>\n",
       "        <td style=\"padding-left: 1em; padding-right: 1em; text-align: center; vertical-align: top\">0</td>\n",
       "        <td style=\"padding-left: 1em; padding-right: 1em; text-align: center; vertical-align: top\">1</td>\n",
       "        <td style=\"padding-left: 1em; padding-right: 1em; text-align: center; vertical-align: top\">0</td>\n",
       "        <td style=\"padding-left: 1em; padding-right: 1em; text-align: center; vertical-align: top\">1</td>\n",
       "        <td style=\"padding-left: 1em; padding-right: 1em; text-align: center; vertical-align: top\">1</td>\n",
       "        <td style=\"padding-left: 1em; padding-right: 1em; text-align: center; vertical-align: top\">8</td>\n",
       "    </tr>\n",
       "    <tr>\n",
       "        <td style=\"padding-left: 1em; padding-right: 1em; text-align: center; vertical-align: top\">2.96736</td>\n",
       "        <td style=\"padding-left: 1em; padding-right: 1em; text-align: center; vertical-align: top\">3</td>\n",
       "        <td style=\"padding-left: 1em; padding-right: 1em; text-align: center; vertical-align: top\">0</td>\n",
       "        <td style=\"padding-left: 1em; padding-right: 1em; text-align: center; vertical-align: top\">0</td>\n",
       "        <td style=\"padding-left: 1em; padding-right: 1em; text-align: center; vertical-align: top\">0</td>\n",
       "        <td style=\"padding-left: 1em; padding-right: 1em; text-align: center; vertical-align: top\">1</td>\n",
       "        <td style=\"padding-left: 1em; padding-right: 1em; text-align: center; vertical-align: top\">14</td>\n",
       "    </tr>\n",
       "    <tr>\n",
       "        <td style=\"padding-left: 1em; padding-right: 1em; text-align: center; vertical-align: top\">1.90524</td>\n",
       "        <td style=\"padding-left: 1em; padding-right: 1em; text-align: center; vertical-align: top\">0</td>\n",
       "        <td style=\"padding-left: 1em; padding-right: 1em; text-align: center; vertical-align: top\">1</td>\n",
       "        <td style=\"padding-left: 1em; padding-right: 1em; text-align: center; vertical-align: top\">0</td>\n",
       "        <td style=\"padding-left: 1em; padding-right: 1em; text-align: center; vertical-align: top\">1</td>\n",
       "        <td style=\"padding-left: 1em; padding-right: 1em; text-align: center; vertical-align: top\">1</td>\n",
       "        <td style=\"padding-left: 1em; padding-right: 1em; text-align: center; vertical-align: top\">17</td>\n",
       "    </tr>\n",
       "</table>\n",
       "<table frame=\"box\" rules=\"cols\">\n",
       "    <tr>\n",
       "        <th style=\"padding-left: 1em; padding-right: 1em; text-align: center\">pub_rec</th>\n",
       "        <th style=\"padding-left: 1em; padding-right: 1em; text-align: center\">pub_rec_zero</th>\n",
       "        <th style=\"padding-left: 1em; padding-right: 1em; text-align: center\">revol_util</th>\n",
       "        <th style=\"padding-left: 1em; padding-right: 1em; text-align: center\">total_rec_late_fee</th>\n",
       "        <th style=\"padding-left: 1em; padding-right: 1em; text-align: center\">int_rate</th>\n",
       "        <th style=\"padding-left: 1em; padding-right: 1em; text-align: center\">total_rec_int</th>\n",
       "        <th style=\"padding-left: 1em; padding-right: 1em; text-align: center\">annual_inc</th>\n",
       "        <th style=\"padding-left: 1em; padding-right: 1em; text-align: center\">funded_amnt</th>\n",
       "        <th style=\"padding-left: 1em; padding-right: 1em; text-align: center\">funded_amnt_inv</th>\n",
       "    </tr>\n",
       "    <tr>\n",
       "        <td style=\"padding-left: 1em; padding-right: 1em; text-align: center; vertical-align: top\">0</td>\n",
       "        <td style=\"padding-left: 1em; padding-right: 1em; text-align: center; vertical-align: top\">1</td>\n",
       "        <td style=\"padding-left: 1em; padding-right: 1em; text-align: center; vertical-align: top\">93.9</td>\n",
       "        <td style=\"padding-left: 1em; padding-right: 1em; text-align: center; vertical-align: top\">0.0</td>\n",
       "        <td style=\"padding-left: 1em; padding-right: 1em; text-align: center; vertical-align: top\">9.91</td>\n",
       "        <td style=\"padding-left: 1em; padding-right: 1em; text-align: center; vertical-align: top\">823.48</td>\n",
       "        <td style=\"padding-left: 1em; padding-right: 1em; text-align: center; vertical-align: top\">92000</td>\n",
       "        <td style=\"padding-left: 1em; padding-right: 1em; text-align: center; vertical-align: top\">15000</td>\n",
       "        <td style=\"padding-left: 1em; padding-right: 1em; text-align: center; vertical-align: top\">15000</td>\n",
       "    </tr>\n",
       "    <tr>\n",
       "        <td style=\"padding-left: 1em; padding-right: 1em; text-align: center; vertical-align: top\">0</td>\n",
       "        <td style=\"padding-left: 1em; padding-right: 1em; text-align: center; vertical-align: top\">1</td>\n",
       "        <td style=\"padding-left: 1em; padding-right: 1em; text-align: center; vertical-align: top\">59.1</td>\n",
       "        <td style=\"padding-left: 1em; padding-right: 1em; text-align: center; vertical-align: top\">0.0</td>\n",
       "        <td style=\"padding-left: 1em; padding-right: 1em; text-align: center; vertical-align: top\">11.71</td>\n",
       "        <td style=\"padding-left: 1em; padding-right: 1em; text-align: center; vertical-align: top\">1622.21</td>\n",
       "        <td style=\"padding-left: 1em; padding-right: 1em; text-align: center; vertical-align: top\">25000</td>\n",
       "        <td style=\"padding-left: 1em; padding-right: 1em; text-align: center; vertical-align: top\">8500</td>\n",
       "        <td style=\"padding-left: 1em; padding-right: 1em; text-align: center; vertical-align: top\">8500</td>\n",
       "    </tr>\n",
       "    <tr>\n",
       "        <td style=\"padding-left: 1em; padding-right: 1em; text-align: center; vertical-align: top\">0</td>\n",
       "        <td style=\"padding-left: 1em; padding-right: 1em; text-align: center; vertical-align: top\">1</td>\n",
       "        <td style=\"padding-left: 1em; padding-right: 1em; text-align: center; vertical-align: top\">59.5</td>\n",
       "        <td style=\"padding-left: 1em; padding-right: 1em; text-align: center; vertical-align: top\">0.0</td>\n",
       "        <td style=\"padding-left: 1em; padding-right: 1em; text-align: center; vertical-align: top\">16.77</td>\n",
       "        <td style=\"padding-left: 1em; padding-right: 1em; text-align: center; vertical-align: top\">719.11</td>\n",
       "        <td style=\"padding-left: 1em; padding-right: 1em; text-align: center; vertical-align: top\">50004</td>\n",
       "        <td style=\"padding-left: 1em; padding-right: 1em; text-align: center; vertical-align: top\">5000</td>\n",
       "        <td style=\"padding-left: 1em; padding-right: 1em; text-align: center; vertical-align: top\">5000</td>\n",
       "    </tr>\n",
       "    <tr>\n",
       "        <td style=\"padding-left: 1em; padding-right: 1em; text-align: center; vertical-align: top\">0</td>\n",
       "        <td style=\"padding-left: 1em; padding-right: 1em; text-align: center; vertical-align: top\">1</td>\n",
       "        <td style=\"padding-left: 1em; padding-right: 1em; text-align: center; vertical-align: top\">62.1</td>\n",
       "        <td style=\"padding-left: 1em; padding-right: 1em; text-align: center; vertical-align: top\">0.0</td>\n",
       "        <td style=\"padding-left: 1em; padding-right: 1em; text-align: center; vertical-align: top\">8.9</td>\n",
       "        <td style=\"padding-left: 1em; padding-right: 1em; text-align: center; vertical-align: top\">696.99</td>\n",
       "        <td style=\"padding-left: 1em; padding-right: 1em; text-align: center; vertical-align: top\">100000</td>\n",
       "        <td style=\"padding-left: 1em; padding-right: 1em; text-align: center; vertical-align: top\">5000</td>\n",
       "        <td style=\"padding-left: 1em; padding-right: 1em; text-align: center; vertical-align: top\">5000</td>\n",
       "    </tr>\n",
       "</table>\n",
       "<table frame=\"box\" rules=\"cols\">\n",
       "    <tr>\n",
       "        <th style=\"padding-left: 1em; padding-right: 1em; text-align: center\">installment</th>\n",
       "    </tr>\n",
       "    <tr>\n",
       "        <td style=\"padding-left: 1em; padding-right: 1em; text-align: center; vertical-align: top\">483.38</td>\n",
       "    </tr>\n",
       "    <tr>\n",
       "        <td style=\"padding-left: 1em; padding-right: 1em; text-align: center; vertical-align: top\">281.15</td>\n",
       "    </tr>\n",
       "    <tr>\n",
       "        <td style=\"padding-left: 1em; padding-right: 1em; text-align: center; vertical-align: top\">123.65</td>\n",
       "    </tr>\n",
       "    <tr>\n",
       "        <td style=\"padding-left: 1em; padding-right: 1em; text-align: center; vertical-align: top\">158.77</td>\n",
       "    </tr>\n",
       "</table>\n",
       "[4 rows x 25 columns]<br/>\n",
       "</div>"
      ],
      "text/plain": [
       "Columns:\n",
       "\tsafe_loans\tint\n",
       "\tgrade\tstr\n",
       "\tsub_grade_num\tfloat\n",
       "\tshort_emp\tint\n",
       "\temp_length_num\tint\n",
       "\thome_ownership\tstr\n",
       "\tdti\tfloat\n",
       "\tpurpose\tstr\n",
       "\tpayment_inc_ratio\tfloat\n",
       "\tdelinq_2yrs\tint\n",
       "\tdelinq_2yrs_zero\tint\n",
       "\tinq_last_6mths\tint\n",
       "\tlast_delinq_none\tint\n",
       "\tlast_major_derog_none\tint\n",
       "\topen_acc\tint\n",
       "\tpub_rec\tint\n",
       "\tpub_rec_zero\tint\n",
       "\trevol_util\tfloat\n",
       "\ttotal_rec_late_fee\tfloat\n",
       "\tint_rate\tfloat\n",
       "\ttotal_rec_int\tfloat\n",
       "\tannual_inc\tint\n",
       "\tfunded_amnt\tint\n",
       "\tfunded_amnt_inv\tint\n",
       "\tinstallment\tfloat\n",
       "\n",
       "Rows: 4\n",
       "\n",
       "Data:\n",
       "+------------+-------+---------------+-----------+----------------+----------------+\n",
       "| safe_loans | grade | sub_grade_num | short_emp | emp_length_num | home_ownership |\n",
       "+------------+-------+---------------+-----------+----------------+----------------+\n",
       "|     1      |   B   |      0.2      |     0     |       3        |    MORTGAGE    |\n",
       "|     1      |   B   |      0.6      |     1     |       1        |      RENT      |\n",
       "|     -1     |   D   |      0.4      |     0     |       3        |      RENT      |\n",
       "|     -1     |   A   |      1.0      |     0     |       11       |    MORTGAGE    |\n",
       "+------------+-------+---------------+-----------+----------------+----------------+\n",
       "+-------+--------------------+-------------------+-------------+------------------+\n",
       "|  dti  |      purpose       | payment_inc_ratio | delinq_2yrs | delinq_2yrs_zero |\n",
       "+-------+--------------------+-------------------+-------------+------------------+\n",
       "| 29.44 |    credit_card     |      6.30496      |      0      |        1         |\n",
       "| 12.19 |    credit_card     |      13.4952      |      0      |        1         |\n",
       "| 13.97 |       other        |      2.96736      |      3      |        0         |\n",
       "| 16.33 | debt_consolidation |      1.90524      |      0      |        1         |\n",
       "+-------+--------------------+-------------------+-------------+------------------+\n",
       "+----------------+------------------+-----------------------+----------+---------+\n",
       "| inq_last_6mths | last_delinq_none | last_major_derog_none | open_acc | pub_rec |\n",
       "+----------------+------------------+-----------------------+----------+---------+\n",
       "|       0        |        1         |           1           |    8     |    0    |\n",
       "|       0        |        1         |           1           |    8     |    0    |\n",
       "|       0        |        0         |           1           |    14    |    0    |\n",
       "|       0        |        1         |           1           |    17    |    0    |\n",
       "+----------------+------------------+-----------------------+----------+---------+\n",
       "+--------------+------------+--------------------+----------+-----+\n",
       "| pub_rec_zero | revol_util | total_rec_late_fee | int_rate | ... |\n",
       "+--------------+------------+--------------------+----------+-----+\n",
       "|      1       |    93.9    |        0.0         |   9.91   | ... |\n",
       "|      1       |    59.1    |        0.0         |  11.71   | ... |\n",
       "|      1       |    59.5    |        0.0         |  16.77   | ... |\n",
       "|      1       |    62.1    |        0.0         |   8.9    | ... |\n",
       "+--------------+------------+--------------------+----------+-----+\n",
       "[4 rows x 25 columns]"
      ]
     },
     "execution_count": 10,
     "metadata": {},
     "output_type": "execute_result"
    }
   ],
   "source": [
    "# Select all positive and negative examples.\n",
    "validation_safe_loans = validation_data[validation_data[target] == 1]\n",
    "validation_risky_loans = validation_data[validation_data[target] == -1]\n",
    "\n",
    "# Select 2 examples from the validation set for positive & negative loans\n",
    "sample_validation_data_risky = validation_risky_loans[0:2]\n",
    "sample_validation_data_safe = validation_safe_loans[0:2]\n",
    "\n",
    "# Append the 4 examples into a single dataset\n",
    "sample_validation_data = sample_validation_data_safe.append(sample_validation_data_risky)\n",
    "sample_validation_data"
   ]
  },
  {
   "cell_type": "markdown",
   "metadata": {},
   "source": [
    "### Predicting on sample validation data\n",
    "\n",
    "For each row in the **sample_validation_data**, write code to make **model_5** predict whether or not the loan is classified as a **safe loan**.\n",
    "\n",
    "**Hint:** Use the `predict` method in `model_5` for this."
   ]
  },
  {
   "cell_type": "code",
   "execution_count": 11,
   "metadata": {
    "collapsed": false
   },
   "outputs": [
    {
     "data": {
      "text/html": [
       "<pre>External memory mode: 1 batches</pre>"
      ],
      "text/plain": [
       "External memory mode: 1 batches"
      ]
     },
     "metadata": {},
     "output_type": "display_data"
    },
    {
     "data": {
      "text/plain": [
       "dtype: int\n",
       "Rows: 4\n",
       "[1, 1, -1, 1]"
      ]
     },
     "execution_count": 11,
     "metadata": {},
     "output_type": "execute_result"
    }
   ],
   "source": [
    "model_5.predict(sample_validation_data)"
   ]
  },
  {
   "cell_type": "code",
   "execution_count": 12,
   "metadata": {
    "collapsed": false
   },
   "outputs": [
    {
     "data": {
      "text/html": [
       "<pre>External memory mode: 1 batches</pre>"
      ],
      "text/plain": [
       "External memory mode: 1 batches"
      ]
     },
     "metadata": {},
     "output_type": "display_data"
    },
    {
     "data": {
      "text/plain": [
       "0.75"
      ]
     },
     "execution_count": 12,
     "metadata": {},
     "output_type": "execute_result"
    }
   ],
   "source": [
    "len(sample_validation_data[sample_validation_data['safe_loans'] == model_5.predict(sample_validation_data)])/float(len(sample_validation_data))"
   ]
  },
  {
   "cell_type": "markdown",
   "metadata": {},
   "source": [
    "**Quiz question:** What percentage of the predictions on `sample_validation_data` did `model_5` get correct?\n",
    "\n",
    "### Prediction probabilities\n",
    "\n",
    "For each row in the **sample_validation_data**, what is the probability (according **model_5**) of a loan being classified as **safe**? \n",
    "\n",
    "**Hint:** Set `output_type='probability'` to make **probability** predictions using `model_5` on `sample_validation_data`:"
   ]
  },
  {
   "cell_type": "code",
   "execution_count": 13,
   "metadata": {
    "collapsed": false
   },
   "outputs": [
    {
     "data": {
      "text/html": [
       "<pre>External memory mode: 1 batches</pre>"
      ],
      "text/plain": [
       "External memory mode: 1 batches"
      ]
     },
     "metadata": {},
     "output_type": "display_data"
    },
    {
     "data": {
      "text/plain": [
       "dtype: float\n",
       "Rows: 4\n",
       "[0.6244848966598511, 0.5474180579185486, 0.43206697702407837, 0.6750087738037109]"
      ]
     },
     "execution_count": 13,
     "metadata": {},
     "output_type": "execute_result"
    }
   ],
   "source": [
    "model_5.predict(sample_validation_data, output_type='probability')"
   ]
  },
  {
   "cell_type": "markdown",
   "metadata": {},
   "source": [
    "**Quiz Question:** According to **model_5**, which loan is the least likely to be a safe loan?\n",
    "\n",
    "**Checkpoint:** Can you verify that for all the predictions with `probability >= 0.5`, the model predicted the label **+1**?"
   ]
  },
  {
   "cell_type": "markdown",
   "metadata": {
    "collapsed": true
   },
   "source": [
    "## Evaluating the model on the validation data"
   ]
  },
  {
   "cell_type": "markdown",
   "metadata": {},
   "source": [
    "Recall that the accuracy is defined as follows:\n",
    "$$\n",
    "\\mbox{accuracy} = \\frac{\\mbox{# correctly classified examples}}{\\mbox{# total examples}}\n",
    "$$\n",
    "\n",
    "Evaluate the accuracy of the **model_5** on the **validation_data**.\n",
    "\n",
    "**Hint**: Use the `.evaluate()` method in the model."
   ]
  },
  {
   "cell_type": "code",
   "execution_count": 14,
   "metadata": {
    "collapsed": false
   },
   "outputs": [
    {
     "data": {
      "text/html": [
       "<pre>External memory mode: 1 batches</pre>"
      ],
      "text/plain": [
       "External memory mode: 1 batches"
      ]
     },
     "metadata": {},
     "output_type": "display_data"
    },
    {
     "data": {
      "text/plain": [
       "{'accuracy': 0.6576906505816459,\n",
       " 'auc': 0.71818774764165,\n",
       " 'confusion_matrix': Columns:\n",
       " \ttarget_label\tint\n",
       " \tpredicted_label\tint\n",
       " \tcount\tint\n",
       " \n",
       " Rows: 4\n",
       " \n",
       " Data:\n",
       " +--------------+-----------------+-------+\n",
       " | target_label | predicted_label | count |\n",
       " +--------------+-----------------+-------+\n",
       " |      -1      |        1        |  1540 |\n",
       " |      1       |        -1       |  1638 |\n",
       " |      -1      |        -1       |  3132 |\n",
       " |      1       |        1        |  2974 |\n",
       " +--------------+-----------------+-------+\n",
       " [4 rows x 3 columns],\n",
       " 'f1_score': 0.6517641902257286,\n",
       " 'log_loss': 0.6206073222987161,\n",
       " 'precision': 0.6588391670358883,\n",
       " 'recall': 0.6448395490026019,\n",
       " 'roc_curve': Columns:\n",
       " \tthreshold\tfloat\n",
       " \tfpr\tfloat\n",
       " \ttpr\tfloat\n",
       " \tp\tint\n",
       " \tn\tint\n",
       " \n",
       " Rows: 100001\n",
       " \n",
       " Data:\n",
       " +-----------+-----+-----+------+------+\n",
       " | threshold | fpr | tpr |  p   |  n   |\n",
       " +-----------+-----+-----+------+------+\n",
       " |    0.0    | 1.0 | 1.0 | 4612 | 4672 |\n",
       " |   1e-05   | 1.0 | 1.0 | 4612 | 4672 |\n",
       " |   2e-05   | 1.0 | 1.0 | 4612 | 4672 |\n",
       " |   3e-05   | 1.0 | 1.0 | 4612 | 4672 |\n",
       " |   4e-05   | 1.0 | 1.0 | 4612 | 4672 |\n",
       " |   5e-05   | 1.0 | 1.0 | 4612 | 4672 |\n",
       " |   6e-05   | 1.0 | 1.0 | 4612 | 4672 |\n",
       " |   7e-05   | 1.0 | 1.0 | 4612 | 4672 |\n",
       " |   8e-05   | 1.0 | 1.0 | 4612 | 4672 |\n",
       " |   9e-05   | 1.0 | 1.0 | 4612 | 4672 |\n",
       " +-----------+-----+-----+------+------+\n",
       " [100001 rows x 5 columns]\n",
       " Note: Only the head of the SFrame is printed.\n",
       " You can use print_rows(num_rows=m, num_columns=n) to print more rows and columns.}"
      ]
     },
     "execution_count": 14,
     "metadata": {},
     "output_type": "execute_result"
    }
   ],
   "source": [
    "model_5.evaluate(validation_data)"
   ]
  },
  {
   "cell_type": "markdown",
   "metadata": {},
   "source": [
    "Calculate the number of **false positives** made by the model."
   ]
  },
  {
   "cell_type": "code",
   "execution_count": 15,
   "metadata": {
    "collapsed": false
   },
   "outputs": [
    {
     "data": {
      "application/javascript": [
       "$(\"head\").append($(\"<link/>\").attr({\n",
       "  rel:  \"stylesheet\",\n",
       "  type: \"text/css\",\n",
       "  href: \"//cdnjs.cloudflare.com/ajax/libs/font-awesome/4.1.0/css/font-awesome.min.css\"\n",
       "}));\n",
       "$(\"head\").append($(\"<link/>\").attr({\n",
       "  rel:  \"stylesheet\",\n",
       "  type: \"text/css\",\n",
       "  href: \"https://static.turi.com/products/graphlab-create/2.1/canvas/css/canvas.css\"\n",
       "}));\n",
       "\n",
       "            (function(){\n",
       "\n",
       "                var e = null;\n",
       "                if (typeof element == 'undefined') {\n",
       "                    var scripts = document.getElementsByTagName('script');\n",
       "                    var thisScriptTag = scripts[scripts.length-1];\n",
       "                    var parentDiv = thisScriptTag.parentNode;\n",
       "                    e = document.createElement('div');\n",
       "                    parentDiv.appendChild(e);\n",
       "                } else {\n",
       "                    e = element[0];\n",
       "                }\n",
       "\n",
       "                if (typeof requirejs !== 'undefined') {\n",
       "                    // disable load timeout; ipython_app.js is large and can take a while to load.\n",
       "                    requirejs.config({waitSeconds: 0});\n",
       "                }\n",
       "\n",
       "                require(['https://static.turi.com/products/graphlab-create/2.1/canvas/js/ipython_app.js'], function(IPythonApp){\n",
       "                    var app = new IPythonApp();\n",
       "                    app.attachView('model','Evaluation', {\"comparison\": null, \"selected_variable\": {\"comparison\": null, \"name\": [\"model_5\"], \"view_file\": \"model\", \"view_component\": \"Evaluation\", \"view_params\": {\"model_type\": \"regression\", \"view\": \"Evaluation\"}, \"view_components\": [\"Summary\", \"Evaluation\", \"Comparison\"], \"model_type\": \"regression\", \"attributes\": {\"section_titles\": [\"Schema\", \"Settings\"], \"sections\": [[[\"Number of examples\", 37219], [\"Number of feature columns\", 24], [\"Number of unpacked features\", 24], [\"Number of classes\", 2]], [[\"Number of trees\", 5], [\"Max tree depth\", 6], [\"Training time (sec)\", 4.3714], [\"Training accuracy\", 0.6664], [\"Validation accuracy\", null], [\"Training log_loss\", 0.6106], [\"Validation log_loss\", null]]]}, \"evaluations\": [[\"validation_data\", {\"f1_score\": 0.6517641902257286, \"auc\": 0.71818774764165, \"recall\": 0.6448395490026019, \"precision\": 0.6588391670358883, \"log_loss\": 0.6206073222987161, \"roc_curve\": [{\"threshold\": 0.0, \"p\": 4612, \"fpr\": 1.0, \"tpr\": 1.0, \"n\": 4672}, {\"threshold\": 0.001, \"p\": 4612, \"fpr\": 1.0, \"tpr\": 1.0, \"n\": 4672}, {\"threshold\": 0.002, \"p\": 4612, \"fpr\": 1.0, \"tpr\": 1.0, \"n\": 4672}, {\"threshold\": 0.003, \"p\": 4612, \"fpr\": 1.0, \"tpr\": 1.0, \"n\": 4672}, {\"threshold\": 0.004, \"p\": 4612, \"fpr\": 1.0, \"tpr\": 1.0, \"n\": 4672}, {\"threshold\": 0.005, \"p\": 4612, \"fpr\": 1.0, \"tpr\": 1.0, \"n\": 4672}, {\"threshold\": 0.006, \"p\": 4612, \"fpr\": 1.0, \"tpr\": 1.0, \"n\": 4672}, {\"threshold\": 0.007, \"p\": 4612, \"fpr\": 1.0, \"tpr\": 1.0, \"n\": 4672}, {\"threshold\": 0.008, \"p\": 4612, \"fpr\": 1.0, \"tpr\": 1.0, \"n\": 4672}, {\"threshold\": 0.009, \"p\": 4612, \"fpr\": 1.0, \"tpr\": 1.0, \"n\": 4672}, {\"threshold\": 0.01, \"p\": 4612, \"fpr\": 1.0, \"tpr\": 1.0, \"n\": 4672}, {\"threshold\": 0.011, \"p\": 4612, \"fpr\": 1.0, \"tpr\": 1.0, \"n\": 4672}, {\"threshold\": 0.012, \"p\": 4612, \"fpr\": 1.0, \"tpr\": 1.0, \"n\": 4672}, {\"threshold\": 0.013, \"p\": 4612, \"fpr\": 1.0, \"tpr\": 1.0, \"n\": 4672}, {\"threshold\": 0.014, \"p\": 4612, \"fpr\": 1.0, \"tpr\": 1.0, \"n\": 4672}, {\"threshold\": 0.015, \"p\": 4612, \"fpr\": 1.0, \"tpr\": 1.0, \"n\": 4672}, {\"threshold\": 0.016, \"p\": 4612, \"fpr\": 1.0, \"tpr\": 1.0, \"n\": 4672}, {\"threshold\": 0.017, \"p\": 4612, \"fpr\": 1.0, \"tpr\": 1.0, \"n\": 4672}, {\"threshold\": 0.018, \"p\": 4612, \"fpr\": 1.0, \"tpr\": 1.0, \"n\": 4672}, {\"threshold\": 0.019, \"p\": 4612, \"fpr\": 1.0, \"tpr\": 1.0, \"n\": 4672}, {\"threshold\": 0.02, \"p\": 4612, \"fpr\": 1.0, \"tpr\": 1.0, \"n\": 4672}, {\"threshold\": 0.021, \"p\": 4612, \"fpr\": 1.0, \"tpr\": 1.0, \"n\": 4672}, {\"threshold\": 0.022, \"p\": 4612, \"fpr\": 1.0, \"tpr\": 1.0, \"n\": 4672}, {\"threshold\": 0.023, \"p\": 4612, \"fpr\": 1.0, \"tpr\": 1.0, \"n\": 4672}, {\"threshold\": 0.024, \"p\": 4612, \"fpr\": 1.0, \"tpr\": 1.0, \"n\": 4672}, {\"threshold\": 0.025, \"p\": 4612, \"fpr\": 1.0, \"tpr\": 1.0, \"n\": 4672}, {\"threshold\": 0.026, \"p\": 4612, \"fpr\": 1.0, \"tpr\": 1.0, \"n\": 4672}, {\"threshold\": 0.027, \"p\": 4612, \"fpr\": 1.0, \"tpr\": 1.0, \"n\": 4672}, {\"threshold\": 0.028, \"p\": 4612, \"fpr\": 1.0, \"tpr\": 1.0, \"n\": 4672}, {\"threshold\": 0.029, \"p\": 4612, \"fpr\": 1.0, \"tpr\": 1.0, \"n\": 4672}, {\"threshold\": 0.03, \"p\": 4612, \"fpr\": 1.0, \"tpr\": 1.0, \"n\": 4672}, {\"threshold\": 0.031, \"p\": 4612, \"fpr\": 1.0, \"tpr\": 1.0, \"n\": 4672}, {\"threshold\": 0.032, \"p\": 4612, \"fpr\": 1.0, \"tpr\": 1.0, \"n\": 4672}, {\"threshold\": 0.033, \"p\": 4612, \"fpr\": 1.0, \"tpr\": 1.0, \"n\": 4672}, {\"threshold\": 0.034, \"p\": 4612, \"fpr\": 1.0, \"tpr\": 1.0, \"n\": 4672}, {\"threshold\": 0.035, \"p\": 4612, \"fpr\": 1.0, \"tpr\": 1.0, \"n\": 4672}, {\"threshold\": 0.036, \"p\": 4612, \"fpr\": 1.0, \"tpr\": 1.0, \"n\": 4672}, {\"threshold\": 0.037, \"p\": 4612, \"fpr\": 1.0, \"tpr\": 1.0, \"n\": 4672}, {\"threshold\": 0.038, \"p\": 4612, \"fpr\": 1.0, \"tpr\": 1.0, \"n\": 4672}, {\"threshold\": 0.039, \"p\": 4612, \"fpr\": 1.0, \"tpr\": 1.0, \"n\": 4672}, {\"threshold\": 0.04, \"p\": 4612, \"fpr\": 1.0, \"tpr\": 1.0, \"n\": 4672}, {\"threshold\": 0.041, \"p\": 4612, \"fpr\": 1.0, \"tpr\": 1.0, \"n\": 4672}, {\"threshold\": 0.042, \"p\": 4612, \"fpr\": 1.0, \"tpr\": 1.0, \"n\": 4672}, {\"threshold\": 0.043, \"p\": 4612, \"fpr\": 1.0, \"tpr\": 1.0, \"n\": 4672}, {\"threshold\": 0.044, \"p\": 4612, \"fpr\": 1.0, \"tpr\": 1.0, \"n\": 4672}, {\"threshold\": 0.045, \"p\": 4612, \"fpr\": 1.0, \"tpr\": 1.0, \"n\": 4672}, {\"threshold\": 0.046, \"p\": 4612, \"fpr\": 1.0, \"tpr\": 1.0, \"n\": 4672}, {\"threshold\": 0.047, \"p\": 4612, \"fpr\": 1.0, \"tpr\": 1.0, \"n\": 4672}, {\"threshold\": 0.048, \"p\": 4612, \"fpr\": 1.0, \"tpr\": 1.0, \"n\": 4672}, {\"threshold\": 0.049, \"p\": 4612, \"fpr\": 1.0, \"tpr\": 1.0, \"n\": 4672}, {\"threshold\": 0.05, \"p\": 4612, \"fpr\": 1.0, \"tpr\": 1.0, \"n\": 4672}, {\"threshold\": 0.051, \"p\": 4612, \"fpr\": 1.0, \"tpr\": 1.0, \"n\": 4672}, {\"threshold\": 0.052, \"p\": 4612, \"fpr\": 1.0, \"tpr\": 1.0, \"n\": 4672}, {\"threshold\": 0.053, \"p\": 4612, \"fpr\": 1.0, \"tpr\": 1.0, \"n\": 4672}, {\"threshold\": 0.054, \"p\": 4612, \"fpr\": 1.0, \"tpr\": 1.0, \"n\": 4672}, {\"threshold\": 0.055, \"p\": 4612, \"fpr\": 1.0, \"tpr\": 1.0, \"n\": 4672}, {\"threshold\": 0.056, \"p\": 4612, \"fpr\": 1.0, \"tpr\": 1.0, \"n\": 4672}, {\"threshold\": 0.057, \"p\": 4612, \"fpr\": 1.0, \"tpr\": 1.0, \"n\": 4672}, {\"threshold\": 0.058, \"p\": 4612, \"fpr\": 1.0, \"tpr\": 1.0, \"n\": 4672}, {\"threshold\": 0.059, \"p\": 4612, \"fpr\": 1.0, \"tpr\": 1.0, \"n\": 4672}, {\"threshold\": 0.06, \"p\": 4612, \"fpr\": 1.0, \"tpr\": 1.0, \"n\": 4672}, {\"threshold\": 0.061, \"p\": 4612, \"fpr\": 1.0, \"tpr\": 1.0, \"n\": 4672}, {\"threshold\": 0.062, \"p\": 4612, \"fpr\": 1.0, \"tpr\": 1.0, \"n\": 4672}, {\"threshold\": 0.063, \"p\": 4612, \"fpr\": 1.0, \"tpr\": 1.0, \"n\": 4672}, {\"threshold\": 0.064, \"p\": 4612, \"fpr\": 1.0, \"tpr\": 1.0, \"n\": 4672}, {\"threshold\": 0.065, \"p\": 4612, \"fpr\": 1.0, \"tpr\": 1.0, \"n\": 4672}, {\"threshold\": 0.066, \"p\": 4612, \"fpr\": 1.0, \"tpr\": 1.0, \"n\": 4672}, {\"threshold\": 0.067, \"p\": 4612, \"fpr\": 1.0, \"tpr\": 1.0, \"n\": 4672}, {\"threshold\": 0.068, \"p\": 4612, \"fpr\": 1.0, \"tpr\": 1.0, \"n\": 4672}, {\"threshold\": 0.069, \"p\": 4612, \"fpr\": 1.0, \"tpr\": 1.0, \"n\": 4672}, {\"threshold\": 0.07, \"p\": 4612, \"fpr\": 1.0, \"tpr\": 1.0, \"n\": 4672}, {\"threshold\": 0.071, \"p\": 4612, \"fpr\": 1.0, \"tpr\": 1.0, \"n\": 4672}, {\"threshold\": 0.072, \"p\": 4612, \"fpr\": 1.0, \"tpr\": 1.0, \"n\": 4672}, {\"threshold\": 0.073, \"p\": 4612, \"fpr\": 1.0, \"tpr\": 1.0, \"n\": 4672}, {\"threshold\": 0.074, \"p\": 4612, \"fpr\": 1.0, \"tpr\": 1.0, \"n\": 4672}, {\"threshold\": 0.075, \"p\": 4612, \"fpr\": 1.0, \"tpr\": 1.0, \"n\": 4672}, {\"threshold\": 0.076, \"p\": 4612, \"fpr\": 1.0, \"tpr\": 1.0, \"n\": 4672}, {\"threshold\": 0.077, \"p\": 4612, \"fpr\": 1.0, \"tpr\": 1.0, \"n\": 4672}, {\"threshold\": 0.078, \"p\": 4612, \"fpr\": 1.0, \"tpr\": 1.0, \"n\": 4672}, {\"threshold\": 0.079, \"p\": 4612, \"fpr\": 1.0, \"tpr\": 1.0, \"n\": 4672}, {\"threshold\": 0.08, \"p\": 4612, \"fpr\": 1.0, \"tpr\": 1.0, \"n\": 4672}, {\"threshold\": 0.081, \"p\": 4612, \"fpr\": 1.0, \"tpr\": 1.0, \"n\": 4672}, {\"threshold\": 0.082, \"p\": 4612, \"fpr\": 1.0, \"tpr\": 1.0, \"n\": 4672}, {\"threshold\": 0.083, \"p\": 4612, \"fpr\": 1.0, \"tpr\": 1.0, \"n\": 4672}, {\"threshold\": 0.084, \"p\": 4612, \"fpr\": 1.0, \"tpr\": 1.0, \"n\": 4672}, {\"threshold\": 0.085, \"p\": 4612, \"fpr\": 1.0, \"tpr\": 1.0, \"n\": 4672}, {\"threshold\": 0.086, \"p\": 4612, \"fpr\": 1.0, \"tpr\": 1.0, \"n\": 4672}, {\"threshold\": 0.087, \"p\": 4612, \"fpr\": 1.0, \"tpr\": 1.0, \"n\": 4672}, {\"threshold\": 0.088, \"p\": 4612, \"fpr\": 1.0, \"tpr\": 1.0, \"n\": 4672}, {\"threshold\": 0.089, \"p\": 4612, \"fpr\": 1.0, \"tpr\": 1.0, \"n\": 4672}, {\"threshold\": 0.09, \"p\": 4612, \"fpr\": 1.0, \"tpr\": 1.0, \"n\": 4672}, {\"threshold\": 0.091, \"p\": 4612, \"fpr\": 1.0, \"tpr\": 1.0, \"n\": 4672}, {\"threshold\": 0.092, \"p\": 4612, \"fpr\": 1.0, \"tpr\": 1.0, \"n\": 4672}, {\"threshold\": 0.093, \"p\": 4612, \"fpr\": 1.0, \"tpr\": 1.0, \"n\": 4672}, {\"threshold\": 0.094, \"p\": 4612, \"fpr\": 1.0, \"tpr\": 1.0, \"n\": 4672}, {\"threshold\": 0.095, \"p\": 4612, \"fpr\": 1.0, \"tpr\": 1.0, \"n\": 4672}, {\"threshold\": 0.096, \"p\": 4612, \"fpr\": 1.0, \"tpr\": 1.0, \"n\": 4672}, {\"threshold\": 0.097, \"p\": 4612, \"fpr\": 1.0, \"tpr\": 1.0, \"n\": 4672}, {\"threshold\": 0.098, \"p\": 4612, \"fpr\": 1.0, \"tpr\": 1.0, \"n\": 4672}, {\"threshold\": 0.099, \"p\": 4612, \"fpr\": 1.0, \"tpr\": 1.0, \"n\": 4672}, {\"threshold\": 0.1, \"p\": 4612, \"fpr\": 1.0, \"tpr\": 1.0, \"n\": 4672}, {\"threshold\": 0.101, \"p\": 4612, \"fpr\": 1.0, \"tpr\": 1.0, \"n\": 4672}, {\"threshold\": 0.102, \"p\": 4612, \"fpr\": 1.0, \"tpr\": 1.0, \"n\": 4672}, {\"threshold\": 0.103, \"p\": 4612, \"fpr\": 1.0, \"tpr\": 1.0, \"n\": 4672}, {\"threshold\": 0.104, \"p\": 4612, \"fpr\": 1.0, \"tpr\": 1.0, \"n\": 4672}, {\"threshold\": 0.105, \"p\": 4612, \"fpr\": 1.0, \"tpr\": 1.0, \"n\": 4672}, {\"threshold\": 0.106, \"p\": 4612, \"fpr\": 1.0, \"tpr\": 1.0, \"n\": 4672}, {\"threshold\": 0.107, \"p\": 4612, \"fpr\": 1.0, \"tpr\": 1.0, \"n\": 4672}, {\"threshold\": 0.108, \"p\": 4612, \"fpr\": 1.0, \"tpr\": 1.0, \"n\": 4672}, {\"threshold\": 0.109, \"p\": 4612, \"fpr\": 1.0, \"tpr\": 1.0, \"n\": 4672}, {\"threshold\": 0.11, \"p\": 4612, \"fpr\": 1.0, \"tpr\": 1.0, \"n\": 4672}, {\"threshold\": 0.111, \"p\": 4612, \"fpr\": 1.0, \"tpr\": 1.0, \"n\": 4672}, {\"threshold\": 0.112, \"p\": 4612, \"fpr\": 1.0, \"tpr\": 1.0, \"n\": 4672}, {\"threshold\": 0.113, \"p\": 4612, \"fpr\": 1.0, \"tpr\": 1.0, \"n\": 4672}, {\"threshold\": 0.114, \"p\": 4612, \"fpr\": 1.0, \"tpr\": 1.0, \"n\": 4672}, {\"threshold\": 0.115, \"p\": 4612, \"fpr\": 1.0, \"tpr\": 1.0, \"n\": 4672}, {\"threshold\": 0.116, \"p\": 4612, \"fpr\": 1.0, \"tpr\": 1.0, \"n\": 4672}, {\"threshold\": 0.117, \"p\": 4612, \"fpr\": 1.0, \"tpr\": 1.0, \"n\": 4672}, {\"threshold\": 0.118, \"p\": 4612, \"fpr\": 1.0, \"tpr\": 1.0, \"n\": 4672}, {\"threshold\": 0.119, \"p\": 4612, \"fpr\": 1.0, \"tpr\": 1.0, \"n\": 4672}, {\"threshold\": 0.12, \"p\": 4612, \"fpr\": 1.0, \"tpr\": 1.0, \"n\": 4672}, {\"threshold\": 0.121, \"p\": 4612, \"fpr\": 1.0, \"tpr\": 1.0, \"n\": 4672}, {\"threshold\": 0.122, \"p\": 4612, \"fpr\": 1.0, \"tpr\": 1.0, \"n\": 4672}, {\"threshold\": 0.123, \"p\": 4612, \"fpr\": 1.0, \"tpr\": 1.0, \"n\": 4672}, {\"threshold\": 0.124, \"p\": 4612, \"fpr\": 1.0, \"tpr\": 1.0, \"n\": 4672}, {\"threshold\": 0.125, \"p\": 4612, \"fpr\": 1.0, \"tpr\": 1.0, \"n\": 4672}, {\"threshold\": 0.126, \"p\": 4612, \"fpr\": 1.0, \"tpr\": 1.0, \"n\": 4672}, {\"threshold\": 0.127, \"p\": 4612, \"fpr\": 1.0, \"tpr\": 1.0, \"n\": 4672}, {\"threshold\": 0.128, \"p\": 4612, \"fpr\": 1.0, \"tpr\": 1.0, \"n\": 4672}, {\"threshold\": 0.129, \"p\": 4612, \"fpr\": 1.0, \"tpr\": 1.0, \"n\": 4672}, {\"threshold\": 0.13, \"p\": 4612, \"fpr\": 1.0, \"tpr\": 1.0, \"n\": 4672}, {\"threshold\": 0.131, \"p\": 4612, \"fpr\": 1.0, \"tpr\": 1.0, \"n\": 4672}, {\"threshold\": 0.132, \"p\": 4612, \"fpr\": 1.0, \"tpr\": 1.0, \"n\": 4672}, {\"threshold\": 0.133, \"p\": 4612, \"fpr\": 1.0, \"tpr\": 1.0, \"n\": 4672}, {\"threshold\": 0.134, \"p\": 4612, \"fpr\": 1.0, \"tpr\": 1.0, \"n\": 4672}, {\"threshold\": 0.135, \"p\": 4612, \"fpr\": 1.0, \"tpr\": 1.0, \"n\": 4672}, {\"threshold\": 0.136, \"p\": 4612, \"fpr\": 0.9987157534246576, \"tpr\": 1.0, \"n\": 4672}, {\"threshold\": 0.137, \"p\": 4612, \"fpr\": 0.9985017123287672, \"tpr\": 1.0, \"n\": 4672}, {\"threshold\": 0.138, \"p\": 4612, \"fpr\": 0.9985017123287672, \"tpr\": 1.0, \"n\": 4672}, {\"threshold\": 0.139, \"p\": 4612, \"fpr\": 0.9985017123287672, \"tpr\": 1.0, \"n\": 4672}, {\"threshold\": 0.14, \"p\": 4612, \"fpr\": 0.9985017123287672, \"tpr\": 1.0, \"n\": 4672}, {\"threshold\": 0.141, \"p\": 4612, \"fpr\": 0.9982876712328768, \"tpr\": 1.0, \"n\": 4672}, {\"threshold\": 0.142, \"p\": 4612, \"fpr\": 0.9982876712328768, \"tpr\": 1.0, \"n\": 4672}, {\"threshold\": 0.143, \"p\": 4612, \"fpr\": 0.9982876712328768, \"tpr\": 1.0, \"n\": 4672}, {\"threshold\": 0.144, \"p\": 4612, \"fpr\": 0.9976455479452054, \"tpr\": 1.0, \"n\": 4672}, {\"threshold\": 0.145, \"p\": 4612, \"fpr\": 0.9976455479452054, \"tpr\": 1.0, \"n\": 4672}, {\"threshold\": 0.146, \"p\": 4612, \"fpr\": 0.9976455479452054, \"tpr\": 1.0, \"n\": 4672}, {\"threshold\": 0.147, \"p\": 4612, \"fpr\": 0.9976455479452054, \"tpr\": 1.0, \"n\": 4672}, {\"threshold\": 0.148, \"p\": 4612, \"fpr\": 0.9976455479452054, \"tpr\": 1.0, \"n\": 4672}, {\"threshold\": 0.149, \"p\": 4612, \"fpr\": 0.9976455479452054, \"tpr\": 1.0, \"n\": 4672}, {\"threshold\": 0.15, \"p\": 4612, \"fpr\": 0.9976455479452054, \"tpr\": 1.0, \"n\": 4672}, {\"threshold\": 0.151, \"p\": 4612, \"fpr\": 0.9976455479452054, \"tpr\": 1.0, \"n\": 4672}, {\"threshold\": 0.152, \"p\": 4612, \"fpr\": 0.997431506849315, \"tpr\": 1.0, \"n\": 4672}, {\"threshold\": 0.153, \"p\": 4612, \"fpr\": 0.9972174657534246, \"tpr\": 1.0, \"n\": 4672}, {\"threshold\": 0.154, \"p\": 4612, \"fpr\": 0.9972174657534246, \"tpr\": 1.0, \"n\": 4672}, {\"threshold\": 0.155, \"p\": 4612, \"fpr\": 0.9967893835616438, \"tpr\": 1.0, \"n\": 4672}, {\"threshold\": 0.156, \"p\": 4612, \"fpr\": 0.996361301369863, \"tpr\": 0.9997831743278404, \"n\": 4672}, {\"threshold\": 0.157, \"p\": 4612, \"fpr\": 0.996361301369863, \"tpr\": 0.9997831743278404, \"n\": 4672}, {\"threshold\": 0.158, \"p\": 4612, \"fpr\": 0.9959332191780822, \"tpr\": 0.9997831743278404, \"n\": 4672}, {\"threshold\": 0.159, \"p\": 4612, \"fpr\": 0.9959332191780822, \"tpr\": 0.9997831743278404, \"n\": 4672}, {\"threshold\": 0.16, \"p\": 4612, \"fpr\": 0.9944349315068494, \"tpr\": 0.9995663486556808, \"n\": 4672}, {\"threshold\": 0.161, \"p\": 4612, \"fpr\": 0.9925085616438356, \"tpr\": 0.9993495229835212, \"n\": 4672}, {\"threshold\": 0.162, \"p\": 4612, \"fpr\": 0.991652397260274, \"tpr\": 0.9993495229835212, \"n\": 4672}, {\"threshold\": 0.163, \"p\": 4612, \"fpr\": 0.9910102739726028, \"tpr\": 0.9993495229835212, \"n\": 4672}, {\"threshold\": 0.164, \"p\": 4612, \"fpr\": 0.9907962328767124, \"tpr\": 0.9993495229835212, \"n\": 4672}, {\"threshold\": 0.165, \"p\": 4612, \"fpr\": 0.9907962328767124, \"tpr\": 0.9993495229835212, \"n\": 4672}, {\"threshold\": 0.166, \"p\": 4612, \"fpr\": 0.9907962328767124, \"tpr\": 0.9993495229835212, \"n\": 4672}, {\"threshold\": 0.167, \"p\": 4612, \"fpr\": 0.9907962328767124, \"tpr\": 0.9993495229835212, \"n\": 4672}, {\"threshold\": 0.168, \"p\": 4612, \"fpr\": 0.9907962328767124, \"tpr\": 0.9993495229835212, \"n\": 4672}, {\"threshold\": 0.169, \"p\": 4612, \"fpr\": 0.9907962328767124, \"tpr\": 0.9993495229835212, \"n\": 4672}, {\"threshold\": 0.17, \"p\": 4612, \"fpr\": 0.990582191780822, \"tpr\": 0.9993495229835212, \"n\": 4672}, {\"threshold\": 0.171, \"p\": 4612, \"fpr\": 0.9884417808219178, \"tpr\": 0.9991326973113617, \"n\": 4672}, {\"threshold\": 0.172, \"p\": 4612, \"fpr\": 0.9877996575342466, \"tpr\": 0.9991326973113617, \"n\": 4672}, {\"threshold\": 0.173, \"p\": 4612, \"fpr\": 0.9877996575342466, \"tpr\": 0.9991326973113617, \"n\": 4672}, {\"threshold\": 0.174, \"p\": 4612, \"fpr\": 0.9873715753424658, \"tpr\": 0.9991326973113617, \"n\": 4672}, {\"threshold\": 0.175, \"p\": 4612, \"fpr\": 0.9865154109589042, \"tpr\": 0.998915871639202, \"n\": 4672}, {\"threshold\": 0.176, \"p\": 4612, \"fpr\": 0.9860873287671232, \"tpr\": 0.998915871639202, \"n\": 4672}, {\"threshold\": 0.177, \"p\": 4612, \"fpr\": 0.9848030821917808, \"tpr\": 0.9986990459670425, \"n\": 4672}, {\"threshold\": 0.178, \"p\": 4612, \"fpr\": 0.984375, \"tpr\": 0.9986990459670425, \"n\": 4672}, {\"threshold\": 0.179, \"p\": 4612, \"fpr\": 0.9841609589041096, \"tpr\": 0.9986990459670425, \"n\": 4672}, {\"threshold\": 0.18, \"p\": 4612, \"fpr\": 0.983304794520548, \"tpr\": 0.9986990459670425, \"n\": 4672}, {\"threshold\": 0.181, \"p\": 4612, \"fpr\": 0.983304794520548, \"tpr\": 0.9986990459670425, \"n\": 4672}, {\"threshold\": 0.182, \"p\": 4612, \"fpr\": 0.9830907534246576, \"tpr\": 0.9984822202948829, \"n\": 4672}, {\"threshold\": 0.183, \"p\": 4612, \"fpr\": 0.981806506849315, \"tpr\": 0.9982653946227233, \"n\": 4672}, {\"threshold\": 0.184, \"p\": 4612, \"fpr\": 0.9809503424657534, \"tpr\": 0.9982653946227233, \"n\": 4672}, {\"threshold\": 0.185, \"p\": 4612, \"fpr\": 0.9805222602739726, \"tpr\": 0.9982653946227233, \"n\": 4672}, {\"threshold\": 0.186, \"p\": 4612, \"fpr\": 0.9798801369863014, \"tpr\": 0.9982653946227233, \"n\": 4672}, {\"threshold\": 0.187, \"p\": 4612, \"fpr\": 0.9794520547945206, \"tpr\": 0.9982653946227233, \"n\": 4672}, {\"threshold\": 0.188, \"p\": 4612, \"fpr\": 0.9783818493150684, \"tpr\": 0.9982653946227233, \"n\": 4672}, {\"threshold\": 0.189, \"p\": 4612, \"fpr\": 0.978167808219178, \"tpr\": 0.9982653946227233, \"n\": 4672}, {\"threshold\": 0.19, \"p\": 4612, \"fpr\": 0.977097602739726, \"tpr\": 0.9982653946227233, \"n\": 4672}, {\"threshold\": 0.191, \"p\": 4612, \"fpr\": 0.9768835616438356, \"tpr\": 0.9982653946227233, \"n\": 4672}, {\"threshold\": 0.192, \"p\": 4612, \"fpr\": 0.9768835616438356, \"tpr\": 0.9982653946227233, \"n\": 4672}, {\"threshold\": 0.193, \"p\": 4612, \"fpr\": 0.9764554794520548, \"tpr\": 0.9982653946227233, \"n\": 4672}, {\"threshold\": 0.194, \"p\": 4612, \"fpr\": 0.9762414383561644, \"tpr\": 0.9982653946227233, \"n\": 4672}, {\"threshold\": 0.195, \"p\": 4612, \"fpr\": 0.9755993150684932, \"tpr\": 0.9982653946227233, \"n\": 4672}, {\"threshold\": 0.196, \"p\": 4612, \"fpr\": 0.9751712328767124, \"tpr\": 0.9980485689505637, \"n\": 4672}, {\"threshold\": 0.197, \"p\": 4612, \"fpr\": 0.9738869863013698, \"tpr\": 0.9978317432784042, \"n\": 4672}, {\"threshold\": 0.198, \"p\": 4612, \"fpr\": 0.9732448630136986, \"tpr\": 0.9978317432784042, \"n\": 4672}, {\"threshold\": 0.199, \"p\": 4612, \"fpr\": 0.9715325342465754, \"tpr\": 0.9976149176062445, \"n\": 4672}, {\"threshold\": 0.2, \"p\": 4612, \"fpr\": 0.9706763698630136, \"tpr\": 0.9976149176062445, \"n\": 4672}, {\"threshold\": 0.201, \"p\": 4612, \"fpr\": 0.9696061643835616, \"tpr\": 0.997398091934085, \"n\": 4672}, {\"threshold\": 0.202, \"p\": 4612, \"fpr\": 0.9691780821917808, \"tpr\": 0.9971812662619254, \"n\": 4672}, {\"threshold\": 0.203, \"p\": 4612, \"fpr\": 0.96875, \"tpr\": 0.9971812662619254, \"n\": 4672}, {\"threshold\": 0.204, \"p\": 4612, \"fpr\": 0.96875, \"tpr\": 0.9971812662619254, \"n\": 4672}, {\"threshold\": 0.205, \"p\": 4612, \"fpr\": 0.96875, \"tpr\": 0.9971812662619254, \"n\": 4672}, {\"threshold\": 0.206, \"p\": 4612, \"fpr\": 0.9678938356164384, \"tpr\": 0.9971812662619254, \"n\": 4672}, {\"threshold\": 0.207, \"p\": 4612, \"fpr\": 0.9659674657534246, \"tpr\": 0.9969644405897659, \"n\": 4672}, {\"threshold\": 0.208, \"p\": 4612, \"fpr\": 0.9659674657534246, \"tpr\": 0.9969644405897659, \"n\": 4672}, {\"threshold\": 0.209, \"p\": 4612, \"fpr\": 0.9659674657534246, \"tpr\": 0.9969644405897659, \"n\": 4672}, {\"threshold\": 0.21, \"p\": 4612, \"fpr\": 0.9655393835616438, \"tpr\": 0.9967476149176062, \"n\": 4672}, {\"threshold\": 0.211, \"p\": 4612, \"fpr\": 0.9655393835616438, \"tpr\": 0.9967476149176062, \"n\": 4672}, {\"threshold\": 0.212, \"p\": 4612, \"fpr\": 0.965111301369863, \"tpr\": 0.9965307892454467, \"n\": 4672}, {\"threshold\": 0.213, \"p\": 4612, \"fpr\": 0.9648972602739726, \"tpr\": 0.996313963573287, \"n\": 4672}, {\"threshold\": 0.214, \"p\": 4612, \"fpr\": 0.9646832191780822, \"tpr\": 0.996313963573287, \"n\": 4672}, {\"threshold\": 0.215, \"p\": 4612, \"fpr\": 0.9644691780821918, \"tpr\": 0.996313963573287, \"n\": 4672}, {\"threshold\": 0.216, \"p\": 4612, \"fpr\": 0.9638270547945206, \"tpr\": 0.996313963573287, \"n\": 4672}, {\"threshold\": 0.217, \"p\": 4612, \"fpr\": 0.9631849315068494, \"tpr\": 0.996313963573287, \"n\": 4672}, {\"threshold\": 0.218, \"p\": 4612, \"fpr\": 0.9627568493150684, \"tpr\": 0.9960971379011275, \"n\": 4672}, {\"threshold\": 0.219, \"p\": 4612, \"fpr\": 0.9623287671232876, \"tpr\": 0.9960971379011275, \"n\": 4672}, {\"threshold\": 0.22, \"p\": 4612, \"fpr\": 0.961472602739726, \"tpr\": 0.9960971379011275, \"n\": 4672}, {\"threshold\": 0.221, \"p\": 4612, \"fpr\": 0.9608304794520548, \"tpr\": 0.9960971379011275, \"n\": 4672}, {\"threshold\": 0.222, \"p\": 4612, \"fpr\": 0.9606164383561644, \"tpr\": 0.9960971379011275, \"n\": 4672}, {\"threshold\": 0.223, \"p\": 4612, \"fpr\": 0.960402397260274, \"tpr\": 0.9958803122289679, \"n\": 4672}, {\"threshold\": 0.224, \"p\": 4612, \"fpr\": 0.9595462328767124, \"tpr\": 0.9958803122289679, \"n\": 4672}, {\"threshold\": 0.225, \"p\": 4612, \"fpr\": 0.9591181506849316, \"tpr\": 0.9958803122289679, \"n\": 4672}, {\"threshold\": 0.226, \"p\": 4612, \"fpr\": 0.9582619863013698, \"tpr\": 0.9954466608846487, \"n\": 4672}, {\"threshold\": 0.227, \"p\": 4612, \"fpr\": 0.9580479452054794, \"tpr\": 0.9954466608846487, \"n\": 4672}, {\"threshold\": 0.228, \"p\": 4612, \"fpr\": 0.9574058219178082, \"tpr\": 0.9954466608846487, \"n\": 4672}, {\"threshold\": 0.229, \"p\": 4612, \"fpr\": 0.9571917808219178, \"tpr\": 0.9954466608846487, \"n\": 4672}, {\"threshold\": 0.23, \"p\": 4612, \"fpr\": 0.9571917808219178, \"tpr\": 0.9954466608846487, \"n\": 4672}, {\"threshold\": 0.231, \"p\": 4612, \"fpr\": 0.9554794520547946, \"tpr\": 0.9954466608846487, \"n\": 4672}, {\"threshold\": 0.232, \"p\": 4612, \"fpr\": 0.9524828767123288, \"tpr\": 0.9950130095403296, \"n\": 4672}, {\"threshold\": 0.233, \"p\": 4612, \"fpr\": 0.9497003424657534, \"tpr\": 0.9934952298352124, \"n\": 4672}, {\"threshold\": 0.234, \"p\": 4612, \"fpr\": 0.948416095890411, \"tpr\": 0.9934952298352124, \"n\": 4672}, {\"threshold\": 0.235, \"p\": 4612, \"fpr\": 0.9479880136986302, \"tpr\": 0.9934952298352124, \"n\": 4672}, {\"threshold\": 0.236, \"p\": 4612, \"fpr\": 0.9477739726027398, \"tpr\": 0.9932784041630529, \"n\": 4672}, {\"threshold\": 0.237, \"p\": 4612, \"fpr\": 0.947345890410959, \"tpr\": 0.9932784041630529, \"n\": 4672}, {\"threshold\": 0.238, \"p\": 4612, \"fpr\": 0.9471318493150684, \"tpr\": 0.9932784041630529, \"n\": 4672}, {\"threshold\": 0.239, \"p\": 4612, \"fpr\": 0.946917808219178, \"tpr\": 0.9932784041630529, \"n\": 4672}, {\"threshold\": 0.24, \"p\": 4612, \"fpr\": 0.9464897260273972, \"tpr\": 0.9932784041630529, \"n\": 4672}, {\"threshold\": 0.241, \"p\": 4612, \"fpr\": 0.9428510273972602, \"tpr\": 0.9928447528187337, \"n\": 4672}, {\"threshold\": 0.242, \"p\": 4612, \"fpr\": 0.942208904109589, \"tpr\": 0.9926279271465741, \"n\": 4672}, {\"threshold\": 0.243, \"p\": 4612, \"fpr\": 0.9407106164383562, \"tpr\": 0.9919774501300954, \"n\": 4672}, {\"threshold\": 0.244, \"p\": 4612, \"fpr\": 0.940068493150685, \"tpr\": 0.9919774501300954, \"n\": 4672}, {\"threshold\": 0.245, \"p\": 4612, \"fpr\": 0.9398544520547946, \"tpr\": 0.9919774501300954, \"n\": 4672}, {\"threshold\": 0.246, \"p\": 4612, \"fpr\": 0.9383561643835616, \"tpr\": 0.9917606244579358, \"n\": 4672}, {\"threshold\": 0.247, \"p\": 4612, \"fpr\": 0.9379280821917808, \"tpr\": 0.9917606244579358, \"n\": 4672}, {\"threshold\": 0.248, \"p\": 4612, \"fpr\": 0.9360017123287672, \"tpr\": 0.9908933217692975, \"n\": 4672}, {\"threshold\": 0.249, \"p\": 4612, \"fpr\": 0.9355736301369864, \"tpr\": 0.9906764960971379, \"n\": 4672}, {\"threshold\": 0.25, \"p\": 4612, \"fpr\": 0.9347174657534246, \"tpr\": 0.9902428447528188, \"n\": 4672}, {\"threshold\": 0.251, \"p\": 4612, \"fpr\": 0.932791095890411, \"tpr\": 0.9900260190806591, \"n\": 4672}, {\"threshold\": 0.252, \"p\": 4612, \"fpr\": 0.9325770547945206, \"tpr\": 0.9898091934084996, \"n\": 4672}, {\"threshold\": 0.253, \"p\": 4612, \"fpr\": 0.931292808219178, \"tpr\": 0.98959236773634, \"n\": 4672}, {\"threshold\": 0.254, \"p\": 4612, \"fpr\": 0.9310787671232876, \"tpr\": 0.98959236773634, \"n\": 4672}, {\"threshold\": 0.255, \"p\": 4612, \"fpr\": 0.9304366438356164, \"tpr\": 0.98959236773634, \"n\": 4672}, {\"threshold\": 0.256, \"p\": 4612, \"fpr\": 0.9287243150684932, \"tpr\": 0.9891587163920208, \"n\": 4672}, {\"threshold\": 0.257, \"p\": 4612, \"fpr\": 0.9287243150684932, \"tpr\": 0.9891587163920208, \"n\": 4672}, {\"threshold\": 0.258, \"p\": 4612, \"fpr\": 0.9278681506849316, \"tpr\": 0.9889418907198613, \"n\": 4672}, {\"threshold\": 0.259, \"p\": 4612, \"fpr\": 0.9272260273972602, \"tpr\": 0.9887250650477016, \"n\": 4672}, {\"threshold\": 0.26, \"p\": 4612, \"fpr\": 0.9270119863013698, \"tpr\": 0.9887250650477016, \"n\": 4672}, {\"threshold\": 0.261, \"p\": 4612, \"fpr\": 0.9261558219178082, \"tpr\": 0.9887250650477016, \"n\": 4672}, {\"threshold\": 0.262, \"p\": 4612, \"fpr\": 0.925513698630137, \"tpr\": 0.9887250650477016, \"n\": 4672}, {\"threshold\": 0.263, \"p\": 4612, \"fpr\": 0.9220890410958904, \"tpr\": 0.9872072853425846, \"n\": 4672}, {\"threshold\": 0.264, \"p\": 4612, \"fpr\": 0.9205907534246576, \"tpr\": 0.986990459670425, \"n\": 4672}, {\"threshold\": 0.265, \"p\": 4612, \"fpr\": 0.918236301369863, \"tpr\": 0.9865568083261058, \"n\": 4672}, {\"threshold\": 0.266, \"p\": 4612, \"fpr\": 0.9068921232876712, \"tpr\": 0.9822202948829142, \"n\": 4672}, {\"threshold\": 0.267, \"p\": 4612, \"fpr\": 0.9066780821917808, \"tpr\": 0.9822202948829142, \"n\": 4672}, {\"threshold\": 0.268, \"p\": 4612, \"fpr\": 0.9038955479452054, \"tpr\": 0.9813529921942759, \"n\": 4672}, {\"threshold\": 0.269, \"p\": 4612, \"fpr\": 0.9030393835616438, \"tpr\": 0.9804856895056374, \"n\": 4672}, {\"threshold\": 0.27, \"p\": 4612, \"fpr\": 0.9019691780821918, \"tpr\": 0.9802688638334779, \"n\": 4672}, {\"threshold\": 0.271, \"p\": 4612, \"fpr\": 0.9006849315068494, \"tpr\": 0.9800520381613183, \"n\": 4672}, {\"threshold\": 0.272, \"p\": 4612, \"fpr\": 0.9006849315068494, \"tpr\": 0.9798352124891587, \"n\": 4672}, {\"threshold\": 0.273, \"p\": 4612, \"fpr\": 0.8983304794520548, \"tpr\": 0.9798352124891587, \"n\": 4672}, {\"threshold\": 0.274, \"p\": 4612, \"fpr\": 0.897902397260274, \"tpr\": 0.9794015611448396, \"n\": 4672}, {\"threshold\": 0.275, \"p\": 4612, \"fpr\": 0.896832191780822, \"tpr\": 0.9789679098005204, \"n\": 4672}, {\"threshold\": 0.276, \"p\": 4612, \"fpr\": 0.8959760273972602, \"tpr\": 0.9789679098005204, \"n\": 4672}, {\"threshold\": 0.277, \"p\": 4612, \"fpr\": 0.895333904109589, \"tpr\": 0.9783174327840416, \"n\": 4672}, {\"threshold\": 0.278, \"p\": 4612, \"fpr\": 0.8938356164383562, \"tpr\": 0.9778837814397224, \"n\": 4672}, {\"threshold\": 0.279, \"p\": 4612, \"fpr\": 0.8923373287671232, \"tpr\": 0.9774501300954033, \"n\": 4672}, {\"threshold\": 0.28, \"p\": 4612, \"fpr\": 0.8897688356164384, \"tpr\": 0.9765828274067649, \"n\": 4672}, {\"threshold\": 0.281, \"p\": 4612, \"fpr\": 0.8889126712328768, \"tpr\": 0.9765828274067649, \"n\": 4672}, {\"threshold\": 0.282, \"p\": 4612, \"fpr\": 0.8867722602739726, \"tpr\": 0.9759323503902863, \"n\": 4672}, {\"threshold\": 0.283, \"p\": 4612, \"fpr\": 0.8867722602739726, \"tpr\": 0.9759323503902863, \"n\": 4672}, {\"threshold\": 0.284, \"p\": 4612, \"fpr\": 0.884845890410959, \"tpr\": 0.9754986990459671, \"n\": 4672}, {\"threshold\": 0.285, \"p\": 4612, \"fpr\": 0.8784246575342466, \"tpr\": 0.9722463139635733, \"n\": 4672}, {\"threshold\": 0.286, \"p\": 4612, \"fpr\": 0.8758561643835616, \"tpr\": 0.9718126626192541, \"n\": 4672}, {\"threshold\": 0.287, \"p\": 4612, \"fpr\": 0.8756421232876712, \"tpr\": 0.9718126626192541, \"n\": 4672}, {\"threshold\": 0.288, \"p\": 4612, \"fpr\": 0.8745719178082192, \"tpr\": 0.9711621856027753, \"n\": 4672}, {\"threshold\": 0.289, \"p\": 4612, \"fpr\": 0.8696489726027398, \"tpr\": 0.9705117085862967, \"n\": 4672}, {\"threshold\": 0.29, \"p\": 4612, \"fpr\": 0.8675085616438356, \"tpr\": 0.970294882914137, \"n\": 4672}, {\"threshold\": 0.291, \"p\": 4612, \"fpr\": 0.8675085616438356, \"tpr\": 0.970294882914137, \"n\": 4672}, {\"threshold\": 0.292, \"p\": 4612, \"fpr\": 0.8664383561643836, \"tpr\": 0.9698612315698178, \"n\": 4672}, {\"threshold\": 0.293, \"p\": 4612, \"fpr\": 0.8660102739726028, \"tpr\": 0.9696444058976583, \"n\": 4672}, {\"threshold\": 0.294, \"p\": 4612, \"fpr\": 0.8647260273972602, \"tpr\": 0.9685602775368604, \"n\": 4672}, {\"threshold\": 0.295, \"p\": 4612, \"fpr\": 0.8634417808219178, \"tpr\": 0.9681266261925412, \"n\": 4672}, {\"threshold\": 0.296, \"p\": 4612, \"fpr\": 0.8617294520547946, \"tpr\": 0.9672593235039029, \"n\": 4672}, {\"threshold\": 0.297, \"p\": 4612, \"fpr\": 0.8606592465753424, \"tpr\": 0.9668256721595837, \"n\": 4672}, {\"threshold\": 0.298, \"p\": 4612, \"fpr\": 0.8529537671232876, \"tpr\": 0.9653078924544666, \"n\": 4672}, {\"threshold\": 0.299, \"p\": 4612, \"fpr\": 0.8523116438356164, \"tpr\": 0.965091066782307, \"n\": 4672}, {\"threshold\": 0.3, \"p\": 4612, \"fpr\": 0.8518835616438356, \"tpr\": 0.9648742411101474, \"n\": 4672}, {\"threshold\": 0.301, \"p\": 4612, \"fpr\": 0.8491010273972602, \"tpr\": 0.9644405897658282, \"n\": 4672}, {\"threshold\": 0.302, \"p\": 4612, \"fpr\": 0.8465325342465754, \"tpr\": 0.9637901127493496, \"n\": 4672}, {\"threshold\": 0.303, \"p\": 4612, \"fpr\": 0.8452482876712328, \"tpr\": 0.9631396357328708, \"n\": 4672}, {\"threshold\": 0.304, \"p\": 4612, \"fpr\": 0.8433219178082192, \"tpr\": 0.9624891587163921, \"n\": 4672}, {\"threshold\": 0.305, \"p\": 4612, \"fpr\": 0.840111301369863, \"tpr\": 0.9609713790112749, \"n\": 4672}, {\"threshold\": 0.306, \"p\": 4612, \"fpr\": 0.8396832191780822, \"tpr\": 0.9607545533391153, \"n\": 4672}, {\"threshold\": 0.307, \"p\": 4612, \"fpr\": 0.8377568493150684, \"tpr\": 0.9605377276669558, \"n\": 4672}, {\"threshold\": 0.308, \"p\": 4612, \"fpr\": 0.8356164383561644, \"tpr\": 0.9592367736339983, \"n\": 4672}, {\"threshold\": 0.309, \"p\": 4612, \"fpr\": 0.832833904109589, \"tpr\": 0.9585862966175195, \"n\": 4672}, {\"threshold\": 0.31, \"p\": 4612, \"fpr\": 0.8321917808219178, \"tpr\": 0.9585862966175195, \"n\": 4672}, {\"threshold\": 0.311, \"p\": 4612, \"fpr\": 0.8309075342465754, \"tpr\": 0.95836947094536, \"n\": 4672}, {\"threshold\": 0.312, \"p\": 4612, \"fpr\": 0.8264126712328768, \"tpr\": 0.9570685169124025, \"n\": 4672}, {\"threshold\": 0.313, \"p\": 4612, \"fpr\": 0.8249143835616438, \"tpr\": 0.9568516912402428, \"n\": 4672}, {\"threshold\": 0.314, \"p\": 4612, \"fpr\": 0.8240582191780822, \"tpr\": 0.9568516912402428, \"n\": 4672}, {\"threshold\": 0.315, \"p\": 4612, \"fpr\": 0.8225599315068494, \"tpr\": 0.9559843885516045, \"n\": 4672}, {\"threshold\": 0.316, \"p\": 4612, \"fpr\": 0.8214897260273972, \"tpr\": 0.955767562879445, \"n\": 4672}, {\"threshold\": 0.317, \"p\": 4612, \"fpr\": 0.8176369863013698, \"tpr\": 0.9549002601908065, \"n\": 4672}, {\"threshold\": 0.318, \"p\": 4612, \"fpr\": 0.815068493150685, \"tpr\": 0.9544666088464874, \"n\": 4672}, {\"threshold\": 0.319, \"p\": 4612, \"fpr\": 0.8118578767123288, \"tpr\": 0.9538161318300087, \"n\": 4672}, {\"threshold\": 0.32, \"p\": 4612, \"fpr\": 0.809931506849315, \"tpr\": 0.9531656548135299, \"n\": 4672}, {\"threshold\": 0.321, \"p\": 4612, \"fpr\": 0.806292808219178, \"tpr\": 0.9527320034692107, \"n\": 4672}, {\"threshold\": 0.322, \"p\": 4612, \"fpr\": 0.806292808219178, \"tpr\": 0.952081526452732, \"n\": 4672}, {\"threshold\": 0.323, \"p\": 4612, \"fpr\": 0.8043664383561644, \"tpr\": 0.9507805724197745, \"n\": 4672}, {\"threshold\": 0.324, \"p\": 4612, \"fpr\": 0.8037243150684932, \"tpr\": 0.9507805724197745, \"n\": 4672}, {\"threshold\": 0.325, \"p\": 4612, \"fpr\": 0.803082191780822, \"tpr\": 0.949479618386817, \"n\": 4672}, {\"threshold\": 0.326, \"p\": 4612, \"fpr\": 0.799443493150685, \"tpr\": 0.9488291413703382, \"n\": 4672}, {\"threshold\": 0.327, \"p\": 4612, \"fpr\": 0.7990154109589042, \"tpr\": 0.9475281873373808, \"n\": 4672}, {\"threshold\": 0.328, \"p\": 4612, \"fpr\": 0.7973030821917808, \"tpr\": 0.9470945359930616, \"n\": 4672}, {\"threshold\": 0.329, \"p\": 4612, \"fpr\": 0.7947345890410958, \"tpr\": 0.9466608846487424, \"n\": 4672}, {\"threshold\": 0.33, \"p\": 4612, \"fpr\": 0.792166095890411, \"tpr\": 0.9460104076322636, \"n\": 4672}, {\"threshold\": 0.331, \"p\": 4612, \"fpr\": 0.7898116438356164, \"tpr\": 0.9447094535993061, \"n\": 4672}, {\"threshold\": 0.332, \"p\": 4612, \"fpr\": 0.7891695205479452, \"tpr\": 0.9447094535993061, \"n\": 4672}, {\"threshold\": 0.333, \"p\": 4612, \"fpr\": 0.7842465753424658, \"tpr\": 0.9431916738941891, \"n\": 4672}, {\"threshold\": 0.334, \"p\": 4612, \"fpr\": 0.783818493150685, \"tpr\": 0.9429748482220295, \"n\": 4672}, {\"threshold\": 0.335, \"p\": 4612, \"fpr\": 0.7806078767123288, \"tpr\": 0.9418907198612315, \"n\": 4672}, {\"threshold\": 0.336, \"p\": 4612, \"fpr\": 0.7771832191780822, \"tpr\": 0.9401561144839549, \"n\": 4672}, {\"threshold\": 0.337, \"p\": 4612, \"fpr\": 0.775470890410959, \"tpr\": 0.9399392888117953, \"n\": 4672}, {\"threshold\": 0.338, \"p\": 4612, \"fpr\": 0.7724743150684932, \"tpr\": 0.9382046834345187, \"n\": 4672}, {\"threshold\": 0.339, \"p\": 4612, \"fpr\": 0.7705479452054794, \"tpr\": 0.936470078057242, \"n\": 4672}, {\"threshold\": 0.34, \"p\": 4612, \"fpr\": 0.7651969178082192, \"tpr\": 0.9353859496964441, \"n\": 4672}, {\"threshold\": 0.341, \"p\": 4612, \"fpr\": 0.7643407534246576, \"tpr\": 0.9353859496964441, \"n\": 4672}, {\"threshold\": 0.342, \"p\": 4612, \"fpr\": 0.7617722602739726, \"tpr\": 0.9332176929748482, \"n\": 4672}, {\"threshold\": 0.343, \"p\": 4612, \"fpr\": 0.7615582191780822, \"tpr\": 0.9325672159583694, \"n\": 4672}, {\"threshold\": 0.344, \"p\": 4612, \"fpr\": 0.7607020547945206, \"tpr\": 0.9323503902862099, \"n\": 4672}, {\"threshold\": 0.345, \"p\": 4612, \"fpr\": 0.759417808219178, \"tpr\": 0.9319167389418908, \"n\": 4672}, {\"threshold\": 0.346, \"p\": 4612, \"fpr\": 0.7585616438356164, \"tpr\": 0.931266261925412, \"n\": 4672}, {\"threshold\": 0.347, \"p\": 4612, \"fpr\": 0.7534246575342466, \"tpr\": 0.9290980052038161, \"n\": 4672}, {\"threshold\": 0.348, \"p\": 4612, \"fpr\": 0.7504280821917808, \"tpr\": 0.9271465741543798, \"n\": 4672}, {\"threshold\": 0.349, \"p\": 4612, \"fpr\": 0.7482876712328768, \"tpr\": 0.9264960971379012, \"n\": 4672}, {\"threshold\": 0.35, \"p\": 4612, \"fpr\": 0.745291095890411, \"tpr\": 0.9238941890719862, \"n\": 4672}, {\"threshold\": 0.351, \"p\": 4612, \"fpr\": 0.7435787671232876, \"tpr\": 0.9228100607111882, \"n\": 4672}, {\"threshold\": 0.352, \"p\": 4612, \"fpr\": 0.7420804794520548, \"tpr\": 0.9219427580225499, \"n\": 4672}, {\"threshold\": 0.353, \"p\": 4612, \"fpr\": 0.7412243150684932, \"tpr\": 0.9219427580225499, \"n\": 4672}, {\"threshold\": 0.354, \"p\": 4612, \"fpr\": 0.7386558219178082, \"tpr\": 0.9204249783174328, \"n\": 4672}, {\"threshold\": 0.355, \"p\": 4612, \"fpr\": 0.7365154109589042, \"tpr\": 0.9202081526452732, \"n\": 4672}, {\"threshold\": 0.356, \"p\": 4612, \"fpr\": 0.731806506849315, \"tpr\": 0.9191240242844753, \"n\": 4672}, {\"threshold\": 0.357, \"p\": 4612, \"fpr\": 0.728595890410959, \"tpr\": 0.9178230702515178, \"n\": 4672}, {\"threshold\": 0.358, \"p\": 4612, \"fpr\": 0.7253852739726028, \"tpr\": 0.9169557675628794, \"n\": 4672}, {\"threshold\": 0.359, \"p\": 4612, \"fpr\": 0.7251712328767124, \"tpr\": 0.9165221162185603, \"n\": 4672}, {\"threshold\": 0.36, \"p\": 4612, \"fpr\": 0.7236729452054794, \"tpr\": 0.9165221162185603, \"n\": 4672}, {\"threshold\": 0.361, \"p\": 4612, \"fpr\": 0.7200342465753424, \"tpr\": 0.9150043365134432, \"n\": 4672}, {\"threshold\": 0.362, \"p\": 4612, \"fpr\": 0.7146832191780822, \"tpr\": 0.9124024284475282, \"n\": 4672}, {\"threshold\": 0.363, \"p\": 4612, \"fpr\": 0.7061215753424658, \"tpr\": 0.9082827406764961, \"n\": 4672}, {\"threshold\": 0.364, \"p\": 4612, \"fpr\": 0.7050513698630136, \"tpr\": 0.9069817866435386, \"n\": 4672}, {\"threshold\": 0.365, \"p\": 4612, \"fpr\": 0.699486301369863, \"tpr\": 0.9054640069384216, \"n\": 4672}, {\"threshold\": 0.366, \"p\": 4612, \"fpr\": 0.6986301369863014, \"tpr\": 0.9045967042497832, \"n\": 4672}, {\"threshold\": 0.367, \"p\": 4612, \"fpr\": 0.6964897260273972, \"tpr\": 0.9043798785776236, \"n\": 4672}, {\"threshold\": 0.368, \"p\": 4612, \"fpr\": 0.6941352739726028, \"tpr\": 0.9032957502168256, \"n\": 4672}, {\"threshold\": 0.369, \"p\": 4612, \"fpr\": 0.6926369863013698, \"tpr\": 0.9026452732003469, \"n\": 4672}, {\"threshold\": 0.37, \"p\": 4612, \"fpr\": 0.6919948630136986, \"tpr\": 0.9019947961838681, \"n\": 4672}, {\"threshold\": 0.371, \"p\": 4612, \"fpr\": 0.6894263698630136, \"tpr\": 0.9011274934952298, \"n\": 4672}, {\"threshold\": 0.372, \"p\": 4612, \"fpr\": 0.6877140410958904, \"tpr\": 0.9002601908065915, \"n\": 4672}, {\"threshold\": 0.373, \"p\": 4612, \"fpr\": 0.684931506849315, \"tpr\": 0.898959236773634, \"n\": 4672}, {\"threshold\": 0.374, \"p\": 4612, \"fpr\": 0.679152397260274, \"tpr\": 0.8965741543798785, \"n\": 4672}, {\"threshold\": 0.375, \"p\": 4612, \"fpr\": 0.6772260273972602, \"tpr\": 0.8948395490026019, \"n\": 4672}, {\"threshold\": 0.376, \"p\": 4612, \"fpr\": 0.6714469178082192, \"tpr\": 0.891153512575889, \"n\": 4672}, {\"threshold\": 0.377, \"p\": 4612, \"fpr\": 0.669306506849315, \"tpr\": 0.8905030355594102, \"n\": 4672}, {\"threshold\": 0.378, \"p\": 4612, \"fpr\": 0.6665239726027398, \"tpr\": 0.8887684301821336, \"n\": 4672}, {\"threshold\": 0.379, \"p\": 4612, \"fpr\": 0.664597602739726, \"tpr\": 0.8876843018213356, \"n\": 4672}, {\"threshold\": 0.38, \"p\": 4612, \"fpr\": 0.6594606164383562, \"tpr\": 0.8855160450997398, \"n\": 4672}, {\"threshold\": 0.381, \"p\": 4612, \"fpr\": 0.6571061643835616, \"tpr\": 0.8844319167389418, \"n\": 4672}, {\"threshold\": 0.382, \"p\": 4612, \"fpr\": 0.6538955479452054, \"tpr\": 0.882263660017346, \"n\": 4672}, {\"threshold\": 0.383, \"p\": 4612, \"fpr\": 0.645333904109589, \"tpr\": 0.8787944492627927, \"n\": 4672}, {\"threshold\": 0.384, \"p\": 4612, \"fpr\": 0.643193493150685, \"tpr\": 0.8783607979184735, \"n\": 4672}, {\"threshold\": 0.385, \"p\": 4612, \"fpr\": 0.640625, \"tpr\": 0.8761925411968777, \"n\": 4672}, {\"threshold\": 0.386, \"p\": 4612, \"fpr\": 0.6393407534246576, \"tpr\": 0.8748915871639202, \"n\": 4672}, {\"threshold\": 0.387, \"p\": 4612, \"fpr\": 0.6365582191780822, \"tpr\": 0.8738074588031223, \"n\": 4672}, {\"threshold\": 0.388, \"p\": 4612, \"fpr\": 0.6350599315068494, \"tpr\": 0.8731569817866436, \"n\": 4672}, {\"threshold\": 0.389, \"p\": 4612, \"fpr\": 0.633347602739726, \"tpr\": 0.8720728534258456, \"n\": 4672}, {\"threshold\": 0.39, \"p\": 4612, \"fpr\": 0.6305650684931506, \"tpr\": 0.8709887250650477, \"n\": 4672}, {\"threshold\": 0.391, \"p\": 4612, \"fpr\": 0.628638698630137, \"tpr\": 0.8705550737207285, \"n\": 4672}, {\"threshold\": 0.392, \"p\": 4612, \"fpr\": 0.6258561643835616, \"tpr\": 0.8699045967042498, \"n\": 4672}, {\"threshold\": 0.393, \"p\": 4612, \"fpr\": 0.6235017123287672, \"tpr\": 0.8686036426712923, \"n\": 4672}, {\"threshold\": 0.394, \"p\": 4612, \"fpr\": 0.622431506849315, \"tpr\": 0.8679531656548135, \"n\": 4672}, {\"threshold\": 0.395, \"p\": 4612, \"fpr\": 0.6179366438356164, \"tpr\": 0.8653512575888985, \"n\": 4672}, {\"threshold\": 0.396, \"p\": 4612, \"fpr\": 0.6157962328767124, \"tpr\": 0.8633998265394622, \"n\": 4672}, {\"threshold\": 0.397, \"p\": 4612, \"fpr\": 0.615582191780822, \"tpr\": 0.8623156981786644, \"n\": 4672}, {\"threshold\": 0.398, \"p\": 4612, \"fpr\": 0.6134417808219178, \"tpr\": 0.8610147441457069, \"n\": 4672}, {\"threshold\": 0.399, \"p\": 4612, \"fpr\": 0.6113013698630136, \"tpr\": 0.8599306157849089, \"n\": 4672}, {\"threshold\": 0.4, \"p\": 4612, \"fpr\": 0.6100171232876712, \"tpr\": 0.8586296617519514, \"n\": 4672}, {\"threshold\": 0.401, \"p\": 4612, \"fpr\": 0.6074486301369864, \"tpr\": 0.8571118820468343, \"n\": 4672}, {\"threshold\": 0.402, \"p\": 4612, \"fpr\": 0.6044520547945206, \"tpr\": 0.8553772766695577, \"n\": 4672}, {\"threshold\": 0.403, \"p\": 4612, \"fpr\": 0.602097602739726, \"tpr\": 0.8542931483087598, \"n\": 4672}, {\"threshold\": 0.404, \"p\": 4612, \"fpr\": 0.601027397260274, \"tpr\": 0.852558542931483, \"n\": 4672}, {\"threshold\": 0.405, \"p\": 4612, \"fpr\": 0.5991010273972602, \"tpr\": 0.851040763226366, \"n\": 4672}, {\"threshold\": 0.406, \"p\": 4612, \"fpr\": 0.5969606164383562, \"tpr\": 0.849956634865568, \"n\": 4672}, {\"threshold\": 0.407, \"p\": 4612, \"fpr\": 0.5894691780821918, \"tpr\": 0.8458369470945359, \"n\": 4672}, {\"threshold\": 0.408, \"p\": 4612, \"fpr\": 0.5847602739726028, \"tpr\": 0.8423677363399826, \"n\": 4672}, {\"threshold\": 0.409, \"p\": 4612, \"fpr\": 0.5834760273972602, \"tpr\": 0.8417172593235039, \"n\": 4672}, {\"threshold\": 0.41, \"p\": 4612, \"fpr\": 0.5826198630136986, \"tpr\": 0.8412836079791848, \"n\": 4672}, {\"threshold\": 0.411, \"p\": 4612, \"fpr\": 0.5798373287671232, \"tpr\": 0.8397658282740676, \"n\": 4672}, {\"threshold\": 0.412, \"p\": 4612, \"fpr\": 0.5772688356164384, \"tpr\": 0.8378143972246314, \"n\": 4672}, {\"threshold\": 0.413, \"p\": 4612, \"fpr\": 0.574486301369863, \"tpr\": 0.8367302688638335, \"n\": 4672}, {\"threshold\": 0.414, \"p\": 4612, \"fpr\": 0.5740582191780822, \"tpr\": 0.8356461405030355, \"n\": 4672}, {\"threshold\": 0.415, \"p\": 4612, \"fpr\": 0.568707191780822, \"tpr\": 0.8334778837814397, \"n\": 4672}, {\"threshold\": 0.416, \"p\": 4612, \"fpr\": 0.566138698630137, \"tpr\": 0.8323937554206418, \"n\": 4672}, {\"threshold\": 0.417, \"p\": 4612, \"fpr\": 0.5637842465753424, \"tpr\": 0.8317432784041631, \"n\": 4672}, {\"threshold\": 0.418, \"p\": 4612, \"fpr\": 0.563570205479452, \"tpr\": 0.8315264527320034, \"n\": 4672}, {\"threshold\": 0.419, \"p\": 4612, \"fpr\": 0.5590753424657534, \"tpr\": 0.8282740676496098, \"n\": 4672}, {\"threshold\": 0.42, \"p\": 4612, \"fpr\": 0.5584332191780822, \"tpr\": 0.8278404163052906, \"n\": 4672}, {\"threshold\": 0.421, \"p\": 4612, \"fpr\": 0.5582191780821918, \"tpr\": 0.827623590633131, \"n\": 4672}, {\"threshold\": 0.422, \"p\": 4612, \"fpr\": 0.5582191780821918, \"tpr\": 0.827623590633131, \"n\": 4672}, {\"threshold\": 0.423, \"p\": 4612, \"fpr\": 0.5560787671232876, \"tpr\": 0.8261058109280138, \"n\": 4672}, {\"threshold\": 0.424, \"p\": 4612, \"fpr\": 0.5535102739726028, \"tpr\": 0.8243712055507372, \"n\": 4672}, {\"threshold\": 0.425, \"p\": 4612, \"fpr\": 0.552654109589041, \"tpr\": 0.823937554206418, \"n\": 4672}, {\"threshold\": 0.426, \"p\": 4612, \"fpr\": 0.5485873287671232, \"tpr\": 0.8228534258456202, \"n\": 4672}, {\"threshold\": 0.427, \"p\": 4612, \"fpr\": 0.5460188356164384, \"tpr\": 0.8215524718126627, \"n\": 4672}, {\"threshold\": 0.428, \"p\": 4612, \"fpr\": 0.5357448630136986, \"tpr\": 0.8172159583694709, \"n\": 4672}, {\"threshold\": 0.429, \"p\": 4612, \"fpr\": 0.533818493150685, \"tpr\": 0.8161318300086731, \"n\": 4672}, {\"threshold\": 0.43, \"p\": 4612, \"fpr\": 0.5318921232876712, \"tpr\": 0.8143972246313964, \"n\": 4672}, {\"threshold\": 0.431, \"p\": 4612, \"fpr\": 0.5291095890410958, \"tpr\": 0.8107111882046835, \"n\": 4672}, {\"threshold\": 0.432, \"p\": 4612, \"fpr\": 0.5248287671232876, \"tpr\": 0.8076756287944492, \"n\": 4672}, {\"threshold\": 0.433, \"p\": 4612, \"fpr\": 0.5173373287671232, \"tpr\": 0.8024718126626192, \"n\": 4672}, {\"threshold\": 0.434, \"p\": 4612, \"fpr\": 0.5141267123287672, \"tpr\": 0.8000867302688638, \"n\": 4672}, {\"threshold\": 0.435, \"p\": 4612, \"fpr\": 0.5132705479452054, \"tpr\": 0.7996530789245446, \"n\": 4672}, {\"threshold\": 0.436, \"p\": 4612, \"fpr\": 0.5122003424657534, \"tpr\": 0.7992194275802255, \"n\": 4672}, {\"threshold\": 0.437, \"p\": 4612, \"fpr\": 0.5059931506849316, \"tpr\": 0.7950997398091935, \"n\": 4672}, {\"threshold\": 0.438, \"p\": 4612, \"fpr\": 0.5040667808219178, \"tpr\": 0.794232437120555, \"n\": 4672}, {\"threshold\": 0.439, \"p\": 4612, \"fpr\": 0.4995719178082192, \"tpr\": 0.7918473547267997, \"n\": 4672}, {\"threshold\": 0.44, \"p\": 4612, \"fpr\": 0.4974315068493151, \"tpr\": 0.7903295750216826, \"n\": 4672}, {\"threshold\": 0.441, \"p\": 4612, \"fpr\": 0.4957191780821918, \"tpr\": 0.7879444926279271, \"n\": 4672}, {\"threshold\": 0.442, \"p\": 4612, \"fpr\": 0.4931506849315068, \"tpr\": 0.7864267129228101, \"n\": 4672}, {\"threshold\": 0.443, \"p\": 4612, \"fpr\": 0.4922945205479452, \"tpr\": 0.7844752818733738, \"n\": 4672}, {\"threshold\": 0.444, \"p\": 4612, \"fpr\": 0.4903681506849315, \"tpr\": 0.7827406764960971, \"n\": 4672}, {\"threshold\": 0.445, \"p\": 4612, \"fpr\": 0.4886558219178082, \"tpr\": 0.778620988725065, \"n\": 4672}, {\"threshold\": 0.446, \"p\": 4612, \"fpr\": 0.4854452054794521, \"tpr\": 0.7764527320034692, \"n\": 4672}, {\"threshold\": 0.447, \"p\": 4612, \"fpr\": 0.4811643835616438, \"tpr\": 0.7734171725932351, \"n\": 4672}, {\"threshold\": 0.448, \"p\": 4612, \"fpr\": 0.4798801369863014, \"tpr\": 0.7729835212489159, \"n\": 4672}, {\"threshold\": 0.449, \"p\": 4612, \"fpr\": 0.4779537671232877, \"tpr\": 0.7721162185602776, \"n\": 4672}, {\"threshold\": 0.45, \"p\": 4612, \"fpr\": 0.4758133561643836, \"tpr\": 0.7708152645273201, \"n\": 4672}, {\"threshold\": 0.451, \"p\": 4612, \"fpr\": 0.4745291095890411, \"tpr\": 0.769297484822203, \"n\": 4672}, {\"threshold\": 0.452, \"p\": 4612, \"fpr\": 0.4715325342465753, \"tpr\": 0.768213356461405, \"n\": 4672}, {\"threshold\": 0.453, \"p\": 4612, \"fpr\": 0.4706763698630137, \"tpr\": 0.7679965307892455, \"n\": 4672}, {\"threshold\": 0.454, \"p\": 4612, \"fpr\": 0.4683219178082192, \"tpr\": 0.7664787510841283, \"n\": 4672}, {\"threshold\": 0.455, \"p\": 4612, \"fpr\": 0.4668236301369863, \"tpr\": 0.7647441457068517, \"n\": 4672}, {\"threshold\": 0.456, \"p\": 4612, \"fpr\": 0.4638270547945205, \"tpr\": 0.7623590633130962, \"n\": 4672}, {\"threshold\": 0.457, \"p\": 4612, \"fpr\": 0.4610445205479452, \"tpr\": 0.7595403295750217, \"n\": 4672}, {\"threshold\": 0.458, \"p\": 4612, \"fpr\": 0.4597602739726027, \"tpr\": 0.7584562012142237, \"n\": 4672}, {\"threshold\": 0.459, \"p\": 4612, \"fpr\": 0.4546232876712329, \"tpr\": 0.7543365134431916, \"n\": 4672}, {\"threshold\": 0.46, \"p\": 4612, \"fpr\": 0.4482020547945205, \"tpr\": 0.7497831743278404, \"n\": 4672}, {\"threshold\": 0.461, \"p\": 4612, \"fpr\": 0.4475599315068493, \"tpr\": 0.7482653946227233, \"n\": 4672}, {\"threshold\": 0.462, \"p\": 4612, \"fpr\": 0.4471318493150685, \"tpr\": 0.7476149176062445, \"n\": 4672}, {\"threshold\": 0.463, \"p\": 4612, \"fpr\": 0.4456335616438356, \"tpr\": 0.7460971379011275, \"n\": 4672}, {\"threshold\": 0.464, \"p\": 4612, \"fpr\": 0.444777397260274, \"tpr\": 0.7458803122289679, \"n\": 4672}, {\"threshold\": 0.465, \"p\": 4612, \"fpr\": 0.4389982876712329, \"tpr\": 0.7415437987857763, \"n\": 4672}, {\"threshold\": 0.466, \"p\": 4612, \"fpr\": 0.4347174657534247, \"tpr\": 0.7367736339982653, \"n\": 4672}, {\"threshold\": 0.467, \"p\": 4612, \"fpr\": 0.4310787671232877, \"tpr\": 0.7341717259323504, \"n\": 4672}, {\"threshold\": 0.468, \"p\": 4612, \"fpr\": 0.430222602739726, \"tpr\": 0.7330875975715525, \"n\": 4672}, {\"threshold\": 0.469, \"p\": 4612, \"fpr\": 0.4248715753424658, \"tpr\": 0.7304856895056374, \"n\": 4672}, {\"threshold\": 0.47, \"p\": 4612, \"fpr\": 0.4227311643835616, \"tpr\": 0.7296183868169991, \"n\": 4672}, {\"threshold\": 0.471, \"p\": 4612, \"fpr\": 0.4220890410958904, \"tpr\": 0.7287510841283608, \"n\": 4672}, {\"threshold\": 0.472, \"p\": 4612, \"fpr\": 0.4201626712328767, \"tpr\": 0.7274501300954033, \"n\": 4672}, {\"threshold\": 0.473, \"p\": 4612, \"fpr\": 0.4190924657534247, \"tpr\": 0.7267996530789246, \"n\": 4672}, {\"threshold\": 0.474, \"p\": 4612, \"fpr\": 0.418236301369863, \"tpr\": 0.7263660017346054, \"n\": 4672}, {\"threshold\": 0.475, \"p\": 4612, \"fpr\": 0.4165239726027397, \"tpr\": 0.7254986990459671, \"n\": 4672}, {\"threshold\": 0.476, \"p\": 4612, \"fpr\": 0.4163099315068493, \"tpr\": 0.7250650477016479, \"n\": 4672}, {\"threshold\": 0.477, \"p\": 4612, \"fpr\": 0.4101027397260274, \"tpr\": 0.7226799653078925, \"n\": 4672}, {\"threshold\": 0.478, \"p\": 4612, \"fpr\": 0.4088184931506849, \"tpr\": 0.721379011274935, \"n\": 4672}, {\"threshold\": 0.479, \"p\": 4612, \"fpr\": 0.3895547945205479, \"tpr\": 0.7042497831743278, \"n\": 4672}, {\"threshold\": 0.48, \"p\": 4612, \"fpr\": 0.3884845890410959, \"tpr\": 0.7033824804856895, \"n\": 4672}, {\"threshold\": 0.481, \"p\": 4612, \"fpr\": 0.3880565068493151, \"tpr\": 0.7029488291413704, \"n\": 4672}, {\"threshold\": 0.482, \"p\": 4612, \"fpr\": 0.3865582191780822, \"tpr\": 0.7022983521248916, \"n\": 4672}, {\"threshold\": 0.483, \"p\": 4612, \"fpr\": 0.3835616438356164, \"tpr\": 0.7007805724197745, \"n\": 4672}, {\"threshold\": 0.484, \"p\": 4612, \"fpr\": 0.3816352739726027, \"tpr\": 0.6999132697311362, \"n\": 4672}, {\"threshold\": 0.485, \"p\": 4612, \"fpr\": 0.3762842465753425, \"tpr\": 0.6923243712055508, \"n\": 4672}, {\"threshold\": 0.486, \"p\": 4612, \"fpr\": 0.3743578767123288, \"tpr\": 0.691673894189072, \"n\": 4672}, {\"threshold\": 0.487, \"p\": 4612, \"fpr\": 0.3730736301369863, \"tpr\": 0.6901561144839549, \"n\": 4672}, {\"threshold\": 0.488, \"p\": 4612, \"fpr\": 0.3705051369863014, \"tpr\": 0.6886383347788378, \"n\": 4672}, {\"threshold\": 0.489, \"p\": 4612, \"fpr\": 0.3683647260273973, \"tpr\": 0.6875542064180399, \"n\": 4672}, {\"threshold\": 0.49, \"p\": 4612, \"fpr\": 0.3595890410958904, \"tpr\": 0.677580225498699, \"n\": 4672}, {\"threshold\": 0.491, \"p\": 4612, \"fpr\": 0.3570205479452055, \"tpr\": 0.6732437120555074, \"n\": 4672}, {\"threshold\": 0.492, \"p\": 4612, \"fpr\": 0.3544520547945205, \"tpr\": 0.6706418039895924, \"n\": 4672}, {\"threshold\": 0.493, \"p\": 4612, \"fpr\": 0.3469606164383562, \"tpr\": 0.6613183000867303, \"n\": 4672}, {\"threshold\": 0.494, \"p\": 4612, \"fpr\": 0.3446061643835616, \"tpr\": 0.6595836947094535, \"n\": 4672}, {\"threshold\": 0.495, \"p\": 4612, \"fpr\": 0.3443921232876712, \"tpr\": 0.6589332176929749, \"n\": 4672}, {\"threshold\": 0.496, \"p\": 4612, \"fpr\": 0.3441780821917808, \"tpr\": 0.6589332176929749, \"n\": 4672}, {\"threshold\": 0.497, \"p\": 4612, \"fpr\": 0.3424657534246575, \"tpr\": 0.6580659150043365, \"n\": 4672}, {\"threshold\": 0.498, \"p\": 4612, \"fpr\": 0.3339041095890411, \"tpr\": 0.6478751084128361, \"n\": 4672}, {\"threshold\": 0.499, \"p\": 4612, \"fpr\": 0.3319777397260274, \"tpr\": 0.6470078057241977, \"n\": 4672}, {\"threshold\": 0.5, \"p\": 4612, \"fpr\": 0.3296232876712329, \"tpr\": 0.6448395490026019, \"n\": 4672}, {\"threshold\": 0.501, \"p\": 4612, \"fpr\": 0.3294092465753425, \"tpr\": 0.6448395490026019, \"n\": 4672}, {\"threshold\": 0.502, \"p\": 4612, \"fpr\": 0.3289811643835616, \"tpr\": 0.6439722463139635, \"n\": 4672}, {\"threshold\": 0.503, \"p\": 4612, \"fpr\": 0.3270547945205479, \"tpr\": 0.6407198612315698, \"n\": 4672}, {\"threshold\": 0.504, \"p\": 4612, \"fpr\": 0.3257705479452055, \"tpr\": 0.6396357328707719, \"n\": 4672}, {\"threshold\": 0.505, \"p\": 4612, \"fpr\": 0.3242722602739726, \"tpr\": 0.6381179531656548, \"n\": 4672}, {\"threshold\": 0.506, \"p\": 4612, \"fpr\": 0.323416095890411, \"tpr\": 0.6372506504770165, \"n\": 4672}, {\"threshold\": 0.507, \"p\": 4612, \"fpr\": 0.3221318493150685, \"tpr\": 0.6366001734605378, \"n\": 4672}, {\"threshold\": 0.508, \"p\": 4612, \"fpr\": 0.3204195205479452, \"tpr\": 0.6361665221162186, \"n\": 4672}, {\"threshold\": 0.509, \"p\": 4612, \"fpr\": 0.3180650684931507, \"tpr\": 0.6348655680832611, \"n\": 4672}, {\"threshold\": 0.51, \"p\": 4612, \"fpr\": 0.3159246575342466, \"tpr\": 0.6342150910667823, \"n\": 4672}, {\"threshold\": 0.511, \"p\": 4612, \"fpr\": 0.3139982876712329, \"tpr\": 0.6329141370338248, \"n\": 4672}, {\"threshold\": 0.512, \"p\": 4612, \"fpr\": 0.3118578767123288, \"tpr\": 0.6313963573287077, \"n\": 4672}, {\"threshold\": 0.513, \"p\": 4612, \"fpr\": 0.3107876712328767, \"tpr\": 0.6300954032957502, \"n\": 4672}, {\"threshold\": 0.514, \"p\": 4612, \"fpr\": 0.3084332191780822, \"tpr\": 0.6294449262792715, \"n\": 4672}, {\"threshold\": 0.515, \"p\": 4612, \"fpr\": 0.3054366438356164, \"tpr\": 0.6255420641803989, \"n\": 4672}, {\"threshold\": 0.516, \"p\": 4612, \"fpr\": 0.3024400684931507, \"tpr\": 0.6233738074588031, \"n\": 4672}, {\"threshold\": 0.517, \"p\": 4612, \"fpr\": 0.3011558219178082, \"tpr\": 0.6227233304423244, \"n\": 4672}, {\"threshold\": 0.518, \"p\": 4612, \"fpr\": 0.2992294520547945, \"tpr\": 0.6194709453599306, \"n\": 4672}, {\"threshold\": 0.519, \"p\": 4612, \"fpr\": 0.2988013698630137, \"tpr\": 0.6175195143104943, \"n\": 4672}, {\"threshold\": 0.52, \"p\": 4612, \"fpr\": 0.2975171232876712, \"tpr\": 0.6173026886383348, \"n\": 4672}, {\"threshold\": 0.521, \"p\": 4612, \"fpr\": 0.2949486301369863, \"tpr\": 0.6155680832610582, \"n\": 4672}, {\"threshold\": 0.522, \"p\": 4612, \"fpr\": 0.2940924657534247, \"tpr\": 0.6147007805724197, \"n\": 4672}, {\"threshold\": 0.523, \"p\": 4612, \"fpr\": 0.293236301369863, \"tpr\": 0.6133998265394622, \"n\": 4672}, {\"threshold\": 0.524, \"p\": 4612, \"fpr\": 0.2917380136986301, \"tpr\": 0.6120988725065047, \"n\": 4672}, {\"threshold\": 0.525, \"p\": 4612, \"fpr\": 0.2880993150684932, \"tpr\": 0.6071118820468343, \"n\": 4672}, {\"threshold\": 0.526, \"p\": 4612, \"fpr\": 0.2846746575342466, \"tpr\": 0.6021248915871639, \"n\": 4672}, {\"threshold\": 0.527, \"p\": 4612, \"fpr\": 0.2840325342465753, \"tpr\": 0.6012575888985255, \"n\": 4672}, {\"threshold\": 0.528, \"p\": 4612, \"fpr\": 0.2825342465753425, \"tpr\": 0.6001734605377277, \"n\": 4672}, {\"threshold\": 0.529, \"p\": 4612, \"fpr\": 0.2791095890410959, \"tpr\": 0.5967042497831744, \"n\": 4672}, {\"threshold\": 0.53, \"p\": 4612, \"fpr\": 0.2782534246575342, \"tpr\": 0.5956201214223764, \"n\": 4672}, {\"threshold\": 0.531, \"p\": 4612, \"fpr\": 0.2767551369863014, \"tpr\": 0.5934518647007806, \"n\": 4672}, {\"threshold\": 0.532, \"p\": 4612, \"fpr\": 0.2756849315068493, \"tpr\": 0.5919340849956635, \"n\": 4672}, {\"threshold\": 0.533, \"p\": 4612, \"fpr\": 0.2649828767123288, \"tpr\": 0.5789245446660884, \"n\": 4672}, {\"threshold\": 0.534, \"p\": 4612, \"fpr\": 0.2634845890410959, \"tpr\": 0.5778404163052906, \"n\": 4672}, {\"threshold\": 0.535, \"p\": 4612, \"fpr\": 0.2622003424657534, \"tpr\": 0.5763226366001735, \"n\": 4672}, {\"threshold\": 0.536, \"p\": 4612, \"fpr\": 0.2611301369863014, \"tpr\": 0.5745880312228968, \"n\": 4672}, {\"threshold\": 0.537, \"p\": 4612, \"fpr\": 0.2596318493150685, \"tpr\": 0.5715524718126627, \"n\": 4672}, {\"threshold\": 0.538, \"p\": 4612, \"fpr\": 0.2592037671232877, \"tpr\": 0.5711188204683435, \"n\": 4672}, {\"threshold\": 0.539, \"p\": 4612, \"fpr\": 0.2581335616438356, \"tpr\": 0.5685169124024284, \"n\": 4672}, {\"threshold\": 0.54, \"p\": 4612, \"fpr\": 0.2557791095890411, \"tpr\": 0.5667823070251518, \"n\": 4672}, {\"threshold\": 0.541, \"p\": 4612, \"fpr\": 0.2544948630136986, \"tpr\": 0.5656981786643539, \"n\": 4672}, {\"threshold\": 0.542, \"p\": 4612, \"fpr\": 0.2534246575342466, \"tpr\": 0.5637467476149176, \"n\": 4672}, {\"threshold\": 0.543, \"p\": 4612, \"fpr\": 0.2521404109589041, \"tpr\": 0.5604943625325238, \"n\": 4672}, {\"threshold\": 0.544, \"p\": 4612, \"fpr\": 0.25, \"tpr\": 0.5576756287944492, \"n\": 4672}, {\"threshold\": 0.545, \"p\": 4612, \"fpr\": 0.24935787671232876, \"tpr\": 0.5568083261058109, \"n\": 4672}, {\"threshold\": 0.546, \"p\": 4612, \"fpr\": 0.24871575342465754, \"tpr\": 0.5544232437120555, \"n\": 4672}, {\"threshold\": 0.547, \"p\": 4612, \"fpr\": 0.24721746575342465, \"tpr\": 0.5537727666955767, \"n\": 4672}, {\"threshold\": 0.548, \"p\": 4612, \"fpr\": 0.2457191780821918, \"tpr\": 0.5520381613183001, \"n\": 4672}, {\"threshold\": 0.549, \"p\": 4612, \"fpr\": 0.24315068493150685, \"tpr\": 0.5492194275802255, \"n\": 4672}, {\"threshold\": 0.55, \"p\": 4612, \"fpr\": 0.24272260273972604, \"tpr\": 0.5485689505637468, \"n\": 4672}, {\"threshold\": 0.551, \"p\": 4612, \"fpr\": 0.24122431506849315, \"tpr\": 0.5466175195143105, \"n\": 4672}, {\"threshold\": 0.552, \"p\": 4612, \"fpr\": 0.23929794520547945, \"tpr\": 0.5433651344319167, \"n\": 4672}, {\"threshold\": 0.553, \"p\": 4612, \"fpr\": 0.23908390410958905, \"tpr\": 0.5431483087597572, \"n\": 4672}, {\"threshold\": 0.554, \"p\": 4612, \"fpr\": 0.2363013698630137, \"tpr\": 0.5392454466608847, \"n\": 4672}, {\"threshold\": 0.555, \"p\": 4612, \"fpr\": 0.23159246575342465, \"tpr\": 0.5329575021682568, \"n\": 4672}, {\"threshold\": 0.556, \"p\": 4612, \"fpr\": 0.2309503424657534, \"tpr\": 0.5314397224631396, \"n\": 4672}, {\"threshold\": 0.557, \"p\": 4612, \"fpr\": 0.2288099315068493, \"tpr\": 0.5284041630529055, \"n\": 4672}, {\"threshold\": 0.558, \"p\": 4612, \"fpr\": 0.22752568493150685, \"tpr\": 0.52601908065915, \"n\": 4672}, {\"threshold\": 0.559, \"p\": 4612, \"fpr\": 0.2262414383561644, \"tpr\": 0.52601908065915, \"n\": 4672}, {\"threshold\": 0.56, \"p\": 4612, \"fpr\": 0.22602739726027396, \"tpr\": 0.5253686036426712, \"n\": 4672}, {\"threshold\": 0.561, \"p\": 4612, \"fpr\": 0.22602739726027396, \"tpr\": 0.5249349522983521, \"n\": 4672}, {\"threshold\": 0.562, \"p\": 4612, \"fpr\": 0.2228167808219178, \"tpr\": 0.5212489158716392, \"n\": 4672}, {\"threshold\": 0.563, \"p\": 4612, \"fpr\": 0.22153253424657535, \"tpr\": 0.5199479618386817, \"n\": 4672}, {\"threshold\": 0.564, \"p\": 4612, \"fpr\": 0.21810787671232876, \"tpr\": 0.5151777970511708, \"n\": 4672}, {\"threshold\": 0.565, \"p\": 4612, \"fpr\": 0.21575342465753425, \"tpr\": 0.5123590633130962, \"n\": 4672}, {\"threshold\": 0.566, \"p\": 4612, \"fpr\": 0.21232876712328766, \"tpr\": 0.5071552471812663, \"n\": 4672}, {\"threshold\": 0.567, \"p\": 4612, \"fpr\": 0.21168664383561644, \"tpr\": 0.5060711188204683, \"n\": 4672}, {\"threshold\": 0.568, \"p\": 4612, \"fpr\": 0.2074058219178082, \"tpr\": 0.5004336513443192, \"n\": 4672}, {\"threshold\": 0.569, \"p\": 4612, \"fpr\": 0.20569349315068494, \"tpr\": 0.4989158716392021, \"n\": 4672}, {\"threshold\": 0.57, \"p\": 4612, \"fpr\": 0.20419520547945205, \"tpr\": 0.497398091934085, \"n\": 4672}, {\"threshold\": 0.571, \"p\": 4612, \"fpr\": 0.20184075342465754, \"tpr\": 0.49479618386817, \"n\": 4672}, {\"threshold\": 0.572, \"p\": 4612, \"fpr\": 0.19670376712328766, \"tpr\": 0.48829141370338247, \"n\": 4672}, {\"threshold\": 0.573, \"p\": 4612, \"fpr\": 0.19456335616438356, \"tpr\": 0.48330442324371203, \"n\": 4672}, {\"threshold\": 0.574, \"p\": 4612, \"fpr\": 0.1937071917808219, \"tpr\": 0.4813529921942758, \"n\": 4672}, {\"threshold\": 0.575, \"p\": 4612, \"fpr\": 0.1913527397260274, \"tpr\": 0.4802688638334779, \"n\": 4672}, {\"threshold\": 0.576, \"p\": 4612, \"fpr\": 0.1889982876712329, \"tpr\": 0.4776669557675629, \"n\": 4672}, {\"threshold\": 0.577, \"p\": 4612, \"fpr\": 0.18428938356164384, \"tpr\": 0.4722463139635733, \"n\": 4672}, {\"threshold\": 0.578, \"p\": 4612, \"fpr\": 0.1834332191780822, \"tpr\": 0.47007805724197743, \"n\": 4672}, {\"threshold\": 0.579, \"p\": 4612, \"fpr\": 0.1815068493150685, \"tpr\": 0.46747614917606245, \"n\": 4672}, {\"threshold\": 0.58, \"p\": 4612, \"fpr\": 0.1815068493150685, \"tpr\": 0.4670424978317433, \"n\": 4672}, {\"threshold\": 0.581, \"p\": 4612, \"fpr\": 0.1812928082191781, \"tpr\": 0.46530789245446663, \"n\": 4672}, {\"threshold\": 0.582, \"p\": 4612, \"fpr\": 0.18107876712328766, \"tpr\": 0.46487424111014747, \"n\": 4672}, {\"threshold\": 0.583, \"p\": 4612, \"fpr\": 0.1778681506849315, \"tpr\": 0.4603209019947962, \"n\": 4672}, {\"threshold\": 0.584, \"p\": 4612, \"fpr\": 0.1774400684931507, \"tpr\": 0.45945359930615787, \"n\": 4672}, {\"threshold\": 0.585, \"p\": 4612, \"fpr\": 0.17487157534246575, \"tpr\": 0.4570685169124024, \"n\": 4672}, {\"threshold\": 0.586, \"p\": 4612, \"fpr\": 0.17251712328767124, \"tpr\": 0.4527320034692108, \"n\": 4672}, {\"threshold\": 0.587, \"p\": 4612, \"fpr\": 0.1714469178082192, \"tpr\": 0.4518647007805724, \"n\": 4672}, {\"threshold\": 0.588, \"p\": 4612, \"fpr\": 0.1680222602739726, \"tpr\": 0.44644405897658285, \"n\": 4672}, {\"threshold\": 0.589, \"p\": 4612, \"fpr\": 0.1660958904109589, \"tpr\": 0.4440589765828274, \"n\": 4672}, {\"threshold\": 0.59, \"p\": 4612, \"fpr\": 0.16160102739726026, \"tpr\": 0.43690372940156114, \"n\": 4672}, {\"threshold\": 0.591, \"p\": 4612, \"fpr\": 0.16095890410958905, \"tpr\": 0.43668690372940155, \"n\": 4672}, {\"threshold\": 0.592, \"p\": 4612, \"fpr\": 0.1601027397260274, \"tpr\": 0.4362532523850824, \"n\": 4672}, {\"threshold\": 0.593, \"p\": 4612, \"fpr\": 0.1583904109589041, \"tpr\": 0.4336513443191674, \"n\": 4672}, {\"threshold\": 0.594, \"p\": 4612, \"fpr\": 0.15303938356164384, \"tpr\": 0.42562879444926277, \"n\": 4672}, {\"threshold\": 0.595, \"p\": 4612, \"fpr\": 0.1506849315068493, \"tpr\": 0.42129228100607113, \"n\": 4672}, {\"threshold\": 0.596, \"p\": 4612, \"fpr\": 0.1481164383561644, \"tpr\": 0.41825672159583693, \"n\": 4672}, {\"threshold\": 0.597, \"p\": 4612, \"fpr\": 0.1468321917808219, \"tpr\": 0.4173894189071986, \"n\": 4672}, {\"threshold\": 0.598, \"p\": 4612, \"fpr\": 0.14554794520547945, \"tpr\": 0.41695576756287944, \"n\": 4672}, {\"threshold\": 0.599, \"p\": 4612, \"fpr\": 0.1449058219178082, \"tpr\": 0.4139202081526453, \"n\": 4672}, {\"threshold\": 0.6, \"p\": 4612, \"fpr\": 0.14319349315068494, \"tpr\": 0.411968777103209, \"n\": 4672}, {\"threshold\": 0.601, \"p\": 4612, \"fpr\": 0.1425513698630137, \"tpr\": 0.40915004336513444, \"n\": 4672}, {\"threshold\": 0.602, \"p\": 4612, \"fpr\": 0.1401969178082192, \"tpr\": 0.40611448395490024, \"n\": 4672}, {\"threshold\": 0.603, \"p\": 4612, \"fpr\": 0.1386986301369863, \"tpr\": 0.40503035559410233, \"n\": 4672}, {\"threshold\": 0.604, \"p\": 4612, \"fpr\": 0.13762842465753425, \"tpr\": 0.40221162185602777, \"n\": 4672}, {\"threshold\": 0.605, \"p\": 4612, \"fpr\": 0.1350599315068493, \"tpr\": 0.3974414570685169, \"n\": 4672}, {\"threshold\": 0.606, \"p\": 4612, \"fpr\": 0.1350599315068493, \"tpr\": 0.39722463139635733, \"n\": 4672}, {\"threshold\": 0.607, \"p\": 4612, \"fpr\": 0.1329195205479452, \"tpr\": 0.39375542064180397, \"n\": 4672}, {\"threshold\": 0.608, \"p\": 4612, \"fpr\": 0.13163527397260275, \"tpr\": 0.39288811795316564, \"n\": 4672}, {\"threshold\": 0.609, \"p\": 4612, \"fpr\": 0.12949486301369864, \"tpr\": 0.39028620988725066, \"n\": 4672}, {\"threshold\": 0.61, \"p\": 4612, \"fpr\": 0.12457191780821918, \"tpr\": 0.37944492627927146, \"n\": 4672}, {\"threshold\": 0.611, \"p\": 4612, \"fpr\": 0.1230736301369863, \"tpr\": 0.3766261925411969, \"n\": 4672}, {\"threshold\": 0.612, \"p\": 4612, \"fpr\": 0.1230736301369863, \"tpr\": 0.3761925411968777, \"n\": 4672}, {\"threshold\": 0.613, \"p\": 4612, \"fpr\": 0.12178938356164383, \"tpr\": 0.37402428447528185, \"n\": 4672}, {\"threshold\": 0.614, \"p\": 4612, \"fpr\": 0.11964897260273973, \"tpr\": 0.37185602775368604, \"n\": 4672}, {\"threshold\": 0.615, \"p\": 4612, \"fpr\": 0.11665239726027397, \"tpr\": 0.36600173460537727, \"n\": 4672}, {\"threshold\": 0.616, \"p\": 4612, \"fpr\": 0.11579623287671233, \"tpr\": 0.36361665221162187, \"n\": 4672}, {\"threshold\": 0.617, \"p\": 4612, \"fpr\": 0.11451198630136987, \"tpr\": 0.36274934952298354, \"n\": 4672}, {\"threshold\": 0.618, \"p\": 4612, \"fpr\": 0.11215753424657535, \"tpr\": 0.35949696444058976, \"n\": 4672}, {\"threshold\": 0.619, \"p\": 4612, \"fpr\": 0.11087328767123288, \"tpr\": 0.35841283607979185, \"n\": 4672}, {\"threshold\": 0.62, \"p\": 4612, \"fpr\": 0.11001712328767123, \"tpr\": 0.3564614050303556, \"n\": 4672}, {\"threshold\": 0.621, \"p\": 4612, \"fpr\": 0.1091609589041096, \"tpr\": 0.35559410234171723, \"n\": 4672}, {\"threshold\": 0.622, \"p\": 4612, \"fpr\": 0.10702054794520548, \"tpr\": 0.3499566348655681, \"n\": 4672}, {\"threshold\": 0.623, \"p\": 4612, \"fpr\": 0.10595034246575342, \"tpr\": 0.34778837814397223, \"n\": 4672}, {\"threshold\": 0.624, \"p\": 4612, \"fpr\": 0.1053082191780822, \"tpr\": 0.34757155247181265, \"n\": 4672}, {\"threshold\": 0.625, \"p\": 4612, \"fpr\": 0.10445205479452055, \"tpr\": 0.34648742411101474, \"n\": 4672}, {\"threshold\": 0.626, \"p\": 4612, \"fpr\": 0.10380993150684932, \"tpr\": 0.34540329575021683, \"n\": 4672}, {\"threshold\": 0.627, \"p\": 4612, \"fpr\": 0.10273972602739725, \"tpr\": 0.34410234171725934, \"n\": 4672}, {\"threshold\": 0.628, \"p\": 4612, \"fpr\": 0.10188356164383562, \"tpr\": 0.343235039028621, \"n\": 4672}, {\"threshold\": 0.629, \"p\": 4612, \"fpr\": 0.10102739726027397, \"tpr\": 0.3417172593235039, \"n\": 4672}, {\"threshold\": 0.63, \"p\": 4612, \"fpr\": 0.09867294520547945, \"tpr\": 0.3388985255854293, \"n\": 4672}, {\"threshold\": 0.631, \"p\": 4612, \"fpr\": 0.09738869863013698, \"tpr\": 0.3352124891587164, \"n\": 4672}, {\"threshold\": 0.632, \"p\": 4612, \"fpr\": 0.09460616438356165, \"tpr\": 0.3313096270598439, \"n\": 4672}, {\"threshold\": 0.633, \"p\": 4612, \"fpr\": 0.0939640410958904, \"tpr\": 0.32870771899392887, \"n\": 4672}, {\"threshold\": 0.634, \"p\": 4612, \"fpr\": 0.09310787671232877, \"tpr\": 0.3258889852558543, \"n\": 4672}, {\"threshold\": 0.635, \"p\": 4612, \"fpr\": 0.0916095890410959, \"tpr\": 0.3215524718126626, \"n\": 4672}, {\"threshold\": 0.636, \"p\": 4612, \"fpr\": 0.09053938356164383, \"tpr\": 0.3193842150910668, \"n\": 4672}, {\"threshold\": 0.637, \"p\": 4612, \"fpr\": 0.08925513698630137, \"tpr\": 0.31699913269731134, \"n\": 4672}, {\"threshold\": 0.638, \"p\": 4612, \"fpr\": 0.0860445205479452, \"tpr\": 0.30680832610581094, \"n\": 4672}, {\"threshold\": 0.639, \"p\": 4612, \"fpr\": 0.08561643835616438, \"tpr\": 0.30637467476149177, \"n\": 4672}, {\"threshold\": 0.64, \"p\": 4612, \"fpr\": 0.08476027397260275, \"tpr\": 0.303122289679098, \"n\": 4672}, {\"threshold\": 0.641, \"p\": 4612, \"fpr\": 0.08433219178082192, \"tpr\": 0.30095403295750217, \"n\": 4672}, {\"threshold\": 0.642, \"p\": 4612, \"fpr\": 0.08433219178082192, \"tpr\": 0.3007372072853426, \"n\": 4672}, {\"threshold\": 0.643, \"p\": 4612, \"fpr\": 0.08304794520547945, \"tpr\": 0.29596704249783173, \"n\": 4672}, {\"threshold\": 0.644, \"p\": 4612, \"fpr\": 0.0821917808219178, \"tpr\": 0.2909800520381613, \"n\": 4672}, {\"threshold\": 0.645, \"p\": 4612, \"fpr\": 0.08069349315068493, \"tpr\": 0.28902862098872506, \"n\": 4672}, {\"threshold\": 0.646, \"p\": 4612, \"fpr\": 0.07962328767123288, \"tpr\": 0.287510841283608, \"n\": 4672}, {\"threshold\": 0.647, \"p\": 4612, \"fpr\": 0.07876712328767123, \"tpr\": 0.2840416305290546, \"n\": 4672}, {\"threshold\": 0.648, \"p\": 4612, \"fpr\": 0.0779109589041096, \"tpr\": 0.2816565481352992, \"n\": 4672}, {\"threshold\": 0.649, \"p\": 4612, \"fpr\": 0.0779109589041096, \"tpr\": 0.2810060711188205, \"n\": 4672}, {\"threshold\": 0.65, \"p\": 4612, \"fpr\": 0.07726883561643835, \"tpr\": 0.27905464006938424, \"n\": 4672}, {\"threshold\": 0.651, \"p\": 4612, \"fpr\": 0.07555650684931507, \"tpr\": 0.27471812662619255, \"n\": 4672}, {\"threshold\": 0.652, \"p\": 4612, \"fpr\": 0.07534246575342465, \"tpr\": 0.2740676496097138, \"n\": 4672}, {\"threshold\": 0.653, \"p\": 4612, \"fpr\": 0.07512842465753425, \"tpr\": 0.27341717259323506, \"n\": 4672}, {\"threshold\": 0.654, \"p\": 4612, \"fpr\": 0.07512842465753425, \"tpr\": 0.2732003469210755, \"n\": 4672}, {\"threshold\": 0.655, \"p\": 4612, \"fpr\": 0.07363013698630137, \"tpr\": 0.2699479618386817, \"n\": 4672}, {\"threshold\": 0.656, \"p\": 4612, \"fpr\": 0.07106164383561644, \"tpr\": 0.2660450997398092, \"n\": 4672}, {\"threshold\": 0.657, \"p\": 4612, \"fpr\": 0.06913527397260275, \"tpr\": 0.26149176062445795, \"n\": 4672}, {\"threshold\": 0.658, \"p\": 4612, \"fpr\": 0.06913527397260275, \"tpr\": 0.2588898525585429, \"n\": 4672}, {\"threshold\": 0.659, \"p\": 4612, \"fpr\": 0.06870719178082192, \"tpr\": 0.2567215958369471, \"n\": 4672}, {\"threshold\": 0.66, \"p\": 4612, \"fpr\": 0.0682791095890411, \"tpr\": 0.25607111882046835, \"n\": 4672}, {\"threshold\": 0.661, \"p\": 4612, \"fpr\": 0.06699486301369863, \"tpr\": 0.25195143104943624, \"n\": 4672}, {\"threshold\": 0.662, \"p\": 4612, \"fpr\": 0.06571061643835617, \"tpr\": 0.25, \"n\": 4672}, {\"threshold\": 0.663, \"p\": 4612, \"fpr\": 0.0644263698630137, \"tpr\": 0.24804856895056374, \"n\": 4672}, {\"threshold\": 0.664, \"p\": 4612, \"fpr\": 0.06399828767123288, \"tpr\": 0.24631396357328708, \"n\": 4672}, {\"threshold\": 0.665, \"p\": 4612, \"fpr\": 0.06399828767123288, \"tpr\": 0.2445793581960104, \"n\": 4672}, {\"threshold\": 0.666, \"p\": 4612, \"fpr\": 0.0625, \"tpr\": 0.24262792714657416, \"n\": 4672}, {\"threshold\": 0.667, \"p\": 4612, \"fpr\": 0.061215753424657536, \"tpr\": 0.24241110147441458, \"n\": 4672}, {\"threshold\": 0.668, \"p\": 4612, \"fpr\": 0.06014554794520548, \"tpr\": 0.24089332176929748, \"n\": 4672}, {\"threshold\": 0.669, \"p\": 4612, \"fpr\": 0.0586472602739726, \"tpr\": 0.23612315698178665, \"n\": 4672}, {\"threshold\": 0.67, \"p\": 4612, \"fpr\": 0.05779109589041096, \"tpr\": 0.23048568950563747, \"n\": 4672}, {\"threshold\": 0.671, \"p\": 4612, \"fpr\": 0.056934931506849314, \"tpr\": 0.2287510841283608, \"n\": 4672}, {\"threshold\": 0.672, \"p\": 4612, \"fpr\": 0.05650684931506849, \"tpr\": 0.2259323503902862, \"n\": 4672}, {\"threshold\": 0.673, \"p\": 4612, \"fpr\": 0.05607876712328767, \"tpr\": 0.2235472679965308, \"n\": 4672}, {\"threshold\": 0.674, \"p\": 4612, \"fpr\": 0.05607876712328767, \"tpr\": 0.2235472679965308, \"n\": 4672}, {\"threshold\": 0.675, \"p\": 4612, \"fpr\": 0.05543664383561644, \"tpr\": 0.22159583694709453, \"n\": 4672}, {\"threshold\": 0.676, \"p\": 4612, \"fpr\": 0.05286815068493151, \"tpr\": 0.21834345186470078, \"n\": 4672}, {\"threshold\": 0.677, \"p\": 4612, \"fpr\": 0.05201198630136986, \"tpr\": 0.2181266261925412, \"n\": 4672}, {\"threshold\": 0.678, \"p\": 4612, \"fpr\": 0.0507277397260274, \"tpr\": 0.21509106678230702, \"n\": 4672}, {\"threshold\": 0.679, \"p\": 4612, \"fpr\": 0.05008561643835616, \"tpr\": 0.21379011274934953, \"n\": 4672}, {\"threshold\": 0.68, \"p\": 4612, \"fpr\": 0.05008561643835616, \"tpr\": 0.21313963573287076, \"n\": 4672}, {\"threshold\": 0.681, \"p\": 4612, \"fpr\": 0.0488013698630137, \"tpr\": 0.2075021682567216, \"n\": 4672}, {\"threshold\": 0.682, \"p\": 4612, \"fpr\": 0.0488013698630137, \"tpr\": 0.204683434518647, \"n\": 4672}, {\"threshold\": 0.683, \"p\": 4612, \"fpr\": 0.046446917808219176, \"tpr\": 0.2009973980919341, \"n\": 4672}, {\"threshold\": 0.684, \"p\": 4612, \"fpr\": 0.046446917808219176, \"tpr\": 0.1992627927146574, \"n\": 4672}, {\"threshold\": 0.685, \"p\": 4612, \"fpr\": 0.046232876712328765, \"tpr\": 0.19882914137033825, \"n\": 4672}, {\"threshold\": 0.686, \"p\": 4612, \"fpr\": 0.04601883561643835, \"tpr\": 0.19687771032090198, \"n\": 4672}, {\"threshold\": 0.687, \"p\": 4612, \"fpr\": 0.04516267123287671, \"tpr\": 0.19405897658282742, \"n\": 4672}, {\"threshold\": 0.688, \"p\": 4612, \"fpr\": 0.0430222602739726, \"tpr\": 0.18928881179531656, \"n\": 4672}, {\"threshold\": 0.689, \"p\": 4612, \"fpr\": 0.04173801369863014, \"tpr\": 0.18581960104076323, \"n\": 4672}, {\"threshold\": 0.69, \"p\": 4612, \"fpr\": 0.040667808219178085, \"tpr\": 0.18451864700780574, \"n\": 4672}, {\"threshold\": 0.691, \"p\": 4612, \"fpr\": 0.04023972602739726, \"tpr\": 0.18300086730268864, \"n\": 4672}, {\"threshold\": 0.692, \"p\": 4612, \"fpr\": 0.038741438356164386, \"tpr\": 0.1806157849089332, \"n\": 4672}, {\"threshold\": 0.693, \"p\": 4612, \"fpr\": 0.038527397260273974, \"tpr\": 0.1806157849089332, \"n\": 4672}, {\"threshold\": 0.694, \"p\": 4612, \"fpr\": 0.03831335616438356, \"tpr\": 0.17974848222029488, \"n\": 4672}, {\"threshold\": 0.695, \"p\": 4612, \"fpr\": 0.03809931506849315, \"tpr\": 0.1769297484822203, \"n\": 4672}, {\"threshold\": 0.696, \"p\": 4612, \"fpr\": 0.03638698630136986, \"tpr\": 0.17194275802254988, \"n\": 4672}, {\"threshold\": 0.697, \"p\": 4612, \"fpr\": 0.03595890410958904, \"tpr\": 0.16934084995663487, \"n\": 4672}, {\"threshold\": 0.698, \"p\": 4612, \"fpr\": 0.03574486301369863, \"tpr\": 0.16825672159583693, \"n\": 4672}, {\"threshold\": 0.699, \"p\": 4612, \"fpr\": 0.03574486301369863, \"tpr\": 0.16782307025151777, \"n\": 4672}, {\"threshold\": 0.7, \"p\": 4612, \"fpr\": 0.03574486301369863, \"tpr\": 0.16652211621856028, \"n\": 4672}, {\"threshold\": 0.701, \"p\": 4612, \"fpr\": 0.03553082191780822, \"tpr\": 0.16608846487424112, \"n\": 4672}, {\"threshold\": 0.702, \"p\": 4612, \"fpr\": 0.03446061643835616, \"tpr\": 0.16153512575888984, \"n\": 4672}, {\"threshold\": 0.703, \"p\": 4612, \"fpr\": 0.03424657534246575, \"tpr\": 0.16131830008673026, \"n\": 4672}, {\"threshold\": 0.704, \"p\": 4612, \"fpr\": 0.03424657534246575, \"tpr\": 0.1598005203816132, \"n\": 4672}, {\"threshold\": 0.705, \"p\": 4612, \"fpr\": 0.03424657534246575, \"tpr\": 0.1598005203816132, \"n\": 4672}, {\"threshold\": 0.706, \"p\": 4612, \"fpr\": 0.03360445205479452, \"tpr\": 0.15784908933217692, \"n\": 4672}, {\"threshold\": 0.707, \"p\": 4612, \"fpr\": 0.03339041095890411, \"tpr\": 0.15394622723330442, \"n\": 4672}, {\"threshold\": 0.708, \"p\": 4612, \"fpr\": 0.0331763698630137, \"tpr\": 0.1528620988725065, \"n\": 4672}, {\"threshold\": 0.709, \"p\": 4612, \"fpr\": 0.032748287671232876, \"tpr\": 0.1513443191673894, \"n\": 4672}, {\"threshold\": 0.71, \"p\": 4612, \"fpr\": 0.03232020547945205, \"tpr\": 0.1513443191673894, \"n\": 4672}, {\"threshold\": 0.711, \"p\": 4612, \"fpr\": 0.031678082191780824, \"tpr\": 0.14809193408499566, \"n\": 4672}, {\"threshold\": 0.712, \"p\": 4612, \"fpr\": 0.03125, \"tpr\": 0.146357328707719, \"n\": 4672}, {\"threshold\": 0.713, \"p\": 4612, \"fpr\": 0.029751712328767124, \"tpr\": 0.1420208152645273, \"n\": 4672}, {\"threshold\": 0.714, \"p\": 4612, \"fpr\": 0.029537671232876712, \"tpr\": 0.1398525585429315, \"n\": 4672}, {\"threshold\": 0.715, \"p\": 4612, \"fpr\": 0.029537671232876712, \"tpr\": 0.1383347788378144, \"n\": 4672}, {\"threshold\": 0.716, \"p\": 4612, \"fpr\": 0.028039383561643837, \"tpr\": 0.13638334778837816, \"n\": 4672}, {\"threshold\": 0.717, \"p\": 4612, \"fpr\": 0.0273972602739726, \"tpr\": 0.13508239375542064, \"n\": 4672}, {\"threshold\": 0.718, \"p\": 4612, \"fpr\": 0.0273972602739726, \"tpr\": 0.13486556808326106, \"n\": 4672}, {\"threshold\": 0.719, \"p\": 4612, \"fpr\": 0.026113013698630137, \"tpr\": 0.13248048568950563, \"n\": 4672}, {\"threshold\": 0.72, \"p\": 4612, \"fpr\": 0.025898972602739725, \"tpr\": 0.13204683434518646, \"n\": 4672}, {\"threshold\": 0.721, \"p\": 4612, \"fpr\": 0.025470890410958905, \"tpr\": 0.13139635732870772, \"n\": 4672}, {\"threshold\": 0.722, \"p\": 4612, \"fpr\": 0.025256849315068493, \"tpr\": 0.12944492627927146, \"n\": 4672}, {\"threshold\": 0.723, \"p\": 4612, \"fpr\": 0.02482876712328767, \"tpr\": 0.12727666955767564, \"n\": 4672}, {\"threshold\": 0.724, \"p\": 4612, \"fpr\": 0.024186643835616438, \"tpr\": 0.12575888985255854, \"n\": 4672}, {\"threshold\": 0.725, \"p\": 4612, \"fpr\": 0.023758561643835618, \"tpr\": 0.1235906331309627, \"n\": 4672}, {\"threshold\": 0.726, \"p\": 4612, \"fpr\": 0.023330479452054794, \"tpr\": 0.12250650477016478, \"n\": 4672}, {\"threshold\": 0.727, \"p\": 4612, \"fpr\": 0.023116438356164382, \"tpr\": 0.12120555073720729, \"n\": 4672}, {\"threshold\": 0.728, \"p\": 4612, \"fpr\": 0.023116438356164382, \"tpr\": 0.12077189939288811, \"n\": 4672}, {\"threshold\": 0.729, \"p\": 4612, \"fpr\": 0.02226027397260274, \"tpr\": 0.11773633998265394, \"n\": 4672}, {\"threshold\": 0.73, \"p\": 4612, \"fpr\": 0.02226027397260274, \"tpr\": 0.1170858629661752, \"n\": 4672}, {\"threshold\": 0.731, \"p\": 4612, \"fpr\": 0.020333904109589043, \"tpr\": 0.11383347788378144, \"n\": 4672}, {\"threshold\": 0.732, \"p\": 4612, \"fpr\": 0.020333904109589043, \"tpr\": 0.1129661751951431, \"n\": 4672}, {\"threshold\": 0.733, \"p\": 4612, \"fpr\": 0.0194777397260274, \"tpr\": 0.11123156981786643, \"n\": 4672}, {\"threshold\": 0.734, \"p\": 4612, \"fpr\": 0.019263698630136987, \"tpr\": 0.11079791847354727, \"n\": 4672}, {\"threshold\": 0.735, \"p\": 4612, \"fpr\": 0.018407534246575343, \"tpr\": 0.10862966175195143, \"n\": 4672}, {\"threshold\": 0.736, \"p\": 4612, \"fpr\": 0.018407534246575343, \"tpr\": 0.10797918473547267, \"n\": 4672}, {\"threshold\": 0.737, \"p\": 4612, \"fpr\": 0.018407534246575343, \"tpr\": 0.10754553339115351, \"n\": 4672}, {\"threshold\": 0.738, \"p\": 4612, \"fpr\": 0.01776541095890411, \"tpr\": 0.1049436253252385, \"n\": 4672}, {\"threshold\": 0.739, \"p\": 4612, \"fpr\": 0.0175513698630137, \"tpr\": 0.10299219427580225, \"n\": 4672}, {\"threshold\": 0.74, \"p\": 4612, \"fpr\": 0.017337328767123288, \"tpr\": 0.10255854293148309, \"n\": 4672}, {\"threshold\": 0.741, \"p\": 4612, \"fpr\": 0.017337328767123288, \"tpr\": 0.10255854293148309, \"n\": 4672}, {\"threshold\": 0.742, \"p\": 4612, \"fpr\": 0.017337328767123288, \"tpr\": 0.10147441457068516, \"n\": 4672}, {\"threshold\": 0.743, \"p\": 4612, \"fpr\": 0.017123287671232876, \"tpr\": 0.10082393755420642, \"n\": 4672}, {\"threshold\": 0.744, \"p\": 4612, \"fpr\": 0.016695205479452056, \"tpr\": 0.09843885516045099, \"n\": 4672}, {\"threshold\": 0.745, \"p\": 4612, \"fpr\": 0.016481164383561644, \"tpr\": 0.09843885516045099, \"n\": 4672}, {\"threshold\": 0.746, \"p\": 4612, \"fpr\": 0.016267123287671232, \"tpr\": 0.09778837814397225, \"n\": 4672}, {\"threshold\": 0.747, \"p\": 4612, \"fpr\": 0.015625, \"tpr\": 0.09757155247181266, \"n\": 4672}, {\"threshold\": 0.748, \"p\": 4612, \"fpr\": 0.015625, \"tpr\": 0.09627059843885516, \"n\": 4672}, {\"threshold\": 0.749, \"p\": 4612, \"fpr\": 0.015410958904109588, \"tpr\": 0.09540329575021683, \"n\": 4672}, {\"threshold\": 0.75, \"p\": 4612, \"fpr\": 0.015410958904109588, \"tpr\": 0.09453599306157849, \"n\": 4672}, {\"threshold\": 0.751, \"p\": 4612, \"fpr\": 0.015410958904109588, \"tpr\": 0.09431916738941891, \"n\": 4672}, {\"threshold\": 0.752, \"p\": 4612, \"fpr\": 0.014982876712328766, \"tpr\": 0.09150043365134432, \"n\": 4672}, {\"threshold\": 0.753, \"p\": 4612, \"fpr\": 0.014554794520547944, \"tpr\": 0.08998265394622723, \"n\": 4672}, {\"threshold\": 0.754, \"p\": 4612, \"fpr\": 0.014340753424657534, \"tpr\": 0.08889852558542931, \"n\": 4672}, {\"threshold\": 0.755, \"p\": 4612, \"fpr\": 0.014126712328767123, \"tpr\": 0.08694709453599306, \"n\": 4672}, {\"threshold\": 0.756, \"p\": 4612, \"fpr\": 0.013912671232876712, \"tpr\": 0.0865134431916739, \"n\": 4672}, {\"threshold\": 0.757, \"p\": 4612, \"fpr\": 0.013056506849315069, \"tpr\": 0.08326105810928014, \"n\": 4672}, {\"threshold\": 0.758, \"p\": 4612, \"fpr\": 0.012842465753424657, \"tpr\": 0.0826105810928014, \"n\": 4672}, {\"threshold\": 0.759, \"p\": 4612, \"fpr\": 0.012414383561643835, \"tpr\": 0.08174327840416305, \"n\": 4672}, {\"threshold\": 0.76, \"p\": 4612, \"fpr\": 0.011986301369863013, \"tpr\": 0.08044232437120555, \"n\": 4672}, {\"threshold\": 0.761, \"p\": 4612, \"fpr\": 0.011772260273972603, \"tpr\": 0.07914137033824804, \"n\": 4672}, {\"threshold\": 0.762, \"p\": 4612, \"fpr\": 0.011558219178082191, \"tpr\": 0.07870771899392888, \"n\": 4672}, {\"threshold\": 0.763, \"p\": 4612, \"fpr\": 0.011344178082191781, \"tpr\": 0.07827406764960972, \"n\": 4672}, {\"threshold\": 0.764, \"p\": 4612, \"fpr\": 0.011344178082191781, \"tpr\": 0.07805724197745013, \"n\": 4672}, {\"threshold\": 0.765, \"p\": 4612, \"fpr\": 0.011344178082191781, \"tpr\": 0.0756721595836947, \"n\": 4672}, {\"threshold\": 0.766, \"p\": 4612, \"fpr\": 0.011344178082191781, \"tpr\": 0.0743712055507372, \"n\": 4672}, {\"threshold\": 0.767, \"p\": 4612, \"fpr\": 0.01113013698630137, \"tpr\": 0.07415437987857762, \"n\": 4672}, {\"threshold\": 0.768, \"p\": 4612, \"fpr\": 0.01113013698630137, \"tpr\": 0.07393755420641804, \"n\": 4672}, {\"threshold\": 0.769, \"p\": 4612, \"fpr\": 0.010488013698630137, \"tpr\": 0.07198612315698179, \"n\": 4672}, {\"threshold\": 0.77, \"p\": 4612, \"fpr\": 0.010488013698630137, \"tpr\": 0.07111882046834345, \"n\": 4672}, {\"threshold\": 0.771, \"p\": 4612, \"fpr\": 0.009631849315068493, \"tpr\": 0.0691673894189072, \"n\": 4672}, {\"threshold\": 0.772, \"p\": 4612, \"fpr\": 0.009417808219178082, \"tpr\": 0.06851691240242845, \"n\": 4672}, {\"threshold\": 0.773, \"p\": 4612, \"fpr\": 0.009417808219178082, \"tpr\": 0.06786643538594969, \"n\": 4672}, {\"threshold\": 0.774, \"p\": 4612, \"fpr\": 0.00877568493150685, \"tpr\": 0.0665654813529922, \"n\": 4672}, {\"threshold\": 0.775, \"p\": 4612, \"fpr\": 0.008347602739726028, \"tpr\": 0.06352992194275803, \"n\": 4672}, {\"threshold\": 0.776, \"p\": 4612, \"fpr\": 0.007919520547945206, \"tpr\": 0.06179531656548135, \"n\": 4672}, {\"threshold\": 0.777, \"p\": 4612, \"fpr\": 0.007919520547945206, \"tpr\": 0.06136166522116219, \"n\": 4672}, {\"threshold\": 0.778, \"p\": 4612, \"fpr\": 0.007705479452054794, \"tpr\": 0.05767562879444926, \"n\": 4672}, {\"threshold\": 0.779, \"p\": 4612, \"fpr\": 0.007705479452054794, \"tpr\": 0.055941023417172595, \"n\": 4672}, {\"threshold\": 0.78, \"p\": 4612, \"fpr\": 0.007277397260273972, \"tpr\": 0.05507372072853426, \"n\": 4672}, {\"threshold\": 0.781, \"p\": 4612, \"fpr\": 0.007063356164383561, \"tpr\": 0.05203816131830009, \"n\": 4672}, {\"threshold\": 0.782, \"p\": 4612, \"fpr\": 0.007063356164383561, \"tpr\": 0.05203816131830009, \"n\": 4672}, {\"threshold\": 0.783, \"p\": 4612, \"fpr\": 0.00684931506849315, \"tpr\": 0.05160450997398092, \"n\": 4672}, {\"threshold\": 0.784, \"p\": 4612, \"fpr\": 0.00684931506849315, \"tpr\": 0.051387684301821335, \"n\": 4672}, {\"threshold\": 0.785, \"p\": 4612, \"fpr\": 0.00684931506849315, \"tpr\": 0.05095403295750217, \"n\": 4672}, {\"threshold\": 0.786, \"p\": 4612, \"fpr\": 0.006635273972602739, \"tpr\": 0.049653078924544666, \"n\": 4672}, {\"threshold\": 0.787, \"p\": 4612, \"fpr\": 0.006635273972602739, \"tpr\": 0.049653078924544666, \"n\": 4672}, {\"threshold\": 0.788, \"p\": 4612, \"fpr\": 0.0059931506849315065, \"tpr\": 0.04813529921942758, \"n\": 4672}, {\"threshold\": 0.789, \"p\": 4612, \"fpr\": 0.005779109589041096, \"tpr\": 0.04748482220294883, \"n\": 4672}, {\"threshold\": 0.79, \"p\": 4612, \"fpr\": 0.005779109589041096, \"tpr\": 0.04618386816999133, \"n\": 4672}, {\"threshold\": 0.791, \"p\": 4612, \"fpr\": 0.005351027397260274, \"tpr\": 0.045316565481352995, \"n\": 4672}, {\"threshold\": 0.792, \"p\": 4612, \"fpr\": 0.005351027397260274, \"tpr\": 0.04466608846487424, \"n\": 4672}, {\"threshold\": 0.793, \"p\": 4612, \"fpr\": 0.005136986301369863, \"tpr\": 0.044449262792714654, \"n\": 4672}, {\"threshold\": 0.794, \"p\": 4612, \"fpr\": 0.004922945205479452, \"tpr\": 0.042931483087597574, \"n\": 4672}, {\"threshold\": 0.795, \"p\": 4612, \"fpr\": 0.004280821917808219, \"tpr\": 0.04141370338248049, \"n\": 4672}, {\"threshold\": 0.796, \"p\": 4612, \"fpr\": 0.004280821917808219, \"tpr\": 0.04098005203816132, \"n\": 4672}, {\"threshold\": 0.797, \"p\": 4612, \"fpr\": 0.004280821917808219, \"tpr\": 0.040546400693842154, \"n\": 4672}, {\"threshold\": 0.798, \"p\": 4612, \"fpr\": 0.004280821917808219, \"tpr\": 0.0398959236773634, \"n\": 4672}, {\"threshold\": 0.799, \"p\": 4612, \"fpr\": 0.004066780821917808, \"tpr\": 0.03946227233304423, \"n\": 4672}, {\"threshold\": 0.8, \"p\": 4612, \"fpr\": 0.004066780821917808, \"tpr\": 0.037944492627927144, \"n\": 4672}, {\"threshold\": 0.801, \"p\": 4612, \"fpr\": 0.004066780821917808, \"tpr\": 0.03686036426712923, \"n\": 4672}, {\"threshold\": 0.802, \"p\": 4612, \"fpr\": 0.004066780821917808, \"tpr\": 0.035993061578490894, \"n\": 4672}, {\"threshold\": 0.803, \"p\": 4612, \"fpr\": 0.003852739726027397, \"tpr\": 0.03447528187337381, \"n\": 4672}, {\"threshold\": 0.804, \"p\": 4612, \"fpr\": 0.003852739726027397, \"tpr\": 0.03274067649609714, \"n\": 4672}, {\"threshold\": 0.805, \"p\": 4612, \"fpr\": 0.003852739726027397, \"tpr\": 0.03274067649609714, \"n\": 4672}, {\"threshold\": 0.806, \"p\": 4612, \"fpr\": 0.0029965753424657533, \"tpr\": 0.030789245446660885, \"n\": 4672}, {\"threshold\": 0.807, \"p\": 4612, \"fpr\": 0.0025684931506849314, \"tpr\": 0.029488291413703384, \"n\": 4672}, {\"threshold\": 0.808, \"p\": 4612, \"fpr\": 0.0025684931506849314, \"tpr\": 0.029054640069384217, \"n\": 4672}, {\"threshold\": 0.809, \"p\": 4612, \"fpr\": 0.0025684931506849314, \"tpr\": 0.02818733738074588, \"n\": 4672}, {\"threshold\": 0.81, \"p\": 4612, \"fpr\": 0.0025684931506849314, \"tpr\": 0.02818733738074588, \"n\": 4672}, {\"threshold\": 0.811, \"p\": 4612, \"fpr\": 0.0023544520547945204, \"tpr\": 0.026886383347788378, \"n\": 4672}, {\"threshold\": 0.812, \"p\": 4612, \"fpr\": 0.0019263698630136985, \"tpr\": 0.02645273200346921, \"n\": 4672}, {\"threshold\": 0.813, \"p\": 4612, \"fpr\": 0.0019263698630136985, \"tpr\": 0.02580225498699046, \"n\": 4672}, {\"threshold\": 0.814, \"p\": 4612, \"fpr\": 0.0019263698630136985, \"tpr\": 0.02580225498699046, \"n\": 4672}, {\"threshold\": 0.815, \"p\": 4612, \"fpr\": 0.0017123287671232876, \"tpr\": 0.024718126626192542, \"n\": 4672}, {\"threshold\": 0.816, \"p\": 4612, \"fpr\": 0.0017123287671232876, \"tpr\": 0.024718126626192542, \"n\": 4672}, {\"threshold\": 0.817, \"p\": 4612, \"fpr\": 0.0008561643835616438, \"tpr\": 0.019297484822202948, \"n\": 4672}, {\"threshold\": 0.818, \"p\": 4612, \"fpr\": 0.0006421232876712328, \"tpr\": 0.017346053772766695, \"n\": 4672}, {\"threshold\": 0.819, \"p\": 4612, \"fpr\": 0.0006421232876712328, \"tpr\": 0.016695576756287946, \"n\": 4672}, {\"threshold\": 0.82, \"p\": 4612, \"fpr\": 0.0006421232876712328, \"tpr\": 0.013876843018213356, \"n\": 4672}, {\"threshold\": 0.821, \"p\": 4612, \"fpr\": 0.0006421232876712328, \"tpr\": 0.013876843018213356, \"n\": 4672}, {\"threshold\": 0.822, \"p\": 4612, \"fpr\": 0.0004280821917808219, \"tpr\": 0.012359063313096271, \"n\": 4672}, {\"threshold\": 0.823, \"p\": 4612, \"fpr\": 0.0004280821917808219, \"tpr\": 0.012142237640936688, \"n\": 4672}, {\"threshold\": 0.824, \"p\": 4612, \"fpr\": 0.0004280821917808219, \"tpr\": 0.012142237640936688, \"n\": 4672}, {\"threshold\": 0.825, \"p\": 4612, \"fpr\": 0.0004280821917808219, \"tpr\": 0.010624457935819601, \"n\": 4672}, {\"threshold\": 0.826, \"p\": 4612, \"fpr\": 0.0004280821917808219, \"tpr\": 0.010407632263660017, \"n\": 4672}, {\"threshold\": 0.827, \"p\": 4612, \"fpr\": 0.00021404109589041095, \"tpr\": 0.008673026886383347, \"n\": 4672}, {\"threshold\": 0.828, \"p\": 4612, \"fpr\": 0.00021404109589041095, \"tpr\": 0.008022549869904597, \"n\": 4672}, {\"threshold\": 0.829, \"p\": 4612, \"fpr\": 0.00021404109589041095, \"tpr\": 0.008022549869904597, \"n\": 4672}, {\"threshold\": 0.83, \"p\": 4612, \"fpr\": 0.0, \"tpr\": 0.003686036426712923, \"n\": 4672}, {\"threshold\": 0.831, \"p\": 4612, \"fpr\": 0.0, \"tpr\": 0.003686036426712923, \"n\": 4672}, {\"threshold\": 0.832, \"p\": 4612, \"fpr\": 0.0, \"tpr\": 0.003686036426712923, \"n\": 4672}, {\"threshold\": 0.833, \"p\": 4612, \"fpr\": 0.0, \"tpr\": 0.003469210754553339, \"n\": 4672}, {\"threshold\": 0.834, \"p\": 4612, \"fpr\": 0.0, \"tpr\": 0.003469210754553339, \"n\": 4672}, {\"threshold\": 0.835, \"p\": 4612, \"fpr\": 0.0, \"tpr\": 0.003469210754553339, \"n\": 4672}, {\"threshold\": 0.836, \"p\": 4612, \"fpr\": 0.0, \"tpr\": 0.003469210754553339, \"n\": 4672}, {\"threshold\": 0.837, \"p\": 4612, \"fpr\": 0.0, \"tpr\": 0.003469210754553339, \"n\": 4672}, {\"threshold\": 0.838, \"p\": 4612, \"fpr\": 0.0, \"tpr\": 0.001517779705117086, \"n\": 4672}, {\"threshold\": 0.839, \"p\": 4612, \"fpr\": 0.0, \"tpr\": 0.001517779705117086, \"n\": 4672}, {\"threshold\": 0.84, \"p\": 4612, \"fpr\": 0.0, \"tpr\": 0.001517779705117086, \"n\": 4672}, {\"threshold\": 0.841, \"p\": 4612, \"fpr\": 0.0, \"tpr\": 0.0010841283607979184, \"n\": 4672}, {\"threshold\": 0.842, \"p\": 4612, \"fpr\": 0.0, \"tpr\": 0.0010841283607979184, \"n\": 4672}, {\"threshold\": 0.843, \"p\": 4612, \"fpr\": 0.0, \"tpr\": 0.0010841283607979184, \"n\": 4672}, {\"threshold\": 0.844, \"p\": 4612, \"fpr\": 0.0, \"tpr\": 0.0010841283607979184, \"n\": 4672}, {\"threshold\": 0.845, \"p\": 4612, \"fpr\": 0.0, \"tpr\": 0.0008673026886383347, \"n\": 4672}, {\"threshold\": 0.846, \"p\": 4612, \"fpr\": 0.0, \"tpr\": 0.0008673026886383347, \"n\": 4672}, {\"threshold\": 0.847, \"p\": 4612, \"fpr\": 0.0, \"tpr\": 0.0008673026886383347, \"n\": 4672}, {\"threshold\": 0.848, \"p\": 4612, \"fpr\": 0.0, \"tpr\": 0.0008673026886383347, \"n\": 4672}, {\"threshold\": 0.849, \"p\": 4612, \"fpr\": 0.0, \"tpr\": 0.0008673026886383347, \"n\": 4672}, {\"threshold\": 0.85, \"p\": 4612, \"fpr\": 0.0, \"tpr\": 0.0, \"n\": 4672}, {\"threshold\": 0.851, \"p\": 4612, \"fpr\": 0.0, \"tpr\": 0.0, \"n\": 4672}, {\"threshold\": 0.852, \"p\": 4612, \"fpr\": 0.0, \"tpr\": 0.0, \"n\": 4672}, {\"threshold\": 0.853, \"p\": 4612, \"fpr\": 0.0, \"tpr\": 0.0, \"n\": 4672}, {\"threshold\": 0.854, \"p\": 4612, \"fpr\": 0.0, \"tpr\": 0.0, \"n\": 4672}, {\"threshold\": 0.855, \"p\": 4612, \"fpr\": 0.0, \"tpr\": 0.0, \"n\": 4672}, {\"threshold\": 0.856, \"p\": 4612, \"fpr\": 0.0, \"tpr\": 0.0, \"n\": 4672}, {\"threshold\": 0.857, \"p\": 4612, \"fpr\": 0.0, \"tpr\": 0.0, \"n\": 4672}, {\"threshold\": 0.858, \"p\": 4612, \"fpr\": 0.0, \"tpr\": 0.0, \"n\": 4672}, {\"threshold\": 0.859, \"p\": 4612, \"fpr\": 0.0, \"tpr\": 0.0, \"n\": 4672}, {\"threshold\": 0.86, \"p\": 4612, \"fpr\": 0.0, \"tpr\": 0.0, \"n\": 4672}, {\"threshold\": 0.861, \"p\": 4612, \"fpr\": 0.0, \"tpr\": 0.0, \"n\": 4672}, {\"threshold\": 0.862, \"p\": 4612, \"fpr\": 0.0, \"tpr\": 0.0, \"n\": 4672}, {\"threshold\": 0.863, \"p\": 4612, \"fpr\": 0.0, \"tpr\": 0.0, \"n\": 4672}, {\"threshold\": 0.864, \"p\": 4612, \"fpr\": 0.0, \"tpr\": 0.0, \"n\": 4672}, {\"threshold\": 0.865, \"p\": 4612, \"fpr\": 0.0, \"tpr\": 0.0, \"n\": 4672}, {\"threshold\": 0.866, \"p\": 4612, \"fpr\": 0.0, \"tpr\": 0.0, \"n\": 4672}, {\"threshold\": 0.867, \"p\": 4612, \"fpr\": 0.0, \"tpr\": 0.0, \"n\": 4672}, {\"threshold\": 0.868, \"p\": 4612, \"fpr\": 0.0, \"tpr\": 0.0, \"n\": 4672}, {\"threshold\": 0.869, \"p\": 4612, \"fpr\": 0.0, \"tpr\": 0.0, \"n\": 4672}, {\"threshold\": 0.87, \"p\": 4612, \"fpr\": 0.0, \"tpr\": 0.0, \"n\": 4672}, {\"threshold\": 0.871, \"p\": 4612, \"fpr\": 0.0, \"tpr\": 0.0, \"n\": 4672}, {\"threshold\": 0.872, \"p\": 4612, \"fpr\": 0.0, \"tpr\": 0.0, \"n\": 4672}, {\"threshold\": 0.873, \"p\": 4612, \"fpr\": 0.0, \"tpr\": 0.0, \"n\": 4672}, {\"threshold\": 0.874, \"p\": 4612, \"fpr\": 0.0, \"tpr\": 0.0, \"n\": 4672}, {\"threshold\": 0.875, \"p\": 4612, \"fpr\": 0.0, \"tpr\": 0.0, \"n\": 4672}, {\"threshold\": 0.876, \"p\": 4612, \"fpr\": 0.0, \"tpr\": 0.0, \"n\": 4672}, {\"threshold\": 0.877, \"p\": 4612, \"fpr\": 0.0, \"tpr\": 0.0, \"n\": 4672}, {\"threshold\": 0.878, \"p\": 4612, \"fpr\": 0.0, \"tpr\": 0.0, \"n\": 4672}, {\"threshold\": 0.879, \"p\": 4612, \"fpr\": 0.0, \"tpr\": 0.0, \"n\": 4672}, {\"threshold\": 0.88, \"p\": 4612, \"fpr\": 0.0, \"tpr\": 0.0, \"n\": 4672}, {\"threshold\": 0.881, \"p\": 4612, \"fpr\": 0.0, \"tpr\": 0.0, \"n\": 4672}, {\"threshold\": 0.882, \"p\": 4612, \"fpr\": 0.0, \"tpr\": 0.0, \"n\": 4672}, {\"threshold\": 0.883, \"p\": 4612, \"fpr\": 0.0, \"tpr\": 0.0, \"n\": 4672}, {\"threshold\": 0.884, \"p\": 4612, \"fpr\": 0.0, \"tpr\": 0.0, \"n\": 4672}, {\"threshold\": 0.885, \"p\": 4612, \"fpr\": 0.0, \"tpr\": 0.0, \"n\": 4672}, {\"threshold\": 0.886, \"p\": 4612, \"fpr\": 0.0, \"tpr\": 0.0, \"n\": 4672}, {\"threshold\": 0.887, \"p\": 4612, \"fpr\": 0.0, \"tpr\": 0.0, \"n\": 4672}, {\"threshold\": 0.888, \"p\": 4612, \"fpr\": 0.0, \"tpr\": 0.0, \"n\": 4672}, {\"threshold\": 0.889, \"p\": 4612, \"fpr\": 0.0, \"tpr\": 0.0, \"n\": 4672}, {\"threshold\": 0.89, \"p\": 4612, \"fpr\": 0.0, \"tpr\": 0.0, \"n\": 4672}, {\"threshold\": 0.891, \"p\": 4612, \"fpr\": 0.0, \"tpr\": 0.0, \"n\": 4672}, {\"threshold\": 0.892, \"p\": 4612, \"fpr\": 0.0, \"tpr\": 0.0, \"n\": 4672}, {\"threshold\": 0.893, \"p\": 4612, \"fpr\": 0.0, \"tpr\": 0.0, \"n\": 4672}, {\"threshold\": 0.894, \"p\": 4612, \"fpr\": 0.0, \"tpr\": 0.0, \"n\": 4672}, {\"threshold\": 0.895, \"p\": 4612, \"fpr\": 0.0, \"tpr\": 0.0, \"n\": 4672}, {\"threshold\": 0.896, \"p\": 4612, \"fpr\": 0.0, \"tpr\": 0.0, \"n\": 4672}, {\"threshold\": 0.897, \"p\": 4612, \"fpr\": 0.0, \"tpr\": 0.0, \"n\": 4672}, {\"threshold\": 0.898, \"p\": 4612, \"fpr\": 0.0, \"tpr\": 0.0, \"n\": 4672}, {\"threshold\": 0.899, \"p\": 4612, \"fpr\": 0.0, \"tpr\": 0.0, \"n\": 4672}, {\"threshold\": 0.9, \"p\": 4612, \"fpr\": 0.0, \"tpr\": 0.0, \"n\": 4672}, {\"threshold\": 0.901, \"p\": 4612, \"fpr\": 0.0, \"tpr\": 0.0, \"n\": 4672}, {\"threshold\": 0.902, \"p\": 4612, \"fpr\": 0.0, \"tpr\": 0.0, \"n\": 4672}, {\"threshold\": 0.903, \"p\": 4612, \"fpr\": 0.0, \"tpr\": 0.0, \"n\": 4672}, {\"threshold\": 0.904, \"p\": 4612, \"fpr\": 0.0, \"tpr\": 0.0, \"n\": 4672}, {\"threshold\": 0.905, \"p\": 4612, \"fpr\": 0.0, \"tpr\": 0.0, \"n\": 4672}, {\"threshold\": 0.906, \"p\": 4612, \"fpr\": 0.0, \"tpr\": 0.0, \"n\": 4672}, {\"threshold\": 0.907, \"p\": 4612, \"fpr\": 0.0, \"tpr\": 0.0, \"n\": 4672}, {\"threshold\": 0.908, \"p\": 4612, \"fpr\": 0.0, \"tpr\": 0.0, \"n\": 4672}, {\"threshold\": 0.909, \"p\": 4612, \"fpr\": 0.0, \"tpr\": 0.0, \"n\": 4672}, {\"threshold\": 0.91, \"p\": 4612, \"fpr\": 0.0, \"tpr\": 0.0, \"n\": 4672}, {\"threshold\": 0.911, \"p\": 4612, \"fpr\": 0.0, \"tpr\": 0.0, \"n\": 4672}, {\"threshold\": 0.912, \"p\": 4612, \"fpr\": 0.0, \"tpr\": 0.0, \"n\": 4672}, {\"threshold\": 0.913, \"p\": 4612, \"fpr\": 0.0, \"tpr\": 0.0, \"n\": 4672}, {\"threshold\": 0.914, \"p\": 4612, \"fpr\": 0.0, \"tpr\": 0.0, \"n\": 4672}, {\"threshold\": 0.915, \"p\": 4612, \"fpr\": 0.0, \"tpr\": 0.0, \"n\": 4672}, {\"threshold\": 0.916, \"p\": 4612, \"fpr\": 0.0, \"tpr\": 0.0, \"n\": 4672}, {\"threshold\": 0.917, \"p\": 4612, \"fpr\": 0.0, \"tpr\": 0.0, \"n\": 4672}, {\"threshold\": 0.918, \"p\": 4612, \"fpr\": 0.0, \"tpr\": 0.0, \"n\": 4672}, {\"threshold\": 0.919, \"p\": 4612, \"fpr\": 0.0, \"tpr\": 0.0, \"n\": 4672}, {\"threshold\": 0.92, \"p\": 4612, \"fpr\": 0.0, \"tpr\": 0.0, \"n\": 4672}, {\"threshold\": 0.921, \"p\": 4612, \"fpr\": 0.0, \"tpr\": 0.0, \"n\": 4672}, {\"threshold\": 0.922, \"p\": 4612, \"fpr\": 0.0, \"tpr\": 0.0, \"n\": 4672}, {\"threshold\": 0.923, \"p\": 4612, \"fpr\": 0.0, \"tpr\": 0.0, \"n\": 4672}, {\"threshold\": 0.924, \"p\": 4612, \"fpr\": 0.0, \"tpr\": 0.0, \"n\": 4672}, {\"threshold\": 0.925, \"p\": 4612, \"fpr\": 0.0, \"tpr\": 0.0, \"n\": 4672}, {\"threshold\": 0.926, \"p\": 4612, \"fpr\": 0.0, \"tpr\": 0.0, \"n\": 4672}, {\"threshold\": 0.927, \"p\": 4612, \"fpr\": 0.0, \"tpr\": 0.0, \"n\": 4672}, {\"threshold\": 0.928, \"p\": 4612, \"fpr\": 0.0, \"tpr\": 0.0, \"n\": 4672}, {\"threshold\": 0.929, \"p\": 4612, \"fpr\": 0.0, \"tpr\": 0.0, \"n\": 4672}, {\"threshold\": 0.93, \"p\": 4612, \"fpr\": 0.0, \"tpr\": 0.0, \"n\": 4672}, {\"threshold\": 0.931, \"p\": 4612, \"fpr\": 0.0, \"tpr\": 0.0, \"n\": 4672}, {\"threshold\": 0.932, \"p\": 4612, \"fpr\": 0.0, \"tpr\": 0.0, \"n\": 4672}, {\"threshold\": 0.933, \"p\": 4612, \"fpr\": 0.0, \"tpr\": 0.0, \"n\": 4672}, {\"threshold\": 0.934, \"p\": 4612, \"fpr\": 0.0, \"tpr\": 0.0, \"n\": 4672}, {\"threshold\": 0.935, \"p\": 4612, \"fpr\": 0.0, \"tpr\": 0.0, \"n\": 4672}, {\"threshold\": 0.936, \"p\": 4612, \"fpr\": 0.0, \"tpr\": 0.0, \"n\": 4672}, {\"threshold\": 0.937, \"p\": 4612, \"fpr\": 0.0, \"tpr\": 0.0, \"n\": 4672}, {\"threshold\": 0.938, \"p\": 4612, \"fpr\": 0.0, \"tpr\": 0.0, \"n\": 4672}, {\"threshold\": 0.939, \"p\": 4612, \"fpr\": 0.0, \"tpr\": 0.0, \"n\": 4672}, {\"threshold\": 0.94, \"p\": 4612, \"fpr\": 0.0, \"tpr\": 0.0, \"n\": 4672}, {\"threshold\": 0.941, \"p\": 4612, \"fpr\": 0.0, \"tpr\": 0.0, \"n\": 4672}, {\"threshold\": 0.942, \"p\": 4612, \"fpr\": 0.0, \"tpr\": 0.0, \"n\": 4672}, {\"threshold\": 0.943, \"p\": 4612, \"fpr\": 0.0, \"tpr\": 0.0, \"n\": 4672}, {\"threshold\": 0.944, \"p\": 4612, \"fpr\": 0.0, \"tpr\": 0.0, \"n\": 4672}, {\"threshold\": 0.945, \"p\": 4612, \"fpr\": 0.0, \"tpr\": 0.0, \"n\": 4672}, {\"threshold\": 0.946, \"p\": 4612, \"fpr\": 0.0, \"tpr\": 0.0, \"n\": 4672}, {\"threshold\": 0.947, \"p\": 4612, \"fpr\": 0.0, \"tpr\": 0.0, \"n\": 4672}, {\"threshold\": 0.948, \"p\": 4612, \"fpr\": 0.0, \"tpr\": 0.0, \"n\": 4672}, {\"threshold\": 0.949, \"p\": 4612, \"fpr\": 0.0, \"tpr\": 0.0, \"n\": 4672}, {\"threshold\": 0.95, \"p\": 4612, \"fpr\": 0.0, \"tpr\": 0.0, \"n\": 4672}, {\"threshold\": 0.951, \"p\": 4612, \"fpr\": 0.0, \"tpr\": 0.0, \"n\": 4672}, {\"threshold\": 0.952, \"p\": 4612, \"fpr\": 0.0, \"tpr\": 0.0, \"n\": 4672}, {\"threshold\": 0.953, \"p\": 4612, \"fpr\": 0.0, \"tpr\": 0.0, \"n\": 4672}, {\"threshold\": 0.954, \"p\": 4612, \"fpr\": 0.0, \"tpr\": 0.0, \"n\": 4672}, {\"threshold\": 0.955, \"p\": 4612, \"fpr\": 0.0, \"tpr\": 0.0, \"n\": 4672}, {\"threshold\": 0.956, \"p\": 4612, \"fpr\": 0.0, \"tpr\": 0.0, \"n\": 4672}, {\"threshold\": 0.957, \"p\": 4612, \"fpr\": 0.0, \"tpr\": 0.0, \"n\": 4672}, {\"threshold\": 0.958, \"p\": 4612, \"fpr\": 0.0, \"tpr\": 0.0, \"n\": 4672}, {\"threshold\": 0.959, \"p\": 4612, \"fpr\": 0.0, \"tpr\": 0.0, \"n\": 4672}, {\"threshold\": 0.96, \"p\": 4612, \"fpr\": 0.0, \"tpr\": 0.0, \"n\": 4672}, {\"threshold\": 0.961, \"p\": 4612, \"fpr\": 0.0, \"tpr\": 0.0, \"n\": 4672}, {\"threshold\": 0.962, \"p\": 4612, \"fpr\": 0.0, \"tpr\": 0.0, \"n\": 4672}, {\"threshold\": 0.963, \"p\": 4612, \"fpr\": 0.0, \"tpr\": 0.0, \"n\": 4672}, {\"threshold\": 0.964, \"p\": 4612, \"fpr\": 0.0, \"tpr\": 0.0, \"n\": 4672}, {\"threshold\": 0.965, \"p\": 4612, \"fpr\": 0.0, \"tpr\": 0.0, \"n\": 4672}, {\"threshold\": 0.966, \"p\": 4612, \"fpr\": 0.0, \"tpr\": 0.0, \"n\": 4672}, {\"threshold\": 0.967, \"p\": 4612, \"fpr\": 0.0, \"tpr\": 0.0, \"n\": 4672}, {\"threshold\": 0.968, \"p\": 4612, \"fpr\": 0.0, \"tpr\": 0.0, \"n\": 4672}, {\"threshold\": 0.969, \"p\": 4612, \"fpr\": 0.0, \"tpr\": 0.0, \"n\": 4672}, {\"threshold\": 0.97, \"p\": 4612, \"fpr\": 0.0, \"tpr\": 0.0, \"n\": 4672}, {\"threshold\": 0.971, \"p\": 4612, \"fpr\": 0.0, \"tpr\": 0.0, \"n\": 4672}, {\"threshold\": 0.972, \"p\": 4612, \"fpr\": 0.0, \"tpr\": 0.0, \"n\": 4672}, {\"threshold\": 0.973, \"p\": 4612, \"fpr\": 0.0, \"tpr\": 0.0, \"n\": 4672}, {\"threshold\": 0.974, \"p\": 4612, \"fpr\": 0.0, \"tpr\": 0.0, \"n\": 4672}, {\"threshold\": 0.975, \"p\": 4612, \"fpr\": 0.0, \"tpr\": 0.0, \"n\": 4672}, {\"threshold\": 0.976, \"p\": 4612, \"fpr\": 0.0, \"tpr\": 0.0, \"n\": 4672}, {\"threshold\": 0.977, \"p\": 4612, \"fpr\": 0.0, \"tpr\": 0.0, \"n\": 4672}, {\"threshold\": 0.978, \"p\": 4612, \"fpr\": 0.0, \"tpr\": 0.0, \"n\": 4672}, {\"threshold\": 0.979, \"p\": 4612, \"fpr\": 0.0, \"tpr\": 0.0, \"n\": 4672}, {\"threshold\": 0.98, \"p\": 4612, \"fpr\": 0.0, \"tpr\": 0.0, \"n\": 4672}, {\"threshold\": 0.981, \"p\": 4612, \"fpr\": 0.0, \"tpr\": 0.0, \"n\": 4672}, {\"threshold\": 0.982, \"p\": 4612, \"fpr\": 0.0, \"tpr\": 0.0, \"n\": 4672}, {\"threshold\": 0.983, \"p\": 4612, \"fpr\": 0.0, \"tpr\": 0.0, \"n\": 4672}, {\"threshold\": 0.984, \"p\": 4612, \"fpr\": 0.0, \"tpr\": 0.0, \"n\": 4672}, {\"threshold\": 0.985, \"p\": 4612, \"fpr\": 0.0, \"tpr\": 0.0, \"n\": 4672}, {\"threshold\": 0.986, \"p\": 4612, \"fpr\": 0.0, \"tpr\": 0.0, \"n\": 4672}, {\"threshold\": 0.987, \"p\": 4612, \"fpr\": 0.0, \"tpr\": 0.0, \"n\": 4672}, {\"threshold\": 0.988, \"p\": 4612, \"fpr\": 0.0, \"tpr\": 0.0, \"n\": 4672}, {\"threshold\": 0.989, \"p\": 4612, \"fpr\": 0.0, \"tpr\": 0.0, \"n\": 4672}, {\"threshold\": 0.99, \"p\": 4612, \"fpr\": 0.0, \"tpr\": 0.0, \"n\": 4672}, {\"threshold\": 0.991, \"p\": 4612, \"fpr\": 0.0, \"tpr\": 0.0, \"n\": 4672}, {\"threshold\": 0.992, \"p\": 4612, \"fpr\": 0.0, \"tpr\": 0.0, \"n\": 4672}, {\"threshold\": 0.993, \"p\": 4612, \"fpr\": 0.0, \"tpr\": 0.0, \"n\": 4672}, {\"threshold\": 0.994, \"p\": 4612, \"fpr\": 0.0, \"tpr\": 0.0, \"n\": 4672}, {\"threshold\": 0.995, \"p\": 4612, \"fpr\": 0.0, \"tpr\": 0.0, \"n\": 4672}, {\"threshold\": 0.996, \"p\": 4612, \"fpr\": 0.0, \"tpr\": 0.0, \"n\": 4672}, {\"threshold\": 0.997, \"p\": 4612, \"fpr\": 0.0, \"tpr\": 0.0, \"n\": 4672}, {\"threshold\": 0.998, \"p\": 4612, \"fpr\": 0.0, \"tpr\": 0.0, \"n\": 4672}, {\"threshold\": 0.999, \"p\": 4612, \"fpr\": 0.0, \"tpr\": 0.0, \"n\": 4672}, {\"threshold\": 1.0, \"p\": 4612, \"fpr\": 0.0, \"tpr\": 0.0, \"n\": 4672}], \"confusion_matrix\": [{\"count\": 1540, \"target_label\": -1, \"predicted_label\": 1}, {\"count\": 1638, \"target_label\": 1, \"predicted_label\": -1}, {\"count\": 3132, \"target_label\": -1, \"predicted_label\": -1}, {\"count\": 2974, \"target_label\": 1, \"predicted_label\": 1}], \"accuracy\": 0.6576906505816459}]], \"type\": \"Model\"}, \"ipython\": true, \"view_params\": {\"model_type\": \"regression\", \"view\": \"Evaluation\"}, \"model_type\": \"regression\", \"attributes\": {\"section_titles\": [\"Schema\", \"Settings\"], \"sections\": [[[\"Number of examples\", 37219], [\"Number of feature columns\", 24], [\"Number of unpacked features\", 24], [\"Number of classes\", 2]], [[\"Number of trees\", 5], [\"Max tree depth\", 6], [\"Training time (sec)\", 4.3714], [\"Training accuracy\", 0.6664], [\"Validation accuracy\", null], [\"Training log_loss\", 0.6106], [\"Validation log_loss\", null]]]}, \"evaluations\": [[\"validation_data\", {\"f1_score\": 0.6517641902257286, \"auc\": 0.71818774764165, \"recall\": 0.6448395490026019, \"precision\": 0.6588391670358883, \"log_loss\": 0.6206073222987161, \"roc_curve\": [{\"threshold\": 0.0, \"p\": 4612, \"fpr\": 1.0, \"tpr\": 1.0, \"n\": 4672}, {\"threshold\": 0.001, \"p\": 4612, \"fpr\": 1.0, \"tpr\": 1.0, \"n\": 4672}, {\"threshold\": 0.002, \"p\": 4612, \"fpr\": 1.0, \"tpr\": 1.0, \"n\": 4672}, {\"threshold\": 0.003, \"p\": 4612, \"fpr\": 1.0, \"tpr\": 1.0, \"n\": 4672}, {\"threshold\": 0.004, \"p\": 4612, \"fpr\": 1.0, \"tpr\": 1.0, \"n\": 4672}, {\"threshold\": 0.005, \"p\": 4612, \"fpr\": 1.0, \"tpr\": 1.0, \"n\": 4672}, {\"threshold\": 0.006, \"p\": 4612, \"fpr\": 1.0, \"tpr\": 1.0, \"n\": 4672}, {\"threshold\": 0.007, \"p\": 4612, \"fpr\": 1.0, \"tpr\": 1.0, \"n\": 4672}, {\"threshold\": 0.008, \"p\": 4612, \"fpr\": 1.0, \"tpr\": 1.0, \"n\": 4672}, {\"threshold\": 0.009, \"p\": 4612, \"fpr\": 1.0, \"tpr\": 1.0, \"n\": 4672}, {\"threshold\": 0.01, \"p\": 4612, \"fpr\": 1.0, \"tpr\": 1.0, \"n\": 4672}, {\"threshold\": 0.011, \"p\": 4612, \"fpr\": 1.0, \"tpr\": 1.0, \"n\": 4672}, {\"threshold\": 0.012, \"p\": 4612, \"fpr\": 1.0, \"tpr\": 1.0, \"n\": 4672}, {\"threshold\": 0.013, \"p\": 4612, \"fpr\": 1.0, \"tpr\": 1.0, \"n\": 4672}, {\"threshold\": 0.014, \"p\": 4612, \"fpr\": 1.0, \"tpr\": 1.0, \"n\": 4672}, {\"threshold\": 0.015, \"p\": 4612, \"fpr\": 1.0, \"tpr\": 1.0, \"n\": 4672}, {\"threshold\": 0.016, \"p\": 4612, \"fpr\": 1.0, \"tpr\": 1.0, \"n\": 4672}, {\"threshold\": 0.017, \"p\": 4612, \"fpr\": 1.0, \"tpr\": 1.0, \"n\": 4672}, {\"threshold\": 0.018, \"p\": 4612, \"fpr\": 1.0, \"tpr\": 1.0, \"n\": 4672}, {\"threshold\": 0.019, \"p\": 4612, \"fpr\": 1.0, \"tpr\": 1.0, \"n\": 4672}, {\"threshold\": 0.02, \"p\": 4612, \"fpr\": 1.0, \"tpr\": 1.0, \"n\": 4672}, {\"threshold\": 0.021, \"p\": 4612, \"fpr\": 1.0, \"tpr\": 1.0, \"n\": 4672}, {\"threshold\": 0.022, \"p\": 4612, \"fpr\": 1.0, \"tpr\": 1.0, \"n\": 4672}, {\"threshold\": 0.023, \"p\": 4612, \"fpr\": 1.0, \"tpr\": 1.0, \"n\": 4672}, {\"threshold\": 0.024, \"p\": 4612, \"fpr\": 1.0, \"tpr\": 1.0, \"n\": 4672}, {\"threshold\": 0.025, \"p\": 4612, \"fpr\": 1.0, \"tpr\": 1.0, \"n\": 4672}, {\"threshold\": 0.026, \"p\": 4612, \"fpr\": 1.0, \"tpr\": 1.0, \"n\": 4672}, {\"threshold\": 0.027, \"p\": 4612, \"fpr\": 1.0, \"tpr\": 1.0, \"n\": 4672}, {\"threshold\": 0.028, \"p\": 4612, \"fpr\": 1.0, \"tpr\": 1.0, \"n\": 4672}, {\"threshold\": 0.029, \"p\": 4612, \"fpr\": 1.0, \"tpr\": 1.0, \"n\": 4672}, {\"threshold\": 0.03, \"p\": 4612, \"fpr\": 1.0, \"tpr\": 1.0, \"n\": 4672}, {\"threshold\": 0.031, \"p\": 4612, \"fpr\": 1.0, \"tpr\": 1.0, \"n\": 4672}, {\"threshold\": 0.032, \"p\": 4612, \"fpr\": 1.0, \"tpr\": 1.0, \"n\": 4672}, {\"threshold\": 0.033, \"p\": 4612, \"fpr\": 1.0, \"tpr\": 1.0, \"n\": 4672}, {\"threshold\": 0.034, \"p\": 4612, \"fpr\": 1.0, \"tpr\": 1.0, \"n\": 4672}, {\"threshold\": 0.035, \"p\": 4612, \"fpr\": 1.0, \"tpr\": 1.0, \"n\": 4672}, {\"threshold\": 0.036, \"p\": 4612, \"fpr\": 1.0, \"tpr\": 1.0, \"n\": 4672}, {\"threshold\": 0.037, \"p\": 4612, \"fpr\": 1.0, \"tpr\": 1.0, \"n\": 4672}, {\"threshold\": 0.038, \"p\": 4612, \"fpr\": 1.0, \"tpr\": 1.0, \"n\": 4672}, {\"threshold\": 0.039, \"p\": 4612, \"fpr\": 1.0, \"tpr\": 1.0, \"n\": 4672}, {\"threshold\": 0.04, \"p\": 4612, \"fpr\": 1.0, \"tpr\": 1.0, \"n\": 4672}, {\"threshold\": 0.041, \"p\": 4612, \"fpr\": 1.0, \"tpr\": 1.0, \"n\": 4672}, {\"threshold\": 0.042, \"p\": 4612, \"fpr\": 1.0, \"tpr\": 1.0, \"n\": 4672}, {\"threshold\": 0.043, \"p\": 4612, \"fpr\": 1.0, \"tpr\": 1.0, \"n\": 4672}, {\"threshold\": 0.044, \"p\": 4612, \"fpr\": 1.0, \"tpr\": 1.0, \"n\": 4672}, {\"threshold\": 0.045, \"p\": 4612, \"fpr\": 1.0, \"tpr\": 1.0, \"n\": 4672}, {\"threshold\": 0.046, \"p\": 4612, \"fpr\": 1.0, \"tpr\": 1.0, \"n\": 4672}, {\"threshold\": 0.047, \"p\": 4612, \"fpr\": 1.0, \"tpr\": 1.0, \"n\": 4672}, {\"threshold\": 0.048, \"p\": 4612, \"fpr\": 1.0, \"tpr\": 1.0, \"n\": 4672}, {\"threshold\": 0.049, \"p\": 4612, \"fpr\": 1.0, \"tpr\": 1.0, \"n\": 4672}, {\"threshold\": 0.05, \"p\": 4612, \"fpr\": 1.0, \"tpr\": 1.0, \"n\": 4672}, {\"threshold\": 0.051, \"p\": 4612, \"fpr\": 1.0, \"tpr\": 1.0, \"n\": 4672}, {\"threshold\": 0.052, \"p\": 4612, \"fpr\": 1.0, \"tpr\": 1.0, \"n\": 4672}, {\"threshold\": 0.053, \"p\": 4612, \"fpr\": 1.0, \"tpr\": 1.0, \"n\": 4672}, {\"threshold\": 0.054, \"p\": 4612, \"fpr\": 1.0, \"tpr\": 1.0, \"n\": 4672}, {\"threshold\": 0.055, \"p\": 4612, \"fpr\": 1.0, \"tpr\": 1.0, \"n\": 4672}, {\"threshold\": 0.056, \"p\": 4612, \"fpr\": 1.0, \"tpr\": 1.0, \"n\": 4672}, {\"threshold\": 0.057, \"p\": 4612, \"fpr\": 1.0, \"tpr\": 1.0, \"n\": 4672}, {\"threshold\": 0.058, \"p\": 4612, \"fpr\": 1.0, \"tpr\": 1.0, \"n\": 4672}, {\"threshold\": 0.059, \"p\": 4612, \"fpr\": 1.0, \"tpr\": 1.0, \"n\": 4672}, {\"threshold\": 0.06, \"p\": 4612, \"fpr\": 1.0, \"tpr\": 1.0, \"n\": 4672}, {\"threshold\": 0.061, \"p\": 4612, \"fpr\": 1.0, \"tpr\": 1.0, \"n\": 4672}, {\"threshold\": 0.062, \"p\": 4612, \"fpr\": 1.0, \"tpr\": 1.0, \"n\": 4672}, {\"threshold\": 0.063, \"p\": 4612, \"fpr\": 1.0, \"tpr\": 1.0, \"n\": 4672}, {\"threshold\": 0.064, \"p\": 4612, \"fpr\": 1.0, \"tpr\": 1.0, \"n\": 4672}, {\"threshold\": 0.065, \"p\": 4612, \"fpr\": 1.0, \"tpr\": 1.0, \"n\": 4672}, {\"threshold\": 0.066, \"p\": 4612, \"fpr\": 1.0, \"tpr\": 1.0, \"n\": 4672}, {\"threshold\": 0.067, \"p\": 4612, \"fpr\": 1.0, \"tpr\": 1.0, \"n\": 4672}, {\"threshold\": 0.068, \"p\": 4612, \"fpr\": 1.0, \"tpr\": 1.0, \"n\": 4672}, {\"threshold\": 0.069, \"p\": 4612, \"fpr\": 1.0, \"tpr\": 1.0, \"n\": 4672}, {\"threshold\": 0.07, \"p\": 4612, \"fpr\": 1.0, \"tpr\": 1.0, \"n\": 4672}, {\"threshold\": 0.071, \"p\": 4612, \"fpr\": 1.0, \"tpr\": 1.0, \"n\": 4672}, {\"threshold\": 0.072, \"p\": 4612, \"fpr\": 1.0, \"tpr\": 1.0, \"n\": 4672}, {\"threshold\": 0.073, \"p\": 4612, \"fpr\": 1.0, \"tpr\": 1.0, \"n\": 4672}, {\"threshold\": 0.074, \"p\": 4612, \"fpr\": 1.0, \"tpr\": 1.0, \"n\": 4672}, {\"threshold\": 0.075, \"p\": 4612, \"fpr\": 1.0, \"tpr\": 1.0, \"n\": 4672}, {\"threshold\": 0.076, \"p\": 4612, \"fpr\": 1.0, \"tpr\": 1.0, \"n\": 4672}, {\"threshold\": 0.077, \"p\": 4612, \"fpr\": 1.0, \"tpr\": 1.0, \"n\": 4672}, {\"threshold\": 0.078, \"p\": 4612, \"fpr\": 1.0, \"tpr\": 1.0, \"n\": 4672}, {\"threshold\": 0.079, \"p\": 4612, \"fpr\": 1.0, \"tpr\": 1.0, \"n\": 4672}, {\"threshold\": 0.08, \"p\": 4612, \"fpr\": 1.0, \"tpr\": 1.0, \"n\": 4672}, {\"threshold\": 0.081, \"p\": 4612, \"fpr\": 1.0, \"tpr\": 1.0, \"n\": 4672}, {\"threshold\": 0.082, \"p\": 4612, \"fpr\": 1.0, \"tpr\": 1.0, \"n\": 4672}, {\"threshold\": 0.083, \"p\": 4612, \"fpr\": 1.0, \"tpr\": 1.0, \"n\": 4672}, {\"threshold\": 0.084, \"p\": 4612, \"fpr\": 1.0, \"tpr\": 1.0, \"n\": 4672}, {\"threshold\": 0.085, \"p\": 4612, \"fpr\": 1.0, \"tpr\": 1.0, \"n\": 4672}, {\"threshold\": 0.086, \"p\": 4612, \"fpr\": 1.0, \"tpr\": 1.0, \"n\": 4672}, {\"threshold\": 0.087, \"p\": 4612, \"fpr\": 1.0, \"tpr\": 1.0, \"n\": 4672}, {\"threshold\": 0.088, \"p\": 4612, \"fpr\": 1.0, \"tpr\": 1.0, \"n\": 4672}, {\"threshold\": 0.089, \"p\": 4612, \"fpr\": 1.0, \"tpr\": 1.0, \"n\": 4672}, {\"threshold\": 0.09, \"p\": 4612, \"fpr\": 1.0, \"tpr\": 1.0, \"n\": 4672}, {\"threshold\": 0.091, \"p\": 4612, \"fpr\": 1.0, \"tpr\": 1.0, \"n\": 4672}, {\"threshold\": 0.092, \"p\": 4612, \"fpr\": 1.0, \"tpr\": 1.0, \"n\": 4672}, {\"threshold\": 0.093, \"p\": 4612, \"fpr\": 1.0, \"tpr\": 1.0, \"n\": 4672}, {\"threshold\": 0.094, \"p\": 4612, \"fpr\": 1.0, \"tpr\": 1.0, \"n\": 4672}, {\"threshold\": 0.095, \"p\": 4612, \"fpr\": 1.0, \"tpr\": 1.0, \"n\": 4672}, {\"threshold\": 0.096, \"p\": 4612, \"fpr\": 1.0, \"tpr\": 1.0, \"n\": 4672}, {\"threshold\": 0.097, \"p\": 4612, \"fpr\": 1.0, \"tpr\": 1.0, \"n\": 4672}, {\"threshold\": 0.098, \"p\": 4612, \"fpr\": 1.0, \"tpr\": 1.0, \"n\": 4672}, {\"threshold\": 0.099, \"p\": 4612, \"fpr\": 1.0, \"tpr\": 1.0, \"n\": 4672}, {\"threshold\": 0.1, \"p\": 4612, \"fpr\": 1.0, \"tpr\": 1.0, \"n\": 4672}, {\"threshold\": 0.101, \"p\": 4612, \"fpr\": 1.0, \"tpr\": 1.0, \"n\": 4672}, {\"threshold\": 0.102, \"p\": 4612, \"fpr\": 1.0, \"tpr\": 1.0, \"n\": 4672}, {\"threshold\": 0.103, \"p\": 4612, \"fpr\": 1.0, \"tpr\": 1.0, \"n\": 4672}, {\"threshold\": 0.104, \"p\": 4612, \"fpr\": 1.0, \"tpr\": 1.0, \"n\": 4672}, {\"threshold\": 0.105, \"p\": 4612, \"fpr\": 1.0, \"tpr\": 1.0, \"n\": 4672}, {\"threshold\": 0.106, \"p\": 4612, \"fpr\": 1.0, \"tpr\": 1.0, \"n\": 4672}, {\"threshold\": 0.107, \"p\": 4612, \"fpr\": 1.0, \"tpr\": 1.0, \"n\": 4672}, {\"threshold\": 0.108, \"p\": 4612, \"fpr\": 1.0, \"tpr\": 1.0, \"n\": 4672}, {\"threshold\": 0.109, \"p\": 4612, \"fpr\": 1.0, \"tpr\": 1.0, \"n\": 4672}, {\"threshold\": 0.11, \"p\": 4612, \"fpr\": 1.0, \"tpr\": 1.0, \"n\": 4672}, {\"threshold\": 0.111, \"p\": 4612, \"fpr\": 1.0, \"tpr\": 1.0, \"n\": 4672}, {\"threshold\": 0.112, \"p\": 4612, \"fpr\": 1.0, \"tpr\": 1.0, \"n\": 4672}, {\"threshold\": 0.113, \"p\": 4612, \"fpr\": 1.0, \"tpr\": 1.0, \"n\": 4672}, {\"threshold\": 0.114, \"p\": 4612, \"fpr\": 1.0, \"tpr\": 1.0, \"n\": 4672}, {\"threshold\": 0.115, \"p\": 4612, \"fpr\": 1.0, \"tpr\": 1.0, \"n\": 4672}, {\"threshold\": 0.116, \"p\": 4612, \"fpr\": 1.0, \"tpr\": 1.0, \"n\": 4672}, {\"threshold\": 0.117, \"p\": 4612, \"fpr\": 1.0, \"tpr\": 1.0, \"n\": 4672}, {\"threshold\": 0.118, \"p\": 4612, \"fpr\": 1.0, \"tpr\": 1.0, \"n\": 4672}, {\"threshold\": 0.119, \"p\": 4612, \"fpr\": 1.0, \"tpr\": 1.0, \"n\": 4672}, {\"threshold\": 0.12, \"p\": 4612, \"fpr\": 1.0, \"tpr\": 1.0, \"n\": 4672}, {\"threshold\": 0.121, \"p\": 4612, \"fpr\": 1.0, \"tpr\": 1.0, \"n\": 4672}, {\"threshold\": 0.122, \"p\": 4612, \"fpr\": 1.0, \"tpr\": 1.0, \"n\": 4672}, {\"threshold\": 0.123, \"p\": 4612, \"fpr\": 1.0, \"tpr\": 1.0, \"n\": 4672}, {\"threshold\": 0.124, \"p\": 4612, \"fpr\": 1.0, \"tpr\": 1.0, \"n\": 4672}, {\"threshold\": 0.125, \"p\": 4612, \"fpr\": 1.0, \"tpr\": 1.0, \"n\": 4672}, {\"threshold\": 0.126, \"p\": 4612, \"fpr\": 1.0, \"tpr\": 1.0, \"n\": 4672}, {\"threshold\": 0.127, \"p\": 4612, \"fpr\": 1.0, \"tpr\": 1.0, \"n\": 4672}, {\"threshold\": 0.128, \"p\": 4612, \"fpr\": 1.0, \"tpr\": 1.0, \"n\": 4672}, {\"threshold\": 0.129, \"p\": 4612, \"fpr\": 1.0, \"tpr\": 1.0, \"n\": 4672}, {\"threshold\": 0.13, \"p\": 4612, \"fpr\": 1.0, \"tpr\": 1.0, \"n\": 4672}, {\"threshold\": 0.131, \"p\": 4612, \"fpr\": 1.0, \"tpr\": 1.0, \"n\": 4672}, {\"threshold\": 0.132, \"p\": 4612, \"fpr\": 1.0, \"tpr\": 1.0, \"n\": 4672}, {\"threshold\": 0.133, \"p\": 4612, \"fpr\": 1.0, \"tpr\": 1.0, \"n\": 4672}, {\"threshold\": 0.134, \"p\": 4612, \"fpr\": 1.0, \"tpr\": 1.0, \"n\": 4672}, {\"threshold\": 0.135, \"p\": 4612, \"fpr\": 1.0, \"tpr\": 1.0, \"n\": 4672}, {\"threshold\": 0.136, \"p\": 4612, \"fpr\": 0.9987157534246576, \"tpr\": 1.0, \"n\": 4672}, {\"threshold\": 0.137, \"p\": 4612, \"fpr\": 0.9985017123287672, \"tpr\": 1.0, \"n\": 4672}, {\"threshold\": 0.138, \"p\": 4612, \"fpr\": 0.9985017123287672, \"tpr\": 1.0, \"n\": 4672}, {\"threshold\": 0.139, \"p\": 4612, \"fpr\": 0.9985017123287672, \"tpr\": 1.0, \"n\": 4672}, {\"threshold\": 0.14, \"p\": 4612, \"fpr\": 0.9985017123287672, \"tpr\": 1.0, \"n\": 4672}, {\"threshold\": 0.141, \"p\": 4612, \"fpr\": 0.9982876712328768, \"tpr\": 1.0, \"n\": 4672}, {\"threshold\": 0.142, \"p\": 4612, \"fpr\": 0.9982876712328768, \"tpr\": 1.0, \"n\": 4672}, {\"threshold\": 0.143, \"p\": 4612, \"fpr\": 0.9982876712328768, \"tpr\": 1.0, \"n\": 4672}, {\"threshold\": 0.144, \"p\": 4612, \"fpr\": 0.9976455479452054, \"tpr\": 1.0, \"n\": 4672}, {\"threshold\": 0.145, \"p\": 4612, \"fpr\": 0.9976455479452054, \"tpr\": 1.0, \"n\": 4672}, {\"threshold\": 0.146, \"p\": 4612, \"fpr\": 0.9976455479452054, \"tpr\": 1.0, \"n\": 4672}, {\"threshold\": 0.147, \"p\": 4612, \"fpr\": 0.9976455479452054, \"tpr\": 1.0, \"n\": 4672}, {\"threshold\": 0.148, \"p\": 4612, \"fpr\": 0.9976455479452054, \"tpr\": 1.0, \"n\": 4672}, {\"threshold\": 0.149, \"p\": 4612, \"fpr\": 0.9976455479452054, \"tpr\": 1.0, \"n\": 4672}, {\"threshold\": 0.15, \"p\": 4612, \"fpr\": 0.9976455479452054, \"tpr\": 1.0, \"n\": 4672}, {\"threshold\": 0.151, \"p\": 4612, \"fpr\": 0.9976455479452054, \"tpr\": 1.0, \"n\": 4672}, {\"threshold\": 0.152, \"p\": 4612, \"fpr\": 0.997431506849315, \"tpr\": 1.0, \"n\": 4672}, {\"threshold\": 0.153, \"p\": 4612, \"fpr\": 0.9972174657534246, \"tpr\": 1.0, \"n\": 4672}, {\"threshold\": 0.154, \"p\": 4612, \"fpr\": 0.9972174657534246, \"tpr\": 1.0, \"n\": 4672}, {\"threshold\": 0.155, \"p\": 4612, \"fpr\": 0.9967893835616438, \"tpr\": 1.0, \"n\": 4672}, {\"threshold\": 0.156, \"p\": 4612, \"fpr\": 0.996361301369863, \"tpr\": 0.9997831743278404, \"n\": 4672}, {\"threshold\": 0.157, \"p\": 4612, \"fpr\": 0.996361301369863, \"tpr\": 0.9997831743278404, \"n\": 4672}, {\"threshold\": 0.158, \"p\": 4612, \"fpr\": 0.9959332191780822, \"tpr\": 0.9997831743278404, \"n\": 4672}, {\"threshold\": 0.159, \"p\": 4612, \"fpr\": 0.9959332191780822, \"tpr\": 0.9997831743278404, \"n\": 4672}, {\"threshold\": 0.16, \"p\": 4612, \"fpr\": 0.9944349315068494, \"tpr\": 0.9995663486556808, \"n\": 4672}, {\"threshold\": 0.161, \"p\": 4612, \"fpr\": 0.9925085616438356, \"tpr\": 0.9993495229835212, \"n\": 4672}, {\"threshold\": 0.162, \"p\": 4612, \"fpr\": 0.991652397260274, \"tpr\": 0.9993495229835212, \"n\": 4672}, {\"threshold\": 0.163, \"p\": 4612, \"fpr\": 0.9910102739726028, \"tpr\": 0.9993495229835212, \"n\": 4672}, {\"threshold\": 0.164, \"p\": 4612, \"fpr\": 0.9907962328767124, \"tpr\": 0.9993495229835212, \"n\": 4672}, {\"threshold\": 0.165, \"p\": 4612, \"fpr\": 0.9907962328767124, \"tpr\": 0.9993495229835212, \"n\": 4672}, {\"threshold\": 0.166, \"p\": 4612, \"fpr\": 0.9907962328767124, \"tpr\": 0.9993495229835212, \"n\": 4672}, {\"threshold\": 0.167, \"p\": 4612, \"fpr\": 0.9907962328767124, \"tpr\": 0.9993495229835212, \"n\": 4672}, {\"threshold\": 0.168, \"p\": 4612, \"fpr\": 0.9907962328767124, \"tpr\": 0.9993495229835212, \"n\": 4672}, {\"threshold\": 0.169, \"p\": 4612, \"fpr\": 0.9907962328767124, \"tpr\": 0.9993495229835212, \"n\": 4672}, {\"threshold\": 0.17, \"p\": 4612, \"fpr\": 0.990582191780822, \"tpr\": 0.9993495229835212, \"n\": 4672}, {\"threshold\": 0.171, \"p\": 4612, \"fpr\": 0.9884417808219178, \"tpr\": 0.9991326973113617, \"n\": 4672}, {\"threshold\": 0.172, \"p\": 4612, \"fpr\": 0.9877996575342466, \"tpr\": 0.9991326973113617, \"n\": 4672}, {\"threshold\": 0.173, \"p\": 4612, \"fpr\": 0.9877996575342466, \"tpr\": 0.9991326973113617, \"n\": 4672}, {\"threshold\": 0.174, \"p\": 4612, \"fpr\": 0.9873715753424658, \"tpr\": 0.9991326973113617, \"n\": 4672}, {\"threshold\": 0.175, \"p\": 4612, \"fpr\": 0.9865154109589042, \"tpr\": 0.998915871639202, \"n\": 4672}, {\"threshold\": 0.176, \"p\": 4612, \"fpr\": 0.9860873287671232, \"tpr\": 0.998915871639202, \"n\": 4672}, {\"threshold\": 0.177, \"p\": 4612, \"fpr\": 0.9848030821917808, \"tpr\": 0.9986990459670425, \"n\": 4672}, {\"threshold\": 0.178, \"p\": 4612, \"fpr\": 0.984375, \"tpr\": 0.9986990459670425, \"n\": 4672}, {\"threshold\": 0.179, \"p\": 4612, \"fpr\": 0.9841609589041096, \"tpr\": 0.9986990459670425, \"n\": 4672}, {\"threshold\": 0.18, \"p\": 4612, \"fpr\": 0.983304794520548, \"tpr\": 0.9986990459670425, \"n\": 4672}, {\"threshold\": 0.181, \"p\": 4612, \"fpr\": 0.983304794520548, \"tpr\": 0.9986990459670425, \"n\": 4672}, {\"threshold\": 0.182, \"p\": 4612, \"fpr\": 0.9830907534246576, \"tpr\": 0.9984822202948829, \"n\": 4672}, {\"threshold\": 0.183, \"p\": 4612, \"fpr\": 0.981806506849315, \"tpr\": 0.9982653946227233, \"n\": 4672}, {\"threshold\": 0.184, \"p\": 4612, \"fpr\": 0.9809503424657534, \"tpr\": 0.9982653946227233, \"n\": 4672}, {\"threshold\": 0.185, \"p\": 4612, \"fpr\": 0.9805222602739726, \"tpr\": 0.9982653946227233, \"n\": 4672}, {\"threshold\": 0.186, \"p\": 4612, \"fpr\": 0.9798801369863014, \"tpr\": 0.9982653946227233, \"n\": 4672}, {\"threshold\": 0.187, \"p\": 4612, \"fpr\": 0.9794520547945206, \"tpr\": 0.9982653946227233, \"n\": 4672}, {\"threshold\": 0.188, \"p\": 4612, \"fpr\": 0.9783818493150684, \"tpr\": 0.9982653946227233, \"n\": 4672}, {\"threshold\": 0.189, \"p\": 4612, \"fpr\": 0.978167808219178, \"tpr\": 0.9982653946227233, \"n\": 4672}, {\"threshold\": 0.19, \"p\": 4612, \"fpr\": 0.977097602739726, \"tpr\": 0.9982653946227233, \"n\": 4672}, {\"threshold\": 0.191, \"p\": 4612, \"fpr\": 0.9768835616438356, \"tpr\": 0.9982653946227233, \"n\": 4672}, {\"threshold\": 0.192, \"p\": 4612, \"fpr\": 0.9768835616438356, \"tpr\": 0.9982653946227233, \"n\": 4672}, {\"threshold\": 0.193, \"p\": 4612, \"fpr\": 0.9764554794520548, \"tpr\": 0.9982653946227233, \"n\": 4672}, {\"threshold\": 0.194, \"p\": 4612, \"fpr\": 0.9762414383561644, \"tpr\": 0.9982653946227233, \"n\": 4672}, {\"threshold\": 0.195, \"p\": 4612, \"fpr\": 0.9755993150684932, \"tpr\": 0.9982653946227233, \"n\": 4672}, {\"threshold\": 0.196, \"p\": 4612, \"fpr\": 0.9751712328767124, \"tpr\": 0.9980485689505637, \"n\": 4672}, {\"threshold\": 0.197, \"p\": 4612, \"fpr\": 0.9738869863013698, \"tpr\": 0.9978317432784042, \"n\": 4672}, {\"threshold\": 0.198, \"p\": 4612, \"fpr\": 0.9732448630136986, \"tpr\": 0.9978317432784042, \"n\": 4672}, {\"threshold\": 0.199, \"p\": 4612, \"fpr\": 0.9715325342465754, \"tpr\": 0.9976149176062445, \"n\": 4672}, {\"threshold\": 0.2, \"p\": 4612, \"fpr\": 0.9706763698630136, \"tpr\": 0.9976149176062445, \"n\": 4672}, {\"threshold\": 0.201, \"p\": 4612, \"fpr\": 0.9696061643835616, \"tpr\": 0.997398091934085, \"n\": 4672}, {\"threshold\": 0.202, \"p\": 4612, \"fpr\": 0.9691780821917808, \"tpr\": 0.9971812662619254, \"n\": 4672}, {\"threshold\": 0.203, \"p\": 4612, \"fpr\": 0.96875, \"tpr\": 0.9971812662619254, \"n\": 4672}, {\"threshold\": 0.204, \"p\": 4612, \"fpr\": 0.96875, \"tpr\": 0.9971812662619254, \"n\": 4672}, {\"threshold\": 0.205, \"p\": 4612, \"fpr\": 0.96875, \"tpr\": 0.9971812662619254, \"n\": 4672}, {\"threshold\": 0.206, \"p\": 4612, \"fpr\": 0.9678938356164384, \"tpr\": 0.9971812662619254, \"n\": 4672}, {\"threshold\": 0.207, \"p\": 4612, \"fpr\": 0.9659674657534246, \"tpr\": 0.9969644405897659, \"n\": 4672}, {\"threshold\": 0.208, \"p\": 4612, \"fpr\": 0.9659674657534246, \"tpr\": 0.9969644405897659, \"n\": 4672}, {\"threshold\": 0.209, \"p\": 4612, \"fpr\": 0.9659674657534246, \"tpr\": 0.9969644405897659, \"n\": 4672}, {\"threshold\": 0.21, \"p\": 4612, \"fpr\": 0.9655393835616438, \"tpr\": 0.9967476149176062, \"n\": 4672}, {\"threshold\": 0.211, \"p\": 4612, \"fpr\": 0.9655393835616438, \"tpr\": 0.9967476149176062, \"n\": 4672}, {\"threshold\": 0.212, \"p\": 4612, \"fpr\": 0.965111301369863, \"tpr\": 0.9965307892454467, \"n\": 4672}, {\"threshold\": 0.213, \"p\": 4612, \"fpr\": 0.9648972602739726, \"tpr\": 0.996313963573287, \"n\": 4672}, {\"threshold\": 0.214, \"p\": 4612, \"fpr\": 0.9646832191780822, \"tpr\": 0.996313963573287, \"n\": 4672}, {\"threshold\": 0.215, \"p\": 4612, \"fpr\": 0.9644691780821918, \"tpr\": 0.996313963573287, \"n\": 4672}, {\"threshold\": 0.216, \"p\": 4612, \"fpr\": 0.9638270547945206, \"tpr\": 0.996313963573287, \"n\": 4672}, {\"threshold\": 0.217, \"p\": 4612, \"fpr\": 0.9631849315068494, \"tpr\": 0.996313963573287, \"n\": 4672}, {\"threshold\": 0.218, \"p\": 4612, \"fpr\": 0.9627568493150684, \"tpr\": 0.9960971379011275, \"n\": 4672}, {\"threshold\": 0.219, \"p\": 4612, \"fpr\": 0.9623287671232876, \"tpr\": 0.9960971379011275, \"n\": 4672}, {\"threshold\": 0.22, \"p\": 4612, \"fpr\": 0.961472602739726, \"tpr\": 0.9960971379011275, \"n\": 4672}, {\"threshold\": 0.221, \"p\": 4612, \"fpr\": 0.9608304794520548, \"tpr\": 0.9960971379011275, \"n\": 4672}, {\"threshold\": 0.222, \"p\": 4612, \"fpr\": 0.9606164383561644, \"tpr\": 0.9960971379011275, \"n\": 4672}, {\"threshold\": 0.223, \"p\": 4612, \"fpr\": 0.960402397260274, \"tpr\": 0.9958803122289679, \"n\": 4672}, {\"threshold\": 0.224, \"p\": 4612, \"fpr\": 0.9595462328767124, \"tpr\": 0.9958803122289679, \"n\": 4672}, {\"threshold\": 0.225, \"p\": 4612, \"fpr\": 0.9591181506849316, \"tpr\": 0.9958803122289679, \"n\": 4672}, {\"threshold\": 0.226, \"p\": 4612, \"fpr\": 0.9582619863013698, \"tpr\": 0.9954466608846487, \"n\": 4672}, {\"threshold\": 0.227, \"p\": 4612, \"fpr\": 0.9580479452054794, \"tpr\": 0.9954466608846487, \"n\": 4672}, {\"threshold\": 0.228, \"p\": 4612, \"fpr\": 0.9574058219178082, \"tpr\": 0.9954466608846487, \"n\": 4672}, {\"threshold\": 0.229, \"p\": 4612, \"fpr\": 0.9571917808219178, \"tpr\": 0.9954466608846487, \"n\": 4672}, {\"threshold\": 0.23, \"p\": 4612, \"fpr\": 0.9571917808219178, \"tpr\": 0.9954466608846487, \"n\": 4672}, {\"threshold\": 0.231, \"p\": 4612, \"fpr\": 0.9554794520547946, \"tpr\": 0.9954466608846487, \"n\": 4672}, {\"threshold\": 0.232, \"p\": 4612, \"fpr\": 0.9524828767123288, \"tpr\": 0.9950130095403296, \"n\": 4672}, {\"threshold\": 0.233, \"p\": 4612, \"fpr\": 0.9497003424657534, \"tpr\": 0.9934952298352124, \"n\": 4672}, {\"threshold\": 0.234, \"p\": 4612, \"fpr\": 0.948416095890411, \"tpr\": 0.9934952298352124, \"n\": 4672}, {\"threshold\": 0.235, \"p\": 4612, \"fpr\": 0.9479880136986302, \"tpr\": 0.9934952298352124, \"n\": 4672}, {\"threshold\": 0.236, \"p\": 4612, \"fpr\": 0.9477739726027398, \"tpr\": 0.9932784041630529, \"n\": 4672}, {\"threshold\": 0.237, \"p\": 4612, \"fpr\": 0.947345890410959, \"tpr\": 0.9932784041630529, \"n\": 4672}, {\"threshold\": 0.238, \"p\": 4612, \"fpr\": 0.9471318493150684, \"tpr\": 0.9932784041630529, \"n\": 4672}, {\"threshold\": 0.239, \"p\": 4612, \"fpr\": 0.946917808219178, \"tpr\": 0.9932784041630529, \"n\": 4672}, {\"threshold\": 0.24, \"p\": 4612, \"fpr\": 0.9464897260273972, \"tpr\": 0.9932784041630529, \"n\": 4672}, {\"threshold\": 0.241, \"p\": 4612, \"fpr\": 0.9428510273972602, \"tpr\": 0.9928447528187337, \"n\": 4672}, {\"threshold\": 0.242, \"p\": 4612, \"fpr\": 0.942208904109589, \"tpr\": 0.9926279271465741, \"n\": 4672}, {\"threshold\": 0.243, \"p\": 4612, \"fpr\": 0.9407106164383562, \"tpr\": 0.9919774501300954, \"n\": 4672}, {\"threshold\": 0.244, \"p\": 4612, \"fpr\": 0.940068493150685, \"tpr\": 0.9919774501300954, \"n\": 4672}, {\"threshold\": 0.245, \"p\": 4612, \"fpr\": 0.9398544520547946, \"tpr\": 0.9919774501300954, \"n\": 4672}, {\"threshold\": 0.246, \"p\": 4612, \"fpr\": 0.9383561643835616, \"tpr\": 0.9917606244579358, \"n\": 4672}, {\"threshold\": 0.247, \"p\": 4612, \"fpr\": 0.9379280821917808, \"tpr\": 0.9917606244579358, \"n\": 4672}, {\"threshold\": 0.248, \"p\": 4612, \"fpr\": 0.9360017123287672, \"tpr\": 0.9908933217692975, \"n\": 4672}, {\"threshold\": 0.249, \"p\": 4612, \"fpr\": 0.9355736301369864, \"tpr\": 0.9906764960971379, \"n\": 4672}, {\"threshold\": 0.25, \"p\": 4612, \"fpr\": 0.9347174657534246, \"tpr\": 0.9902428447528188, \"n\": 4672}, {\"threshold\": 0.251, \"p\": 4612, \"fpr\": 0.932791095890411, \"tpr\": 0.9900260190806591, \"n\": 4672}, {\"threshold\": 0.252, \"p\": 4612, \"fpr\": 0.9325770547945206, \"tpr\": 0.9898091934084996, \"n\": 4672}, {\"threshold\": 0.253, \"p\": 4612, \"fpr\": 0.931292808219178, \"tpr\": 0.98959236773634, \"n\": 4672}, {\"threshold\": 0.254, \"p\": 4612, \"fpr\": 0.9310787671232876, \"tpr\": 0.98959236773634, \"n\": 4672}, {\"threshold\": 0.255, \"p\": 4612, \"fpr\": 0.9304366438356164, \"tpr\": 0.98959236773634, \"n\": 4672}, {\"threshold\": 0.256, \"p\": 4612, \"fpr\": 0.9287243150684932, \"tpr\": 0.9891587163920208, \"n\": 4672}, {\"threshold\": 0.257, \"p\": 4612, \"fpr\": 0.9287243150684932, \"tpr\": 0.9891587163920208, \"n\": 4672}, {\"threshold\": 0.258, \"p\": 4612, \"fpr\": 0.9278681506849316, \"tpr\": 0.9889418907198613, \"n\": 4672}, {\"threshold\": 0.259, \"p\": 4612, \"fpr\": 0.9272260273972602, \"tpr\": 0.9887250650477016, \"n\": 4672}, {\"threshold\": 0.26, \"p\": 4612, \"fpr\": 0.9270119863013698, \"tpr\": 0.9887250650477016, \"n\": 4672}, {\"threshold\": 0.261, \"p\": 4612, \"fpr\": 0.9261558219178082, \"tpr\": 0.9887250650477016, \"n\": 4672}, {\"threshold\": 0.262, \"p\": 4612, \"fpr\": 0.925513698630137, \"tpr\": 0.9887250650477016, \"n\": 4672}, {\"threshold\": 0.263, \"p\": 4612, \"fpr\": 0.9220890410958904, \"tpr\": 0.9872072853425846, \"n\": 4672}, {\"threshold\": 0.264, \"p\": 4612, \"fpr\": 0.9205907534246576, \"tpr\": 0.986990459670425, \"n\": 4672}, {\"threshold\": 0.265, \"p\": 4612, \"fpr\": 0.918236301369863, \"tpr\": 0.9865568083261058, \"n\": 4672}, {\"threshold\": 0.266, \"p\": 4612, \"fpr\": 0.9068921232876712, \"tpr\": 0.9822202948829142, \"n\": 4672}, {\"threshold\": 0.267, \"p\": 4612, \"fpr\": 0.9066780821917808, \"tpr\": 0.9822202948829142, \"n\": 4672}, {\"threshold\": 0.268, \"p\": 4612, \"fpr\": 0.9038955479452054, \"tpr\": 0.9813529921942759, \"n\": 4672}, {\"threshold\": 0.269, \"p\": 4612, \"fpr\": 0.9030393835616438, \"tpr\": 0.9804856895056374, \"n\": 4672}, {\"threshold\": 0.27, \"p\": 4612, \"fpr\": 0.9019691780821918, \"tpr\": 0.9802688638334779, \"n\": 4672}, {\"threshold\": 0.271, \"p\": 4612, \"fpr\": 0.9006849315068494, \"tpr\": 0.9800520381613183, \"n\": 4672}, {\"threshold\": 0.272, \"p\": 4612, \"fpr\": 0.9006849315068494, \"tpr\": 0.9798352124891587, \"n\": 4672}, {\"threshold\": 0.273, \"p\": 4612, \"fpr\": 0.8983304794520548, \"tpr\": 0.9798352124891587, \"n\": 4672}, {\"threshold\": 0.274, \"p\": 4612, \"fpr\": 0.897902397260274, \"tpr\": 0.9794015611448396, \"n\": 4672}, {\"threshold\": 0.275, \"p\": 4612, \"fpr\": 0.896832191780822, \"tpr\": 0.9789679098005204, \"n\": 4672}, {\"threshold\": 0.276, \"p\": 4612, \"fpr\": 0.8959760273972602, \"tpr\": 0.9789679098005204, \"n\": 4672}, {\"threshold\": 0.277, \"p\": 4612, \"fpr\": 0.895333904109589, \"tpr\": 0.9783174327840416, \"n\": 4672}, {\"threshold\": 0.278, \"p\": 4612, \"fpr\": 0.8938356164383562, \"tpr\": 0.9778837814397224, \"n\": 4672}, {\"threshold\": 0.279, \"p\": 4612, \"fpr\": 0.8923373287671232, \"tpr\": 0.9774501300954033, \"n\": 4672}, {\"threshold\": 0.28, \"p\": 4612, \"fpr\": 0.8897688356164384, \"tpr\": 0.9765828274067649, \"n\": 4672}, {\"threshold\": 0.281, \"p\": 4612, \"fpr\": 0.8889126712328768, \"tpr\": 0.9765828274067649, \"n\": 4672}, {\"threshold\": 0.282, \"p\": 4612, \"fpr\": 0.8867722602739726, \"tpr\": 0.9759323503902863, \"n\": 4672}, {\"threshold\": 0.283, \"p\": 4612, \"fpr\": 0.8867722602739726, \"tpr\": 0.9759323503902863, \"n\": 4672}, {\"threshold\": 0.284, \"p\": 4612, \"fpr\": 0.884845890410959, \"tpr\": 0.9754986990459671, \"n\": 4672}, {\"threshold\": 0.285, \"p\": 4612, \"fpr\": 0.8784246575342466, \"tpr\": 0.9722463139635733, \"n\": 4672}, {\"threshold\": 0.286, \"p\": 4612, \"fpr\": 0.8758561643835616, \"tpr\": 0.9718126626192541, \"n\": 4672}, {\"threshold\": 0.287, \"p\": 4612, \"fpr\": 0.8756421232876712, \"tpr\": 0.9718126626192541, \"n\": 4672}, {\"threshold\": 0.288, \"p\": 4612, \"fpr\": 0.8745719178082192, \"tpr\": 0.9711621856027753, \"n\": 4672}, {\"threshold\": 0.289, \"p\": 4612, \"fpr\": 0.8696489726027398, \"tpr\": 0.9705117085862967, \"n\": 4672}, {\"threshold\": 0.29, \"p\": 4612, \"fpr\": 0.8675085616438356, \"tpr\": 0.970294882914137, \"n\": 4672}, {\"threshold\": 0.291, \"p\": 4612, \"fpr\": 0.8675085616438356, \"tpr\": 0.970294882914137, \"n\": 4672}, {\"threshold\": 0.292, \"p\": 4612, \"fpr\": 0.8664383561643836, \"tpr\": 0.9698612315698178, \"n\": 4672}, {\"threshold\": 0.293, \"p\": 4612, \"fpr\": 0.8660102739726028, \"tpr\": 0.9696444058976583, \"n\": 4672}, {\"threshold\": 0.294, \"p\": 4612, \"fpr\": 0.8647260273972602, \"tpr\": 0.9685602775368604, \"n\": 4672}, {\"threshold\": 0.295, \"p\": 4612, \"fpr\": 0.8634417808219178, \"tpr\": 0.9681266261925412, \"n\": 4672}, {\"threshold\": 0.296, \"p\": 4612, \"fpr\": 0.8617294520547946, \"tpr\": 0.9672593235039029, \"n\": 4672}, {\"threshold\": 0.297, \"p\": 4612, \"fpr\": 0.8606592465753424, \"tpr\": 0.9668256721595837, \"n\": 4672}, {\"threshold\": 0.298, \"p\": 4612, \"fpr\": 0.8529537671232876, \"tpr\": 0.9653078924544666, \"n\": 4672}, {\"threshold\": 0.299, \"p\": 4612, \"fpr\": 0.8523116438356164, \"tpr\": 0.965091066782307, \"n\": 4672}, {\"threshold\": 0.3, \"p\": 4612, \"fpr\": 0.8518835616438356, \"tpr\": 0.9648742411101474, \"n\": 4672}, {\"threshold\": 0.301, \"p\": 4612, \"fpr\": 0.8491010273972602, \"tpr\": 0.9644405897658282, \"n\": 4672}, {\"threshold\": 0.302, \"p\": 4612, \"fpr\": 0.8465325342465754, \"tpr\": 0.9637901127493496, \"n\": 4672}, {\"threshold\": 0.303, \"p\": 4612, \"fpr\": 0.8452482876712328, \"tpr\": 0.9631396357328708, \"n\": 4672}, {\"threshold\": 0.304, \"p\": 4612, \"fpr\": 0.8433219178082192, \"tpr\": 0.9624891587163921, \"n\": 4672}, {\"threshold\": 0.305, \"p\": 4612, \"fpr\": 0.840111301369863, \"tpr\": 0.9609713790112749, \"n\": 4672}, {\"threshold\": 0.306, \"p\": 4612, \"fpr\": 0.8396832191780822, \"tpr\": 0.9607545533391153, \"n\": 4672}, {\"threshold\": 0.307, \"p\": 4612, \"fpr\": 0.8377568493150684, \"tpr\": 0.9605377276669558, \"n\": 4672}, {\"threshold\": 0.308, \"p\": 4612, \"fpr\": 0.8356164383561644, \"tpr\": 0.9592367736339983, \"n\": 4672}, {\"threshold\": 0.309, \"p\": 4612, \"fpr\": 0.832833904109589, \"tpr\": 0.9585862966175195, \"n\": 4672}, {\"threshold\": 0.31, \"p\": 4612, \"fpr\": 0.8321917808219178, \"tpr\": 0.9585862966175195, \"n\": 4672}, {\"threshold\": 0.311, \"p\": 4612, \"fpr\": 0.8309075342465754, \"tpr\": 0.95836947094536, \"n\": 4672}, {\"threshold\": 0.312, \"p\": 4612, \"fpr\": 0.8264126712328768, \"tpr\": 0.9570685169124025, \"n\": 4672}, {\"threshold\": 0.313, \"p\": 4612, \"fpr\": 0.8249143835616438, \"tpr\": 0.9568516912402428, \"n\": 4672}, {\"threshold\": 0.314, \"p\": 4612, \"fpr\": 0.8240582191780822, \"tpr\": 0.9568516912402428, \"n\": 4672}, {\"threshold\": 0.315, \"p\": 4612, \"fpr\": 0.8225599315068494, \"tpr\": 0.9559843885516045, \"n\": 4672}, {\"threshold\": 0.316, \"p\": 4612, \"fpr\": 0.8214897260273972, \"tpr\": 0.955767562879445, \"n\": 4672}, {\"threshold\": 0.317, \"p\": 4612, \"fpr\": 0.8176369863013698, \"tpr\": 0.9549002601908065, \"n\": 4672}, {\"threshold\": 0.318, \"p\": 4612, \"fpr\": 0.815068493150685, \"tpr\": 0.9544666088464874, \"n\": 4672}, {\"threshold\": 0.319, \"p\": 4612, \"fpr\": 0.8118578767123288, \"tpr\": 0.9538161318300087, \"n\": 4672}, {\"threshold\": 0.32, \"p\": 4612, \"fpr\": 0.809931506849315, \"tpr\": 0.9531656548135299, \"n\": 4672}, {\"threshold\": 0.321, \"p\": 4612, \"fpr\": 0.806292808219178, \"tpr\": 0.9527320034692107, \"n\": 4672}, {\"threshold\": 0.322, \"p\": 4612, \"fpr\": 0.806292808219178, \"tpr\": 0.952081526452732, \"n\": 4672}, {\"threshold\": 0.323, \"p\": 4612, \"fpr\": 0.8043664383561644, \"tpr\": 0.9507805724197745, \"n\": 4672}, {\"threshold\": 0.324, \"p\": 4612, \"fpr\": 0.8037243150684932, \"tpr\": 0.9507805724197745, \"n\": 4672}, {\"threshold\": 0.325, \"p\": 4612, \"fpr\": 0.803082191780822, \"tpr\": 0.949479618386817, \"n\": 4672}, {\"threshold\": 0.326, \"p\": 4612, \"fpr\": 0.799443493150685, \"tpr\": 0.9488291413703382, \"n\": 4672}, {\"threshold\": 0.327, \"p\": 4612, \"fpr\": 0.7990154109589042, \"tpr\": 0.9475281873373808, \"n\": 4672}, {\"threshold\": 0.328, \"p\": 4612, \"fpr\": 0.7973030821917808, \"tpr\": 0.9470945359930616, \"n\": 4672}, {\"threshold\": 0.329, \"p\": 4612, \"fpr\": 0.7947345890410958, \"tpr\": 0.9466608846487424, \"n\": 4672}, {\"threshold\": 0.33, \"p\": 4612, \"fpr\": 0.792166095890411, \"tpr\": 0.9460104076322636, \"n\": 4672}, {\"threshold\": 0.331, \"p\": 4612, \"fpr\": 0.7898116438356164, \"tpr\": 0.9447094535993061, \"n\": 4672}, {\"threshold\": 0.332, \"p\": 4612, \"fpr\": 0.7891695205479452, \"tpr\": 0.9447094535993061, \"n\": 4672}, {\"threshold\": 0.333, \"p\": 4612, \"fpr\": 0.7842465753424658, \"tpr\": 0.9431916738941891, \"n\": 4672}, {\"threshold\": 0.334, \"p\": 4612, \"fpr\": 0.783818493150685, \"tpr\": 0.9429748482220295, \"n\": 4672}, {\"threshold\": 0.335, \"p\": 4612, \"fpr\": 0.7806078767123288, \"tpr\": 0.9418907198612315, \"n\": 4672}, {\"threshold\": 0.336, \"p\": 4612, \"fpr\": 0.7771832191780822, \"tpr\": 0.9401561144839549, \"n\": 4672}, {\"threshold\": 0.337, \"p\": 4612, \"fpr\": 0.775470890410959, \"tpr\": 0.9399392888117953, \"n\": 4672}, {\"threshold\": 0.338, \"p\": 4612, \"fpr\": 0.7724743150684932, \"tpr\": 0.9382046834345187, \"n\": 4672}, {\"threshold\": 0.339, \"p\": 4612, \"fpr\": 0.7705479452054794, \"tpr\": 0.936470078057242, \"n\": 4672}, {\"threshold\": 0.34, \"p\": 4612, \"fpr\": 0.7651969178082192, \"tpr\": 0.9353859496964441, \"n\": 4672}, {\"threshold\": 0.341, \"p\": 4612, \"fpr\": 0.7643407534246576, \"tpr\": 0.9353859496964441, \"n\": 4672}, {\"threshold\": 0.342, \"p\": 4612, \"fpr\": 0.7617722602739726, \"tpr\": 0.9332176929748482, \"n\": 4672}, {\"threshold\": 0.343, \"p\": 4612, \"fpr\": 0.7615582191780822, \"tpr\": 0.9325672159583694, \"n\": 4672}, {\"threshold\": 0.344, \"p\": 4612, \"fpr\": 0.7607020547945206, \"tpr\": 0.9323503902862099, \"n\": 4672}, {\"threshold\": 0.345, \"p\": 4612, \"fpr\": 0.759417808219178, \"tpr\": 0.9319167389418908, \"n\": 4672}, {\"threshold\": 0.346, \"p\": 4612, \"fpr\": 0.7585616438356164, \"tpr\": 0.931266261925412, \"n\": 4672}, {\"threshold\": 0.347, \"p\": 4612, \"fpr\": 0.7534246575342466, \"tpr\": 0.9290980052038161, \"n\": 4672}, {\"threshold\": 0.348, \"p\": 4612, \"fpr\": 0.7504280821917808, \"tpr\": 0.9271465741543798, \"n\": 4672}, {\"threshold\": 0.349, \"p\": 4612, \"fpr\": 0.7482876712328768, \"tpr\": 0.9264960971379012, \"n\": 4672}, {\"threshold\": 0.35, \"p\": 4612, \"fpr\": 0.745291095890411, \"tpr\": 0.9238941890719862, \"n\": 4672}, {\"threshold\": 0.351, \"p\": 4612, \"fpr\": 0.7435787671232876, \"tpr\": 0.9228100607111882, \"n\": 4672}, {\"threshold\": 0.352, \"p\": 4612, \"fpr\": 0.7420804794520548, \"tpr\": 0.9219427580225499, \"n\": 4672}, {\"threshold\": 0.353, \"p\": 4612, \"fpr\": 0.7412243150684932, \"tpr\": 0.9219427580225499, \"n\": 4672}, {\"threshold\": 0.354, \"p\": 4612, \"fpr\": 0.7386558219178082, \"tpr\": 0.9204249783174328, \"n\": 4672}, {\"threshold\": 0.355, \"p\": 4612, \"fpr\": 0.7365154109589042, \"tpr\": 0.9202081526452732, \"n\": 4672}, {\"threshold\": 0.356, \"p\": 4612, \"fpr\": 0.731806506849315, \"tpr\": 0.9191240242844753, \"n\": 4672}, {\"threshold\": 0.357, \"p\": 4612, \"fpr\": 0.728595890410959, \"tpr\": 0.9178230702515178, \"n\": 4672}, {\"threshold\": 0.358, \"p\": 4612, \"fpr\": 0.7253852739726028, \"tpr\": 0.9169557675628794, \"n\": 4672}, {\"threshold\": 0.359, \"p\": 4612, \"fpr\": 0.7251712328767124, \"tpr\": 0.9165221162185603, \"n\": 4672}, {\"threshold\": 0.36, \"p\": 4612, \"fpr\": 0.7236729452054794, \"tpr\": 0.9165221162185603, \"n\": 4672}, {\"threshold\": 0.361, \"p\": 4612, \"fpr\": 0.7200342465753424, \"tpr\": 0.9150043365134432, \"n\": 4672}, {\"threshold\": 0.362, \"p\": 4612, \"fpr\": 0.7146832191780822, \"tpr\": 0.9124024284475282, \"n\": 4672}, {\"threshold\": 0.363, \"p\": 4612, \"fpr\": 0.7061215753424658, \"tpr\": 0.9082827406764961, \"n\": 4672}, {\"threshold\": 0.364, \"p\": 4612, \"fpr\": 0.7050513698630136, \"tpr\": 0.9069817866435386, \"n\": 4672}, {\"threshold\": 0.365, \"p\": 4612, \"fpr\": 0.699486301369863, \"tpr\": 0.9054640069384216, \"n\": 4672}, {\"threshold\": 0.366, \"p\": 4612, \"fpr\": 0.6986301369863014, \"tpr\": 0.9045967042497832, \"n\": 4672}, {\"threshold\": 0.367, \"p\": 4612, \"fpr\": 0.6964897260273972, \"tpr\": 0.9043798785776236, \"n\": 4672}, {\"threshold\": 0.368, \"p\": 4612, \"fpr\": 0.6941352739726028, \"tpr\": 0.9032957502168256, \"n\": 4672}, {\"threshold\": 0.369, \"p\": 4612, \"fpr\": 0.6926369863013698, \"tpr\": 0.9026452732003469, \"n\": 4672}, {\"threshold\": 0.37, \"p\": 4612, \"fpr\": 0.6919948630136986, \"tpr\": 0.9019947961838681, \"n\": 4672}, {\"threshold\": 0.371, \"p\": 4612, \"fpr\": 0.6894263698630136, \"tpr\": 0.9011274934952298, \"n\": 4672}, {\"threshold\": 0.372, \"p\": 4612, \"fpr\": 0.6877140410958904, \"tpr\": 0.9002601908065915, \"n\": 4672}, {\"threshold\": 0.373, \"p\": 4612, \"fpr\": 0.684931506849315, \"tpr\": 0.898959236773634, \"n\": 4672}, {\"threshold\": 0.374, \"p\": 4612, \"fpr\": 0.679152397260274, \"tpr\": 0.8965741543798785, \"n\": 4672}, {\"threshold\": 0.375, \"p\": 4612, \"fpr\": 0.6772260273972602, \"tpr\": 0.8948395490026019, \"n\": 4672}, {\"threshold\": 0.376, \"p\": 4612, \"fpr\": 0.6714469178082192, \"tpr\": 0.891153512575889, \"n\": 4672}, {\"threshold\": 0.377, \"p\": 4612, \"fpr\": 0.669306506849315, \"tpr\": 0.8905030355594102, \"n\": 4672}, {\"threshold\": 0.378, \"p\": 4612, \"fpr\": 0.6665239726027398, \"tpr\": 0.8887684301821336, \"n\": 4672}, {\"threshold\": 0.379, \"p\": 4612, \"fpr\": 0.664597602739726, \"tpr\": 0.8876843018213356, \"n\": 4672}, {\"threshold\": 0.38, \"p\": 4612, \"fpr\": 0.6594606164383562, \"tpr\": 0.8855160450997398, \"n\": 4672}, {\"threshold\": 0.381, \"p\": 4612, \"fpr\": 0.6571061643835616, \"tpr\": 0.8844319167389418, \"n\": 4672}, {\"threshold\": 0.382, \"p\": 4612, \"fpr\": 0.6538955479452054, \"tpr\": 0.882263660017346, \"n\": 4672}, {\"threshold\": 0.383, \"p\": 4612, \"fpr\": 0.645333904109589, \"tpr\": 0.8787944492627927, \"n\": 4672}, {\"threshold\": 0.384, \"p\": 4612, \"fpr\": 0.643193493150685, \"tpr\": 0.8783607979184735, \"n\": 4672}, {\"threshold\": 0.385, \"p\": 4612, \"fpr\": 0.640625, \"tpr\": 0.8761925411968777, \"n\": 4672}, {\"threshold\": 0.386, \"p\": 4612, \"fpr\": 0.6393407534246576, \"tpr\": 0.8748915871639202, \"n\": 4672}, {\"threshold\": 0.387, \"p\": 4612, \"fpr\": 0.6365582191780822, \"tpr\": 0.8738074588031223, \"n\": 4672}, {\"threshold\": 0.388, \"p\": 4612, \"fpr\": 0.6350599315068494, \"tpr\": 0.8731569817866436, \"n\": 4672}, {\"threshold\": 0.389, \"p\": 4612, \"fpr\": 0.633347602739726, \"tpr\": 0.8720728534258456, \"n\": 4672}, {\"threshold\": 0.39, \"p\": 4612, \"fpr\": 0.6305650684931506, \"tpr\": 0.8709887250650477, \"n\": 4672}, {\"threshold\": 0.391, \"p\": 4612, \"fpr\": 0.628638698630137, \"tpr\": 0.8705550737207285, \"n\": 4672}, {\"threshold\": 0.392, \"p\": 4612, \"fpr\": 0.6258561643835616, \"tpr\": 0.8699045967042498, \"n\": 4672}, {\"threshold\": 0.393, \"p\": 4612, \"fpr\": 0.6235017123287672, \"tpr\": 0.8686036426712923, \"n\": 4672}, {\"threshold\": 0.394, \"p\": 4612, \"fpr\": 0.622431506849315, \"tpr\": 0.8679531656548135, \"n\": 4672}, {\"threshold\": 0.395, \"p\": 4612, \"fpr\": 0.6179366438356164, \"tpr\": 0.8653512575888985, \"n\": 4672}, {\"threshold\": 0.396, \"p\": 4612, \"fpr\": 0.6157962328767124, \"tpr\": 0.8633998265394622, \"n\": 4672}, {\"threshold\": 0.397, \"p\": 4612, \"fpr\": 0.615582191780822, \"tpr\": 0.8623156981786644, \"n\": 4672}, {\"threshold\": 0.398, \"p\": 4612, \"fpr\": 0.6134417808219178, \"tpr\": 0.8610147441457069, \"n\": 4672}, {\"threshold\": 0.399, \"p\": 4612, \"fpr\": 0.6113013698630136, \"tpr\": 0.8599306157849089, \"n\": 4672}, {\"threshold\": 0.4, \"p\": 4612, \"fpr\": 0.6100171232876712, \"tpr\": 0.8586296617519514, \"n\": 4672}, {\"threshold\": 0.401, \"p\": 4612, \"fpr\": 0.6074486301369864, \"tpr\": 0.8571118820468343, \"n\": 4672}, {\"threshold\": 0.402, \"p\": 4612, \"fpr\": 0.6044520547945206, \"tpr\": 0.8553772766695577, \"n\": 4672}, {\"threshold\": 0.403, \"p\": 4612, \"fpr\": 0.602097602739726, \"tpr\": 0.8542931483087598, \"n\": 4672}, {\"threshold\": 0.404, \"p\": 4612, \"fpr\": 0.601027397260274, \"tpr\": 0.852558542931483, \"n\": 4672}, {\"threshold\": 0.405, \"p\": 4612, \"fpr\": 0.5991010273972602, \"tpr\": 0.851040763226366, \"n\": 4672}, {\"threshold\": 0.406, \"p\": 4612, \"fpr\": 0.5969606164383562, \"tpr\": 0.849956634865568, \"n\": 4672}, {\"threshold\": 0.407, \"p\": 4612, \"fpr\": 0.5894691780821918, \"tpr\": 0.8458369470945359, \"n\": 4672}, {\"threshold\": 0.408, \"p\": 4612, \"fpr\": 0.5847602739726028, \"tpr\": 0.8423677363399826, \"n\": 4672}, {\"threshold\": 0.409, \"p\": 4612, \"fpr\": 0.5834760273972602, \"tpr\": 0.8417172593235039, \"n\": 4672}, {\"threshold\": 0.41, \"p\": 4612, \"fpr\": 0.5826198630136986, \"tpr\": 0.8412836079791848, \"n\": 4672}, {\"threshold\": 0.411, \"p\": 4612, \"fpr\": 0.5798373287671232, \"tpr\": 0.8397658282740676, \"n\": 4672}, {\"threshold\": 0.412, \"p\": 4612, \"fpr\": 0.5772688356164384, \"tpr\": 0.8378143972246314, \"n\": 4672}, {\"threshold\": 0.413, \"p\": 4612, \"fpr\": 0.574486301369863, \"tpr\": 0.8367302688638335, \"n\": 4672}, {\"threshold\": 0.414, \"p\": 4612, \"fpr\": 0.5740582191780822, \"tpr\": 0.8356461405030355, \"n\": 4672}, {\"threshold\": 0.415, \"p\": 4612, \"fpr\": 0.568707191780822, \"tpr\": 0.8334778837814397, \"n\": 4672}, {\"threshold\": 0.416, \"p\": 4612, \"fpr\": 0.566138698630137, \"tpr\": 0.8323937554206418, \"n\": 4672}, {\"threshold\": 0.417, \"p\": 4612, \"fpr\": 0.5637842465753424, \"tpr\": 0.8317432784041631, \"n\": 4672}, {\"threshold\": 0.418, \"p\": 4612, \"fpr\": 0.563570205479452, \"tpr\": 0.8315264527320034, \"n\": 4672}, {\"threshold\": 0.419, \"p\": 4612, \"fpr\": 0.5590753424657534, \"tpr\": 0.8282740676496098, \"n\": 4672}, {\"threshold\": 0.42, \"p\": 4612, \"fpr\": 0.5584332191780822, \"tpr\": 0.8278404163052906, \"n\": 4672}, {\"threshold\": 0.421, \"p\": 4612, \"fpr\": 0.5582191780821918, \"tpr\": 0.827623590633131, \"n\": 4672}, {\"threshold\": 0.422, \"p\": 4612, \"fpr\": 0.5582191780821918, \"tpr\": 0.827623590633131, \"n\": 4672}, {\"threshold\": 0.423, \"p\": 4612, \"fpr\": 0.5560787671232876, \"tpr\": 0.8261058109280138, \"n\": 4672}, {\"threshold\": 0.424, \"p\": 4612, \"fpr\": 0.5535102739726028, \"tpr\": 0.8243712055507372, \"n\": 4672}, {\"threshold\": 0.425, \"p\": 4612, \"fpr\": 0.552654109589041, \"tpr\": 0.823937554206418, \"n\": 4672}, {\"threshold\": 0.426, \"p\": 4612, \"fpr\": 0.5485873287671232, \"tpr\": 0.8228534258456202, \"n\": 4672}, {\"threshold\": 0.427, \"p\": 4612, \"fpr\": 0.5460188356164384, \"tpr\": 0.8215524718126627, \"n\": 4672}, {\"threshold\": 0.428, \"p\": 4612, \"fpr\": 0.5357448630136986, \"tpr\": 0.8172159583694709, \"n\": 4672}, {\"threshold\": 0.429, \"p\": 4612, \"fpr\": 0.533818493150685, \"tpr\": 0.8161318300086731, \"n\": 4672}, {\"threshold\": 0.43, \"p\": 4612, \"fpr\": 0.5318921232876712, \"tpr\": 0.8143972246313964, \"n\": 4672}, {\"threshold\": 0.431, \"p\": 4612, \"fpr\": 0.5291095890410958, \"tpr\": 0.8107111882046835, \"n\": 4672}, {\"threshold\": 0.432, \"p\": 4612, \"fpr\": 0.5248287671232876, \"tpr\": 0.8076756287944492, \"n\": 4672}, {\"threshold\": 0.433, \"p\": 4612, \"fpr\": 0.5173373287671232, \"tpr\": 0.8024718126626192, \"n\": 4672}, {\"threshold\": 0.434, \"p\": 4612, \"fpr\": 0.5141267123287672, \"tpr\": 0.8000867302688638, \"n\": 4672}, {\"threshold\": 0.435, \"p\": 4612, \"fpr\": 0.5132705479452054, \"tpr\": 0.7996530789245446, \"n\": 4672}, {\"threshold\": 0.436, \"p\": 4612, \"fpr\": 0.5122003424657534, \"tpr\": 0.7992194275802255, \"n\": 4672}, {\"threshold\": 0.437, \"p\": 4612, \"fpr\": 0.5059931506849316, \"tpr\": 0.7950997398091935, \"n\": 4672}, {\"threshold\": 0.438, \"p\": 4612, \"fpr\": 0.5040667808219178, \"tpr\": 0.794232437120555, \"n\": 4672}, {\"threshold\": 0.439, \"p\": 4612, \"fpr\": 0.4995719178082192, \"tpr\": 0.7918473547267997, \"n\": 4672}, {\"threshold\": 0.44, \"p\": 4612, \"fpr\": 0.4974315068493151, \"tpr\": 0.7903295750216826, \"n\": 4672}, {\"threshold\": 0.441, \"p\": 4612, \"fpr\": 0.4957191780821918, \"tpr\": 0.7879444926279271, \"n\": 4672}, {\"threshold\": 0.442, \"p\": 4612, \"fpr\": 0.4931506849315068, \"tpr\": 0.7864267129228101, \"n\": 4672}, {\"threshold\": 0.443, \"p\": 4612, \"fpr\": 0.4922945205479452, \"tpr\": 0.7844752818733738, \"n\": 4672}, {\"threshold\": 0.444, \"p\": 4612, \"fpr\": 0.4903681506849315, \"tpr\": 0.7827406764960971, \"n\": 4672}, {\"threshold\": 0.445, \"p\": 4612, \"fpr\": 0.4886558219178082, \"tpr\": 0.778620988725065, \"n\": 4672}, {\"threshold\": 0.446, \"p\": 4612, \"fpr\": 0.4854452054794521, \"tpr\": 0.7764527320034692, \"n\": 4672}, {\"threshold\": 0.447, \"p\": 4612, \"fpr\": 0.4811643835616438, \"tpr\": 0.7734171725932351, \"n\": 4672}, {\"threshold\": 0.448, \"p\": 4612, \"fpr\": 0.4798801369863014, \"tpr\": 0.7729835212489159, \"n\": 4672}, {\"threshold\": 0.449, \"p\": 4612, \"fpr\": 0.4779537671232877, \"tpr\": 0.7721162185602776, \"n\": 4672}, {\"threshold\": 0.45, \"p\": 4612, \"fpr\": 0.4758133561643836, \"tpr\": 0.7708152645273201, \"n\": 4672}, {\"threshold\": 0.451, \"p\": 4612, \"fpr\": 0.4745291095890411, \"tpr\": 0.769297484822203, \"n\": 4672}, {\"threshold\": 0.452, \"p\": 4612, \"fpr\": 0.4715325342465753, \"tpr\": 0.768213356461405, \"n\": 4672}, {\"threshold\": 0.453, \"p\": 4612, \"fpr\": 0.4706763698630137, \"tpr\": 0.7679965307892455, \"n\": 4672}, {\"threshold\": 0.454, \"p\": 4612, \"fpr\": 0.4683219178082192, \"tpr\": 0.7664787510841283, \"n\": 4672}, {\"threshold\": 0.455, \"p\": 4612, \"fpr\": 0.4668236301369863, \"tpr\": 0.7647441457068517, \"n\": 4672}, {\"threshold\": 0.456, \"p\": 4612, \"fpr\": 0.4638270547945205, \"tpr\": 0.7623590633130962, \"n\": 4672}, {\"threshold\": 0.457, \"p\": 4612, \"fpr\": 0.4610445205479452, \"tpr\": 0.7595403295750217, \"n\": 4672}, {\"threshold\": 0.458, \"p\": 4612, \"fpr\": 0.4597602739726027, \"tpr\": 0.7584562012142237, \"n\": 4672}, {\"threshold\": 0.459, \"p\": 4612, \"fpr\": 0.4546232876712329, \"tpr\": 0.7543365134431916, \"n\": 4672}, {\"threshold\": 0.46, \"p\": 4612, \"fpr\": 0.4482020547945205, \"tpr\": 0.7497831743278404, \"n\": 4672}, {\"threshold\": 0.461, \"p\": 4612, \"fpr\": 0.4475599315068493, \"tpr\": 0.7482653946227233, \"n\": 4672}, {\"threshold\": 0.462, \"p\": 4612, \"fpr\": 0.4471318493150685, \"tpr\": 0.7476149176062445, \"n\": 4672}, {\"threshold\": 0.463, \"p\": 4612, \"fpr\": 0.4456335616438356, \"tpr\": 0.7460971379011275, \"n\": 4672}, {\"threshold\": 0.464, \"p\": 4612, \"fpr\": 0.444777397260274, \"tpr\": 0.7458803122289679, \"n\": 4672}, {\"threshold\": 0.465, \"p\": 4612, \"fpr\": 0.4389982876712329, \"tpr\": 0.7415437987857763, \"n\": 4672}, {\"threshold\": 0.466, \"p\": 4612, \"fpr\": 0.4347174657534247, \"tpr\": 0.7367736339982653, \"n\": 4672}, {\"threshold\": 0.467, \"p\": 4612, \"fpr\": 0.4310787671232877, \"tpr\": 0.7341717259323504, \"n\": 4672}, {\"threshold\": 0.468, \"p\": 4612, \"fpr\": 0.430222602739726, \"tpr\": 0.7330875975715525, \"n\": 4672}, {\"threshold\": 0.469, \"p\": 4612, \"fpr\": 0.4248715753424658, \"tpr\": 0.7304856895056374, \"n\": 4672}, {\"threshold\": 0.47, \"p\": 4612, \"fpr\": 0.4227311643835616, \"tpr\": 0.7296183868169991, \"n\": 4672}, {\"threshold\": 0.471, \"p\": 4612, \"fpr\": 0.4220890410958904, \"tpr\": 0.7287510841283608, \"n\": 4672}, {\"threshold\": 0.472, \"p\": 4612, \"fpr\": 0.4201626712328767, \"tpr\": 0.7274501300954033, \"n\": 4672}, {\"threshold\": 0.473, \"p\": 4612, \"fpr\": 0.4190924657534247, \"tpr\": 0.7267996530789246, \"n\": 4672}, {\"threshold\": 0.474, \"p\": 4612, \"fpr\": 0.418236301369863, \"tpr\": 0.7263660017346054, \"n\": 4672}, {\"threshold\": 0.475, \"p\": 4612, \"fpr\": 0.4165239726027397, \"tpr\": 0.7254986990459671, \"n\": 4672}, {\"threshold\": 0.476, \"p\": 4612, \"fpr\": 0.4163099315068493, \"tpr\": 0.7250650477016479, \"n\": 4672}, {\"threshold\": 0.477, \"p\": 4612, \"fpr\": 0.4101027397260274, \"tpr\": 0.7226799653078925, \"n\": 4672}, {\"threshold\": 0.478, \"p\": 4612, \"fpr\": 0.4088184931506849, \"tpr\": 0.721379011274935, \"n\": 4672}, {\"threshold\": 0.479, \"p\": 4612, \"fpr\": 0.3895547945205479, \"tpr\": 0.7042497831743278, \"n\": 4672}, {\"threshold\": 0.48, \"p\": 4612, \"fpr\": 0.3884845890410959, \"tpr\": 0.7033824804856895, \"n\": 4672}, {\"threshold\": 0.481, \"p\": 4612, \"fpr\": 0.3880565068493151, \"tpr\": 0.7029488291413704, \"n\": 4672}, {\"threshold\": 0.482, \"p\": 4612, \"fpr\": 0.3865582191780822, \"tpr\": 0.7022983521248916, \"n\": 4672}, {\"threshold\": 0.483, \"p\": 4612, \"fpr\": 0.3835616438356164, \"tpr\": 0.7007805724197745, \"n\": 4672}, {\"threshold\": 0.484, \"p\": 4612, \"fpr\": 0.3816352739726027, \"tpr\": 0.6999132697311362, \"n\": 4672}, {\"threshold\": 0.485, \"p\": 4612, \"fpr\": 0.3762842465753425, \"tpr\": 0.6923243712055508, \"n\": 4672}, {\"threshold\": 0.486, \"p\": 4612, \"fpr\": 0.3743578767123288, \"tpr\": 0.691673894189072, \"n\": 4672}, {\"threshold\": 0.487, \"p\": 4612, \"fpr\": 0.3730736301369863, \"tpr\": 0.6901561144839549, \"n\": 4672}, {\"threshold\": 0.488, \"p\": 4612, \"fpr\": 0.3705051369863014, \"tpr\": 0.6886383347788378, \"n\": 4672}, {\"threshold\": 0.489, \"p\": 4612, \"fpr\": 0.3683647260273973, \"tpr\": 0.6875542064180399, \"n\": 4672}, {\"threshold\": 0.49, \"p\": 4612, \"fpr\": 0.3595890410958904, \"tpr\": 0.677580225498699, \"n\": 4672}, {\"threshold\": 0.491, \"p\": 4612, \"fpr\": 0.3570205479452055, \"tpr\": 0.6732437120555074, \"n\": 4672}, {\"threshold\": 0.492, \"p\": 4612, \"fpr\": 0.3544520547945205, \"tpr\": 0.6706418039895924, \"n\": 4672}, {\"threshold\": 0.493, \"p\": 4612, \"fpr\": 0.3469606164383562, \"tpr\": 0.6613183000867303, \"n\": 4672}, {\"threshold\": 0.494, \"p\": 4612, \"fpr\": 0.3446061643835616, \"tpr\": 0.6595836947094535, \"n\": 4672}, {\"threshold\": 0.495, \"p\": 4612, \"fpr\": 0.3443921232876712, \"tpr\": 0.6589332176929749, \"n\": 4672}, {\"threshold\": 0.496, \"p\": 4612, \"fpr\": 0.3441780821917808, \"tpr\": 0.6589332176929749, \"n\": 4672}, {\"threshold\": 0.497, \"p\": 4612, \"fpr\": 0.3424657534246575, \"tpr\": 0.6580659150043365, \"n\": 4672}, {\"threshold\": 0.498, \"p\": 4612, \"fpr\": 0.3339041095890411, \"tpr\": 0.6478751084128361, \"n\": 4672}, {\"threshold\": 0.499, \"p\": 4612, \"fpr\": 0.3319777397260274, \"tpr\": 0.6470078057241977, \"n\": 4672}, {\"threshold\": 0.5, \"p\": 4612, \"fpr\": 0.3296232876712329, \"tpr\": 0.6448395490026019, \"n\": 4672}, {\"threshold\": 0.501, \"p\": 4612, \"fpr\": 0.3294092465753425, \"tpr\": 0.6448395490026019, \"n\": 4672}, {\"threshold\": 0.502, \"p\": 4612, \"fpr\": 0.3289811643835616, \"tpr\": 0.6439722463139635, \"n\": 4672}, {\"threshold\": 0.503, \"p\": 4612, \"fpr\": 0.3270547945205479, \"tpr\": 0.6407198612315698, \"n\": 4672}, {\"threshold\": 0.504, \"p\": 4612, \"fpr\": 0.3257705479452055, \"tpr\": 0.6396357328707719, \"n\": 4672}, {\"threshold\": 0.505, \"p\": 4612, \"fpr\": 0.3242722602739726, \"tpr\": 0.6381179531656548, \"n\": 4672}, {\"threshold\": 0.506, \"p\": 4612, \"fpr\": 0.323416095890411, \"tpr\": 0.6372506504770165, \"n\": 4672}, {\"threshold\": 0.507, \"p\": 4612, \"fpr\": 0.3221318493150685, \"tpr\": 0.6366001734605378, \"n\": 4672}, {\"threshold\": 0.508, \"p\": 4612, \"fpr\": 0.3204195205479452, \"tpr\": 0.6361665221162186, \"n\": 4672}, {\"threshold\": 0.509, \"p\": 4612, \"fpr\": 0.3180650684931507, \"tpr\": 0.6348655680832611, \"n\": 4672}, {\"threshold\": 0.51, \"p\": 4612, \"fpr\": 0.3159246575342466, \"tpr\": 0.6342150910667823, \"n\": 4672}, {\"threshold\": 0.511, \"p\": 4612, \"fpr\": 0.3139982876712329, \"tpr\": 0.6329141370338248, \"n\": 4672}, {\"threshold\": 0.512, \"p\": 4612, \"fpr\": 0.3118578767123288, \"tpr\": 0.6313963573287077, \"n\": 4672}, {\"threshold\": 0.513, \"p\": 4612, \"fpr\": 0.3107876712328767, \"tpr\": 0.6300954032957502, \"n\": 4672}, {\"threshold\": 0.514, \"p\": 4612, \"fpr\": 0.3084332191780822, \"tpr\": 0.6294449262792715, \"n\": 4672}, {\"threshold\": 0.515, \"p\": 4612, \"fpr\": 0.3054366438356164, \"tpr\": 0.6255420641803989, \"n\": 4672}, {\"threshold\": 0.516, \"p\": 4612, \"fpr\": 0.3024400684931507, \"tpr\": 0.6233738074588031, \"n\": 4672}, {\"threshold\": 0.517, \"p\": 4612, \"fpr\": 0.3011558219178082, \"tpr\": 0.6227233304423244, \"n\": 4672}, {\"threshold\": 0.518, \"p\": 4612, \"fpr\": 0.2992294520547945, \"tpr\": 0.6194709453599306, \"n\": 4672}, {\"threshold\": 0.519, \"p\": 4612, \"fpr\": 0.2988013698630137, \"tpr\": 0.6175195143104943, \"n\": 4672}, {\"threshold\": 0.52, \"p\": 4612, \"fpr\": 0.2975171232876712, \"tpr\": 0.6173026886383348, \"n\": 4672}, {\"threshold\": 0.521, \"p\": 4612, \"fpr\": 0.2949486301369863, \"tpr\": 0.6155680832610582, \"n\": 4672}, {\"threshold\": 0.522, \"p\": 4612, \"fpr\": 0.2940924657534247, \"tpr\": 0.6147007805724197, \"n\": 4672}, {\"threshold\": 0.523, \"p\": 4612, \"fpr\": 0.293236301369863, \"tpr\": 0.6133998265394622, \"n\": 4672}, {\"threshold\": 0.524, \"p\": 4612, \"fpr\": 0.2917380136986301, \"tpr\": 0.6120988725065047, \"n\": 4672}, {\"threshold\": 0.525, \"p\": 4612, \"fpr\": 0.2880993150684932, \"tpr\": 0.6071118820468343, \"n\": 4672}, {\"threshold\": 0.526, \"p\": 4612, \"fpr\": 0.2846746575342466, \"tpr\": 0.6021248915871639, \"n\": 4672}, {\"threshold\": 0.527, \"p\": 4612, \"fpr\": 0.2840325342465753, \"tpr\": 0.6012575888985255, \"n\": 4672}, {\"threshold\": 0.528, \"p\": 4612, \"fpr\": 0.2825342465753425, \"tpr\": 0.6001734605377277, \"n\": 4672}, {\"threshold\": 0.529, \"p\": 4612, \"fpr\": 0.2791095890410959, \"tpr\": 0.5967042497831744, \"n\": 4672}, {\"threshold\": 0.53, \"p\": 4612, \"fpr\": 0.2782534246575342, \"tpr\": 0.5956201214223764, \"n\": 4672}, {\"threshold\": 0.531, \"p\": 4612, \"fpr\": 0.2767551369863014, \"tpr\": 0.5934518647007806, \"n\": 4672}, {\"threshold\": 0.532, \"p\": 4612, \"fpr\": 0.2756849315068493, \"tpr\": 0.5919340849956635, \"n\": 4672}, {\"threshold\": 0.533, \"p\": 4612, \"fpr\": 0.2649828767123288, \"tpr\": 0.5789245446660884, \"n\": 4672}, {\"threshold\": 0.534, \"p\": 4612, \"fpr\": 0.2634845890410959, \"tpr\": 0.5778404163052906, \"n\": 4672}, {\"threshold\": 0.535, \"p\": 4612, \"fpr\": 0.2622003424657534, \"tpr\": 0.5763226366001735, \"n\": 4672}, {\"threshold\": 0.536, \"p\": 4612, \"fpr\": 0.2611301369863014, \"tpr\": 0.5745880312228968, \"n\": 4672}, {\"threshold\": 0.537, \"p\": 4612, \"fpr\": 0.2596318493150685, \"tpr\": 0.5715524718126627, \"n\": 4672}, {\"threshold\": 0.538, \"p\": 4612, \"fpr\": 0.2592037671232877, \"tpr\": 0.5711188204683435, \"n\": 4672}, {\"threshold\": 0.539, \"p\": 4612, \"fpr\": 0.2581335616438356, \"tpr\": 0.5685169124024284, \"n\": 4672}, {\"threshold\": 0.54, \"p\": 4612, \"fpr\": 0.2557791095890411, \"tpr\": 0.5667823070251518, \"n\": 4672}, {\"threshold\": 0.541, \"p\": 4612, \"fpr\": 0.2544948630136986, \"tpr\": 0.5656981786643539, \"n\": 4672}, {\"threshold\": 0.542, \"p\": 4612, \"fpr\": 0.2534246575342466, \"tpr\": 0.5637467476149176, \"n\": 4672}, {\"threshold\": 0.543, \"p\": 4612, \"fpr\": 0.2521404109589041, \"tpr\": 0.5604943625325238, \"n\": 4672}, {\"threshold\": 0.544, \"p\": 4612, \"fpr\": 0.25, \"tpr\": 0.5576756287944492, \"n\": 4672}, {\"threshold\": 0.545, \"p\": 4612, \"fpr\": 0.24935787671232876, \"tpr\": 0.5568083261058109, \"n\": 4672}, {\"threshold\": 0.546, \"p\": 4612, \"fpr\": 0.24871575342465754, \"tpr\": 0.5544232437120555, \"n\": 4672}, {\"threshold\": 0.547, \"p\": 4612, \"fpr\": 0.24721746575342465, \"tpr\": 0.5537727666955767, \"n\": 4672}, {\"threshold\": 0.548, \"p\": 4612, \"fpr\": 0.2457191780821918, \"tpr\": 0.5520381613183001, \"n\": 4672}, {\"threshold\": 0.549, \"p\": 4612, \"fpr\": 0.24315068493150685, \"tpr\": 0.5492194275802255, \"n\": 4672}, {\"threshold\": 0.55, \"p\": 4612, \"fpr\": 0.24272260273972604, \"tpr\": 0.5485689505637468, \"n\": 4672}, {\"threshold\": 0.551, \"p\": 4612, \"fpr\": 0.24122431506849315, \"tpr\": 0.5466175195143105, \"n\": 4672}, {\"threshold\": 0.552, \"p\": 4612, \"fpr\": 0.23929794520547945, \"tpr\": 0.5433651344319167, \"n\": 4672}, {\"threshold\": 0.553, \"p\": 4612, \"fpr\": 0.23908390410958905, \"tpr\": 0.5431483087597572, \"n\": 4672}, {\"threshold\": 0.554, \"p\": 4612, \"fpr\": 0.2363013698630137, \"tpr\": 0.5392454466608847, \"n\": 4672}, {\"threshold\": 0.555, \"p\": 4612, \"fpr\": 0.23159246575342465, \"tpr\": 0.5329575021682568, \"n\": 4672}, {\"threshold\": 0.556, \"p\": 4612, \"fpr\": 0.2309503424657534, \"tpr\": 0.5314397224631396, \"n\": 4672}, {\"threshold\": 0.557, \"p\": 4612, \"fpr\": 0.2288099315068493, \"tpr\": 0.5284041630529055, \"n\": 4672}, {\"threshold\": 0.558, \"p\": 4612, \"fpr\": 0.22752568493150685, \"tpr\": 0.52601908065915, \"n\": 4672}, {\"threshold\": 0.559, \"p\": 4612, \"fpr\": 0.2262414383561644, \"tpr\": 0.52601908065915, \"n\": 4672}, {\"threshold\": 0.56, \"p\": 4612, \"fpr\": 0.22602739726027396, \"tpr\": 0.5253686036426712, \"n\": 4672}, {\"threshold\": 0.561, \"p\": 4612, \"fpr\": 0.22602739726027396, \"tpr\": 0.5249349522983521, \"n\": 4672}, {\"threshold\": 0.562, \"p\": 4612, \"fpr\": 0.2228167808219178, \"tpr\": 0.5212489158716392, \"n\": 4672}, {\"threshold\": 0.563, \"p\": 4612, \"fpr\": 0.22153253424657535, \"tpr\": 0.5199479618386817, \"n\": 4672}, {\"threshold\": 0.564, \"p\": 4612, \"fpr\": 0.21810787671232876, \"tpr\": 0.5151777970511708, \"n\": 4672}, {\"threshold\": 0.565, \"p\": 4612, \"fpr\": 0.21575342465753425, \"tpr\": 0.5123590633130962, \"n\": 4672}, {\"threshold\": 0.566, \"p\": 4612, \"fpr\": 0.21232876712328766, \"tpr\": 0.5071552471812663, \"n\": 4672}, {\"threshold\": 0.567, \"p\": 4612, \"fpr\": 0.21168664383561644, \"tpr\": 0.5060711188204683, \"n\": 4672}, {\"threshold\": 0.568, \"p\": 4612, \"fpr\": 0.2074058219178082, \"tpr\": 0.5004336513443192, \"n\": 4672}, {\"threshold\": 0.569, \"p\": 4612, \"fpr\": 0.20569349315068494, \"tpr\": 0.4989158716392021, \"n\": 4672}, {\"threshold\": 0.57, \"p\": 4612, \"fpr\": 0.20419520547945205, \"tpr\": 0.497398091934085, \"n\": 4672}, {\"threshold\": 0.571, \"p\": 4612, \"fpr\": 0.20184075342465754, \"tpr\": 0.49479618386817, \"n\": 4672}, {\"threshold\": 0.572, \"p\": 4612, \"fpr\": 0.19670376712328766, \"tpr\": 0.48829141370338247, \"n\": 4672}, {\"threshold\": 0.573, \"p\": 4612, \"fpr\": 0.19456335616438356, \"tpr\": 0.48330442324371203, \"n\": 4672}, {\"threshold\": 0.574, \"p\": 4612, \"fpr\": 0.1937071917808219, \"tpr\": 0.4813529921942758, \"n\": 4672}, {\"threshold\": 0.575, \"p\": 4612, \"fpr\": 0.1913527397260274, \"tpr\": 0.4802688638334779, \"n\": 4672}, {\"threshold\": 0.576, \"p\": 4612, \"fpr\": 0.1889982876712329, \"tpr\": 0.4776669557675629, \"n\": 4672}, {\"threshold\": 0.577, \"p\": 4612, \"fpr\": 0.18428938356164384, \"tpr\": 0.4722463139635733, \"n\": 4672}, {\"threshold\": 0.578, \"p\": 4612, \"fpr\": 0.1834332191780822, \"tpr\": 0.47007805724197743, \"n\": 4672}, {\"threshold\": 0.579, \"p\": 4612, \"fpr\": 0.1815068493150685, \"tpr\": 0.46747614917606245, \"n\": 4672}, {\"threshold\": 0.58, \"p\": 4612, \"fpr\": 0.1815068493150685, \"tpr\": 0.4670424978317433, \"n\": 4672}, {\"threshold\": 0.581, \"p\": 4612, \"fpr\": 0.1812928082191781, \"tpr\": 0.46530789245446663, \"n\": 4672}, {\"threshold\": 0.582, \"p\": 4612, \"fpr\": 0.18107876712328766, \"tpr\": 0.46487424111014747, \"n\": 4672}, {\"threshold\": 0.583, \"p\": 4612, \"fpr\": 0.1778681506849315, \"tpr\": 0.4603209019947962, \"n\": 4672}, {\"threshold\": 0.584, \"p\": 4612, \"fpr\": 0.1774400684931507, \"tpr\": 0.45945359930615787, \"n\": 4672}, {\"threshold\": 0.585, \"p\": 4612, \"fpr\": 0.17487157534246575, \"tpr\": 0.4570685169124024, \"n\": 4672}, {\"threshold\": 0.586, \"p\": 4612, \"fpr\": 0.17251712328767124, \"tpr\": 0.4527320034692108, \"n\": 4672}, {\"threshold\": 0.587, \"p\": 4612, \"fpr\": 0.1714469178082192, \"tpr\": 0.4518647007805724, \"n\": 4672}, {\"threshold\": 0.588, \"p\": 4612, \"fpr\": 0.1680222602739726, \"tpr\": 0.44644405897658285, \"n\": 4672}, {\"threshold\": 0.589, \"p\": 4612, \"fpr\": 0.1660958904109589, \"tpr\": 0.4440589765828274, \"n\": 4672}, {\"threshold\": 0.59, \"p\": 4612, \"fpr\": 0.16160102739726026, \"tpr\": 0.43690372940156114, \"n\": 4672}, {\"threshold\": 0.591, \"p\": 4612, \"fpr\": 0.16095890410958905, \"tpr\": 0.43668690372940155, \"n\": 4672}, {\"threshold\": 0.592, \"p\": 4612, \"fpr\": 0.1601027397260274, \"tpr\": 0.4362532523850824, \"n\": 4672}, {\"threshold\": 0.593, \"p\": 4612, \"fpr\": 0.1583904109589041, \"tpr\": 0.4336513443191674, \"n\": 4672}, {\"threshold\": 0.594, \"p\": 4612, \"fpr\": 0.15303938356164384, \"tpr\": 0.42562879444926277, \"n\": 4672}, {\"threshold\": 0.595, \"p\": 4612, \"fpr\": 0.1506849315068493, \"tpr\": 0.42129228100607113, \"n\": 4672}, {\"threshold\": 0.596, \"p\": 4612, \"fpr\": 0.1481164383561644, \"tpr\": 0.41825672159583693, \"n\": 4672}, {\"threshold\": 0.597, \"p\": 4612, \"fpr\": 0.1468321917808219, \"tpr\": 0.4173894189071986, \"n\": 4672}, {\"threshold\": 0.598, \"p\": 4612, \"fpr\": 0.14554794520547945, \"tpr\": 0.41695576756287944, \"n\": 4672}, {\"threshold\": 0.599, \"p\": 4612, \"fpr\": 0.1449058219178082, \"tpr\": 0.4139202081526453, \"n\": 4672}, {\"threshold\": 0.6, \"p\": 4612, \"fpr\": 0.14319349315068494, \"tpr\": 0.411968777103209, \"n\": 4672}, {\"threshold\": 0.601, \"p\": 4612, \"fpr\": 0.1425513698630137, \"tpr\": 0.40915004336513444, \"n\": 4672}, {\"threshold\": 0.602, \"p\": 4612, \"fpr\": 0.1401969178082192, \"tpr\": 0.40611448395490024, \"n\": 4672}, {\"threshold\": 0.603, \"p\": 4612, \"fpr\": 0.1386986301369863, \"tpr\": 0.40503035559410233, \"n\": 4672}, {\"threshold\": 0.604, \"p\": 4612, \"fpr\": 0.13762842465753425, \"tpr\": 0.40221162185602777, \"n\": 4672}, {\"threshold\": 0.605, \"p\": 4612, \"fpr\": 0.1350599315068493, \"tpr\": 0.3974414570685169, \"n\": 4672}, {\"threshold\": 0.606, \"p\": 4612, \"fpr\": 0.1350599315068493, \"tpr\": 0.39722463139635733, \"n\": 4672}, {\"threshold\": 0.607, \"p\": 4612, \"fpr\": 0.1329195205479452, \"tpr\": 0.39375542064180397, \"n\": 4672}, {\"threshold\": 0.608, \"p\": 4612, \"fpr\": 0.13163527397260275, \"tpr\": 0.39288811795316564, \"n\": 4672}, {\"threshold\": 0.609, \"p\": 4612, \"fpr\": 0.12949486301369864, \"tpr\": 0.39028620988725066, \"n\": 4672}, {\"threshold\": 0.61, \"p\": 4612, \"fpr\": 0.12457191780821918, \"tpr\": 0.37944492627927146, \"n\": 4672}, {\"threshold\": 0.611, \"p\": 4612, \"fpr\": 0.1230736301369863, \"tpr\": 0.3766261925411969, \"n\": 4672}, {\"threshold\": 0.612, \"p\": 4612, \"fpr\": 0.1230736301369863, \"tpr\": 0.3761925411968777, \"n\": 4672}, {\"threshold\": 0.613, \"p\": 4612, \"fpr\": 0.12178938356164383, \"tpr\": 0.37402428447528185, \"n\": 4672}, {\"threshold\": 0.614, \"p\": 4612, \"fpr\": 0.11964897260273973, \"tpr\": 0.37185602775368604, \"n\": 4672}, {\"threshold\": 0.615, \"p\": 4612, \"fpr\": 0.11665239726027397, \"tpr\": 0.36600173460537727, \"n\": 4672}, {\"threshold\": 0.616, \"p\": 4612, \"fpr\": 0.11579623287671233, \"tpr\": 0.36361665221162187, \"n\": 4672}, {\"threshold\": 0.617, \"p\": 4612, \"fpr\": 0.11451198630136987, \"tpr\": 0.36274934952298354, \"n\": 4672}, {\"threshold\": 0.618, \"p\": 4612, \"fpr\": 0.11215753424657535, \"tpr\": 0.35949696444058976, \"n\": 4672}, {\"threshold\": 0.619, \"p\": 4612, \"fpr\": 0.11087328767123288, \"tpr\": 0.35841283607979185, \"n\": 4672}, {\"threshold\": 0.62, \"p\": 4612, \"fpr\": 0.11001712328767123, \"tpr\": 0.3564614050303556, \"n\": 4672}, {\"threshold\": 0.621, \"p\": 4612, \"fpr\": 0.1091609589041096, \"tpr\": 0.35559410234171723, \"n\": 4672}, {\"threshold\": 0.622, \"p\": 4612, \"fpr\": 0.10702054794520548, \"tpr\": 0.3499566348655681, \"n\": 4672}, {\"threshold\": 0.623, \"p\": 4612, \"fpr\": 0.10595034246575342, \"tpr\": 0.34778837814397223, \"n\": 4672}, {\"threshold\": 0.624, \"p\": 4612, \"fpr\": 0.1053082191780822, \"tpr\": 0.34757155247181265, \"n\": 4672}, {\"threshold\": 0.625, \"p\": 4612, \"fpr\": 0.10445205479452055, \"tpr\": 0.34648742411101474, \"n\": 4672}, {\"threshold\": 0.626, \"p\": 4612, \"fpr\": 0.10380993150684932, \"tpr\": 0.34540329575021683, \"n\": 4672}, {\"threshold\": 0.627, \"p\": 4612, \"fpr\": 0.10273972602739725, \"tpr\": 0.34410234171725934, \"n\": 4672}, {\"threshold\": 0.628, \"p\": 4612, \"fpr\": 0.10188356164383562, \"tpr\": 0.343235039028621, \"n\": 4672}, {\"threshold\": 0.629, \"p\": 4612, \"fpr\": 0.10102739726027397, \"tpr\": 0.3417172593235039, \"n\": 4672}, {\"threshold\": 0.63, \"p\": 4612, \"fpr\": 0.09867294520547945, \"tpr\": 0.3388985255854293, \"n\": 4672}, {\"threshold\": 0.631, \"p\": 4612, \"fpr\": 0.09738869863013698, \"tpr\": 0.3352124891587164, \"n\": 4672}, {\"threshold\": 0.632, \"p\": 4612, \"fpr\": 0.09460616438356165, \"tpr\": 0.3313096270598439, \"n\": 4672}, {\"threshold\": 0.633, \"p\": 4612, \"fpr\": 0.0939640410958904, \"tpr\": 0.32870771899392887, \"n\": 4672}, {\"threshold\": 0.634, \"p\": 4612, \"fpr\": 0.09310787671232877, \"tpr\": 0.3258889852558543, \"n\": 4672}, {\"threshold\": 0.635, \"p\": 4612, \"fpr\": 0.0916095890410959, \"tpr\": 0.3215524718126626, \"n\": 4672}, {\"threshold\": 0.636, \"p\": 4612, \"fpr\": 0.09053938356164383, \"tpr\": 0.3193842150910668, \"n\": 4672}, {\"threshold\": 0.637, \"p\": 4612, \"fpr\": 0.08925513698630137, \"tpr\": 0.31699913269731134, \"n\": 4672}, {\"threshold\": 0.638, \"p\": 4612, \"fpr\": 0.0860445205479452, \"tpr\": 0.30680832610581094, \"n\": 4672}, {\"threshold\": 0.639, \"p\": 4612, \"fpr\": 0.08561643835616438, \"tpr\": 0.30637467476149177, \"n\": 4672}, {\"threshold\": 0.64, \"p\": 4612, \"fpr\": 0.08476027397260275, \"tpr\": 0.303122289679098, \"n\": 4672}, {\"threshold\": 0.641, \"p\": 4612, \"fpr\": 0.08433219178082192, \"tpr\": 0.30095403295750217, \"n\": 4672}, {\"threshold\": 0.642, \"p\": 4612, \"fpr\": 0.08433219178082192, \"tpr\": 0.3007372072853426, \"n\": 4672}, {\"threshold\": 0.643, \"p\": 4612, \"fpr\": 0.08304794520547945, \"tpr\": 0.29596704249783173, \"n\": 4672}, {\"threshold\": 0.644, \"p\": 4612, \"fpr\": 0.0821917808219178, \"tpr\": 0.2909800520381613, \"n\": 4672}, {\"threshold\": 0.645, \"p\": 4612, \"fpr\": 0.08069349315068493, \"tpr\": 0.28902862098872506, \"n\": 4672}, {\"threshold\": 0.646, \"p\": 4612, \"fpr\": 0.07962328767123288, \"tpr\": 0.287510841283608, \"n\": 4672}, {\"threshold\": 0.647, \"p\": 4612, \"fpr\": 0.07876712328767123, \"tpr\": 0.2840416305290546, \"n\": 4672}, {\"threshold\": 0.648, \"p\": 4612, \"fpr\": 0.0779109589041096, \"tpr\": 0.2816565481352992, \"n\": 4672}, {\"threshold\": 0.649, \"p\": 4612, \"fpr\": 0.0779109589041096, \"tpr\": 0.2810060711188205, \"n\": 4672}, {\"threshold\": 0.65, \"p\": 4612, \"fpr\": 0.07726883561643835, \"tpr\": 0.27905464006938424, \"n\": 4672}, {\"threshold\": 0.651, \"p\": 4612, \"fpr\": 0.07555650684931507, \"tpr\": 0.27471812662619255, \"n\": 4672}, {\"threshold\": 0.652, \"p\": 4612, \"fpr\": 0.07534246575342465, \"tpr\": 0.2740676496097138, \"n\": 4672}, {\"threshold\": 0.653, \"p\": 4612, \"fpr\": 0.07512842465753425, \"tpr\": 0.27341717259323506, \"n\": 4672}, {\"threshold\": 0.654, \"p\": 4612, \"fpr\": 0.07512842465753425, \"tpr\": 0.2732003469210755, \"n\": 4672}, {\"threshold\": 0.655, \"p\": 4612, \"fpr\": 0.07363013698630137, \"tpr\": 0.2699479618386817, \"n\": 4672}, {\"threshold\": 0.656, \"p\": 4612, \"fpr\": 0.07106164383561644, \"tpr\": 0.2660450997398092, \"n\": 4672}, {\"threshold\": 0.657, \"p\": 4612, \"fpr\": 0.06913527397260275, \"tpr\": 0.26149176062445795, \"n\": 4672}, {\"threshold\": 0.658, \"p\": 4612, \"fpr\": 0.06913527397260275, \"tpr\": 0.2588898525585429, \"n\": 4672}, {\"threshold\": 0.659, \"p\": 4612, \"fpr\": 0.06870719178082192, \"tpr\": 0.2567215958369471, \"n\": 4672}, {\"threshold\": 0.66, \"p\": 4612, \"fpr\": 0.0682791095890411, \"tpr\": 0.25607111882046835, \"n\": 4672}, {\"threshold\": 0.661, \"p\": 4612, \"fpr\": 0.06699486301369863, \"tpr\": 0.25195143104943624, \"n\": 4672}, {\"threshold\": 0.662, \"p\": 4612, \"fpr\": 0.06571061643835617, \"tpr\": 0.25, \"n\": 4672}, {\"threshold\": 0.663, \"p\": 4612, \"fpr\": 0.0644263698630137, \"tpr\": 0.24804856895056374, \"n\": 4672}, {\"threshold\": 0.664, \"p\": 4612, \"fpr\": 0.06399828767123288, \"tpr\": 0.24631396357328708, \"n\": 4672}, {\"threshold\": 0.665, \"p\": 4612, \"fpr\": 0.06399828767123288, \"tpr\": 0.2445793581960104, \"n\": 4672}, {\"threshold\": 0.666, \"p\": 4612, \"fpr\": 0.0625, \"tpr\": 0.24262792714657416, \"n\": 4672}, {\"threshold\": 0.667, \"p\": 4612, \"fpr\": 0.061215753424657536, \"tpr\": 0.24241110147441458, \"n\": 4672}, {\"threshold\": 0.668, \"p\": 4612, \"fpr\": 0.06014554794520548, \"tpr\": 0.24089332176929748, \"n\": 4672}, {\"threshold\": 0.669, \"p\": 4612, \"fpr\": 0.0586472602739726, \"tpr\": 0.23612315698178665, \"n\": 4672}, {\"threshold\": 0.67, \"p\": 4612, \"fpr\": 0.05779109589041096, \"tpr\": 0.23048568950563747, \"n\": 4672}, {\"threshold\": 0.671, \"p\": 4612, \"fpr\": 0.056934931506849314, \"tpr\": 0.2287510841283608, \"n\": 4672}, {\"threshold\": 0.672, \"p\": 4612, \"fpr\": 0.05650684931506849, \"tpr\": 0.2259323503902862, \"n\": 4672}, {\"threshold\": 0.673, \"p\": 4612, \"fpr\": 0.05607876712328767, \"tpr\": 0.2235472679965308, \"n\": 4672}, {\"threshold\": 0.674, \"p\": 4612, \"fpr\": 0.05607876712328767, \"tpr\": 0.2235472679965308, \"n\": 4672}, {\"threshold\": 0.675, \"p\": 4612, \"fpr\": 0.05543664383561644, \"tpr\": 0.22159583694709453, \"n\": 4672}, {\"threshold\": 0.676, \"p\": 4612, \"fpr\": 0.05286815068493151, \"tpr\": 0.21834345186470078, \"n\": 4672}, {\"threshold\": 0.677, \"p\": 4612, \"fpr\": 0.05201198630136986, \"tpr\": 0.2181266261925412, \"n\": 4672}, {\"threshold\": 0.678, \"p\": 4612, \"fpr\": 0.0507277397260274, \"tpr\": 0.21509106678230702, \"n\": 4672}, {\"threshold\": 0.679, \"p\": 4612, \"fpr\": 0.05008561643835616, \"tpr\": 0.21379011274934953, \"n\": 4672}, {\"threshold\": 0.68, \"p\": 4612, \"fpr\": 0.05008561643835616, \"tpr\": 0.21313963573287076, \"n\": 4672}, {\"threshold\": 0.681, \"p\": 4612, \"fpr\": 0.0488013698630137, \"tpr\": 0.2075021682567216, \"n\": 4672}, {\"threshold\": 0.682, \"p\": 4612, \"fpr\": 0.0488013698630137, \"tpr\": 0.204683434518647, \"n\": 4672}, {\"threshold\": 0.683, \"p\": 4612, \"fpr\": 0.046446917808219176, \"tpr\": 0.2009973980919341, \"n\": 4672}, {\"threshold\": 0.684, \"p\": 4612, \"fpr\": 0.046446917808219176, \"tpr\": 0.1992627927146574, \"n\": 4672}, {\"threshold\": 0.685, \"p\": 4612, \"fpr\": 0.046232876712328765, \"tpr\": 0.19882914137033825, \"n\": 4672}, {\"threshold\": 0.686, \"p\": 4612, \"fpr\": 0.04601883561643835, \"tpr\": 0.19687771032090198, \"n\": 4672}, {\"threshold\": 0.687, \"p\": 4612, \"fpr\": 0.04516267123287671, \"tpr\": 0.19405897658282742, \"n\": 4672}, {\"threshold\": 0.688, \"p\": 4612, \"fpr\": 0.0430222602739726, \"tpr\": 0.18928881179531656, \"n\": 4672}, {\"threshold\": 0.689, \"p\": 4612, \"fpr\": 0.04173801369863014, \"tpr\": 0.18581960104076323, \"n\": 4672}, {\"threshold\": 0.69, \"p\": 4612, \"fpr\": 0.040667808219178085, \"tpr\": 0.18451864700780574, \"n\": 4672}, {\"threshold\": 0.691, \"p\": 4612, \"fpr\": 0.04023972602739726, \"tpr\": 0.18300086730268864, \"n\": 4672}, {\"threshold\": 0.692, \"p\": 4612, \"fpr\": 0.038741438356164386, \"tpr\": 0.1806157849089332, \"n\": 4672}, {\"threshold\": 0.693, \"p\": 4612, \"fpr\": 0.038527397260273974, \"tpr\": 0.1806157849089332, \"n\": 4672}, {\"threshold\": 0.694, \"p\": 4612, \"fpr\": 0.03831335616438356, \"tpr\": 0.17974848222029488, \"n\": 4672}, {\"threshold\": 0.695, \"p\": 4612, \"fpr\": 0.03809931506849315, \"tpr\": 0.1769297484822203, \"n\": 4672}, {\"threshold\": 0.696, \"p\": 4612, \"fpr\": 0.03638698630136986, \"tpr\": 0.17194275802254988, \"n\": 4672}, {\"threshold\": 0.697, \"p\": 4612, \"fpr\": 0.03595890410958904, \"tpr\": 0.16934084995663487, \"n\": 4672}, {\"threshold\": 0.698, \"p\": 4612, \"fpr\": 0.03574486301369863, \"tpr\": 0.16825672159583693, \"n\": 4672}, {\"threshold\": 0.699, \"p\": 4612, \"fpr\": 0.03574486301369863, \"tpr\": 0.16782307025151777, \"n\": 4672}, {\"threshold\": 0.7, \"p\": 4612, \"fpr\": 0.03574486301369863, \"tpr\": 0.16652211621856028, \"n\": 4672}, {\"threshold\": 0.701, \"p\": 4612, \"fpr\": 0.03553082191780822, \"tpr\": 0.16608846487424112, \"n\": 4672}, {\"threshold\": 0.702, \"p\": 4612, \"fpr\": 0.03446061643835616, \"tpr\": 0.16153512575888984, \"n\": 4672}, {\"threshold\": 0.703, \"p\": 4612, \"fpr\": 0.03424657534246575, \"tpr\": 0.16131830008673026, \"n\": 4672}, {\"threshold\": 0.704, \"p\": 4612, \"fpr\": 0.03424657534246575, \"tpr\": 0.1598005203816132, \"n\": 4672}, {\"threshold\": 0.705, \"p\": 4612, \"fpr\": 0.03424657534246575, \"tpr\": 0.1598005203816132, \"n\": 4672}, {\"threshold\": 0.706, \"p\": 4612, \"fpr\": 0.03360445205479452, \"tpr\": 0.15784908933217692, \"n\": 4672}, {\"threshold\": 0.707, \"p\": 4612, \"fpr\": 0.03339041095890411, \"tpr\": 0.15394622723330442, \"n\": 4672}, {\"threshold\": 0.708, \"p\": 4612, \"fpr\": 0.0331763698630137, \"tpr\": 0.1528620988725065, \"n\": 4672}, {\"threshold\": 0.709, \"p\": 4612, \"fpr\": 0.032748287671232876, \"tpr\": 0.1513443191673894, \"n\": 4672}, {\"threshold\": 0.71, \"p\": 4612, \"fpr\": 0.03232020547945205, \"tpr\": 0.1513443191673894, \"n\": 4672}, {\"threshold\": 0.711, \"p\": 4612, \"fpr\": 0.031678082191780824, \"tpr\": 0.14809193408499566, \"n\": 4672}, {\"threshold\": 0.712, \"p\": 4612, \"fpr\": 0.03125, \"tpr\": 0.146357328707719, \"n\": 4672}, {\"threshold\": 0.713, \"p\": 4612, \"fpr\": 0.029751712328767124, \"tpr\": 0.1420208152645273, \"n\": 4672}, {\"threshold\": 0.714, \"p\": 4612, \"fpr\": 0.029537671232876712, \"tpr\": 0.1398525585429315, \"n\": 4672}, {\"threshold\": 0.715, \"p\": 4612, \"fpr\": 0.029537671232876712, \"tpr\": 0.1383347788378144, \"n\": 4672}, {\"threshold\": 0.716, \"p\": 4612, \"fpr\": 0.028039383561643837, \"tpr\": 0.13638334778837816, \"n\": 4672}, {\"threshold\": 0.717, \"p\": 4612, \"fpr\": 0.0273972602739726, \"tpr\": 0.13508239375542064, \"n\": 4672}, {\"threshold\": 0.718, \"p\": 4612, \"fpr\": 0.0273972602739726, \"tpr\": 0.13486556808326106, \"n\": 4672}, {\"threshold\": 0.719, \"p\": 4612, \"fpr\": 0.026113013698630137, \"tpr\": 0.13248048568950563, \"n\": 4672}, {\"threshold\": 0.72, \"p\": 4612, \"fpr\": 0.025898972602739725, \"tpr\": 0.13204683434518646, \"n\": 4672}, {\"threshold\": 0.721, \"p\": 4612, \"fpr\": 0.025470890410958905, \"tpr\": 0.13139635732870772, \"n\": 4672}, {\"threshold\": 0.722, \"p\": 4612, \"fpr\": 0.025256849315068493, \"tpr\": 0.12944492627927146, \"n\": 4672}, {\"threshold\": 0.723, \"p\": 4612, \"fpr\": 0.02482876712328767, \"tpr\": 0.12727666955767564, \"n\": 4672}, {\"threshold\": 0.724, \"p\": 4612, \"fpr\": 0.024186643835616438, \"tpr\": 0.12575888985255854, \"n\": 4672}, {\"threshold\": 0.725, \"p\": 4612, \"fpr\": 0.023758561643835618, \"tpr\": 0.1235906331309627, \"n\": 4672}, {\"threshold\": 0.726, \"p\": 4612, \"fpr\": 0.023330479452054794, \"tpr\": 0.12250650477016478, \"n\": 4672}, {\"threshold\": 0.727, \"p\": 4612, \"fpr\": 0.023116438356164382, \"tpr\": 0.12120555073720729, \"n\": 4672}, {\"threshold\": 0.728, \"p\": 4612, \"fpr\": 0.023116438356164382, \"tpr\": 0.12077189939288811, \"n\": 4672}, {\"threshold\": 0.729, \"p\": 4612, \"fpr\": 0.02226027397260274, \"tpr\": 0.11773633998265394, \"n\": 4672}, {\"threshold\": 0.73, \"p\": 4612, \"fpr\": 0.02226027397260274, \"tpr\": 0.1170858629661752, \"n\": 4672}, {\"threshold\": 0.731, \"p\": 4612, \"fpr\": 0.020333904109589043, \"tpr\": 0.11383347788378144, \"n\": 4672}, {\"threshold\": 0.732, \"p\": 4612, \"fpr\": 0.020333904109589043, \"tpr\": 0.1129661751951431, \"n\": 4672}, {\"threshold\": 0.733, \"p\": 4612, \"fpr\": 0.0194777397260274, \"tpr\": 0.11123156981786643, \"n\": 4672}, {\"threshold\": 0.734, \"p\": 4612, \"fpr\": 0.019263698630136987, \"tpr\": 0.11079791847354727, \"n\": 4672}, {\"threshold\": 0.735, \"p\": 4612, \"fpr\": 0.018407534246575343, \"tpr\": 0.10862966175195143, \"n\": 4672}, {\"threshold\": 0.736, \"p\": 4612, \"fpr\": 0.018407534246575343, \"tpr\": 0.10797918473547267, \"n\": 4672}, {\"threshold\": 0.737, \"p\": 4612, \"fpr\": 0.018407534246575343, \"tpr\": 0.10754553339115351, \"n\": 4672}, {\"threshold\": 0.738, \"p\": 4612, \"fpr\": 0.01776541095890411, \"tpr\": 0.1049436253252385, \"n\": 4672}, {\"threshold\": 0.739, \"p\": 4612, \"fpr\": 0.0175513698630137, \"tpr\": 0.10299219427580225, \"n\": 4672}, {\"threshold\": 0.74, \"p\": 4612, \"fpr\": 0.017337328767123288, \"tpr\": 0.10255854293148309, \"n\": 4672}, {\"threshold\": 0.741, \"p\": 4612, \"fpr\": 0.017337328767123288, \"tpr\": 0.10255854293148309, \"n\": 4672}, {\"threshold\": 0.742, \"p\": 4612, \"fpr\": 0.017337328767123288, \"tpr\": 0.10147441457068516, \"n\": 4672}, {\"threshold\": 0.743, \"p\": 4612, \"fpr\": 0.017123287671232876, \"tpr\": 0.10082393755420642, \"n\": 4672}, {\"threshold\": 0.744, \"p\": 4612, \"fpr\": 0.016695205479452056, \"tpr\": 0.09843885516045099, \"n\": 4672}, {\"threshold\": 0.745, \"p\": 4612, \"fpr\": 0.016481164383561644, \"tpr\": 0.09843885516045099, \"n\": 4672}, {\"threshold\": 0.746, \"p\": 4612, \"fpr\": 0.016267123287671232, \"tpr\": 0.09778837814397225, \"n\": 4672}, {\"threshold\": 0.747, \"p\": 4612, \"fpr\": 0.015625, \"tpr\": 0.09757155247181266, \"n\": 4672}, {\"threshold\": 0.748, \"p\": 4612, \"fpr\": 0.015625, \"tpr\": 0.09627059843885516, \"n\": 4672}, {\"threshold\": 0.749, \"p\": 4612, \"fpr\": 0.015410958904109588, \"tpr\": 0.09540329575021683, \"n\": 4672}, {\"threshold\": 0.75, \"p\": 4612, \"fpr\": 0.015410958904109588, \"tpr\": 0.09453599306157849, \"n\": 4672}, {\"threshold\": 0.751, \"p\": 4612, \"fpr\": 0.015410958904109588, \"tpr\": 0.09431916738941891, \"n\": 4672}, {\"threshold\": 0.752, \"p\": 4612, \"fpr\": 0.014982876712328766, \"tpr\": 0.09150043365134432, \"n\": 4672}, {\"threshold\": 0.753, \"p\": 4612, \"fpr\": 0.014554794520547944, \"tpr\": 0.08998265394622723, \"n\": 4672}, {\"threshold\": 0.754, \"p\": 4612, \"fpr\": 0.014340753424657534, \"tpr\": 0.08889852558542931, \"n\": 4672}, {\"threshold\": 0.755, \"p\": 4612, \"fpr\": 0.014126712328767123, \"tpr\": 0.08694709453599306, \"n\": 4672}, {\"threshold\": 0.756, \"p\": 4612, \"fpr\": 0.013912671232876712, \"tpr\": 0.0865134431916739, \"n\": 4672}, {\"threshold\": 0.757, \"p\": 4612, \"fpr\": 0.013056506849315069, \"tpr\": 0.08326105810928014, \"n\": 4672}, {\"threshold\": 0.758, \"p\": 4612, \"fpr\": 0.012842465753424657, \"tpr\": 0.0826105810928014, \"n\": 4672}, {\"threshold\": 0.759, \"p\": 4612, \"fpr\": 0.012414383561643835, \"tpr\": 0.08174327840416305, \"n\": 4672}, {\"threshold\": 0.76, \"p\": 4612, \"fpr\": 0.011986301369863013, \"tpr\": 0.08044232437120555, \"n\": 4672}, {\"threshold\": 0.761, \"p\": 4612, \"fpr\": 0.011772260273972603, \"tpr\": 0.07914137033824804, \"n\": 4672}, {\"threshold\": 0.762, \"p\": 4612, \"fpr\": 0.011558219178082191, \"tpr\": 0.07870771899392888, \"n\": 4672}, {\"threshold\": 0.763, \"p\": 4612, \"fpr\": 0.011344178082191781, \"tpr\": 0.07827406764960972, \"n\": 4672}, {\"threshold\": 0.764, \"p\": 4612, \"fpr\": 0.011344178082191781, \"tpr\": 0.07805724197745013, \"n\": 4672}, {\"threshold\": 0.765, \"p\": 4612, \"fpr\": 0.011344178082191781, \"tpr\": 0.0756721595836947, \"n\": 4672}, {\"threshold\": 0.766, \"p\": 4612, \"fpr\": 0.011344178082191781, \"tpr\": 0.0743712055507372, \"n\": 4672}, {\"threshold\": 0.767, \"p\": 4612, \"fpr\": 0.01113013698630137, \"tpr\": 0.07415437987857762, \"n\": 4672}, {\"threshold\": 0.768, \"p\": 4612, \"fpr\": 0.01113013698630137, \"tpr\": 0.07393755420641804, \"n\": 4672}, {\"threshold\": 0.769, \"p\": 4612, \"fpr\": 0.010488013698630137, \"tpr\": 0.07198612315698179, \"n\": 4672}, {\"threshold\": 0.77, \"p\": 4612, \"fpr\": 0.010488013698630137, \"tpr\": 0.07111882046834345, \"n\": 4672}, {\"threshold\": 0.771, \"p\": 4612, \"fpr\": 0.009631849315068493, \"tpr\": 0.0691673894189072, \"n\": 4672}, {\"threshold\": 0.772, \"p\": 4612, \"fpr\": 0.009417808219178082, \"tpr\": 0.06851691240242845, \"n\": 4672}, {\"threshold\": 0.773, \"p\": 4612, \"fpr\": 0.009417808219178082, \"tpr\": 0.06786643538594969, \"n\": 4672}, {\"threshold\": 0.774, \"p\": 4612, \"fpr\": 0.00877568493150685, \"tpr\": 0.0665654813529922, \"n\": 4672}, {\"threshold\": 0.775, \"p\": 4612, \"fpr\": 0.008347602739726028, \"tpr\": 0.06352992194275803, \"n\": 4672}, {\"threshold\": 0.776, \"p\": 4612, \"fpr\": 0.007919520547945206, \"tpr\": 0.06179531656548135, \"n\": 4672}, {\"threshold\": 0.777, \"p\": 4612, \"fpr\": 0.007919520547945206, \"tpr\": 0.06136166522116219, \"n\": 4672}, {\"threshold\": 0.778, \"p\": 4612, \"fpr\": 0.007705479452054794, \"tpr\": 0.05767562879444926, \"n\": 4672}, {\"threshold\": 0.779, \"p\": 4612, \"fpr\": 0.007705479452054794, \"tpr\": 0.055941023417172595, \"n\": 4672}, {\"threshold\": 0.78, \"p\": 4612, \"fpr\": 0.007277397260273972, \"tpr\": 0.05507372072853426, \"n\": 4672}, {\"threshold\": 0.781, \"p\": 4612, \"fpr\": 0.007063356164383561, \"tpr\": 0.05203816131830009, \"n\": 4672}, {\"threshold\": 0.782, \"p\": 4612, \"fpr\": 0.007063356164383561, \"tpr\": 0.05203816131830009, \"n\": 4672}, {\"threshold\": 0.783, \"p\": 4612, \"fpr\": 0.00684931506849315, \"tpr\": 0.05160450997398092, \"n\": 4672}, {\"threshold\": 0.784, \"p\": 4612, \"fpr\": 0.00684931506849315, \"tpr\": 0.051387684301821335, \"n\": 4672}, {\"threshold\": 0.785, \"p\": 4612, \"fpr\": 0.00684931506849315, \"tpr\": 0.05095403295750217, \"n\": 4672}, {\"threshold\": 0.786, \"p\": 4612, \"fpr\": 0.006635273972602739, \"tpr\": 0.049653078924544666, \"n\": 4672}, {\"threshold\": 0.787, \"p\": 4612, \"fpr\": 0.006635273972602739, \"tpr\": 0.049653078924544666, \"n\": 4672}, {\"threshold\": 0.788, \"p\": 4612, \"fpr\": 0.0059931506849315065, \"tpr\": 0.04813529921942758, \"n\": 4672}, {\"threshold\": 0.789, \"p\": 4612, \"fpr\": 0.005779109589041096, \"tpr\": 0.04748482220294883, \"n\": 4672}, {\"threshold\": 0.79, \"p\": 4612, \"fpr\": 0.005779109589041096, \"tpr\": 0.04618386816999133, \"n\": 4672}, {\"threshold\": 0.791, \"p\": 4612, \"fpr\": 0.005351027397260274, \"tpr\": 0.045316565481352995, \"n\": 4672}, {\"threshold\": 0.792, \"p\": 4612, \"fpr\": 0.005351027397260274, \"tpr\": 0.04466608846487424, \"n\": 4672}, {\"threshold\": 0.793, \"p\": 4612, \"fpr\": 0.005136986301369863, \"tpr\": 0.044449262792714654, \"n\": 4672}, {\"threshold\": 0.794, \"p\": 4612, \"fpr\": 0.004922945205479452, \"tpr\": 0.042931483087597574, \"n\": 4672}, {\"threshold\": 0.795, \"p\": 4612, \"fpr\": 0.004280821917808219, \"tpr\": 0.04141370338248049, \"n\": 4672}, {\"threshold\": 0.796, \"p\": 4612, \"fpr\": 0.004280821917808219, \"tpr\": 0.04098005203816132, \"n\": 4672}, {\"threshold\": 0.797, \"p\": 4612, \"fpr\": 0.004280821917808219, \"tpr\": 0.040546400693842154, \"n\": 4672}, {\"threshold\": 0.798, \"p\": 4612, \"fpr\": 0.004280821917808219, \"tpr\": 0.0398959236773634, \"n\": 4672}, {\"threshold\": 0.799, \"p\": 4612, \"fpr\": 0.004066780821917808, \"tpr\": 0.03946227233304423, \"n\": 4672}, {\"threshold\": 0.8, \"p\": 4612, \"fpr\": 0.004066780821917808, \"tpr\": 0.037944492627927144, \"n\": 4672}, {\"threshold\": 0.801, \"p\": 4612, \"fpr\": 0.004066780821917808, \"tpr\": 0.03686036426712923, \"n\": 4672}, {\"threshold\": 0.802, \"p\": 4612, \"fpr\": 0.004066780821917808, \"tpr\": 0.035993061578490894, \"n\": 4672}, {\"threshold\": 0.803, \"p\": 4612, \"fpr\": 0.003852739726027397, \"tpr\": 0.03447528187337381, \"n\": 4672}, {\"threshold\": 0.804, \"p\": 4612, \"fpr\": 0.003852739726027397, \"tpr\": 0.03274067649609714, \"n\": 4672}, {\"threshold\": 0.805, \"p\": 4612, \"fpr\": 0.003852739726027397, \"tpr\": 0.03274067649609714, \"n\": 4672}, {\"threshold\": 0.806, \"p\": 4612, \"fpr\": 0.0029965753424657533, \"tpr\": 0.030789245446660885, \"n\": 4672}, {\"threshold\": 0.807, \"p\": 4612, \"fpr\": 0.0025684931506849314, \"tpr\": 0.029488291413703384, \"n\": 4672}, {\"threshold\": 0.808, \"p\": 4612, \"fpr\": 0.0025684931506849314, \"tpr\": 0.029054640069384217, \"n\": 4672}, {\"threshold\": 0.809, \"p\": 4612, \"fpr\": 0.0025684931506849314, \"tpr\": 0.02818733738074588, \"n\": 4672}, {\"threshold\": 0.81, \"p\": 4612, \"fpr\": 0.0025684931506849314, \"tpr\": 0.02818733738074588, \"n\": 4672}, {\"threshold\": 0.811, \"p\": 4612, \"fpr\": 0.0023544520547945204, \"tpr\": 0.026886383347788378, \"n\": 4672}, {\"threshold\": 0.812, \"p\": 4612, \"fpr\": 0.0019263698630136985, \"tpr\": 0.02645273200346921, \"n\": 4672}, {\"threshold\": 0.813, \"p\": 4612, \"fpr\": 0.0019263698630136985, \"tpr\": 0.02580225498699046, \"n\": 4672}, {\"threshold\": 0.814, \"p\": 4612, \"fpr\": 0.0019263698630136985, \"tpr\": 0.02580225498699046, \"n\": 4672}, {\"threshold\": 0.815, \"p\": 4612, \"fpr\": 0.0017123287671232876, \"tpr\": 0.024718126626192542, \"n\": 4672}, {\"threshold\": 0.816, \"p\": 4612, \"fpr\": 0.0017123287671232876, \"tpr\": 0.024718126626192542, \"n\": 4672}, {\"threshold\": 0.817, \"p\": 4612, \"fpr\": 0.0008561643835616438, \"tpr\": 0.019297484822202948, \"n\": 4672}, {\"threshold\": 0.818, \"p\": 4612, \"fpr\": 0.0006421232876712328, \"tpr\": 0.017346053772766695, \"n\": 4672}, {\"threshold\": 0.819, \"p\": 4612, \"fpr\": 0.0006421232876712328, \"tpr\": 0.016695576756287946, \"n\": 4672}, {\"threshold\": 0.82, \"p\": 4612, \"fpr\": 0.0006421232876712328, \"tpr\": 0.013876843018213356, \"n\": 4672}, {\"threshold\": 0.821, \"p\": 4612, \"fpr\": 0.0006421232876712328, \"tpr\": 0.013876843018213356, \"n\": 4672}, {\"threshold\": 0.822, \"p\": 4612, \"fpr\": 0.0004280821917808219, \"tpr\": 0.012359063313096271, \"n\": 4672}, {\"threshold\": 0.823, \"p\": 4612, \"fpr\": 0.0004280821917808219, \"tpr\": 0.012142237640936688, \"n\": 4672}, {\"threshold\": 0.824, \"p\": 4612, \"fpr\": 0.0004280821917808219, \"tpr\": 0.012142237640936688, \"n\": 4672}, {\"threshold\": 0.825, \"p\": 4612, \"fpr\": 0.0004280821917808219, \"tpr\": 0.010624457935819601, \"n\": 4672}, {\"threshold\": 0.826, \"p\": 4612, \"fpr\": 0.0004280821917808219, \"tpr\": 0.010407632263660017, \"n\": 4672}, {\"threshold\": 0.827, \"p\": 4612, \"fpr\": 0.00021404109589041095, \"tpr\": 0.008673026886383347, \"n\": 4672}, {\"threshold\": 0.828, \"p\": 4612, \"fpr\": 0.00021404109589041095, \"tpr\": 0.008022549869904597, \"n\": 4672}, {\"threshold\": 0.829, \"p\": 4612, \"fpr\": 0.00021404109589041095, \"tpr\": 0.008022549869904597, \"n\": 4672}, {\"threshold\": 0.83, \"p\": 4612, \"fpr\": 0.0, \"tpr\": 0.003686036426712923, \"n\": 4672}, {\"threshold\": 0.831, \"p\": 4612, \"fpr\": 0.0, \"tpr\": 0.003686036426712923, \"n\": 4672}, {\"threshold\": 0.832, \"p\": 4612, \"fpr\": 0.0, \"tpr\": 0.003686036426712923, \"n\": 4672}, {\"threshold\": 0.833, \"p\": 4612, \"fpr\": 0.0, \"tpr\": 0.003469210754553339, \"n\": 4672}, {\"threshold\": 0.834, \"p\": 4612, \"fpr\": 0.0, \"tpr\": 0.003469210754553339, \"n\": 4672}, {\"threshold\": 0.835, \"p\": 4612, \"fpr\": 0.0, \"tpr\": 0.003469210754553339, \"n\": 4672}, {\"threshold\": 0.836, \"p\": 4612, \"fpr\": 0.0, \"tpr\": 0.003469210754553339, \"n\": 4672}, {\"threshold\": 0.837, \"p\": 4612, \"fpr\": 0.0, \"tpr\": 0.003469210754553339, \"n\": 4672}, {\"threshold\": 0.838, \"p\": 4612, \"fpr\": 0.0, \"tpr\": 0.001517779705117086, \"n\": 4672}, {\"threshold\": 0.839, \"p\": 4612, \"fpr\": 0.0, \"tpr\": 0.001517779705117086, \"n\": 4672}, {\"threshold\": 0.84, \"p\": 4612, \"fpr\": 0.0, \"tpr\": 0.001517779705117086, \"n\": 4672}, {\"threshold\": 0.841, \"p\": 4612, \"fpr\": 0.0, \"tpr\": 0.0010841283607979184, \"n\": 4672}, {\"threshold\": 0.842, \"p\": 4612, \"fpr\": 0.0, \"tpr\": 0.0010841283607979184, \"n\": 4672}, {\"threshold\": 0.843, \"p\": 4612, \"fpr\": 0.0, \"tpr\": 0.0010841283607979184, \"n\": 4672}, {\"threshold\": 0.844, \"p\": 4612, \"fpr\": 0.0, \"tpr\": 0.0010841283607979184, \"n\": 4672}, {\"threshold\": 0.845, \"p\": 4612, \"fpr\": 0.0, \"tpr\": 0.0008673026886383347, \"n\": 4672}, {\"threshold\": 0.846, \"p\": 4612, \"fpr\": 0.0, \"tpr\": 0.0008673026886383347, \"n\": 4672}, {\"threshold\": 0.847, \"p\": 4612, \"fpr\": 0.0, \"tpr\": 0.0008673026886383347, \"n\": 4672}, {\"threshold\": 0.848, \"p\": 4612, \"fpr\": 0.0, \"tpr\": 0.0008673026886383347, \"n\": 4672}, {\"threshold\": 0.849, \"p\": 4612, \"fpr\": 0.0, \"tpr\": 0.0008673026886383347, \"n\": 4672}, {\"threshold\": 0.85, \"p\": 4612, \"fpr\": 0.0, \"tpr\": 0.0, \"n\": 4672}, {\"threshold\": 0.851, \"p\": 4612, \"fpr\": 0.0, \"tpr\": 0.0, \"n\": 4672}, {\"threshold\": 0.852, \"p\": 4612, \"fpr\": 0.0, \"tpr\": 0.0, \"n\": 4672}, {\"threshold\": 0.853, \"p\": 4612, \"fpr\": 0.0, \"tpr\": 0.0, \"n\": 4672}, {\"threshold\": 0.854, \"p\": 4612, \"fpr\": 0.0, \"tpr\": 0.0, \"n\": 4672}, {\"threshold\": 0.855, \"p\": 4612, \"fpr\": 0.0, \"tpr\": 0.0, \"n\": 4672}, {\"threshold\": 0.856, \"p\": 4612, \"fpr\": 0.0, \"tpr\": 0.0, \"n\": 4672}, {\"threshold\": 0.857, \"p\": 4612, \"fpr\": 0.0, \"tpr\": 0.0, \"n\": 4672}, {\"threshold\": 0.858, \"p\": 4612, \"fpr\": 0.0, \"tpr\": 0.0, \"n\": 4672}, {\"threshold\": 0.859, \"p\": 4612, \"fpr\": 0.0, \"tpr\": 0.0, \"n\": 4672}, {\"threshold\": 0.86, \"p\": 4612, \"fpr\": 0.0, \"tpr\": 0.0, \"n\": 4672}, {\"threshold\": 0.861, \"p\": 4612, \"fpr\": 0.0, \"tpr\": 0.0, \"n\": 4672}, {\"threshold\": 0.862, \"p\": 4612, \"fpr\": 0.0, \"tpr\": 0.0, \"n\": 4672}, {\"threshold\": 0.863, \"p\": 4612, \"fpr\": 0.0, \"tpr\": 0.0, \"n\": 4672}, {\"threshold\": 0.864, \"p\": 4612, \"fpr\": 0.0, \"tpr\": 0.0, \"n\": 4672}, {\"threshold\": 0.865, \"p\": 4612, \"fpr\": 0.0, \"tpr\": 0.0, \"n\": 4672}, {\"threshold\": 0.866, \"p\": 4612, \"fpr\": 0.0, \"tpr\": 0.0, \"n\": 4672}, {\"threshold\": 0.867, \"p\": 4612, \"fpr\": 0.0, \"tpr\": 0.0, \"n\": 4672}, {\"threshold\": 0.868, \"p\": 4612, \"fpr\": 0.0, \"tpr\": 0.0, \"n\": 4672}, {\"threshold\": 0.869, \"p\": 4612, \"fpr\": 0.0, \"tpr\": 0.0, \"n\": 4672}, {\"threshold\": 0.87, \"p\": 4612, \"fpr\": 0.0, \"tpr\": 0.0, \"n\": 4672}, {\"threshold\": 0.871, \"p\": 4612, \"fpr\": 0.0, \"tpr\": 0.0, \"n\": 4672}, {\"threshold\": 0.872, \"p\": 4612, \"fpr\": 0.0, \"tpr\": 0.0, \"n\": 4672}, {\"threshold\": 0.873, \"p\": 4612, \"fpr\": 0.0, \"tpr\": 0.0, \"n\": 4672}, {\"threshold\": 0.874, \"p\": 4612, \"fpr\": 0.0, \"tpr\": 0.0, \"n\": 4672}, {\"threshold\": 0.875, \"p\": 4612, \"fpr\": 0.0, \"tpr\": 0.0, \"n\": 4672}, {\"threshold\": 0.876, \"p\": 4612, \"fpr\": 0.0, \"tpr\": 0.0, \"n\": 4672}, {\"threshold\": 0.877, \"p\": 4612, \"fpr\": 0.0, \"tpr\": 0.0, \"n\": 4672}, {\"threshold\": 0.878, \"p\": 4612, \"fpr\": 0.0, \"tpr\": 0.0, \"n\": 4672}, {\"threshold\": 0.879, \"p\": 4612, \"fpr\": 0.0, \"tpr\": 0.0, \"n\": 4672}, {\"threshold\": 0.88, \"p\": 4612, \"fpr\": 0.0, \"tpr\": 0.0, \"n\": 4672}, {\"threshold\": 0.881, \"p\": 4612, \"fpr\": 0.0, \"tpr\": 0.0, \"n\": 4672}, {\"threshold\": 0.882, \"p\": 4612, \"fpr\": 0.0, \"tpr\": 0.0, \"n\": 4672}, {\"threshold\": 0.883, \"p\": 4612, \"fpr\": 0.0, \"tpr\": 0.0, \"n\": 4672}, {\"threshold\": 0.884, \"p\": 4612, \"fpr\": 0.0, \"tpr\": 0.0, \"n\": 4672}, {\"threshold\": 0.885, \"p\": 4612, \"fpr\": 0.0, \"tpr\": 0.0, \"n\": 4672}, {\"threshold\": 0.886, \"p\": 4612, \"fpr\": 0.0, \"tpr\": 0.0, \"n\": 4672}, {\"threshold\": 0.887, \"p\": 4612, \"fpr\": 0.0, \"tpr\": 0.0, \"n\": 4672}, {\"threshold\": 0.888, \"p\": 4612, \"fpr\": 0.0, \"tpr\": 0.0, \"n\": 4672}, {\"threshold\": 0.889, \"p\": 4612, \"fpr\": 0.0, \"tpr\": 0.0, \"n\": 4672}, {\"threshold\": 0.89, \"p\": 4612, \"fpr\": 0.0, \"tpr\": 0.0, \"n\": 4672}, {\"threshold\": 0.891, \"p\": 4612, \"fpr\": 0.0, \"tpr\": 0.0, \"n\": 4672}, {\"threshold\": 0.892, \"p\": 4612, \"fpr\": 0.0, \"tpr\": 0.0, \"n\": 4672}, {\"threshold\": 0.893, \"p\": 4612, \"fpr\": 0.0, \"tpr\": 0.0, \"n\": 4672}, {\"threshold\": 0.894, \"p\": 4612, \"fpr\": 0.0, \"tpr\": 0.0, \"n\": 4672}, {\"threshold\": 0.895, \"p\": 4612, \"fpr\": 0.0, \"tpr\": 0.0, \"n\": 4672}, {\"threshold\": 0.896, \"p\": 4612, \"fpr\": 0.0, \"tpr\": 0.0, \"n\": 4672}, {\"threshold\": 0.897, \"p\": 4612, \"fpr\": 0.0, \"tpr\": 0.0, \"n\": 4672}, {\"threshold\": 0.898, \"p\": 4612, \"fpr\": 0.0, \"tpr\": 0.0, \"n\": 4672}, {\"threshold\": 0.899, \"p\": 4612, \"fpr\": 0.0, \"tpr\": 0.0, \"n\": 4672}, {\"threshold\": 0.9, \"p\": 4612, \"fpr\": 0.0, \"tpr\": 0.0, \"n\": 4672}, {\"threshold\": 0.901, \"p\": 4612, \"fpr\": 0.0, \"tpr\": 0.0, \"n\": 4672}, {\"threshold\": 0.902, \"p\": 4612, \"fpr\": 0.0, \"tpr\": 0.0, \"n\": 4672}, {\"threshold\": 0.903, \"p\": 4612, \"fpr\": 0.0, \"tpr\": 0.0, \"n\": 4672}, {\"threshold\": 0.904, \"p\": 4612, \"fpr\": 0.0, \"tpr\": 0.0, \"n\": 4672}, {\"threshold\": 0.905, \"p\": 4612, \"fpr\": 0.0, \"tpr\": 0.0, \"n\": 4672}, {\"threshold\": 0.906, \"p\": 4612, \"fpr\": 0.0, \"tpr\": 0.0, \"n\": 4672}, {\"threshold\": 0.907, \"p\": 4612, \"fpr\": 0.0, \"tpr\": 0.0, \"n\": 4672}, {\"threshold\": 0.908, \"p\": 4612, \"fpr\": 0.0, \"tpr\": 0.0, \"n\": 4672}, {\"threshold\": 0.909, \"p\": 4612, \"fpr\": 0.0, \"tpr\": 0.0, \"n\": 4672}, {\"threshold\": 0.91, \"p\": 4612, \"fpr\": 0.0, \"tpr\": 0.0, \"n\": 4672}, {\"threshold\": 0.911, \"p\": 4612, \"fpr\": 0.0, \"tpr\": 0.0, \"n\": 4672}, {\"threshold\": 0.912, \"p\": 4612, \"fpr\": 0.0, \"tpr\": 0.0, \"n\": 4672}, {\"threshold\": 0.913, \"p\": 4612, \"fpr\": 0.0, \"tpr\": 0.0, \"n\": 4672}, {\"threshold\": 0.914, \"p\": 4612, \"fpr\": 0.0, \"tpr\": 0.0, \"n\": 4672}, {\"threshold\": 0.915, \"p\": 4612, \"fpr\": 0.0, \"tpr\": 0.0, \"n\": 4672}, {\"threshold\": 0.916, \"p\": 4612, \"fpr\": 0.0, \"tpr\": 0.0, \"n\": 4672}, {\"threshold\": 0.917, \"p\": 4612, \"fpr\": 0.0, \"tpr\": 0.0, \"n\": 4672}, {\"threshold\": 0.918, \"p\": 4612, \"fpr\": 0.0, \"tpr\": 0.0, \"n\": 4672}, {\"threshold\": 0.919, \"p\": 4612, \"fpr\": 0.0, \"tpr\": 0.0, \"n\": 4672}, {\"threshold\": 0.92, \"p\": 4612, \"fpr\": 0.0, \"tpr\": 0.0, \"n\": 4672}, {\"threshold\": 0.921, \"p\": 4612, \"fpr\": 0.0, \"tpr\": 0.0, \"n\": 4672}, {\"threshold\": 0.922, \"p\": 4612, \"fpr\": 0.0, \"tpr\": 0.0, \"n\": 4672}, {\"threshold\": 0.923, \"p\": 4612, \"fpr\": 0.0, \"tpr\": 0.0, \"n\": 4672}, {\"threshold\": 0.924, \"p\": 4612, \"fpr\": 0.0, \"tpr\": 0.0, \"n\": 4672}, {\"threshold\": 0.925, \"p\": 4612, \"fpr\": 0.0, \"tpr\": 0.0, \"n\": 4672}, {\"threshold\": 0.926, \"p\": 4612, \"fpr\": 0.0, \"tpr\": 0.0, \"n\": 4672}, {\"threshold\": 0.927, \"p\": 4612, \"fpr\": 0.0, \"tpr\": 0.0, \"n\": 4672}, {\"threshold\": 0.928, \"p\": 4612, \"fpr\": 0.0, \"tpr\": 0.0, \"n\": 4672}, {\"threshold\": 0.929, \"p\": 4612, \"fpr\": 0.0, \"tpr\": 0.0, \"n\": 4672}, {\"threshold\": 0.93, \"p\": 4612, \"fpr\": 0.0, \"tpr\": 0.0, \"n\": 4672}, {\"threshold\": 0.931, \"p\": 4612, \"fpr\": 0.0, \"tpr\": 0.0, \"n\": 4672}, {\"threshold\": 0.932, \"p\": 4612, \"fpr\": 0.0, \"tpr\": 0.0, \"n\": 4672}, {\"threshold\": 0.933, \"p\": 4612, \"fpr\": 0.0, \"tpr\": 0.0, \"n\": 4672}, {\"threshold\": 0.934, \"p\": 4612, \"fpr\": 0.0, \"tpr\": 0.0, \"n\": 4672}, {\"threshold\": 0.935, \"p\": 4612, \"fpr\": 0.0, \"tpr\": 0.0, \"n\": 4672}, {\"threshold\": 0.936, \"p\": 4612, \"fpr\": 0.0, \"tpr\": 0.0, \"n\": 4672}, {\"threshold\": 0.937, \"p\": 4612, \"fpr\": 0.0, \"tpr\": 0.0, \"n\": 4672}, {\"threshold\": 0.938, \"p\": 4612, \"fpr\": 0.0, \"tpr\": 0.0, \"n\": 4672}, {\"threshold\": 0.939, \"p\": 4612, \"fpr\": 0.0, \"tpr\": 0.0, \"n\": 4672}, {\"threshold\": 0.94, \"p\": 4612, \"fpr\": 0.0, \"tpr\": 0.0, \"n\": 4672}, {\"threshold\": 0.941, \"p\": 4612, \"fpr\": 0.0, \"tpr\": 0.0, \"n\": 4672}, {\"threshold\": 0.942, \"p\": 4612, \"fpr\": 0.0, \"tpr\": 0.0, \"n\": 4672}, {\"threshold\": 0.943, \"p\": 4612, \"fpr\": 0.0, \"tpr\": 0.0, \"n\": 4672}, {\"threshold\": 0.944, \"p\": 4612, \"fpr\": 0.0, \"tpr\": 0.0, \"n\": 4672}, {\"threshold\": 0.945, \"p\": 4612, \"fpr\": 0.0, \"tpr\": 0.0, \"n\": 4672}, {\"threshold\": 0.946, \"p\": 4612, \"fpr\": 0.0, \"tpr\": 0.0, \"n\": 4672}, {\"threshold\": 0.947, \"p\": 4612, \"fpr\": 0.0, \"tpr\": 0.0, \"n\": 4672}, {\"threshold\": 0.948, \"p\": 4612, \"fpr\": 0.0, \"tpr\": 0.0, \"n\": 4672}, {\"threshold\": 0.949, \"p\": 4612, \"fpr\": 0.0, \"tpr\": 0.0, \"n\": 4672}, {\"threshold\": 0.95, \"p\": 4612, \"fpr\": 0.0, \"tpr\": 0.0, \"n\": 4672}, {\"threshold\": 0.951, \"p\": 4612, \"fpr\": 0.0, \"tpr\": 0.0, \"n\": 4672}, {\"threshold\": 0.952, \"p\": 4612, \"fpr\": 0.0, \"tpr\": 0.0, \"n\": 4672}, {\"threshold\": 0.953, \"p\": 4612, \"fpr\": 0.0, \"tpr\": 0.0, \"n\": 4672}, {\"threshold\": 0.954, \"p\": 4612, \"fpr\": 0.0, \"tpr\": 0.0, \"n\": 4672}, {\"threshold\": 0.955, \"p\": 4612, \"fpr\": 0.0, \"tpr\": 0.0, \"n\": 4672}, {\"threshold\": 0.956, \"p\": 4612, \"fpr\": 0.0, \"tpr\": 0.0, \"n\": 4672}, {\"threshold\": 0.957, \"p\": 4612, \"fpr\": 0.0, \"tpr\": 0.0, \"n\": 4672}, {\"threshold\": 0.958, \"p\": 4612, \"fpr\": 0.0, \"tpr\": 0.0, \"n\": 4672}, {\"threshold\": 0.959, \"p\": 4612, \"fpr\": 0.0, \"tpr\": 0.0, \"n\": 4672}, {\"threshold\": 0.96, \"p\": 4612, \"fpr\": 0.0, \"tpr\": 0.0, \"n\": 4672}, {\"threshold\": 0.961, \"p\": 4612, \"fpr\": 0.0, \"tpr\": 0.0, \"n\": 4672}, {\"threshold\": 0.962, \"p\": 4612, \"fpr\": 0.0, \"tpr\": 0.0, \"n\": 4672}, {\"threshold\": 0.963, \"p\": 4612, \"fpr\": 0.0, \"tpr\": 0.0, \"n\": 4672}, {\"threshold\": 0.964, \"p\": 4612, \"fpr\": 0.0, \"tpr\": 0.0, \"n\": 4672}, {\"threshold\": 0.965, \"p\": 4612, \"fpr\": 0.0, \"tpr\": 0.0, \"n\": 4672}, {\"threshold\": 0.966, \"p\": 4612, \"fpr\": 0.0, \"tpr\": 0.0, \"n\": 4672}, {\"threshold\": 0.967, \"p\": 4612, \"fpr\": 0.0, \"tpr\": 0.0, \"n\": 4672}, {\"threshold\": 0.968, \"p\": 4612, \"fpr\": 0.0, \"tpr\": 0.0, \"n\": 4672}, {\"threshold\": 0.969, \"p\": 4612, \"fpr\": 0.0, \"tpr\": 0.0, \"n\": 4672}, {\"threshold\": 0.97, \"p\": 4612, \"fpr\": 0.0, \"tpr\": 0.0, \"n\": 4672}, {\"threshold\": 0.971, \"p\": 4612, \"fpr\": 0.0, \"tpr\": 0.0, \"n\": 4672}, {\"threshold\": 0.972, \"p\": 4612, \"fpr\": 0.0, \"tpr\": 0.0, \"n\": 4672}, {\"threshold\": 0.973, \"p\": 4612, \"fpr\": 0.0, \"tpr\": 0.0, \"n\": 4672}, {\"threshold\": 0.974, \"p\": 4612, \"fpr\": 0.0, \"tpr\": 0.0, \"n\": 4672}, {\"threshold\": 0.975, \"p\": 4612, \"fpr\": 0.0, \"tpr\": 0.0, \"n\": 4672}, {\"threshold\": 0.976, \"p\": 4612, \"fpr\": 0.0, \"tpr\": 0.0, \"n\": 4672}, {\"threshold\": 0.977, \"p\": 4612, \"fpr\": 0.0, \"tpr\": 0.0, \"n\": 4672}, {\"threshold\": 0.978, \"p\": 4612, \"fpr\": 0.0, \"tpr\": 0.0, \"n\": 4672}, {\"threshold\": 0.979, \"p\": 4612, \"fpr\": 0.0, \"tpr\": 0.0, \"n\": 4672}, {\"threshold\": 0.98, \"p\": 4612, \"fpr\": 0.0, \"tpr\": 0.0, \"n\": 4672}, {\"threshold\": 0.981, \"p\": 4612, \"fpr\": 0.0, \"tpr\": 0.0, \"n\": 4672}, {\"threshold\": 0.982, \"p\": 4612, \"fpr\": 0.0, \"tpr\": 0.0, \"n\": 4672}, {\"threshold\": 0.983, \"p\": 4612, \"fpr\": 0.0, \"tpr\": 0.0, \"n\": 4672}, {\"threshold\": 0.984, \"p\": 4612, \"fpr\": 0.0, \"tpr\": 0.0, \"n\": 4672}, {\"threshold\": 0.985, \"p\": 4612, \"fpr\": 0.0, \"tpr\": 0.0, \"n\": 4672}, {\"threshold\": 0.986, \"p\": 4612, \"fpr\": 0.0, \"tpr\": 0.0, \"n\": 4672}, {\"threshold\": 0.987, \"p\": 4612, \"fpr\": 0.0, \"tpr\": 0.0, \"n\": 4672}, {\"threshold\": 0.988, \"p\": 4612, \"fpr\": 0.0, \"tpr\": 0.0, \"n\": 4672}, {\"threshold\": 0.989, \"p\": 4612, \"fpr\": 0.0, \"tpr\": 0.0, \"n\": 4672}, {\"threshold\": 0.99, \"p\": 4612, \"fpr\": 0.0, \"tpr\": 0.0, \"n\": 4672}, {\"threshold\": 0.991, \"p\": 4612, \"fpr\": 0.0, \"tpr\": 0.0, \"n\": 4672}, {\"threshold\": 0.992, \"p\": 4612, \"fpr\": 0.0, \"tpr\": 0.0, \"n\": 4672}, {\"threshold\": 0.993, \"p\": 4612, \"fpr\": 0.0, \"tpr\": 0.0, \"n\": 4672}, {\"threshold\": 0.994, \"p\": 4612, \"fpr\": 0.0, \"tpr\": 0.0, \"n\": 4672}, {\"threshold\": 0.995, \"p\": 4612, \"fpr\": 0.0, \"tpr\": 0.0, \"n\": 4672}, {\"threshold\": 0.996, \"p\": 4612, \"fpr\": 0.0, \"tpr\": 0.0, \"n\": 4672}, {\"threshold\": 0.997, \"p\": 4612, \"fpr\": 0.0, \"tpr\": 0.0, \"n\": 4672}, {\"threshold\": 0.998, \"p\": 4612, \"fpr\": 0.0, \"tpr\": 0.0, \"n\": 4672}, {\"threshold\": 0.999, \"p\": 4612, \"fpr\": 0.0, \"tpr\": 0.0, \"n\": 4672}, {\"threshold\": 1.0, \"p\": 4612, \"fpr\": 0.0, \"tpr\": 0.0, \"n\": 4672}], \"confusion_matrix\": [{\"count\": 1540, \"target_label\": -1, \"predicted_label\": 1}, {\"count\": 1638, \"target_label\": 1, \"predicted_label\": -1}, {\"count\": 3132, \"target_label\": -1, \"predicted_label\": -1}, {\"count\": 2974, \"target_label\": 1, \"predicted_label\": 1}], \"accuracy\": 0.6576906505816459}]]}, e);\n",
       "                });\n",
       "            })();\n",
       "        "
      ]
     },
     "metadata": {},
     "output_type": "display_data"
    }
   ],
   "source": [
    "graphlab.canvas.set_target('ipynb')\n",
    "model_5.show(view='Evaluation')"
   ]
  },
  {
   "cell_type": "code",
   "execution_count": 16,
   "metadata": {
    "collapsed": false
   },
   "outputs": [
    {
     "data": {
      "text/html": [
       "<pre>External memory mode: 1 batches</pre>"
      ],
      "text/plain": [
       "External memory mode: 1 batches"
      ]
     },
     "metadata": {},
     "output_type": "display_data"
    }
   ],
   "source": [
    "predictions = model_5.predict(validation_data)"
   ]
  },
  {
   "cell_type": "code",
   "execution_count": 17,
   "metadata": {
    "collapsed": false
   },
   "outputs": [
    {
     "data": {
      "text/plain": [
       "9284"
      ]
     },
     "execution_count": 17,
     "metadata": {},
     "output_type": "execute_result"
    }
   ],
   "source": [
    "len(predictions)"
   ]
  },
  {
   "cell_type": "code",
   "execution_count": 18,
   "metadata": {
    "collapsed": false
   },
   "outputs": [
    {
     "data": {
      "text/html": [
       "<pre>External memory mode: 1 batches</pre>"
      ],
      "text/plain": [
       "External memory mode: 1 batches"
      ]
     },
     "metadata": {},
     "output_type": "display_data"
    },
    {
     "data": {
      "text/html": [
       "<div style=\"max-height:1000px;max-width:1500px;overflow:auto;\"><table frame=\"box\" rules=\"cols\">\n",
       "    <tr>\n",
       "        <th style=\"padding-left: 1em; padding-right: 1em; text-align: center\">target_label</th>\n",
       "        <th style=\"padding-left: 1em; padding-right: 1em; text-align: center\">predicted_label</th>\n",
       "        <th style=\"padding-left: 1em; padding-right: 1em; text-align: center\">count</th>\n",
       "    </tr>\n",
       "    <tr>\n",
       "        <td style=\"padding-left: 1em; padding-right: 1em; text-align: center; vertical-align: top\">-1</td>\n",
       "        <td style=\"padding-left: 1em; padding-right: 1em; text-align: center; vertical-align: top\">1</td>\n",
       "        <td style=\"padding-left: 1em; padding-right: 1em; text-align: center; vertical-align: top\">1540</td>\n",
       "    </tr>\n",
       "    <tr>\n",
       "        <td style=\"padding-left: 1em; padding-right: 1em; text-align: center; vertical-align: top\">1</td>\n",
       "        <td style=\"padding-left: 1em; padding-right: 1em; text-align: center; vertical-align: top\">-1</td>\n",
       "        <td style=\"padding-left: 1em; padding-right: 1em; text-align: center; vertical-align: top\">1638</td>\n",
       "    </tr>\n",
       "    <tr>\n",
       "        <td style=\"padding-left: 1em; padding-right: 1em; text-align: center; vertical-align: top\">-1</td>\n",
       "        <td style=\"padding-left: 1em; padding-right: 1em; text-align: center; vertical-align: top\">-1</td>\n",
       "        <td style=\"padding-left: 1em; padding-right: 1em; text-align: center; vertical-align: top\">3132</td>\n",
       "    </tr>\n",
       "    <tr>\n",
       "        <td style=\"padding-left: 1em; padding-right: 1em; text-align: center; vertical-align: top\">1</td>\n",
       "        <td style=\"padding-left: 1em; padding-right: 1em; text-align: center; vertical-align: top\">1</td>\n",
       "        <td style=\"padding-left: 1em; padding-right: 1em; text-align: center; vertical-align: top\">2974</td>\n",
       "    </tr>\n",
       "</table>\n",
       "[4 rows x 3 columns]<br/>\n",
       "</div>"
      ],
      "text/plain": [
       "Columns:\n",
       "\ttarget_label\tint\n",
       "\tpredicted_label\tint\n",
       "\tcount\tint\n",
       "\n",
       "Rows: 4\n",
       "\n",
       "Data:\n",
       "+--------------+-----------------+-------+\n",
       "| target_label | predicted_label | count |\n",
       "+--------------+-----------------+-------+\n",
       "|      -1      |        1        |  1540 |\n",
       "|      1       |        -1       |  1638 |\n",
       "|      -1      |        -1       |  3132 |\n",
       "|      1       |        1        |  2974 |\n",
       "+--------------+-----------------+-------+\n",
       "[4 rows x 3 columns]"
      ]
     },
     "execution_count": 18,
     "metadata": {},
     "output_type": "execute_result"
    }
   ],
   "source": [
    "confusion_matrix = model_5.evaluate(validation_data)['confusion_matrix']\n",
    "confusion_matrix"
   ]
  },
  {
   "cell_type": "markdown",
   "metadata": {},
   "source": [
    "**Quiz question**: What is the number of **false positives** on the **validation_data**?"
   ]
  },
  {
   "cell_type": "code",
   "execution_count": 19,
   "metadata": {
    "collapsed": false
   },
   "outputs": [
    {
     "data": {
      "text/html": [
       "<div style=\"max-height:1000px;max-width:1500px;overflow:auto;\"><table frame=\"box\" rules=\"cols\">\n",
       "    <tr>\n",
       "        <th style=\"padding-left: 1em; padding-right: 1em; text-align: center\">target_label</th>\n",
       "        <th style=\"padding-left: 1em; padding-right: 1em; text-align: center\">predicted_label</th>\n",
       "        <th style=\"padding-left: 1em; padding-right: 1em; text-align: center\">count</th>\n",
       "    </tr>\n",
       "    <tr>\n",
       "        <td style=\"padding-left: 1em; padding-right: 1em; text-align: center; vertical-align: top\">-1</td>\n",
       "        <td style=\"padding-left: 1em; padding-right: 1em; text-align: center; vertical-align: top\">1</td>\n",
       "        <td style=\"padding-left: 1em; padding-right: 1em; text-align: center; vertical-align: top\">1540</td>\n",
       "    </tr>\n",
       "</table>\n",
       "[? rows x 3 columns]<br/>Note: Only the head of the SFrame is printed. This SFrame is lazily evaluated.<br/>You can use sf.materialize() to force materialization.\n",
       "</div>"
      ],
      "text/plain": [
       "Columns:\n",
       "\ttarget_label\tint\n",
       "\tpredicted_label\tint\n",
       "\tcount\tint\n",
       "\n",
       "Rows: Unknown\n",
       "\n",
       "Data:\n",
       "+--------------+-----------------+-------+\n",
       "| target_label | predicted_label | count |\n",
       "+--------------+-----------------+-------+\n",
       "|      -1      |        1        |  1540 |\n",
       "+--------------+-----------------+-------+\n",
       "[? rows x 3 columns]\n",
       "Note: Only the head of the SFrame is printed. This SFrame is lazily evaluated.\n",
       "You can use sf.materialize() to force materialization."
      ]
     },
     "execution_count": 19,
     "metadata": {},
     "output_type": "execute_result"
    }
   ],
   "source": [
    "confusion_matrix[(confusion_matrix['target_label'] == -1) & (confusion_matrix['predicted_label'] == 1)]"
   ]
  },
  {
   "cell_type": "code",
   "execution_count": 20,
   "metadata": {
    "collapsed": false
   },
   "outputs": [
    {
     "name": "stdout",
     "output_type": "stream",
     "text": [
      "1540\n"
     ]
    }
   ],
   "source": [
    "# false_positives = (validation_data[validation_data['safe_loans'] != predictions]['safe_loans'] == -1).sum()\n",
    "false_positives = confusion_matrix[(confusion_matrix['target_label'] == -1) & (confusion_matrix['predicted_label'] == 1)]['count'][0]\n",
    "print false_positives"
   ]
  },
  {
   "cell_type": "markdown",
   "metadata": {},
   "source": [
    "Calculate the number of **false negatives** made by the model."
   ]
  },
  {
   "cell_type": "code",
   "execution_count": 21,
   "metadata": {
    "collapsed": false
   },
   "outputs": [
    {
     "name": "stdout",
     "output_type": "stream",
     "text": [
      "1638\n"
     ]
    }
   ],
   "source": [
    "# false_negatives = (validation_data[validation_data['safe_loans'] != predictions]['safe_loans'] == +1).sum()\n",
    "false_negatives = confusion_matrix[(confusion_matrix['target_label'] == 1) & (confusion_matrix['predicted_label'] == -1)]['count'][0]\n",
    "print false_negatives"
   ]
  },
  {
   "cell_type": "markdown",
   "metadata": {},
   "source": [
    "## Comparison with decision trees\n",
    "\n",
    "In the earlier assignment, we saw that the prediction accuracy of the decision trees was around **0.64** (rounded). In this assignment, we saw that **model_5** has an accuracy of **0.67** (rounded).\n",
    "\n",
    "Here, we quantify the benefit of the extra 3% increase in accuracy of **model_5** in comparison with a single decision tree from the original decision tree assignment.\n",
    "\n",
    "As we explored in the earlier assignment, we calculated the cost of the mistakes made by the model. We again consider the same costs as follows:\n",
    "\n",
    "* **False negatives**: Assume a cost of \\$10,000 per false negative.\n",
    "* **False positives**: Assume a cost of \\$20,000 per false positive.\n",
    "\n",
    "Assume that the number of false positives and false negatives for the learned decision tree was\n",
    "\n",
    "* **False negatives**: 1936\n",
    "* **False positives**: 1503\n",
    "\n",
    "Using the costs defined above and the number of false positives and false negatives for the decision tree, we can calculate the total cost of the mistakes made by the decision tree model as follows:\n",
    "\n",
    "```\n",
    "cost = $10,000 * 1936  + $20,000 * 1503 = $49,420,000\n",
    "```\n",
    "\n",
    "The total cost of the mistakes of the model is $49.42M. That is a **lot of money**!.\n",
    "\n",
    "**Quiz Question**: Using the same costs of the false positives and false negatives, what is the cost of the mistakes made by the boosted tree model (**model_5**) as evaluated on the **validation_set**?"
   ]
  },
  {
   "cell_type": "code",
   "execution_count": 22,
   "metadata": {
    "collapsed": false
   },
   "outputs": [
    {
     "name": "stdout",
     "output_type": "stream",
     "text": [
      "47180000\n"
     ]
    }
   ],
   "source": [
    "cost_of_mistakes = (false_negatives * 10000) + (false_positives * 20000)\n",
    "print cost_of_mistakes"
   ]
  },
  {
   "cell_type": "markdown",
   "metadata": {},
   "source": [
    "**Reminder**: Compare the cost of the mistakes made by the boosted trees model with the decision tree model. The extra 3% improvement in prediction accuracy can translate to several million dollars!  And, it was so easy to get by simply boosting our decision trees."
   ]
  },
  {
   "cell_type": "markdown",
   "metadata": {},
   "source": [
    "## Most positive & negative loans.\n",
    "\n",
    "In this section, we will find the loans that are most likely to be predicted **safe**. We can do this in a few steps:\n",
    "\n",
    "* **Step 1**: Use the **model_5** (the model with 5 trees) and make **probability predictions** for all the loans in the **validation_data**.\n",
    "* **Step 2**: Similar to what we did in the very first assignment, add the probability predictions as a column called **predictions** into the validation_data.\n",
    "* **Step 3**: Sort the data (in descreasing order) by the probability predictions.\n",
    "\n",
    "Start here with **Step 1** & **Step 2**. Make predictions using **model_5** for examples in the **validation_data**. Use `output_type = probability`."
   ]
  },
  {
   "cell_type": "code",
   "execution_count": 23,
   "metadata": {
    "collapsed": false
   },
   "outputs": [
    {
     "data": {
      "text/html": [
       "<pre>External memory mode: 1 batches</pre>"
      ],
      "text/plain": [
       "External memory mode: 1 batches"
      ]
     },
     "metadata": {},
     "output_type": "display_data"
    }
   ],
   "source": [
    "validation_data['predictions'] = model_5.predict(validation_data, output_type='probability')"
   ]
  },
  {
   "cell_type": "markdown",
   "metadata": {},
   "source": [
    "**Checkpoint:** For each row, the probabilities should be a number in the range **[0, 1]**. We have provided a simple check here to make sure your answers are correct."
   ]
  },
  {
   "cell_type": "code",
   "execution_count": 24,
   "metadata": {
    "collapsed": false
   },
   "outputs": [
    {
     "name": "stdout",
     "output_type": "stream",
     "text": [
      "Your loans      : [0.43206697702407837, 0.6750087738037109, 0.37391433119773865, 0.3603270947933197]\n",
      "\n",
      "Expected answer : [0.4492515948736132, 0.6119100103640573, 0.3835981314851436, 0.3693306705994325]\n"
     ]
    }
   ],
   "source": [
    "print \"Your loans      : %s\\n\" % validation_data['predictions'].head(4)\n",
    "print \"Expected answer : %s\" % [0.4492515948736132, 0.6119100103640573,\n",
    "                                0.3835981314851436, 0.3693306705994325]"
   ]
  },
  {
   "cell_type": "markdown",
   "metadata": {},
   "source": [
    "Now, we are ready to go to **Step 3**. You can now use the `prediction` column to sort the loans in **validation_data** (in descending order) by prediction probability. Find the top 5 loans with the highest probability of being predicted as a **safe loan**."
   ]
  },
  {
   "cell_type": "code",
   "execution_count": 25,
   "metadata": {
    "collapsed": false
   },
   "outputs": [
    {
     "data": {
      "text/html": [
       "<div style=\"max-height:1000px;max-width:1500px;overflow:auto;\"><table frame=\"box\" rules=\"cols\">\n",
       "    <tr>\n",
       "        <th style=\"padding-left: 1em; padding-right: 1em; text-align: center\">grade</th>\n",
       "        <th style=\"padding-left: 1em; padding-right: 1em; text-align: center\">predictions</th>\n",
       "    </tr>\n",
       "    <tr>\n",
       "        <td style=\"padding-left: 1em; padding-right: 1em; text-align: center; vertical-align: top\">A</td>\n",
       "        <td style=\"padding-left: 1em; padding-right: 1em; text-align: center; vertical-align: top\">0.849024653435</td>\n",
       "    </tr>\n",
       "    <tr>\n",
       "        <td style=\"padding-left: 1em; padding-right: 1em; text-align: center; vertical-align: top\">A</td>\n",
       "        <td style=\"padding-left: 1em; padding-right: 1em; text-align: center; vertical-align: top\">0.849024653435</td>\n",
       "    </tr>\n",
       "    <tr>\n",
       "        <td style=\"padding-left: 1em; padding-right: 1em; text-align: center; vertical-align: top\">A</td>\n",
       "        <td style=\"padding-left: 1em; padding-right: 1em; text-align: center; vertical-align: top\">0.849024653435</td>\n",
       "    </tr>\n",
       "    <tr>\n",
       "        <td style=\"padding-left: 1em; padding-right: 1em; text-align: center; vertical-align: top\">A</td>\n",
       "        <td style=\"padding-left: 1em; padding-right: 1em; text-align: center; vertical-align: top\">0.849024653435</td>\n",
       "    </tr>\n",
       "    <tr>\n",
       "        <td style=\"padding-left: 1em; padding-right: 1em; text-align: center; vertical-align: top\">A</td>\n",
       "        <td style=\"padding-left: 1em; padding-right: 1em; text-align: center; vertical-align: top\">0.844385266304</td>\n",
       "    </tr>\n",
       "</table>\n",
       "[5 rows x 2 columns]<br/>\n",
       "</div>"
      ],
      "text/plain": [
       "Columns:\n",
       "\tgrade\tstr\n",
       "\tpredictions\tfloat\n",
       "\n",
       "Rows: 5\n",
       "\n",
       "Data:\n",
       "+-------+----------------+\n",
       "| grade |  predictions   |\n",
       "+-------+----------------+\n",
       "|   A   | 0.849024653435 |\n",
       "|   A   | 0.849024653435 |\n",
       "|   A   | 0.849024653435 |\n",
       "|   A   | 0.849024653435 |\n",
       "|   A   | 0.844385266304 |\n",
       "+-------+----------------+\n",
       "[5 rows x 2 columns]"
      ]
     },
     "execution_count": 25,
     "metadata": {},
     "output_type": "execute_result"
    }
   ],
   "source": [
    "validation_data[['grade','predictions']].sort('predictions', ascending = False)[0:5]"
   ]
  },
  {
   "cell_type": "markdown",
   "metadata": {},
   "source": [
    "** Quiz question**: What grades are the top 5 loans?\n",
    "\n",
    "Let us repeat this excercise to find the top 5 loans (in the **validation_data**) with the **lowest probability** of being predicted as a **safe loan**:"
   ]
  },
  {
   "cell_type": "code",
   "execution_count": 26,
   "metadata": {
    "collapsed": false
   },
   "outputs": [
    {
     "data": {
      "text/html": [
       "<div style=\"max-height:1000px;max-width:1500px;overflow:auto;\"><table frame=\"box\" rules=\"cols\">\n",
       "    <tr>\n",
       "        <th style=\"padding-left: 1em; padding-right: 1em; text-align: center\">grade</th>\n",
       "        <th style=\"padding-left: 1em; padding-right: 1em; text-align: center\">predictions</th>\n",
       "    </tr>\n",
       "    <tr>\n",
       "        <td style=\"padding-left: 1em; padding-right: 1em; text-align: center; vertical-align: top\">C</td>\n",
       "        <td style=\"padding-left: 1em; padding-right: 1em; text-align: center; vertical-align: top\">0.135795146227</td>\n",
       "    </tr>\n",
       "    <tr>\n",
       "        <td style=\"padding-left: 1em; padding-right: 1em; text-align: center; vertical-align: top\">D</td>\n",
       "        <td style=\"padding-left: 1em; padding-right: 1em; text-align: center; vertical-align: top\">0.135795146227</td>\n",
       "    </tr>\n",
       "    <tr>\n",
       "        <td style=\"padding-left: 1em; padding-right: 1em; text-align: center; vertical-align: top\">C</td>\n",
       "        <td style=\"padding-left: 1em; padding-right: 1em; text-align: center; vertical-align: top\">0.135795146227</td>\n",
       "    </tr>\n",
       "    <tr>\n",
       "        <td style=\"padding-left: 1em; padding-right: 1em; text-align: center; vertical-align: top\">C</td>\n",
       "        <td style=\"padding-left: 1em; padding-right: 1em; text-align: center; vertical-align: top\">0.135795146227</td>\n",
       "    </tr>\n",
       "    <tr>\n",
       "        <td style=\"padding-left: 1em; padding-right: 1em; text-align: center; vertical-align: top\">C</td>\n",
       "        <td style=\"padding-left: 1em; padding-right: 1em; text-align: center; vertical-align: top\">0.135795146227</td>\n",
       "    </tr>\n",
       "</table>\n",
       "[5 rows x 2 columns]<br/>\n",
       "</div>"
      ],
      "text/plain": [
       "Columns:\n",
       "\tgrade\tstr\n",
       "\tpredictions\tfloat\n",
       "\n",
       "Rows: 5\n",
       "\n",
       "Data:\n",
       "+-------+----------------+\n",
       "| grade |  predictions   |\n",
       "+-------+----------------+\n",
       "|   C   | 0.135795146227 |\n",
       "|   D   | 0.135795146227 |\n",
       "|   C   | 0.135795146227 |\n",
       "|   C   | 0.135795146227 |\n",
       "|   C   | 0.135795146227 |\n",
       "+-------+----------------+\n",
       "[5 rows x 2 columns]"
      ]
     },
     "execution_count": 26,
     "metadata": {},
     "output_type": "execute_result"
    }
   ],
   "source": [
    "validation_data[['grade','predictions']].sort('predictions', ascending = True)[0:5]"
   ]
  },
  {
   "cell_type": "markdown",
   "metadata": {},
   "source": [
    "**Checkpoint:** You should expect to see 5 loans with the grade ['**D**', '**C**', '**C**', '**C**', '**B**']."
   ]
  },
  {
   "cell_type": "markdown",
   "metadata": {},
   "source": [
    "## Effect of adding more trees"
   ]
  },
  {
   "cell_type": "markdown",
   "metadata": {},
   "source": [
    "In this assignment, we will train 5 different ensemble classifiers in the form of gradient boosted trees. We will train models with 10, 50, 100, 200, and 500 trees.  We use the **max_iterations** parameter in the boosted tree module. \n",
    "\n",
    "Let's get sarted with a model with **max_iterations = 10**:"
   ]
  },
  {
   "cell_type": "code",
   "execution_count": 27,
   "metadata": {
    "collapsed": false
   },
   "outputs": [],
   "source": [
    "model_10 = graphlab.boosted_trees_classifier.create(train_data, validation_set=None, \n",
    "        target = target, features = features, max_iterations = 10, verbose=False)"
   ]
  },
  {
   "cell_type": "markdown",
   "metadata": {},
   "source": [
    "Now, train 4 models with **max_iterations** to be:\n",
    "* `max_iterations = 50`, \n",
    "* `max_iterations = 100`\n",
    "* `max_iterations = 200`\n",
    "* `max_iterations = 500`. \n",
    "\n",
    "Let us call these models **model_50**, **model_100**, **model_200**, and **model_500**. You can pass in `verbose=False` in order to suppress the printed output.\n",
    "\n",
    "**Warning:** This could take a couple of minutes to run."
   ]
  },
  {
   "cell_type": "code",
   "execution_count": 28,
   "metadata": {
    "collapsed": false
   },
   "outputs": [],
   "source": [
    "model_50 = graphlab.boosted_trees_classifier.create(train_data, validation_set=None, \n",
    "        target = target, features = features, max_iterations = 50, verbose=False)\n",
    "model_100 = graphlab.boosted_trees_classifier.create(train_data, validation_set=None, \n",
    "        target = target, features = features, max_iterations = 100, verbose=False)\n",
    "model_200 = graphlab.boosted_trees_classifier.create(train_data, validation_set=None, \n",
    "        target = target, features = features, max_iterations = 200, verbose=False)\n",
    "model_500 = graphlab.boosted_trees_classifier.create(train_data, validation_set=None, \n",
    "        target = target, features = features, max_iterations = 500, verbose=False)"
   ]
  },
  {
   "cell_type": "markdown",
   "metadata": {},
   "source": [
    "## Compare accuracy on entire validation set"
   ]
  },
  {
   "cell_type": "markdown",
   "metadata": {},
   "source": [
    "Now we will compare the predicitve accuracy of our models on the validation set. Evaluate the **accuracy** of the 10, 50, 100, 200, and 500 tree models on the **validation_data**. Use the `.evaluate` method."
   ]
  },
  {
   "cell_type": "code",
   "execution_count": 29,
   "metadata": {
    "collapsed": false
   },
   "outputs": [
    {
     "data": {
      "text/html": [
       "<pre>External memory mode: 1 batches</pre>"
      ],
      "text/plain": [
       "External memory mode: 1 batches"
      ]
     },
     "metadata": {},
     "output_type": "display_data"
    },
    {
     "name": "stdout",
     "output_type": "stream",
     "text": [
      "0.6651227919\n"
     ]
    },
    {
     "data": {
      "text/html": [
       "<pre>External memory mode: 1 batches</pre>"
      ],
      "text/plain": [
       "External memory mode: 1 batches"
      ]
     },
     "metadata": {},
     "output_type": "display_data"
    },
    {
     "name": "stdout",
     "output_type": "stream",
     "text": [
      "0.687634640241\n"
     ]
    },
    {
     "data": {
      "text/html": [
       "<pre>External memory mode: 1 batches</pre>"
      ],
      "text/plain": [
       "External memory mode: 1 batches"
      ]
     },
     "metadata": {},
     "output_type": "display_data"
    },
    {
     "name": "stdout",
     "output_type": "stream",
     "text": [
      "0.685264971995\n"
     ]
    },
    {
     "data": {
      "text/html": [
       "<pre>External memory mode: 1 batches</pre>"
      ],
      "text/plain": [
       "External memory mode: 1 batches"
      ]
     },
     "metadata": {},
     "output_type": "display_data"
    },
    {
     "name": "stdout",
     "output_type": "stream",
     "text": [
      "0.683864713486\n"
     ]
    },
    {
     "data": {
      "text/html": [
       "<pre>External memory mode: 1 batches</pre>"
      ],
      "text/plain": [
       "External memory mode: 1 batches"
      ]
     },
     "metadata": {},
     "output_type": "display_data"
    },
    {
     "name": "stdout",
     "output_type": "stream",
     "text": [
      "0.670077552779\n"
     ]
    }
   ],
   "source": [
    "print model_10.evaluate(validation_data)['accuracy']\n",
    "print model_50.evaluate(validation_data)['accuracy']\n",
    "print model_100.evaluate(validation_data)['accuracy']\n",
    "print model_200.evaluate(validation_data)['accuracy']\n",
    "print model_500.evaluate(validation_data)['accuracy']"
   ]
  },
  {
   "cell_type": "markdown",
   "metadata": {},
   "source": [
    "**Quiz Question:** Which model has the **best** accuracy on the **validation_data**?\n",
    "\n",
    "**Quiz Question:** Is it always true that the model with the most trees will perform best on test data?"
   ]
  },
  {
   "cell_type": "markdown",
   "metadata": {},
   "source": [
    "## Plot the training and validation error vs. number of trees"
   ]
  },
  {
   "cell_type": "markdown",
   "metadata": {},
   "source": [
    "Recall from the lecture that the classification error is defined as\n",
    "\n",
    "$$\n",
    "\\mbox{classification error} = 1 - \\mbox{accuracy} \n",
    "$$\n",
    "\n",
    "In this section, we will plot the **training and validation errors versus the number of trees** to get a sense of how these models are performing. We will compare the 10, 50, 100, 200, and 500 tree models. You will need [matplotlib](http://matplotlib.org/downloads.html) in order to visualize the plots. \n",
    "\n",
    "First, make sure this block of code runs on your computer."
   ]
  },
  {
   "cell_type": "code",
   "execution_count": 30,
   "metadata": {
    "collapsed": false
   },
   "outputs": [
    {
     "name": "stderr",
     "output_type": "stream",
     "text": [
      "/root/anaconda2/envs/gl-env/lib/python2.7/site-packages/matplotlib/font_manager.py:273: UserWarning: Matplotlib is building the font cache using fc-list. This may take a moment.\n",
      "  warnings.warn('Matplotlib is building the font cache using fc-list. This may take a moment.')\n"
     ]
    }
   ],
   "source": [
    "import matplotlib.pyplot as plt\n",
    "%matplotlib inline\n",
    "def make_figure(dim, title, xlabel, ylabel, legend):\n",
    "    plt.rcParams['figure.figsize'] = dim\n",
    "    plt.title(title)\n",
    "    plt.xlabel(xlabel)\n",
    "    plt.ylabel(ylabel)\n",
    "    if legend is not None:\n",
    "        plt.legend(loc=legend, prop={'size':15})\n",
    "    plt.rcParams.update({'font.size': 16})\n",
    "    plt.tight_layout()"
   ]
  },
  {
   "cell_type": "markdown",
   "metadata": {},
   "source": [
    "In order to plot the classification errors (on the **train_data** and **validation_data**) versus the number of trees, we will need lists of these accuracies, which we get by applying the method `.evaluate`. \n",
    "\n",
    "**Steps to follow:**\n",
    "\n",
    "* **Step 1:** Calculate the classification error for model on the training data (**train_data**).\n",
    "* **Step 2:** Store the training errors into a list (called `training_errors`) that looks like this:\n",
    "```\n",
    "[train_err_10, train_err_50, ..., train_err_500]\n",
    "```\n",
    "* **Step 3:** Calculate the classification error of each model on the validation data (**validation_data**).\n",
    "* **Step 4:** Store the validation classification error into a list (called `validation_errors`) that looks like this:\n",
    "```\n",
    "[validation_err_10, validation_err_50, ..., validation_err_500]\n",
    "```\n",
    "Once that has been completed, the rest of the code should be able to evaluate correctly and generate the plot.\n",
    "\n",
    "\n",
    "Let us start with **Step 1**. Write code to compute the classification error on the **train_data** for models **model_10**, **model_50**, **model_100**, **model_200**, and **model_500**."
   ]
  },
  {
   "cell_type": "code",
   "execution_count": 31,
   "metadata": {
    "collapsed": false
   },
   "outputs": [
    {
     "data": {
      "text/html": [
       "<pre>External memory mode: 1 batches</pre>"
      ],
      "text/plain": [
       "External memory mode: 1 batches"
      ]
     },
     "metadata": {},
     "output_type": "display_data"
    },
    {
     "data": {
      "text/html": [
       "<pre>External memory mode: 1 batches</pre>"
      ],
      "text/plain": [
       "External memory mode: 1 batches"
      ]
     },
     "metadata": {},
     "output_type": "display_data"
    },
    {
     "data": {
      "text/html": [
       "<pre>External memory mode: 1 batches</pre>"
      ],
      "text/plain": [
       "External memory mode: 1 batches"
      ]
     },
     "metadata": {},
     "output_type": "display_data"
    },
    {
     "data": {
      "text/html": [
       "<pre>External memory mode: 1 batches</pre>"
      ],
      "text/plain": [
       "External memory mode: 1 batches"
      ]
     },
     "metadata": {},
     "output_type": "display_data"
    },
    {
     "data": {
      "text/html": [
       "<pre>External memory mode: 1 batches</pre>"
      ],
      "text/plain": [
       "External memory mode: 1 batches"
      ]
     },
     "metadata": {},
     "output_type": "display_data"
    }
   ],
   "source": [
    "train_err_10 = 1 - model_10.evaluate(train_data)['accuracy']\n",
    "train_err_50 = 1 - model_50.evaluate(train_data)['accuracy']\n",
    "train_err_100 = 1 - model_100.evaluate(train_data)['accuracy']\n",
    "train_err_200 = 1 - model_200.evaluate(train_data)['accuracy']\n",
    "train_err_500 = 1 - model_500.evaluate(train_data)['accuracy']"
   ]
  },
  {
   "cell_type": "markdown",
   "metadata": {},
   "source": [
    "Now, let us run **Step 2**. Save the training errors into a list called **training_errors**"
   ]
  },
  {
   "cell_type": "code",
   "execution_count": 32,
   "metadata": {
    "collapsed": true
   },
   "outputs": [],
   "source": [
    "training_errors = [train_err_10, train_err_50, train_err_100, \n",
    "                   train_err_200, train_err_500]"
   ]
  },
  {
   "cell_type": "markdown",
   "metadata": {},
   "source": [
    "Now, onto **Step 3**. Write code to compute the classification error on the **validation_data** for models **model_10**, **model_50**, **model_100**, **model_200**, and **model_500**."
   ]
  },
  {
   "cell_type": "code",
   "execution_count": 33,
   "metadata": {
    "collapsed": false
   },
   "outputs": [
    {
     "data": {
      "text/html": [
       "<pre>External memory mode: 1 batches</pre>"
      ],
      "text/plain": [
       "External memory mode: 1 batches"
      ]
     },
     "metadata": {},
     "output_type": "display_data"
    },
    {
     "data": {
      "text/html": [
       "<pre>External memory mode: 1 batches</pre>"
      ],
      "text/plain": [
       "External memory mode: 1 batches"
      ]
     },
     "metadata": {},
     "output_type": "display_data"
    },
    {
     "data": {
      "text/html": [
       "<pre>External memory mode: 1 batches</pre>"
      ],
      "text/plain": [
       "External memory mode: 1 batches"
      ]
     },
     "metadata": {},
     "output_type": "display_data"
    },
    {
     "data": {
      "text/html": [
       "<pre>External memory mode: 1 batches</pre>"
      ],
      "text/plain": [
       "External memory mode: 1 batches"
      ]
     },
     "metadata": {},
     "output_type": "display_data"
    },
    {
     "data": {
      "text/html": [
       "<pre>External memory mode: 1 batches</pre>"
      ],
      "text/plain": [
       "External memory mode: 1 batches"
      ]
     },
     "metadata": {},
     "output_type": "display_data"
    }
   ],
   "source": [
    "validation_err_10 = 1 - model_10.evaluate(validation_data)['accuracy']\n",
    "validation_err_50 = 1 - model_50.evaluate(validation_data)['accuracy']\n",
    "validation_err_100 = 1 - model_100.evaluate(validation_data)['accuracy']\n",
    "validation_err_200 = 1 - model_200.evaluate(validation_data)['accuracy']\n",
    "validation_err_500 = 1 - model_500.evaluate(validation_data)['accuracy']"
   ]
  },
  {
   "cell_type": "markdown",
   "metadata": {},
   "source": [
    "Now, let us run **Step 4**. Save the training errors into a list called **validation_errors**"
   ]
  },
  {
   "cell_type": "code",
   "execution_count": 34,
   "metadata": {
    "collapsed": false
   },
   "outputs": [],
   "source": [
    "validation_errors = [validation_err_10, validation_err_50, validation_err_100, \n",
    "                     validation_err_200, validation_err_500]"
   ]
  },
  {
   "cell_type": "markdown",
   "metadata": {},
   "source": [
    "Now, we will plot the **training_errors** and **validation_errors** versus the number of trees. We will compare the 10, 50, 100, 200, and 500 tree models. We provide some plotting code to visualize the plots within this notebook. \n",
    "\n",
    "Run the following code to visualize the plots."
   ]
  },
  {
   "cell_type": "code",
   "execution_count": 35,
   "metadata": {
    "collapsed": false
   },
   "outputs": [
    {
     "data": {
      "image/png": "[encoded data removed]",
      "text/plain": [
       "<matplotlib.figure.Figure at 0x7f2d944d4f10>"
      ]
     },
     "metadata": {},
     "output_type": "display_data"
    }
   ],
   "source": [
    "plt.plot([10, 50, 100, 200, 500], training_errors, linewidth=4.0, label='Training error')\n",
    "plt.plot([10, 50, 100, 200, 500], validation_errors, linewidth=4.0, label='Validation error')\n",
    "\n",
    "make_figure(dim=(10,5), title='Error vs number of trees',\n",
    "            xlabel='Number of trees',\n",
    "            ylabel='Classification error',\n",
    "            legend='best')"
   ]
  },
  {
   "cell_type": "markdown",
   "metadata": {},
   "source": [
    "**Quiz question**: Does the training error reduce as the number of trees increases?\n",
    "\n",
    "**Quiz question**: Is it always true that the validation error will reduce as the number of trees increases?"
   ]
  }
 ],
 "metadata": {
  "kernelspec": {
   "display_name": "Python 2",
   "language": "python",
   "name": "python2"
  },
  "language_info": {
   "codemirror_mode": {
    "name": "ipython",
    "version": 2
   },
   "file_extension": ".py",
   "mimetype": "text/x-python",
   "name": "python",
   "nbconvert_exporter": "python",
   "pygments_lexer": "ipython2",
   "version": "2.7.13"
  }
 },
 "nbformat": 4,
 "nbformat_minor": 0
}
