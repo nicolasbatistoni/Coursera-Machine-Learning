{
 "cells": [
  {
   "cell_type": "code",
   "execution_count": null,
   "metadata": {
    "collapsed": false
   },
   "outputs": [
    {
     "name": "stdout",
     "output_type": "stream",
     "text": [
      "3671518494073863634482772229455239308852396007076152583101331127000715726060999138426748928"
     ]
    }
   ],
   "source": [
    "import numpy as np\n",
    "import pandas as pd\n",
    "import math\n",
    "from sys import stdout\n",
    "\n",
    "#function Takes the pandas dataframe, Input features list and the target column name\n",
    "def get_numpy_data(data, features, output):\n",
    "\n",
    "    #Adding a constant collumn with value 1 in the dataframe.\n",
    "    data['constant'] = 1    \n",
    "    #Adding the name of the constant collumn in the feature list.\n",
    "    features = ['constant'] + features\n",
    "    #Creating Feature matrix(Selecting columns and coverting to matrix).\n",
    "    features_matrix=data[features].as_matrix()\n",
    "    #Target collumn is converted to the numpy array\n",
    "    output_array=np.array(data[output])\n",
    "    return(features_matrix, output_array)\n",
    "\n",
    "def predict_outcome(feature_matrix, weights):\n",
    "    weights=np.array(weights)\n",
    "    predictions = np.dot(feature_matrix, weights)\n",
    "    return predictions\n",
    "\n",
    "def errors(output,predictions):\n",
    "    errors=predictions-output\n",
    "    return errors\n",
    "\n",
    "def feature_derivative(errors, feature):\n",
    "    derivative=np.dot(2,np.dot(feature,errors))\n",
    "    return derivative\n",
    "\n",
    "\n",
    "def regression_gradient_descent(feature_matrix, output, initial_weights, step_size, tolerance):\n",
    "    converged = False\n",
    "    #Initital weights are converted to numpy array\n",
    "    weights = np.array(initial_weights)\n",
    "    while not converged:\n",
    "        # compute the predictions based on feature_matrix and weights:\n",
    "        predictions=predict_outcome(feature_matrix,weights)\n",
    "        # compute the errors as predictions - output:\n",
    "        error=errors(output,predictions)\n",
    "        gradient_sum_squares = 0 # initialize the gradient\n",
    "        # while not converged, update each weight individually:\n",
    "        for i in range(len(weights)):\n",
    "            # Recall that feature_matrix[:, i] is the feature column associated with weights[i]\n",
    "            feature=feature_matrix[:, i]\n",
    "            # compute the derivative for weight[i]:\n",
    "            predict=predict_outcome(feature,weights[i])\n",
    "            err=errors(output,predict)\n",
    "            deriv=feature_derivative(error,feature)\n",
    "            # add the squared derivative to the gradient magnitude\n",
    "            gradient_sum_squares=gradient_sum_squares+(deriv**2)\n",
    "            # update the weight based on step size and derivative:\n",
    "            weights[i]=weights[i] - np.dot(step_size,deriv)\n",
    "\n",
    "        gradient_magnitude = math.sqrt(gradient_sum_squares)\n",
    "        stdout.write(\"\\r%d\" % int(gradient_magnitude))\n",
    "        stdout.flush()\n",
    "        if gradient_magnitude < tolerance:\n",
    "            converged = True\n",
    "        #step_size = step_size*0.95\n",
    "    return(weights)\n",
    "\n",
    "\n",
    "#Example of Implementation\n",
    "#Importing Training and Testing Data\n",
    "train_data=pd.read_csv(\"kc_house_train_data.csv\")\n",
    "test_data=pd.read_csv(\"kc_house_test_data.csv\")\n",
    "\n",
    "simple_features = ['sqft_living', 'sqft_living15']\n",
    "my_output= 'price'\n",
    "(simple_feature_matrix, output) = get_numpy_data(train_data, simple_features, my_output)\n",
    "initial_weights = np.array([100000., 1., 1.])\n",
    "step_size = 7e-12\n",
    "tolerance = 2.5e7\n",
    "simple_weights = regression_gradient_descent(simple_feature_matrix, output,initial_weights, step_size,tolerance)\n",
    "print simple_weights"
   ]
  },
  {
   "cell_type": "code",
   "execution_count": null,
   "metadata": {
    "collapsed": true
   },
   "outputs": [],
   "source": []
  }
 ],
 "metadata": {
  "kernelspec": {
   "display_name": "Python 2",
   "language": "python",
   "name": "python2"
  },
  "language_info": {
   "codemirror_mode": {
    "name": "ipython",
    "version": 2
   },
   "file_extension": ".py",
   "mimetype": "text/x-python",
   "name": "python",
   "nbconvert_exporter": "python",
   "pygments_lexer": "ipython2",
   "version": "2.7.11"
  }
 },
 "nbformat": 4,
 "nbformat_minor": 0
}
