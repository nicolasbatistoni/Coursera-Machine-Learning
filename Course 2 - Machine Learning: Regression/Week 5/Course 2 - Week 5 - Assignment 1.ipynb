{
 "cells": [
  {
   "cell_type": "markdown",
   "metadata": {},
   "source": [
    "# 0."
   ]
  },
  {
   "cell_type": "code",
   "execution_count": 1,
   "metadata": {
    "collapsed": true
   },
   "outputs": [],
   "source": [
    "import pandas as pd\n",
    "\n",
    "dtype_dict = {'bathrooms':float, 'waterfront':int, 'sqft_above':int, 'sqft_living15':float, 'grade':int, 'yr_renovated':int, 'price':float, 'bedrooms':float, 'zipcode':str, 'long':float, 'sqft_lot15':float, 'sqft_living':float, 'floors':float, 'condition':int, 'lat':float, 'date':str, 'sqft_basement':int, 'yr_built':int, 'id':str, 'sqft_lot':int, 'view':int}\n",
    "\n",
    "sales = pd.read_csv('kc_house_data.csv', dtype=dtype_dict)"
   ]
  },
  {
   "cell_type": "markdown",
   "metadata": {},
   "source": [
    "# 1."
   ]
  },
  {
   "cell_type": "code",
   "execution_count": 2,
   "metadata": {
    "collapsed": true
   },
   "outputs": [],
   "source": [
    "from math import log, sqrt\n",
    "sales['sqft_living_sqrt'] = sales['sqft_living'].apply(sqrt)\n",
    "sales['sqft_lot_sqrt'] = sales['sqft_lot'].apply(sqrt)\n",
    "sales['bedrooms_square'] = sales['bedrooms']*sales['bedrooms']\n",
    "sales['floors_square'] = sales['floors']*sales['floors']"
   ]
  },
  {
   "cell_type": "markdown",
   "metadata": {},
   "source": [
    "# 2."
   ]
  },
  {
   "cell_type": "code",
   "execution_count": 3,
   "metadata": {
    "collapsed": false
   },
   "outputs": [
    {
     "data": {
      "text/plain": [
       "Lasso(alpha=500.0, copy_X=True, fit_intercept=True, max_iter=1000,\n",
       "   normalize=True, positive=False, precompute=False, random_state=None,\n",
       "   selection='cyclic', tol=0.0001, warm_start=False)"
      ]
     },
     "execution_count": 3,
     "metadata": {},
     "output_type": "execute_result"
    }
   ],
   "source": [
    "from sklearn import linear_model  # using scikit-learn\n",
    "\n",
    "all_features = ['bedrooms', 'bedrooms_square',\n",
    "            'bathrooms',\n",
    "            'sqft_living', 'sqft_living_sqrt',\n",
    "            'sqft_lot', 'sqft_lot_sqrt',\n",
    "            'floors', 'floors_square',\n",
    "            'waterfront', 'view', 'condition', 'grade',\n",
    "            'sqft_above',\n",
    "            'sqft_basement',\n",
    "            'yr_built', 'yr_renovated']\n",
    "\n",
    "model_all = linear_model.Lasso(alpha=5e2, normalize=True) # set parameters\n",
    "model_all.fit(sales[all_features], sales['price']) # learn weights"
   ]
  },
  {
   "cell_type": "markdown",
   "metadata": {},
   "source": [
    "# 3."
   ]
  },
  {
   "cell_type": "code",
   "execution_count": 4,
   "metadata": {
    "collapsed": false
   },
   "outputs": [
    {
     "name": "stdout",
     "output_type": "stream",
     "text": [
      "bedrooms - 0.0\n",
      "bedrooms_square - 0.0\n",
      "bathrooms - 0.0\n",
      "sqft_living - 134.439313955\n",
      "sqft_living_sqrt - 0.0\n",
      "sqft_lot - 0.0\n",
      "sqft_lot_sqrt - 0.0\n",
      "floors - 0.0\n",
      "floors_square - 0.0\n",
      "waterfront - 0.0\n",
      "view - 24750.0045856\n",
      "condition - 0.0\n",
      "grade - 61749.1030907\n",
      "sqft_above - 0.0\n",
      "sqft_basement - 0.0\n",
      "yr_built - -0.0\n",
      "yr_renovated - 0.0\n"
     ]
    }
   ],
   "source": [
    "for i in xrange(0,len(model_all.coef_)):\n",
    "    print all_features[i] + ' - ' + str(model_all.coef_[i])"
   ]
  },
  {
   "cell_type": "markdown",
   "metadata": {},
   "source": [
    "# 4."
   ]
  },
  {
   "cell_type": "code",
   "execution_count": 5,
   "metadata": {
    "collapsed": false
   },
   "outputs": [],
   "source": [
    "testing = pd.read_csv('wk3_kc_house_test_data.csv', dtype=dtype_dict)\n",
    "training = pd.read_csv('wk3_kc_house_train_data.csv', dtype=dtype_dict)\n",
    "validation = pd.read_csv('wk3_kc_house_valid_data.csv', dtype=dtype_dict)\n",
    "\n",
    "testing['floors'] = testing['floors'].astype(float)\n",
    "training['floors'] = training['floors'].astype(float)\n",
    "validation['floors'] = validation['floors'].astype(float)"
   ]
  },
  {
   "cell_type": "code",
   "execution_count": 6,
   "metadata": {
    "collapsed": true
   },
   "outputs": [],
   "source": [
    "testing['sqft_living_sqrt'] = testing['sqft_living'].apply(sqrt)\n",
    "testing['sqft_lot_sqrt'] = testing['sqft_lot'].apply(sqrt)\n",
    "testing['bedrooms_square'] = testing['bedrooms']*testing['bedrooms']\n",
    "testing['floors_square'] = testing['floors']*testing['floors']\n",
    "\n",
    "training['sqft_living_sqrt'] = training['sqft_living'].apply(sqrt)\n",
    "training['sqft_lot_sqrt'] = training['sqft_lot'].apply(sqrt)\n",
    "training['bedrooms_square'] = training['bedrooms']*training['bedrooms']\n",
    "training['floors_square'] = training['floors']*training['floors']\n",
    "\n",
    "validation['sqft_living_sqrt'] = validation['sqft_living'].apply(sqrt)\n",
    "validation['sqft_lot_sqrt'] = validation['sqft_lot'].apply(sqrt)\n",
    "validation['bedrooms_square'] = validation['bedrooms']*validation['bedrooms']\n",
    "validation['floors_square'] = validation['floors']*validation['floors']"
   ]
  },
  {
   "cell_type": "markdown",
   "metadata": {},
   "source": [
    "# 5."
   ]
  },
  {
   "cell_type": "code",
   "execution_count": 7,
   "metadata": {
    "collapsed": false
   },
   "outputs": [
    {
     "data": {
      "text/plain": [
       "array([  1.00000000e+01,   3.16227766e+01,   1.00000000e+02,\n",
       "         3.16227766e+02,   1.00000000e+03,   3.16227766e+03,\n",
       "         1.00000000e+04,   3.16227766e+04,   1.00000000e+05,\n",
       "         3.16227766e+05,   1.00000000e+06,   3.16227766e+06,\n",
       "         1.00000000e+07])"
      ]
     },
     "execution_count": 7,
     "metadata": {},
     "output_type": "execute_result"
    }
   ],
   "source": [
    "import numpy as np\n",
    "l1_penalty = np.logspace(1, 7, num=13)\n",
    "l1_penalty"
   ]
  },
  {
   "cell_type": "code",
   "execution_count": 8,
   "metadata": {
    "collapsed": false
   },
   "outputs": [
    {
     "data": {
      "text/plain": [
       "[Lasso(alpha=10.0, copy_X=True, fit_intercept=True, max_iter=1000,\n",
       "    normalize=True, positive=False, precompute=False, random_state=None,\n",
       "    selection='cyclic', tol=0.0001, warm_start=False),\n",
       " Lasso(alpha=31.622776601683793, copy_X=True, fit_intercept=True,\n",
       "    max_iter=1000, normalize=True, positive=False, precompute=False,\n",
       "    random_state=None, selection='cyclic', tol=0.0001, warm_start=False),\n",
       " Lasso(alpha=100.0, copy_X=True, fit_intercept=True, max_iter=1000,\n",
       "    normalize=True, positive=False, precompute=False, random_state=None,\n",
       "    selection='cyclic', tol=0.0001, warm_start=False),\n",
       " Lasso(alpha=316.22776601683796, copy_X=True, fit_intercept=True,\n",
       "    max_iter=1000, normalize=True, positive=False, precompute=False,\n",
       "    random_state=None, selection='cyclic', tol=0.0001, warm_start=False),\n",
       " Lasso(alpha=1000.0, copy_X=True, fit_intercept=True, max_iter=1000,\n",
       "    normalize=True, positive=False, precompute=False, random_state=None,\n",
       "    selection='cyclic', tol=0.0001, warm_start=False),\n",
       " Lasso(alpha=3162.2776601683795, copy_X=True, fit_intercept=True,\n",
       "    max_iter=1000, normalize=True, positive=False, precompute=False,\n",
       "    random_state=None, selection='cyclic', tol=0.0001, warm_start=False),\n",
       " Lasso(alpha=10000.0, copy_X=True, fit_intercept=True, max_iter=1000,\n",
       "    normalize=True, positive=False, precompute=False, random_state=None,\n",
       "    selection='cyclic', tol=0.0001, warm_start=False),\n",
       " Lasso(alpha=31622.776601683792, copy_X=True, fit_intercept=True,\n",
       "    max_iter=1000, normalize=True, positive=False, precompute=False,\n",
       "    random_state=None, selection='cyclic', tol=0.0001, warm_start=False),\n",
       " Lasso(alpha=100000.0, copy_X=True, fit_intercept=True, max_iter=1000,\n",
       "    normalize=True, positive=False, precompute=False, random_state=None,\n",
       "    selection='cyclic', tol=0.0001, warm_start=False),\n",
       " Lasso(alpha=316227.76601683791, copy_X=True, fit_intercept=True,\n",
       "    max_iter=1000, normalize=True, positive=False, precompute=False,\n",
       "    random_state=None, selection='cyclic', tol=0.0001, warm_start=False),\n",
       " Lasso(alpha=1000000.0, copy_X=True, fit_intercept=True, max_iter=1000,\n",
       "    normalize=True, positive=False, precompute=False, random_state=None,\n",
       "    selection='cyclic', tol=0.0001, warm_start=False),\n",
       " Lasso(alpha=3162277.6601683795, copy_X=True, fit_intercept=True,\n",
       "    max_iter=1000, normalize=True, positive=False, precompute=False,\n",
       "    random_state=None, selection='cyclic', tol=0.0001, warm_start=False),\n",
       " Lasso(alpha=10000000.0, copy_X=True, fit_intercept=True, max_iter=1000,\n",
       "    normalize=True, positive=False, precompute=False, random_state=None,\n",
       "    selection='cyclic', tol=0.0001, warm_start=False)]"
      ]
     },
     "execution_count": 8,
     "metadata": {},
     "output_type": "execute_result"
    }
   ],
   "source": [
    "l1_penalty_model = []\n",
    "for i in xrange(0,len(l1_penalty)):\n",
    "    l1_penalty_model.append(linear_model.Lasso(alpha=l1_penalty[i], normalize=True))\n",
    "l1_penalty_model"
   ]
  },
  {
   "cell_type": "code",
   "execution_count": 9,
   "metadata": {
    "collapsed": false
   },
   "outputs": [],
   "source": [
    "for i in xrange(0,len(l1_penalty)):\n",
    "    l1_penalty_model[i].fit(training[all_features], training['price']) # learn weights"
   ]
  },
  {
   "cell_type": "code",
   "execution_count": 10,
   "metadata": {
    "collapsed": false
   },
   "outputs": [
    {
     "data": {
      "text/plain": [
       "[41329873098.093834,\n",
       " 41415869253.071945,\n",
       " 44607327874.68167,\n",
       " 48130755687.0908,\n",
       " 67036713402.57505,\n",
       " 126881874356.73656,\n",
       " 126881874356.73656,\n",
       " 126881874356.73656,\n",
       " 126881874356.73656,\n",
       " 126881874356.73656,\n",
       " 126881874356.73656,\n",
       " 126881874356.73656,\n",
       " 126881874356.73656]"
      ]
     },
     "execution_count": 10,
     "metadata": {},
     "output_type": "execute_result"
    }
   ],
   "source": [
    "l1_penalty_rss = []\n",
    "for i in xrange(0,len(l1_penalty)):\n",
    "    l1_penalty_rss.append(np.mean((l1_penalty_model[i].predict(validation[all_features]) - validation['price']) ** 2))\n",
    "l1_penalty_rss"
   ]
  },
  {
   "cell_type": "markdown",
   "metadata": {},
   "source": [
    "# 6."
   ]
  },
  {
   "cell_type": "code",
   "execution_count": 12,
   "metadata": {
    "collapsed": false
   },
   "outputs": [
    {
     "data": {
      "text/plain": [
       "10.0"
      ]
     },
     "execution_count": 12,
     "metadata": {},
     "output_type": "execute_result"
    }
   ],
   "source": [
    "l1_penalty[0]"
   ]
  },
  {
   "cell_type": "code",
   "execution_count": 13,
   "metadata": {
    "collapsed": false
   },
   "outputs": [
    {
     "data": {
      "text/plain": [
       "[5, 2, 3, 6]"
      ]
     },
     "execution_count": 13,
     "metadata": {},
     "output_type": "execute_result"
    }
   ],
   "source": [
    "test = []\n",
    "test.append(5)\n",
    "test.append(2)\n",
    "test.append(3)\n",
    "test.append(6)\n",
    "test"
   ]
  },
  {
   "cell_type": "markdown",
   "metadata": {},
   "source": [
    "# 7."
   ]
  },
  {
   "cell_type": "code",
   "execution_count": 23,
   "metadata": {
    "collapsed": false
   },
   "outputs": [
    {
     "name": "stderr",
     "output_type": "stream",
     "text": [
      "/home/lubuntu/anaconda2/envs/dato-env/lib/python2.7/site-packages/sklearn/linear_model/coordinate_descent.py:466: ConvergenceWarning: Objective did not converge. You might want to increase the number of iterations\n",
      "  ConvergenceWarning)\n"
     ]
    },
    {
     "data": {
      "text/plain": [
       "Lasso(alpha=10.0, copy_X=True, fit_intercept=True, max_iter=1000,\n",
       "   normalize=True, positive=False, precompute=False, random_state=None,\n",
       "   selection='cyclic', tol=0.0001, warm_start=False)"
      ]
     },
     "execution_count": 23,
     "metadata": {},
     "output_type": "execute_result"
    }
   ],
   "source": [
    "l1_penalty_model[0].fit(testing[all_features], testing['price'])"
   ]
  },
  {
   "cell_type": "code",
   "execution_count": null,
   "metadata": {
    "collapsed": true
   },
   "outputs": [],
   "source": [
    "best_rss = np.mean((l1_penalty_model[0].predict(validation[all_features]) - validation['price']) ** 2)"
   ]
  }
 ],
 "metadata": {
  "kernelspec": {
   "display_name": "Python 2",
   "language": "python",
   "name": "python2"
  },
  "language_info": {
   "codemirror_mode": {
    "name": "ipython",
    "version": 2
   },
   "file_extension": ".py",
   "mimetype": "text/x-python",
   "name": "python",
   "nbconvert_exporter": "python",
   "pygments_lexer": "ipython2",
   "version": "2.7.12"
  }
 },
 "nbformat": 4,
 "nbformat_minor": 0
}
